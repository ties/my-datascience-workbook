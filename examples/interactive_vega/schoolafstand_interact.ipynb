{
 "cells": [
  {
   "cell_type": "code",
   "execution_count": 25,
   "metadata": {},
   "outputs": [],
   "source": [
    "import pandas\n",
    "from ipywidgets import *\n",
    "import altair as alt"
   ]
  },
  {
   "cell_type": "markdown",
   "metadata": {},
   "source": [
    "Load the two CSV files from DUO open data.\n",
    "\n",
    "The data was downlaoded from the DUO [open data site](https://duo.nl/open_onderwijsdata/databestanden/). The meaning of the codes used in the files are explained in the 'toelichting' files that are available (e.g. for [schooladviezen](https://duo.nl/open_onderwijsdata/images/toelichting-04-schooladviezen.pdf) file).\n"
   ]
  },
  {
   "cell_type": "code",
   "execution_count": 34,
   "metadata": {},
   "outputs": [],
   "source": [
    "with open('data/duo/05.-gemiddelde-afstand-tussen-woonadres-leerling-en-schoolvestiging-2017-2018.csv', 'r', encoding='Windows-1252') as csvfile:\n",
    "    afstand_data = pandas.read_csv(csvfile, sep=';',  quotechar=\"\\\"\", decimal=\",\")\n",
    "    afstand_data.set_index(['BRIN_NUMMER', 'VESTIGINGSNUMMER'])\n",
    "    # Filter primary schools only (no 'bijzonder onderwijs')\n",
    "    afstand_data = afstand_data[afstand_data['SOORT_PO'] == 'Bo']"
   ]
  },
  {
   "cell_type": "code",
   "execution_count": 35,
   "metadata": {},
   "outputs": [],
   "source": [
    "with open('data/duo/04.-schooladviezen-2016-2017.csv', 'r', encoding='Windows-1252') as csvfile:\n",
    "    data = pandas.read_csv(csvfile, sep=';',  quotechar=\"\\\"\")\n",
    "    data.set_index(['BRIN_NUMMER', 'VESTIGINGSNUMMER'])\n",
    "    # Filter primary schools only (no 'bijzonder onderwijs')\n",
    "    data = data[data['SOORT_PO'] == 'Bo']\n",
    "    # Calculate the fraction of VWO advies out of the total\n",
    "    data['vwo_frac'] = data['VWO']/data['TOTAAL_ADVIES']\n",
    "    "
   ]
  },
  {
   "cell_type": "code",
   "execution_count": 36,
   "metadata": {},
   "outputs": [],
   "source": [
    "# Join the two datasets\n",
    "advies_afstand = data.join(afstand_data, lsuffix='_advies', rsuffix='_afstand')"
   ]
  },
  {
   "cell_type": "code",
   "execution_count": 40,
   "metadata": {},
   "outputs": [],
   "source": [
    "# Widget voor plaatsnaam\n",
    "plaatsnamen = afstand_data.PLAATSNAAM.unique()\n",
    "plaatsnamen.sort()\n",
    "select_plaatsnaam = widgets.Select(\n",
    "    options=list(plaatsnamen),\n",
    "    value=\"AMSTERDAM\",\n",
    "    description='Plaats:',\n",
    "    disabled=False\n",
    ")\n",
    "#display(select_plaatsnaam)\n"
   ]
  },
  {
   "cell_type": "code",
   "execution_count": 41,
   "metadata": {},
   "outputs": [],
   "source": [
    "def plaatsnaam_plot(plaatsnaam):\n",
    "    in_plaats = advies_afstand[advies_afstand.PLAATSNAAM_afstand == plaatsnaam]\n",
    "    c = alt.Chart(in_plaats).mark_circle().encode(\n",
    "        x='AFSTAND:Q',\n",
    "        y='vwo_frac',\n",
    "        color='DENOMINATIE_VESTIGING_advies',\n",
    "        size='VWO'\n",
    "    )\n",
    "    display(c)"
   ]
  },
  {
   "cell_type": "code",
   "execution_count": 42,
   "metadata": {},
   "outputs": [
    {
     "data": {
      "application/vnd.jupyter.widget-view+json": {
       "model_id": "8de9a4d9e86e4a61a2e7e05efa2d689e",
       "version_major": 2,
       "version_minor": 0
      },
      "text/plain": [
       "interactive(children=(Select(description='Plaats:', index=69, options=(\"'S GRAVENMOER\", \"'S-GRAVENDEEL\", \"'S-G…"
      ]
     },
     "metadata": {},
     "output_type": "display_data"
    },
    {
     "data": {
      "text/plain": [
       "<function __main__.plaatsnaam_plot(plaatsnaam)>"
      ]
     },
     "execution_count": 42,
     "metadata": {},
     "output_type": "execute_result"
    }
   ],
   "source": [
    "interact(plaatsnaam_plot, plaatsnaam=select_plaatsnaam)"
   ]
  },
  {
   "cell_type": "markdown",
   "metadata": {},
   "source": [
    "This can be extended using reveal.js to create presentations easily. This will only work in Jupyter Noteboook using the [RISE](https://github.com/damianavila/RISE) plugin."
   ]
  },
  {
   "cell_type": "code",
   "execution_count": null,
   "metadata": {},
   "outputs": [],
   "source": []
  }
 ],
 "metadata": {
  "kernelspec": {
   "display_name": "Python 3",
   "language": "python",
   "name": "python3"
  },
  "language_info": {
   "codemirror_mode": {
    "name": "ipython",
    "version": 3
   },
   "file_extension": ".py",
   "mimetype": "text/x-python",
   "name": "python",
   "nbconvert_exporter": "python",
   "pygments_lexer": "ipython3",
   "version": "3.6.3"
  }
 },
 "nbformat": 4,
 "nbformat_minor": 2
}
