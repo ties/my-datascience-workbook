{
 "cells": [
  {
   "cell_type": "code",
   "execution_count": 1,
   "metadata": {},
   "outputs": [],
   "source": [
    "import networkx as nx\n",
    "import nx_altair as nxa\n",
    "import numpy as np"
   ]
  },
  {
   "cell_type": "markdown",
   "metadata": {},
   "source": [
    "NetworkX graphs can be drawn using [nx_altair](https://github.com/Zsailer/nx_altair). "
   ]
  },
  {
   "cell_type": "code",
   "execution_count": 2,
   "metadata": {},
   "outputs": [
    {
     "data": {
      "application/vnd.vegalite.v2+json": {
       "$schema": "https://vega.github.io/schema/vega-lite/v2.4.1.json",
       "config": {
        "axis": {
         "domain": false,
         "grid": false,
         "labels": false,
         "ticks": false
        },
        "view": {
         "height": 300,
         "width": 400
        }
       },
       "layer": [
        {
         "data": {
          "values": [
           {
            "edge": 0,
            "pair": [
             0,
             3
            ],
            "source": 0,
            "target": 3,
            "x": 0.08868406763924785,
            "y": 0.3601345039589571
           },
           {
            "edge": 0,
            "pair": [
             0,
             3
            ],
            "source": 0,
            "target": 3,
            "x": 0.4316119469322229,
            "y": -0.04227501708251596
           },
           {
            "edge": 1,
            "pair": [
             0,
             5
            ],
            "source": 0,
            "target": 5,
            "x": 0.08868406763924785,
            "y": 0.3601345039589571
           },
           {
            "edge": 1,
            "pair": [
             0,
             5
            ],
            "source": 0,
            "target": 5,
            "x": 0.677327346673522,
            "y": -0.19211812401769657
           },
           {
            "edge": 2,
            "pair": [
             0,
             11
            ],
            "source": 0,
            "target": 11,
            "x": 0.08868406763924785,
            "y": 0.3601345039589571
           },
           {
            "edge": 2,
            "pair": [
             0,
             11
            ],
            "source": 0,
            "target": 11,
            "x": -0.31426790669991134,
            "y": 0.4666805301432072
           },
           {
            "edge": 3,
            "pair": [
             0,
             14
            ],
            "source": 0,
            "target": 14,
            "x": 0.08868406763924785,
            "y": 0.3601345039589571
           },
           {
            "edge": 3,
            "pair": [
             0,
             14
            ],
            "source": 0,
            "target": 14,
            "x": -0.5625496017742719,
            "y": 0.15559671802860806
           },
           {
            "edge": 4,
            "pair": [
             0,
             16
            ],
            "source": 0,
            "target": 16,
            "x": 0.08868406763924785,
            "y": 0.3601345039589571
           },
           {
            "edge": 4,
            "pair": [
             0,
             16
            ],
            "source": 0,
            "target": 16,
            "x": -0.3693672554767849,
            "y": 0.8447203667146063
           },
           {
            "edge": 5,
            "pair": [
             0,
             18
            ],
            "source": 0,
            "target": 18,
            "x": 0.08868406763924785,
            "y": 0.3601345039589571
           },
           {
            "edge": 5,
            "pair": [
             0,
             18
            ],
            "source": 0,
            "target": 18,
            "x": -0.03516366617433443,
            "y": 0.07557752396379898
           },
           {
            "edge": 6,
            "pair": [
             1,
             8
            ],
            "source": 1,
            "target": 8,
            "x": -0.7702151385428594,
            "y": 0.4287692301491447
           },
           {
            "edge": 6,
            "pair": [
             1,
             8
            ],
            "source": 1,
            "target": 8,
            "x": -1,
            "y": 0.8849054452039858
           },
           {
            "edge": 7,
            "pair": [
             1,
             11
            ],
            "source": 1,
            "target": 11,
            "x": -0.7702151385428594,
            "y": 0.4287692301491447
           },
           {
            "edge": 7,
            "pair": [
             1,
             11
            ],
            "source": 1,
            "target": 11,
            "x": -0.31426790669991134,
            "y": 0.4666805301432072
           },
           {
            "edge": 8,
            "pair": [
             1,
             13
            ],
            "source": 1,
            "target": 13,
            "x": -0.7702151385428594,
            "y": 0.4287692301491447
           },
           {
            "edge": 8,
            "pair": [
             1,
             13
            ],
            "source": 1,
            "target": 13,
            "x": -0.4414945448044068,
            "y": -0.08193298150777015
           },
           {
            "edge": 9,
            "pair": [
             1,
             18
            ],
            "source": 1,
            "target": 18,
            "x": -0.7702151385428594,
            "y": 0.4287692301491447
           },
           {
            "edge": 9,
            "pair": [
             1,
             18
            ],
            "source": 1,
            "target": 18,
            "x": -0.03516366617433443,
            "y": 0.07557752396379898
           },
           {
            "edge": 10,
            "pair": [
             2,
             6
            ],
            "source": 2,
            "target": 6,
            "x": -0.07312550180030027,
            "y": -0.5485689645790655
           },
           {
            "edge": 10,
            "pair": [
             2,
             6
            ],
            "source": 2,
            "target": 6,
            "x": 0.5713218687582864,
            "y": -0.7602496030098589
           },
           {
            "edge": 11,
            "pair": [
             2,
             7
            ],
            "source": 2,
            "target": 7,
            "x": -0.07312550180030027,
            "y": -0.5485689645790655
           },
           {
            "edge": 11,
            "pair": [
             2,
             7
            ],
            "source": 2,
            "target": 7,
            "x": 0.48805985004515456,
            "y": -0.4197209185290074
           },
           {
            "edge": 12,
            "pair": [
             2,
             10
            ],
            "source": 2,
            "target": 10,
            "x": -0.07312550180030027,
            "y": -0.5485689645790655
           },
           {
            "edge": 12,
            "pair": [
             2,
             10
            ],
            "source": 2,
            "target": 10,
            "x": -0.11849872487577374,
            "y": -0.26196512504218333
           },
           {
            "edge": 13,
            "pair": [
             2,
             14
            ],
            "source": 2,
            "target": 14,
            "x": -0.07312550180030027,
            "y": -0.5485689645790655
           },
           {
            "edge": 13,
            "pair": [
             2,
             14
            ],
            "source": 2,
            "target": 14,
            "x": -0.5625496017742719,
            "y": 0.15559671802860806
           },
           {
            "edge": 14,
            "pair": [
             2,
             17
            ],
            "source": 2,
            "target": 17,
            "x": -0.07312550180030027,
            "y": -0.5485689645790655
           },
           {
            "edge": 14,
            "pair": [
             2,
             17
            ],
            "source": 2,
            "target": 17,
            "x": 0.24589848937274017,
            "y": -0.6911915571408288
           },
           {
            "edge": 15,
            "pair": [
             2,
             18
            ],
            "source": 2,
            "target": 18,
            "x": -0.07312550180030027,
            "y": -0.5485689645790655
           },
           {
            "edge": 15,
            "pair": [
             2,
             18
            ],
            "source": 2,
            "target": 18,
            "x": -0.03516366617433443,
            "y": 0.07557752396379898
           },
           {
            "edge": 16,
            "pair": [
             2,
             19
            ],
            "source": 2,
            "target": 19,
            "x": -0.07312550180030027,
            "y": -0.5485689645790655
           },
           {
            "edge": 16,
            "pair": [
             2,
             19
            ],
            "source": 2,
            "target": 19,
            "x": -0.3830820204399647,
            "y": -0.7547670642346705
           },
           {
            "edge": 17,
            "pair": [
             3,
             5
            ],
            "source": 3,
            "target": 5,
            "x": 0.4316119469322229,
            "y": -0.04227501708251596
           },
           {
            "edge": 17,
            "pair": [
             3,
             5
            ],
            "source": 3,
            "target": 5,
            "x": 0.677327346673522,
            "y": -0.19211812401769657
           },
           {
            "edge": 18,
            "pair": [
             3,
             9
            ],
            "source": 3,
            "target": 9,
            "x": 0.4316119469322229,
            "y": -0.04227501708251596
           },
           {
            "edge": 18,
            "pair": [
             3,
             9
            ],
            "source": 3,
            "target": 9,
            "x": 0.4608793321043505,
            "y": 0.32166942026579043
           },
           {
            "edge": 19,
            "pair": [
             3,
             10
            ],
            "source": 3,
            "target": 10,
            "x": 0.4316119469322229,
            "y": -0.04227501708251596
           },
           {
            "edge": 19,
            "pair": [
             3,
             10
            ],
            "source": 3,
            "target": 10,
            "x": -0.11849872487577374,
            "y": -0.26196512504218333
           },
           {
            "edge": 20,
            "pair": [
             3,
             17
            ],
            "source": 3,
            "target": 17,
            "x": 0.4316119469322229,
            "y": -0.04227501708251596
           },
           {
            "edge": 20,
            "pair": [
             3,
             17
            ],
            "source": 3,
            "target": 17,
            "x": 0.24589848937274017,
            "y": -0.6911915571408288
           },
           {
            "edge": 21,
            "pair": [
             4,
             5
            ],
            "source": 4,
            "target": 5,
            "x": 0.9747646280644051,
            "y": -0.05939334400318246
           },
           {
            "edge": 21,
            "pair": [
             4,
             5
            ],
            "source": 4,
            "target": 5,
            "x": 0.677327346673522,
            "y": -0.19211812401769657
           },
           {
            "edge": 22,
            "pair": [
             4,
             18
            ],
            "source": 4,
            "target": 18,
            "x": 0.9747646280644051,
            "y": -0.05939334400318246
           },
           {
            "edge": 22,
            "pair": [
             4,
             18
            ],
            "source": 4,
            "target": 18,
            "x": -0.03516366617433443,
            "y": 0.07557752396379898
           },
           {
            "edge": 23,
            "pair": [
             5,
             6
            ],
            "source": 5,
            "target": 6,
            "x": 0.677327346673522,
            "y": -0.19211812401769657
           },
           {
            "edge": 23,
            "pair": [
             5,
             6
            ],
            "source": 5,
            "target": 6,
            "x": 0.5713218687582864,
            "y": -0.7602496030098589
           },
           {
            "edge": 24,
            "pair": [
             5,
             7
            ],
            "source": 5,
            "target": 7,
            "x": 0.677327346673522,
            "y": -0.19211812401769657
           },
           {
            "edge": 24,
            "pair": [
             5,
             7
            ],
            "source": 5,
            "target": 7,
            "x": 0.48805985004515456,
            "y": -0.4197209185290074
           },
           {
            "edge": 25,
            "pair": [
             5,
             9
            ],
            "source": 5,
            "target": 9,
            "x": 0.677327346673522,
            "y": -0.19211812401769657
           },
           {
            "edge": 25,
            "pair": [
             5,
             9
            ],
            "source": 5,
            "target": 9,
            "x": 0.4608793321043505,
            "y": 0.32166942026579043
           },
           {
            "edge": 26,
            "pair": [
             5,
             17
            ],
            "source": 5,
            "target": 17,
            "x": 0.677327346673522,
            "y": -0.19211812401769657
           },
           {
            "edge": 26,
            "pair": [
             5,
             17
            ],
            "source": 5,
            "target": 17,
            "x": 0.24589848937274017,
            "y": -0.6911915571408288
           },
           {
            "edge": 27,
            "pair": [
             6,
             7
            ],
            "source": 6,
            "target": 7,
            "x": 0.5713218687582864,
            "y": -0.7602496030098589
           },
           {
            "edge": 27,
            "pair": [
             6,
             7
            ],
            "source": 6,
            "target": 7,
            "x": 0.48805985004515456,
            "y": -0.4197209185290074
           },
           {
            "edge": 28,
            "pair": [
             6,
             15
            ],
            "source": 6,
            "target": 15,
            "x": 0.5713218687582864,
            "y": -0.7602496030098589
           },
           {
            "edge": 28,
            "pair": [
             6,
             15
            ],
            "source": 6,
            "target": 15,
            "x": 0.15407214594265353,
            "y": -0.26002602560909455
           },
           {
            "edge": 29,
            "pair": [
             7,
             9
            ],
            "source": 7,
            "target": 9,
            "x": 0.48805985004515456,
            "y": -0.4197209185290074
           },
           {
            "edge": 29,
            "pair": [
             7,
             9
            ],
            "source": 7,
            "target": 9,
            "x": 0.4608793321043505,
            "y": 0.32166942026579043
           },
           {
            "edge": 30,
            "pair": [
             7,
             10
            ],
            "source": 7,
            "target": 10,
            "x": 0.48805985004515456,
            "y": -0.4197209185290074
           },
           {
            "edge": 30,
            "pair": [
             7,
             10
            ],
            "source": 7,
            "target": 10,
            "x": -0.11849872487577374,
            "y": -0.26196512504218333
           },
           {
            "edge": 31,
            "pair": [
             8,
             11
            ],
            "source": 8,
            "target": 11,
            "x": -1,
            "y": 0.8849054452039858
           },
           {
            "edge": 31,
            "pair": [
             8,
             11
            ],
            "source": 8,
            "target": 11,
            "x": -0.31426790669991134,
            "y": 0.4666805301432072
           },
           {
            "edge": 32,
            "pair": [
             9,
             11
            ],
            "source": 9,
            "target": 11,
            "x": 0.4608793321043505,
            "y": 0.32166942026579043
           },
           {
            "edge": 32,
            "pair": [
             9,
             11
            ],
            "source": 9,
            "target": 11,
            "x": -0.31426790669991134,
            "y": 0.4666805301432072
           },
           {
            "edge": 33,
            "pair": [
             9,
             12
            ],
            "source": 9,
            "target": 12,
            "x": 0.4608793321043505,
            "y": 0.32166942026579043
           },
           {
            "edge": 33,
            "pair": [
             9,
             12
            ],
            "source": 9,
            "target": 12,
            "x": -0.024855314943975502,
            "y": 0.5341549863277777
           },
           {
            "edge": 34,
            "pair": [
             10,
             11
            ],
            "source": 10,
            "target": 11,
            "x": -0.11849872487577374,
            "y": -0.26196512504218333
           },
           {
            "edge": 34,
            "pair": [
             10,
             11
            ],
            "source": 10,
            "target": 11,
            "x": -0.31426790669991134,
            "y": 0.4666805301432072
           },
           {
            "edge": 35,
            "pair": [
             10,
             18
            ],
            "source": 10,
            "target": 18,
            "x": -0.11849872487577374,
            "y": -0.26196512504218333
           },
           {
            "edge": 35,
            "pair": [
             10,
             18
            ],
            "source": 10,
            "target": 18,
            "x": -0.03516366617433443,
            "y": 0.07557752396379898
           },
           {
            "edge": 36,
            "pair": [
             10,
             19
            ],
            "source": 10,
            "target": 19,
            "x": -0.11849872487577374,
            "y": -0.26196512504218333
           },
           {
            "edge": 36,
            "pair": [
             10,
             19
            ],
            "source": 10,
            "target": 19,
            "x": -0.3830820204399647,
            "y": -0.7547670642346705
           },
           {
            "edge": 37,
            "pair": [
             11,
             12
            ],
            "source": 11,
            "target": 12,
            "x": -0.31426790669991134,
            "y": 0.4666805301432072
           },
           {
            "edge": 37,
            "pair": [
             11,
             12
            ],
            "source": 11,
            "target": 12,
            "x": -0.024855314943975502,
            "y": 0.5341549863277777
           },
           {
            "edge": 38,
            "pair": [
             11,
             18
            ],
            "source": 11,
            "target": 18,
            "x": -0.31426790669991134,
            "y": 0.4666805301432072
           },
           {
            "edge": 38,
            "pair": [
             11,
             18
            ],
            "source": 11,
            "target": 18,
            "x": -0.03516366617433443,
            "y": 0.07557752396379898
           },
           {
            "edge": 39,
            "pair": [
             12,
             13
            ],
            "source": 12,
            "target": 13,
            "x": -0.024855314943975502,
            "y": 0.5341549863277777
           },
           {
            "edge": 39,
            "pair": [
             12,
             13
            ],
            "source": 12,
            "target": 13,
            "x": -0.4414945448044068,
            "y": -0.08193298150777015
           },
           {
            "edge": 40,
            "pair": [
             12,
             15
            ],
            "source": 12,
            "target": 15,
            "x": -0.024855314943975502,
            "y": 0.5341549863277777
           },
           {
            "edge": 40,
            "pair": [
             12,
             15
            ],
            "source": 12,
            "target": 15,
            "x": 0.15407214594265353,
            "y": -0.26002602560909455
           },
           {
            "edge": 41,
            "pair": [
             12,
             16
            ],
            "source": 12,
            "target": 16,
            "x": -0.024855314943975502,
            "y": 0.5341549863277777
           },
           {
            "edge": 41,
            "pair": [
             12,
             16
            ],
            "source": 12,
            "target": 16,
            "x": -0.3693672554767849,
            "y": 0.8447203667146063
           },
           {
            "edge": 42,
            "pair": [
             13,
             15
            ],
            "source": 13,
            "target": 15,
            "x": -0.4414945448044068,
            "y": -0.08193298150777015
           },
           {
            "edge": 42,
            "pair": [
             13,
             15
            ],
            "source": 13,
            "target": 15,
            "x": 0.15407214594265353,
            "y": -0.26002602560909455
           },
           {
            "edge": 43,
            "pair": [
             13,
             18
            ],
            "source": 13,
            "target": 18,
            "x": -0.4414945448044068,
            "y": -0.08193298150777015
           },
           {
            "edge": 43,
            "pair": [
             13,
             18
            ],
            "source": 13,
            "target": 18,
            "x": -0.03516366617433443,
            "y": 0.07557752396379898
           },
           {
            "edge": 44,
            "pair": [
             13,
             19
            ],
            "source": 13,
            "target": 19,
            "x": -0.4414945448044068,
            "y": -0.08193298150777015
           },
           {
            "edge": 44,
            "pair": [
             13,
             19
            ],
            "source": 13,
            "target": 19,
            "x": -0.3830820204399647,
            "y": -0.7547670642346705
           },
           {
            "edge": 45,
            "pair": [
             14,
             16
            ],
            "source": 14,
            "target": 16,
            "x": -0.5625496017742719,
            "y": 0.15559671802860806
           },
           {
            "edge": 45,
            "pair": [
             14,
             16
            ],
            "source": 14,
            "target": 16,
            "x": -0.3693672554767849,
            "y": 0.8447203667146063
           },
           {
            "edge": 46,
            "pair": [
             15,
             17
            ],
            "source": 15,
            "target": 17,
            "x": 0.15407214594265353,
            "y": -0.26002602560909455
           },
           {
            "edge": 46,
            "pair": [
             15,
             17
            ],
            "source": 15,
            "target": 17,
            "x": 0.24589848937274017,
            "y": -0.6911915571408288
           },
           {
            "edge": 47,
            "pair": [
             17,
             19
            ],
            "source": 17,
            "target": 19,
            "x": 0.24589848937274017,
            "y": -0.6911915571408288
           },
           {
            "edge": 47,
            "pair": [
             17,
             19
            ],
            "source": 17,
            "target": 19,
            "x": -0.3830820204399647,
            "y": -0.7547670642346705
           }
          ]
         },
         "encoding": {
          "detail": {
           "field": "edge",
           "type": "quantitative"
          },
          "x": {
           "axis": {
            "title": ""
           },
           "field": "x",
           "type": "quantitative"
          },
          "y": {
           "axis": {
            "title": ""
           },
           "field": "y",
           "type": "quantitative"
          }
         },
         "mark": {
          "color": "black",
          "opacity": 1,
          "strokeWidth": 1,
          "type": "line"
         },
         "selection": {
          "selector001": {
           "bind": "scales",
           "encodings": [
            "x",
            "y"
           ],
           "mark": {
            "fill": "#333",
            "fillOpacity": 0.125,
            "stroke": "white"
           },
           "on": "[mousedown, window:mouseup] > window:mousemove!",
           "resolve": "global",
           "translate": "[mousedown, window:mouseup] > window:mousemove!",
           "type": "interval",
           "zoom": "wheel!"
          }
         }
        },
        {
         "data": {
          "values": [
           {
            "x": 0.08868406763924785,
            "y": 0.3601345039589571
           },
           {
            "x": -0.7702151385428594,
            "y": 0.4287692301491447
           },
           {
            "x": -0.07312550180030027,
            "y": -0.5485689645790655
           },
           {
            "x": 0.4316119469322229,
            "y": -0.04227501708251596
           },
           {
            "x": 0.9747646280644051,
            "y": -0.05939334400318246
           },
           {
            "x": 0.677327346673522,
            "y": -0.19211812401769657
           },
           {
            "x": 0.5713218687582864,
            "y": -0.7602496030098589
           },
           {
            "x": 0.48805985004515456,
            "y": -0.4197209185290074
           },
           {
            "x": -1,
            "y": 0.8849054452039858
           },
           {
            "x": 0.4608793321043505,
            "y": 0.32166942026579043
           },
           {
            "x": -0.11849872487577374,
            "y": -0.26196512504218333
           },
           {
            "x": -0.31426790669991134,
            "y": 0.4666805301432072
           },
           {
            "x": -0.024855314943975502,
            "y": 0.5341549863277777
           },
           {
            "x": -0.4414945448044068,
            "y": -0.08193298150777015
           },
           {
            "x": -0.5625496017742719,
            "y": 0.15559671802860806
           },
           {
            "x": 0.15407214594265353,
            "y": -0.26002602560909455
           },
           {
            "x": -0.3693672554767849,
            "y": 0.8447203667146063
           },
           {
            "x": 0.24589848937274017,
            "y": -0.6911915571408288
           },
           {
            "x": -0.03516366617433443,
            "y": 0.07557752396379898
           },
           {
            "x": -0.3830820204399647,
            "y": -0.7547670642346705
           }
          ]
         },
         "encoding": {
          "x": {
           "field": "x",
           "type": "quantitative"
          },
          "y": {
           "field": "y",
           "type": "quantitative"
          }
         },
         "mark": {
          "fill": "red",
          "opacity": 1,
          "size": 300,
          "type": "point"
         }
        }
       ]
      },
      "image/png": "[encoded data removed]",
      "text/plain": [
       "<VegaLite 2 object>\n",
       "\n",
       "If you see this message, it means the renderer has not been properly enabled\n",
       "for the frontend that you are using. For more information, see\n",
       "https://altair-viz.github.io/user_guide/troubleshooting.html\n"
      ]
     },
     "execution_count": 2,
     "metadata": {},
     "output_type": "execute_result"
    }
   ],
   "source": [
    "# Generate a random graph\n",
    "G = nx.fast_gnp_random_graph(n=20, p=0.25)\n",
    "\n",
    "# Compute positions for viz.\n",
    "pos = nx.spring_layout(G)\n",
    "\n",
    "# Draw the graph using Altair\n",
    "viz = nxa.draw_networkx(G, pos=pos)\n",
    "\n",
    "# Show it as an interactive plot!\n",
    "viz.interactive()"
   ]
  },
  {
   "cell_type": "code",
   "execution_count": 3,
   "metadata": {},
   "outputs": [
    {
     "data": {
      "application/vnd.vegalite.v2+json": {
       "$schema": "https://vega.github.io/schema/vega-lite/v2.4.1.json",
       "config": {
        "axis": {
         "domain": false,
         "grid": false,
         "labels": false,
         "ticks": false
        },
        "view": {
         "height": 300,
         "width": 400
        }
       },
       "layer": [
        {
         "data": {
          "values": [
           {
            "edge": 0,
            "pair": [
             0,
             3
            ],
            "source": 0,
            "target": 3,
            "weight": 5.229087116496151,
            "x": 0.08868406763924785,
            "y": 0.3601345039589571
           },
           {
            "edge": 0,
            "pair": [
             0,
             3
            ],
            "source": 0,
            "target": 3,
            "weight": 5.229087116496151,
            "x": 0.4316119469322229,
            "y": -0.04227501708251596
           },
           {
            "edge": 1,
            "pair": [
             0,
             5
            ],
            "source": 0,
            "target": 5,
            "weight": 9.103298902706559,
            "x": 0.08868406763924785,
            "y": 0.3601345039589571
           },
           {
            "edge": 1,
            "pair": [
             0,
             5
            ],
            "source": 0,
            "target": 5,
            "weight": 9.103298902706559,
            "x": 0.677327346673522,
            "y": -0.19211812401769657
           },
           {
            "edge": 2,
            "pair": [
             0,
             11
            ],
            "source": 0,
            "target": 11,
            "weight": 4.580935033411958,
            "x": 0.08868406763924785,
            "y": 0.3601345039589571
           },
           {
            "edge": 2,
            "pair": [
             0,
             11
            ],
            "source": 0,
            "target": 11,
            "weight": 4.580935033411958,
            "x": -0.31426790669991134,
            "y": 0.4666805301432072
           },
           {
            "edge": 3,
            "pair": [
             0,
             14
            ],
            "source": 0,
            "target": 14,
            "weight": 8.929508113614192,
            "x": 0.08868406763924785,
            "y": 0.3601345039589571
           },
           {
            "edge": 3,
            "pair": [
             0,
             14
            ],
            "source": 0,
            "target": 14,
            "weight": 8.929508113614192,
            "x": -0.5625496017742719,
            "y": 0.15559671802860806
           },
           {
            "edge": 4,
            "pair": [
             0,
             16
            ],
            "source": 0,
            "target": 16,
            "weight": 9.463846552049736,
            "x": 0.08868406763924785,
            "y": 0.3601345039589571
           },
           {
            "edge": 4,
            "pair": [
             0,
             16
            ],
            "source": 0,
            "target": 16,
            "weight": 9.463846552049736,
            "x": -0.3693672554767849,
            "y": 0.8447203667146063
           },
           {
            "edge": 5,
            "pair": [
             0,
             18
            ],
            "source": 0,
            "target": 18,
            "weight": 7.422090595898391,
            "x": 0.08868406763924785,
            "y": 0.3601345039589571
           },
           {
            "edge": 5,
            "pair": [
             0,
             18
            ],
            "source": 0,
            "target": 18,
            "weight": 7.422090595898391,
            "x": -0.03516366617433443,
            "y": 0.07557752396379898
           },
           {
            "edge": 6,
            "pair": [
             1,
             8
            ],
            "source": 1,
            "target": 8,
            "weight": 2.426214789389361,
            "x": -0.7702151385428594,
            "y": 0.4287692301491447
           },
           {
            "edge": 6,
            "pair": [
             1,
             8
            ],
            "source": 1,
            "target": 8,
            "weight": 2.426214789389361,
            "x": -1,
            "y": 0.8849054452039858
           },
           {
            "edge": 7,
            "pair": [
             1,
             11
            ],
            "source": 1,
            "target": 11,
            "weight": 8.089928496042823,
            "x": -0.7702151385428594,
            "y": 0.4287692301491447
           },
           {
            "edge": 7,
            "pair": [
             1,
             11
            ],
            "source": 1,
            "target": 11,
            "weight": 8.089928496042823,
            "x": -0.31426790669991134,
            "y": 0.4666805301432072
           },
           {
            "edge": 8,
            "pair": [
             1,
             13
            ],
            "source": 1,
            "target": 13,
            "weight": 3.429435289026726,
            "x": -0.7702151385428594,
            "y": 0.4287692301491447
           },
           {
            "edge": 8,
            "pair": [
             1,
             13
            ],
            "source": 1,
            "target": 13,
            "weight": 3.429435289026726,
            "x": -0.4414945448044068,
            "y": -0.08193298150777015
           },
           {
            "edge": 9,
            "pair": [
             1,
             18
            ],
            "source": 1,
            "target": 18,
            "weight": 1.0251433651484856,
            "x": -0.7702151385428594,
            "y": 0.4287692301491447
           },
           {
            "edge": 9,
            "pair": [
             1,
             18
            ],
            "source": 1,
            "target": 18,
            "weight": 1.0251433651484856,
            "x": -0.03516366617433443,
            "y": 0.07557752396379898
           },
           {
            "edge": 10,
            "pair": [
             2,
             6
            ],
            "source": 2,
            "target": 6,
            "weight": 2.3328199070001236,
            "x": -0.07312550180030027,
            "y": -0.5485689645790655
           },
           {
            "edge": 10,
            "pair": [
             2,
             6
            ],
            "source": 2,
            "target": 6,
            "weight": 2.3328199070001236,
            "x": 0.5713218687582864,
            "y": -0.7602496030098589
           },
           {
            "edge": 11,
            "pair": [
             2,
             7
            ],
            "source": 2,
            "target": 7,
            "weight": 1.9989451860203526,
            "x": -0.07312550180030027,
            "y": -0.5485689645790655
           },
           {
            "edge": 11,
            "pair": [
             2,
             7
            ],
            "source": 2,
            "target": 7,
            "weight": 1.9989451860203526,
            "x": 0.48805985004515456,
            "y": -0.4197209185290074
           },
           {
            "edge": 12,
            "pair": [
             2,
             10
            ],
            "source": 2,
            "target": 10,
            "weight": 2.2116294444869644,
            "x": -0.07312550180030027,
            "y": -0.5485689645790655
           },
           {
            "edge": 12,
            "pair": [
             2,
             10
            ],
            "source": 2,
            "target": 10,
            "weight": 2.2116294444869644,
            "x": -0.11849872487577374,
            "y": -0.26196512504218333
           },
           {
            "edge": 13,
            "pair": [
             2,
             14
            ],
            "source": 2,
            "target": 14,
            "weight": 5.10299499650273,
            "x": -0.07312550180030027,
            "y": -0.5485689645790655
           },
           {
            "edge": 13,
            "pair": [
             2,
             14
            ],
            "source": 2,
            "target": 14,
            "weight": 5.10299499650273,
            "x": -0.5625496017742719,
            "y": 0.15559671802860806
           },
           {
            "edge": 14,
            "pair": [
             2,
             17
            ],
            "source": 2,
            "target": 17,
            "weight": 1.5698296383454298,
            "x": -0.07312550180030027,
            "y": -0.5485689645790655
           },
           {
            "edge": 14,
            "pair": [
             2,
             17
            ],
            "source": 2,
            "target": 17,
            "weight": 1.5698296383454298,
            "x": 0.24589848937274017,
            "y": -0.6911915571408288
           },
           {
            "edge": 15,
            "pair": [
             2,
             18
            ],
            "source": 2,
            "target": 18,
            "weight": 1.290089520447936,
            "x": -0.07312550180030027,
            "y": -0.5485689645790655
           },
           {
            "edge": 15,
            "pair": [
             2,
             18
            ],
            "source": 2,
            "target": 18,
            "weight": 1.290089520447936,
            "x": -0.03516366617433443,
            "y": 0.07557752396379898
           },
           {
            "edge": 16,
            "pair": [
             2,
             19
            ],
            "source": 2,
            "target": 19,
            "weight": 5.548274808185728,
            "x": -0.07312550180030027,
            "y": -0.5485689645790655
           },
           {
            "edge": 16,
            "pair": [
             2,
             19
            ],
            "source": 2,
            "target": 19,
            "weight": 5.548274808185728,
            "x": -0.3830820204399647,
            "y": -0.7547670642346705
           },
           {
            "edge": 17,
            "pair": [
             3,
             5
            ],
            "source": 3,
            "target": 5,
            "weight": 9.888920075098547,
            "x": 0.4316119469322229,
            "y": -0.04227501708251596
           },
           {
            "edge": 17,
            "pair": [
             3,
             5
            ],
            "source": 3,
            "target": 5,
            "weight": 9.888920075098547,
            "x": 0.677327346673522,
            "y": -0.19211812401769657
           },
           {
            "edge": 18,
            "pair": [
             3,
             9
            ],
            "source": 3,
            "target": 9,
            "weight": 2.267581562363109,
            "x": 0.4316119469322229,
            "y": -0.04227501708251596
           },
           {
            "edge": 18,
            "pair": [
             3,
             9
            ],
            "source": 3,
            "target": 9,
            "weight": 2.267581562363109,
            "x": 0.4608793321043505,
            "y": 0.32166942026579043
           },
           {
            "edge": 19,
            "pair": [
             3,
             10
            ],
            "source": 3,
            "target": 10,
            "weight": 5.385340882025536,
            "x": 0.4316119469322229,
            "y": -0.04227501708251596
           },
           {
            "edge": 19,
            "pair": [
             3,
             10
            ],
            "source": 3,
            "target": 10,
            "weight": 5.385340882025536,
            "x": -0.11849872487577374,
            "y": -0.26196512504218333
           },
           {
            "edge": 20,
            "pair": [
             3,
             17
            ],
            "source": 3,
            "target": 17,
            "weight": 3.4948185179602005,
            "x": 0.4316119469322229,
            "y": -0.04227501708251596
           },
           {
            "edge": 20,
            "pair": [
             3,
             17
            ],
            "source": 3,
            "target": 17,
            "weight": 3.4948185179602005,
            "x": 0.24589848937274017,
            "y": -0.6911915571408288
           },
           {
            "edge": 21,
            "pair": [
             4,
             5
            ],
            "source": 4,
            "target": 5,
            "weight": 2.6918008631949775,
            "x": 0.9747646280644051,
            "y": -0.05939334400318246
           },
           {
            "edge": 21,
            "pair": [
             4,
             5
            ],
            "source": 4,
            "target": 5,
            "weight": 2.6918008631949775,
            "x": 0.677327346673522,
            "y": -0.19211812401769657
           },
           {
            "edge": 22,
            "pair": [
             4,
             18
            ],
            "source": 4,
            "target": 18,
            "weight": 6.504387878362965,
            "x": 0.9747646280644051,
            "y": -0.05939334400318246
           },
           {
            "edge": 22,
            "pair": [
             4,
             18
            ],
            "source": 4,
            "target": 18,
            "weight": 6.504387878362965,
            "x": -0.03516366617433443,
            "y": 0.07557752396379898
           },
           {
            "edge": 23,
            "pair": [
             5,
             6
            ],
            "source": 5,
            "target": 6,
            "weight": 7.033024313481831,
            "x": 0.677327346673522,
            "y": -0.19211812401769657
           },
           {
            "edge": 23,
            "pair": [
             5,
             6
            ],
            "source": 5,
            "target": 6,
            "weight": 7.033024313481831,
            "x": 0.5713218687582864,
            "y": -0.7602496030098589
           },
           {
            "edge": 24,
            "pair": [
             5,
             7
            ],
            "source": 5,
            "target": 7,
            "weight": 7.179781559678762,
            "x": 0.677327346673522,
            "y": -0.19211812401769657
           },
           {
            "edge": 24,
            "pair": [
             5,
             7
            ],
            "source": 5,
            "target": 7,
            "weight": 7.179781559678762,
            "x": 0.48805985004515456,
            "y": -0.4197209185290074
           },
           {
            "edge": 25,
            "pair": [
             5,
             9
            ],
            "source": 5,
            "target": 9,
            "weight": 3.0685394342034007,
            "x": 0.677327346673522,
            "y": -0.19211812401769657
           },
           {
            "edge": 25,
            "pair": [
             5,
             9
            ],
            "source": 5,
            "target": 9,
            "weight": 3.0685394342034007,
            "x": 0.4608793321043505,
            "y": 0.32166942026579043
           },
           {
            "edge": 26,
            "pair": [
             5,
             17
            ],
            "source": 5,
            "target": 17,
            "weight": 3.286948223413888,
            "x": 0.677327346673522,
            "y": -0.19211812401769657
           },
           {
            "edge": 26,
            "pair": [
             5,
             17
            ],
            "source": 5,
            "target": 17,
            "weight": 3.286948223413888,
            "x": 0.24589848937274017,
            "y": -0.6911915571408288
           },
           {
            "edge": 27,
            "pair": [
             6,
             7
            ],
            "source": 6,
            "target": 7,
            "weight": 8.716382216989782,
            "x": 0.5713218687582864,
            "y": -0.7602496030098589
           },
           {
            "edge": 27,
            "pair": [
             6,
             7
            ],
            "source": 6,
            "target": 7,
            "weight": 8.716382216989782,
            "x": 0.48805985004515456,
            "y": -0.4197209185290074
           },
           {
            "edge": 28,
            "pair": [
             6,
             15
            ],
            "source": 6,
            "target": 15,
            "weight": 2.286977336231581,
            "x": 0.5713218687582864,
            "y": -0.7602496030098589
           },
           {
            "edge": 28,
            "pair": [
             6,
             15
            ],
            "source": 6,
            "target": 15,
            "weight": 2.286977336231581,
            "x": 0.15407214594265353,
            "y": -0.26002602560909455
           },
           {
            "edge": 29,
            "pair": [
             7,
             9
            ],
            "source": 7,
            "target": 9,
            "weight": 2.7285280511338046,
            "x": 0.48805985004515456,
            "y": -0.4197209185290074
           },
           {
            "edge": 29,
            "pair": [
             7,
             9
            ],
            "source": 7,
            "target": 9,
            "weight": 2.7285280511338046,
            "x": 0.4608793321043505,
            "y": 0.32166942026579043
           },
           {
            "edge": 30,
            "pair": [
             7,
             10
            ],
            "source": 7,
            "target": 10,
            "weight": 4.831645462080067,
            "x": 0.48805985004515456,
            "y": -0.4197209185290074
           },
           {
            "edge": 30,
            "pair": [
             7,
             10
            ],
            "source": 7,
            "target": 10,
            "weight": 4.831645462080067,
            "x": -0.11849872487577374,
            "y": -0.26196512504218333
           },
           {
            "edge": 31,
            "pair": [
             8,
             11
            ],
            "source": 8,
            "target": 11,
            "weight": 7.328624535776772,
            "x": -1,
            "y": 0.8849054452039858
           },
           {
            "edge": 31,
            "pair": [
             8,
             11
            ],
            "source": 8,
            "target": 11,
            "weight": 7.328624535776772,
            "x": -0.31426790669991134,
            "y": 0.4666805301432072
           },
           {
            "edge": 32,
            "pair": [
             9,
             11
            ],
            "source": 9,
            "target": 11,
            "weight": 9.231523379700443,
            "x": 0.4608793321043505,
            "y": 0.32166942026579043
           },
           {
            "edge": 32,
            "pair": [
             9,
             11
            ],
            "source": 9,
            "target": 11,
            "weight": 9.231523379700443,
            "x": -0.31426790669991134,
            "y": 0.4666805301432072
           },
           {
            "edge": 33,
            "pair": [
             9,
             12
            ],
            "source": 9,
            "target": 12,
            "weight": 2.1146933379550106,
            "x": 0.4608793321043505,
            "y": 0.32166942026579043
           },
           {
            "edge": 33,
            "pair": [
             9,
             12
            ],
            "source": 9,
            "target": 12,
            "weight": 2.1146933379550106,
            "x": -0.024855314943975502,
            "y": 0.5341549863277777
           },
           {
            "edge": 34,
            "pair": [
             10,
             11
            ],
            "source": 10,
            "target": 11,
            "weight": 6.7560469772778236,
            "x": -0.11849872487577374,
            "y": -0.26196512504218333
           },
           {
            "edge": 34,
            "pair": [
             10,
             11
            ],
            "source": 10,
            "target": 11,
            "weight": 6.7560469772778236,
            "x": -0.31426790669991134,
            "y": 0.4666805301432072
           },
           {
            "edge": 35,
            "pair": [
             10,
             18
            ],
            "source": 10,
            "target": 18,
            "weight": 8.634573648149292,
            "x": -0.11849872487577374,
            "y": -0.26196512504218333
           },
           {
            "edge": 35,
            "pair": [
             10,
             18
            ],
            "source": 10,
            "target": 18,
            "weight": 8.634573648149292,
            "x": -0.03516366617433443,
            "y": 0.07557752396379898
           },
           {
            "edge": 36,
            "pair": [
             10,
             19
            ],
            "source": 10,
            "target": 19,
            "weight": 8.125379600166063,
            "x": -0.11849872487577374,
            "y": -0.26196512504218333
           },
           {
            "edge": 36,
            "pair": [
             10,
             19
            ],
            "source": 10,
            "target": 19,
            "weight": 8.125379600166063,
            "x": -0.3830820204399647,
            "y": -0.7547670642346705
           },
           {
            "edge": 37,
            "pair": [
             11,
             12
            ],
            "source": 11,
            "target": 12,
            "weight": 3.5067132867967628,
            "x": -0.31426790669991134,
            "y": 0.4666805301432072
           },
           {
            "edge": 37,
            "pair": [
             11,
             12
            ],
            "source": 11,
            "target": 12,
            "weight": 3.5067132867967628,
            "x": -0.024855314943975502,
            "y": 0.5341549863277777
           },
           {
            "edge": 38,
            "pair": [
             11,
             18
            ],
            "source": 11,
            "target": 18,
            "weight": 6.576627350329988,
            "x": -0.31426790669991134,
            "y": 0.4666805301432072
           },
           {
            "edge": 38,
            "pair": [
             11,
             18
            ],
            "source": 11,
            "target": 18,
            "weight": 6.576627350329988,
            "x": -0.03516366617433443,
            "y": 0.07557752396379898
           },
           {
            "edge": 39,
            "pair": [
             12,
             13
            ],
            "source": 12,
            "target": 13,
            "weight": 3.7146976462990215,
            "x": -0.024855314943975502,
            "y": 0.5341549863277777
           },
           {
            "edge": 39,
            "pair": [
             12,
             13
            ],
            "source": 12,
            "target": 13,
            "weight": 3.7146976462990215,
            "x": -0.4414945448044068,
            "y": -0.08193298150777015
           },
           {
            "edge": 40,
            "pair": [
             12,
             15
            ],
            "source": 12,
            "target": 15,
            "weight": 7.732905985593538,
            "x": -0.024855314943975502,
            "y": 0.5341549863277777
           },
           {
            "edge": 40,
            "pair": [
             12,
             15
            ],
            "source": 12,
            "target": 15,
            "weight": 7.732905985593538,
            "x": 0.15407214594265353,
            "y": -0.26002602560909455
           },
           {
            "edge": 41,
            "pair": [
             12,
             16
            ],
            "source": 12,
            "target": 16,
            "weight": 5.237912455650424,
            "x": -0.024855314943975502,
            "y": 0.5341549863277777
           },
           {
            "edge": 41,
            "pair": [
             12,
             16
            ],
            "source": 12,
            "target": 16,
            "weight": 5.237912455650424,
            "x": -0.3693672554767849,
            "y": 0.8447203667146063
           },
           {
            "edge": 42,
            "pair": [
             13,
             15
            ],
            "source": 13,
            "target": 15,
            "weight": 7.682772986524415,
            "x": -0.4414945448044068,
            "y": -0.08193298150777015
           },
           {
            "edge": 42,
            "pair": [
             13,
             15
            ],
            "source": 13,
            "target": 15,
            "weight": 7.682772986524415,
            "x": 0.15407214594265353,
            "y": -0.26002602560909455
           },
           {
            "edge": 43,
            "pair": [
             13,
             18
            ],
            "source": 13,
            "target": 18,
            "weight": 7.3564227617754945,
            "x": -0.4414945448044068,
            "y": -0.08193298150777015
           },
           {
            "edge": 43,
            "pair": [
             13,
             18
            ],
            "source": 13,
            "target": 18,
            "weight": 7.3564227617754945,
            "x": -0.03516366617433443,
            "y": 0.07557752396379898
           },
           {
            "edge": 44,
            "pair": [
             13,
             19
            ],
            "source": 13,
            "target": 19,
            "weight": 7.788667499542386,
            "x": -0.4414945448044068,
            "y": -0.08193298150777015
           },
           {
            "edge": 44,
            "pair": [
             13,
             19
            ],
            "source": 13,
            "target": 19,
            "weight": 7.788667499542386,
            "x": -0.3830820204399647,
            "y": -0.7547670642346705
           },
           {
            "edge": 45,
            "pair": [
             14,
             16
            ],
            "source": 14,
            "target": 16,
            "weight": 4.4610657211475555,
            "x": -0.5625496017742719,
            "y": 0.15559671802860806
           },
           {
            "edge": 45,
            "pair": [
             14,
             16
            ],
            "source": 14,
            "target": 16,
            "weight": 4.4610657211475555,
            "x": -0.3693672554767849,
            "y": 0.8447203667146063
           },
           {
            "edge": 46,
            "pair": [
             15,
             17
            ],
            "source": 15,
            "target": 17,
            "weight": 1.8384322723358677,
            "x": 0.15407214594265353,
            "y": -0.26002602560909455
           },
           {
            "edge": 46,
            "pair": [
             15,
             17
            ],
            "source": 15,
            "target": 17,
            "weight": 1.8384322723358677,
            "x": 0.24589848937274017,
            "y": -0.6911915571408288
           },
           {
            "edge": 47,
            "pair": [
             17,
             19
            ],
            "source": 17,
            "target": 19,
            "weight": 4.920004661373273,
            "x": 0.24589848937274017,
            "y": -0.6911915571408288
           },
           {
            "edge": 47,
            "pair": [
             17,
             19
            ],
            "source": 17,
            "target": 19,
            "weight": 4.920004661373273,
            "x": -0.3830820204399647,
            "y": -0.7547670642346705
           }
          ]
         },
         "encoding": {
          "detail": {
           "field": "edge",
           "type": "quantitative"
          },
          "size": {
           "field": "weight",
           "type": "quantitative"
          },
          "x": {
           "axis": {
            "title": ""
           },
           "field": "x",
           "type": "quantitative"
          },
          "y": {
           "axis": {
            "title": ""
           },
           "field": "y",
           "type": "quantitative"
          }
         },
         "mark": {
          "color": "black",
          "opacity": 1,
          "type": "line"
         },
         "selection": {
          "selector002": {
           "bind": "scales",
           "encodings": [
            "x",
            "y"
           ],
           "mark": {
            "fill": "#333",
            "fillOpacity": 0.125,
            "stroke": "white"
           },
           "on": "[mousedown, window:mouseup] > window:mousemove!",
           "resolve": "global",
           "translate": "[mousedown, window:mouseup] > window:mousemove!",
           "type": "interval",
           "zoom": "wheel!"
          }
         }
        },
        {
         "data": {
          "values": [
           {
            "weight": 1.1806968051714657,
            "x": 0.08868406763924785,
            "y": 0.3601345039589571
           },
           {
            "weight": 3.382386370085612,
            "x": -0.7702151385428594,
            "y": 0.4287692301491447
           },
           {
            "weight": 1.3362850800882211,
            "x": -0.07312550180030027,
            "y": -0.5485689645790655
           },
           {
            "weight": 1.0142077013830668,
            "x": 0.4316119469322229,
            "y": -0.04227501708251596
           },
           {
            "weight": -1.3538577710504094,
            "x": 0.9747646280644051,
            "y": -0.05939334400318246
           },
           {
            "weight": -1.368146063624592,
            "x": 0.677327346673522,
            "y": -0.19211812401769657
           },
           {
            "weight": -1.8709304608273019,
            "x": 0.5713218687582864,
            "y": -0.7602496030098589
           },
           {
            "weight": -0.43100016432100363,
            "x": 0.48805985004515456,
            "y": -0.4197209185290074
           },
           {
            "weight": 0.9284511888146896,
            "x": -1,
            "y": 0.8849054452039858
           },
           {
            "weight": -0.10735593539195167,
            "x": 0.4608793321043505,
            "y": 0.32166942026579043
           },
           {
            "weight": 0.6386276878642733,
            "x": -0.11849872487577374,
            "y": -0.26196512504218333
           },
           {
            "weight": 0.27692474512433984,
            "x": -0.31426790669991134,
            "y": 0.4666805301432072
           },
           {
            "weight": -1.0102454441333124,
            "x": -0.024855314943975502,
            "y": 0.5341549863277777
           },
           {
            "weight": -0.054787627852963115,
            "x": -0.4414945448044068,
            "y": -0.08193298150777015
           },
           {
            "weight": 2.4178650839279827,
            "x": -0.5625496017742719,
            "y": 0.15559671802860806
           },
           {
            "weight": 0.717248285823941,
            "x": 0.15407214594265353,
            "y": -0.26002602560909455
           },
           {
            "weight": -0.4825375934880812,
            "x": -0.3693672554767849,
            "y": 0.8447203667146063
           },
           {
            "weight": -2.3190365096990813,
            "x": 0.24589848937274017,
            "y": -0.6911915571408288
           },
           {
            "weight": 1.3851822519818369,
            "x": -0.03516366617433443,
            "y": 0.07557752396379898
           },
           {
            "weight": 0.011315255701167018,
            "x": -0.3830820204399647,
            "y": -0.7547670642346705
           }
          ]
         },
         "encoding": {
          "fill": {
           "field": "weight",
           "scale": {
            "scheme": "viridis"
           },
           "type": "quantitative"
          },
          "x": {
           "field": "x",
           "type": "quantitative"
          },
          "y": {
           "field": "y",
           "type": "quantitative"
          }
         },
         "mark": {
          "opacity": 1,
          "size": 300,
          "type": "point"
         }
        }
       ]
      },
      "image/png": "[encoded data removed]",
      "text/plain": [
       "<VegaLite 2 object>\n",
       "\n",
       "If you see this message, it means the renderer has not been properly enabled\n",
       "for the frontend that you are using. For more information, see\n",
       "https://altair-viz.github.io/user_guide/troubleshooting.html\n"
      ]
     },
     "execution_count": 3,
     "metadata": {},
     "output_type": "execute_result"
    }
   ],
   "source": [
    "import numpy as np\n",
    "\n",
    "# Add weights to nodes and edges\n",
    "for n in G.nodes():\n",
    "    G.nodes[n]['weight'] = np.random.randn()\n",
    "\n",
    "for e in G.edges():\n",
    "    G.edges[e]['weight'] = np.random.uniform(1, 10)\n",
    "\n",
    "\n",
    "# Draw the graph using Altair\n",
    "viz = nxa.draw_networkx(\n",
    "    G, pos=pos,\n",
    "    node_color='weight',\n",
    "    cmap='viridis',\n",
    "    width='weight',\n",
    "    edge_color='black',\n",
    ")\n",
    "\n",
    "# Show it as an interactive plot!\n",
    "viz.interactive()"
   ]
  },
  {
   "cell_type": "code",
   "execution_count": null,
   "metadata": {},
   "outputs": [],
   "source": []
  }
 ],
 "metadata": {
  "kernelspec": {
   "display_name": "Python 3",
   "language": "python",
   "name": "python3"
  },
  "language_info": {
   "codemirror_mode": {
    "name": "ipython",
    "version": 3
   },
   "file_extension": ".py",
   "mimetype": "text/x-python",
   "name": "python",
   "nbconvert_exporter": "python",
   "pygments_lexer": "ipython3",
   "version": "3.6.3"
  }
 },
 "nbformat": 4,
 "nbformat_minor": 2
}
