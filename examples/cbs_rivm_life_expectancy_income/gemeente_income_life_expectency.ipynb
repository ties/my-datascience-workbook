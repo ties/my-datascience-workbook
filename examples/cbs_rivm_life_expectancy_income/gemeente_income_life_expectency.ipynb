{
 "cells": [
  {
   "cell_type": "code",
   "execution_count": 1,
   "metadata": {},
   "outputs": [],
   "source": [
    "import requests\n",
    "import pandas"
   ]
  },
  {
   "cell_type": "code",
   "execution_count": 2,
   "metadata": {},
   "outputs": [],
   "source": [
    "BASE_URL = \"https://opendata.cbs.nl/ODataApi/OData/70072NED\"\n",
    "\n",
    "def df_request(url: str) -> pandas.DataFrame:\n",
    "    \"\"\" JSON url -> DataFrame \"\"\"\n",
    "    resp = requests.get(url)\n",
    "    assert(resp.status_code == 200)\n",
    "    data = resp.json()['value']\n",
    "    return pandas.DataFrame.from_records(data)"
   ]
  },
  {
   "cell_type": "code",
   "execution_count": 3,
   "metadata": {},
   "outputs": [],
   "source": [
    "perioden = df_request(f\"{BASE_URL}/Perioden\")"
   ]
  },
  {
   "cell_type": "markdown",
   "metadata": {},
   "source": [
    "Load data from *Regionale kerncijfers Nederland* statline table by CBS.\n",
    "\n",
    "Note that income data is only available up to 2015.\n",
    "\n",
    "This table can also be used to link between differing CBS region codes if needed since they are all included. Alternatively, use the CBS zip code table if you need these as well."
   ]
  },
  {
   "cell_type": "code",
   "execution_count": 4,
   "metadata": {},
   "outputs": [],
   "source": [
    "def data_for_year(year: str, columns=['Vrouwen_3', 'Mannen_2', 'RegioS', 'TotaalParticuliereHuishoudens_148']) -> pandas.DataFrame:\n",
    "    \"\"\"\n",
    "    Select data from the correct CBS table and filter the columns.\n",
    "    \n",
    "    Keep columns on:\n",
    "      * corrected income (for household size) = TotaalParticuliereHuishoudens_148\n",
    "      * Number of inhabitants by gender\n",
    "        * Female = Vrouwen_3\n",
    "        * Male = Mannen_2\n",
    "      * region code (\"CBS gemeente code\") = RegioS\n",
    "    \"\"\"\n",
    "    # Select the correct Period code:\n",
    "    pfy = perioden[perioden['Title'] == str(year)]\n",
    "    assert(pfy.shape[0] == 1)\n",
    "    period_code = pfy.iloc[0]['Key']\n",
    "    select_str = ','.join(columns)\n",
    "    data = df_request(f\"{BASE_URL}/TypedDataSet?$filter=Perioden eq '{period_code}'&$select={select_str}\")\n",
    "    # Filter gemeente codes\n",
    "    data = data[data['RegioS'].str.startswith('GM')]\n",
    "    # Strip 'GM' prefix, parse as integer\n",
    "    data['RegioS'] = data['RegioS'].str.replace('GM', '').astype(int)\n",
    "    data = data.rename(index=str, columns={\n",
    "        'TotaalParticuliereHuishoudens_148': 'corrected_income',\n",
    "        'Mannen_2': 'male',\n",
    "        'Vrouwen_3': 'female'\n",
    "    })\n",
    "    return data.set_index('RegioS')"
   ]
  },
  {
   "cell_type": "markdown",
   "metadata": {},
   "source": [
    "Load RIVM (Rijksinstituut voor Volksgezondheid en Milieu) [levensverwachting bij geboorte per gemeente](https://www.volksgezondheidenzorg.info/onderwerp/levensverwachting/regionaal-internationaal/bij-geboorte#node-levensverwachting-bij-geboorte-gemeente) data.\n",
    "\n",
    "This CSV sheet is in the regular Excel/Windows format and uses gemeenten from 2017. This means that some gemeenten in the dataset will not yet exist in the income data. This will drop 12 rows (4 gemeenten).\n",
    "\n",
    "When interpreting this data, beware of the bias \"insensitivity to sample size\". Small samples have an inherently larger variance, large outliers may be caused by this effect."
   ]
  },
  {
   "cell_type": "code",
   "execution_count": 5,
   "metadata": {},
   "outputs": [],
   "source": [
    "def life_expectancy_data() -> pandas.DataFrame:\n",
    "    \"\"\"Read RIVM life expectancy data, set CBS gemeente (2017!) code as column\"\"\"\n",
    "    with open('data/do1316lvgem_3.csv', 'r', encoding='Windows-1252') as csvfile:\n",
    "        life_expect_data = pandas.read_csv(csvfile, sep=';',  quotechar=\"\\\"\", decimal=\",\")\n",
    "        life_expect_data = life_expect_data.rename(index=str, columns={\n",
    "            'Geslacht': 'gender',\n",
    "            'Bij geboorte': 'expectancy_birth',\n",
    "            'Bij 65 jaar': 'expectancy_aged_65',\n",
    "            'Gemeente': 'gemeente',\n",
    "            'Bij geboorte (afwijking tov NL)': 'expectancy_birth_confidence',\n",
    "            'Bij 65 jaar (afwijking tov NL)': 'expectancy_65_confidence',            \n",
    "        })\n",
    "        # Map values from dutch to english\n",
    "        life_expect_data['gender'] = life_expect_data['gender'].map({\n",
    "            'Mannen': 'male',\n",
    "            'Vrouwen': 'female',\n",
    "            'Totaal': 'total',\n",
    "        })\n",
    "        return life_expect_data.set_index('id')"
   ]
  },
  {
   "cell_type": "code",
   "execution_count": 6,
   "metadata": {},
   "outputs": [],
   "source": [
    "# Join the two tables and drop Not a Number values (drops 4 gemeenten)\n",
    "expectancy_income_population = life_expectancy_data().join(data_for_year(2015)).dropna()\n",
    "def inhabitants_by_geslacht(row) -> int:\n",
    "    if row['gender'] == 'total':\n",
    "        return row['male'] + row['female']\n",
    "    elif row['gender'] == 'male':\n",
    "        return row['male']\n",
    "    elif row['gender'] == 'female':\n",
    "        return row['female']\n",
    "    assert(False)\n",
    "# Now create 'number of inhabitants' column based on Geslacht column\n",
    "expectancy_income_population['population'] = expectancy_income_population.apply(inhabitants_by_geslacht, axis=1)\n",
    "expectancy_income_population = expectancy_income_population.filter(items=[\n",
    "    'gender', 'expectancy_birth', 'expectancy_aged_65',\n",
    "    'population', 'corrected_income', 'gemeente', 'expectancy_65_confidence', 'expectancy_birth_confidence'])"
   ]
  },
  {
   "cell_type": "code",
   "execution_count": 7,
   "metadata": {},
   "outputs": [],
   "source": [
    "expectancy_income_population.to_json('out/life_expectancy_income_population.json', orient='records')"
   ]
  },
  {
   "cell_type": "code",
   "execution_count": 9,
   "metadata": {},
   "outputs": [
    {
     "data": {
      "application/vnd.vegalite.v2+json": {
       "$schema": "https://vega.github.io/schema/vega-lite/v2.4.1.json",
       "config": {
        "view": {
         "height": 300,
         "width": 400
        }
       },
       "data": {
        "values": [
         {
          "corrected_income": 22.3,
          "expectancy_65_confidence": "onder, 99% zeker",
          "expectancy_aged_65": 18.8,
          "expectancy_birth": 79.9,
          "expectancy_birth_confidence": "onder, 99% zeker",
          "gemeente": "Appingedam",
          "gender": "total",
          "population": 12011
         },
         {
          "corrected_income": 22.3,
          "expectancy_65_confidence": "onder, 99% zeker",
          "expectancy_aged_65": 17.4,
          "expectancy_birth": 77.4,
          "expectancy_birth_confidence": "onder, 99% zeker",
          "gemeente": "Appingedam",
          "gender": "male",
          "population": 5807
         },
         {
          "corrected_income": 22.3,
          "expectancy_65_confidence": "onder, 99% zeker",
          "expectancy_aged_65": 19.9,
          "expectancy_birth": 82.4,
          "expectancy_birth_confidence": "geen",
          "gemeente": "Appingedam",
          "gender": "female",
          "population": 6204
         },
         {
          "corrected_income": 24.3,
          "expectancy_65_confidence": "geen",
          "expectancy_aged_65": 20.1,
          "expectancy_birth": 82.4,
          "expectancy_birth_confidence": "boven, 99% zeker",
          "gemeente": "Bedum",
          "gender": "total",
          "population": 10441
         },
         {
          "corrected_income": 24.3,
          "expectancy_65_confidence": "geen",
          "expectancy_aged_65": 18.2,
          "expectancy_birth": 80.4,
          "expectancy_birth_confidence": "geen",
          "gemeente": "Bedum",
          "gender": "male",
          "population": 5223
         },
         {
          "corrected_income": 24.3,
          "expectancy_65_confidence": "boven, 95% zeker",
          "expectancy_aged_65": 21.9,
          "expectancy_birth": 84.4,
          "expectancy_birth_confidence": "boven, 99% zeker",
          "gemeente": "Bedum",
          "gender": "female",
          "population": 5218
         },
         {
          "corrected_income": 22.6,
          "expectancy_65_confidence": "onder, 99% zeker",
          "expectancy_aged_65": 19,
          "expectancy_birth": 79,
          "expectancy_birth_confidence": "onder, 99% zeker",
          "gemeente": "Bellingwedde",
          "gender": "total",
          "population": 9154
         },
         {
          "corrected_income": 22.6,
          "expectancy_65_confidence": "geen",
          "expectancy_aged_65": 18.6,
          "expectancy_birth": 77.8,
          "expectancy_birth_confidence": "onder, 95% zeker",
          "gemeente": "Bellingwedde",
          "gender": "male",
          "population": 4615
         },
         {
          "corrected_income": 22.6,
          "expectancy_65_confidence": "onder, 99% zeker",
          "expectancy_aged_65": 19.4,
          "expectancy_birth": 80.2,
          "expectancy_birth_confidence": "onder, 99% zeker",
          "gemeente": "Bellingwedde",
          "gender": "female",
          "population": 4539
         },
         {
          "corrected_income": 24.7,
          "expectancy_65_confidence": "onder, 99% zeker",
          "expectancy_aged_65": 17.1,
          "expectancy_birth": 78.5,
          "expectancy_birth_confidence": "onder, 99% zeker",
          "gemeente": "Ten Boer",
          "gender": "total",
          "population": 7452
         },
         {
          "corrected_income": 24.7,
          "expectancy_65_confidence": "onder, 99% zeker",
          "expectancy_aged_65": 15.3,
          "expectancy_birth": 75,
          "expectancy_birth_confidence": "onder, 99% zeker",
          "gemeente": "Ten Boer",
          "gender": "male",
          "population": 3699
         },
         {
          "corrected_income": 24.7,
          "expectancy_65_confidence": "onder, 99% zeker",
          "expectancy_aged_65": 19.1,
          "expectancy_birth": 82.4,
          "expectancy_birth_confidence": "geen",
          "gemeente": "Ten Boer",
          "gender": "female",
          "population": 3753
         },
         {
          "corrected_income": 22.4,
          "expectancy_65_confidence": "onder, 99% zeker",
          "expectancy_aged_65": 18.4,
          "expectancy_birth": 79.7,
          "expectancy_birth_confidence": "onder, 99% zeker",
          "gemeente": "Delfzijl",
          "gender": "total",
          "population": 25409
         },
         {
          "corrected_income": 22.4,
          "expectancy_65_confidence": "onder, 99% zeker",
          "expectancy_aged_65": 17.3,
          "expectancy_birth": 77.8,
          "expectancy_birth_confidence": "onder, 99% zeker",
          "gemeente": "Delfzijl",
          "gender": "male",
          "population": 12771
         },
         {
          "corrected_income": 22.4,
          "expectancy_65_confidence": "onder, 99% zeker",
          "expectancy_aged_65": 19.4,
          "expectancy_birth": 81.5,
          "expectancy_birth_confidence": "onder, 99% zeker",
          "gemeente": "Delfzijl",
          "gender": "female",
          "population": 12638
         },
         {
          "corrected_income": 22.6,
          "expectancy_65_confidence": "onder, 99% zeker",
          "expectancy_aged_65": 19.2,
          "expectancy_birth": 80.6,
          "expectancy_birth_confidence": "onder, 99% zeker",
          "gemeente": "Groningen",
          "gender": "total",
          "population": 200336
         },
         {
          "corrected_income": 22.6,
          "expectancy_65_confidence": "onder, 99% zeker",
          "expectancy_aged_65": 17.7,
          "expectancy_birth": 78.7,
          "expectancy_birth_confidence": "onder, 99% zeker",
          "gemeente": "Groningen",
          "gender": "male",
          "population": 99657
         },
         {
          "corrected_income": 22.6,
          "expectancy_65_confidence": "onder, 99% zeker",
          "expectancy_aged_65": 20.4,
          "expectancy_birth": 82.3,
          "expectancy_birth_confidence": "onder, 99% zeker",
          "gemeente": "Groningen",
          "gender": "female",
          "population": 100679
         },
         {
          "corrected_income": 22.9,
          "expectancy_65_confidence": "geen",
          "expectancy_aged_65": 20.3,
          "expectancy_birth": 81.7,
          "expectancy_birth_confidence": "geen",
          "gemeente": "Grootegast",
          "gender": "total",
          "population": 12123
         },
         {
          "corrected_income": 22.9,
          "expectancy_65_confidence": "geen",
          "expectancy_aged_65": 18.1,
          "expectancy_birth": 79.5,
          "expectancy_birth_confidence": "geen",
          "gemeente": "Grootegast",
          "gender": "male",
          "population": 6169
         },
         {
          "corrected_income": 22.9,
          "expectancy_65_confidence": "boven, 99% zeker",
          "expectancy_aged_65": 22.4,
          "expectancy_birth": 83.9,
          "expectancy_birth_confidence": "geen",
          "gemeente": "Grootegast",
          "gender": "female",
          "population": 5954
         },
         {
          "corrected_income": 30.8,
          "expectancy_65_confidence": "geen",
          "expectancy_aged_65": 20.2,
          "expectancy_birth": 81.7,
          "expectancy_birth_confidence": "geen",
          "gemeente": "Haren",
          "gender": "total",
          "population": 18924
         },
         {
          "corrected_income": 30.8,
          "expectancy_65_confidence": "boven, 99% zeker",
          "expectancy_aged_65": 19.7,
          "expectancy_birth": 80.5,
          "expectancy_birth_confidence": "geen",
          "gemeente": "Haren",
          "gender": "male",
          "population": 9006
         },
         {
          "corrected_income": 30.8,
          "expectancy_65_confidence": "onder, 99% zeker",
          "expectancy_aged_65": 20.5,
          "expectancy_birth": 82.8,
          "expectancy_birth_confidence": "geen",
          "gemeente": "Haren",
          "gender": "female",
          "population": 9918
         },
         {
          "corrected_income": 21.8,
          "expectancy_65_confidence": "onder, 99% zeker",
          "expectancy_aged_65": 19.2,
          "expectancy_birth": 79.9,
          "expectancy_birth_confidence": "onder, 99% zeker",
          "gemeente": "Hoogezand-Sappemeer",
          "gender": "total",
          "population": 34334
         },
         {
          "corrected_income": 21.8,
          "expectancy_65_confidence": "onder, 99% zeker",
          "expectancy_aged_65": 17.7,
          "expectancy_birth": 77.8,
          "expectancy_birth_confidence": "onder, 99% zeker",
          "gemeente": "Hoogezand-Sappemeer",
          "gender": "male",
          "population": 16955
         },
         {
          "corrected_income": 21.8,
          "expectancy_65_confidence": "onder, 99% zeker",
          "expectancy_aged_65": 20.6,
          "expectancy_birth": 82,
          "expectancy_birth_confidence": "onder, 99% zeker",
          "gemeente": "Hoogezand-Sappemeer",
          "gender": "female",
          "population": 17379
         },
         {
          "corrected_income": 24,
          "expectancy_65_confidence": "boven, 99% zeker",
          "expectancy_aged_65": 21.2,
          "expectancy_birth": 82.7,
          "expectancy_birth_confidence": "boven, 99% zeker",
          "gemeente": "Leek",
          "gender": "total",
          "population": 19478
         },
         {
          "corrected_income": 24,
          "expectancy_65_confidence": "boven, 99% zeker",
          "expectancy_aged_65": 19.3,
          "expectancy_birth": 80.2,
          "expectancy_birth_confidence": "geen",
          "gemeente": "Leek",
          "gender": "male",
          "population": 9600
         },
         {
          "corrected_income": 24,
          "expectancy_65_confidence": "boven, 99% zeker",
          "expectancy_aged_65": 22.8,
          "expectancy_birth": 85,
          "expectancy_birth_confidence": "boven, 99% zeker",
          "gemeente": "Leek",
          "gender": "female",
          "population": 9878
         },
         {
          "corrected_income": 23.6,
          "expectancy_65_confidence": "geen",
          "expectancy_aged_65": 20.2,
          "expectancy_birth": 81.8,
          "expectancy_birth_confidence": "geen",
          "gemeente": "Loppersum",
          "gender": "total",
          "population": 10140
         },
         {
          "corrected_income": 23.6,
          "expectancy_65_confidence": "boven, 99% zeker",
          "expectancy_aged_65": 19.3,
          "expectancy_birth": 80.2,
          "expectancy_birth_confidence": "geen",
          "gemeente": "Loppersum",
          "gender": "male",
          "population": 5110
         },
         {
          "corrected_income": 23.6,
          "expectancy_65_confidence": "geen",
          "expectancy_aged_65": 20.8,
          "expectancy_birth": 83.2,
          "expectancy_birth_confidence": "geen",
          "gemeente": "Loppersum",
          "gender": "female",
          "population": 5030
         },
         {
          "corrected_income": 24.2,
          "expectancy_65_confidence": "boven, 99% zeker",
          "expectancy_aged_65": 20.9,
          "expectancy_birth": 81.9,
          "expectancy_birth_confidence": "geen",
          "gemeente": "Marum",
          "gender": "total",
          "population": 10311
         },
         {
          "corrected_income": 24.2,
          "expectancy_65_confidence": "geen",
          "expectancy_aged_65": 18.8,
          "expectancy_birth": 80,
          "expectancy_birth_confidence": "geen",
          "gemeente": "Marum",
          "gender": "male",
          "population": 5316
         },
         {
          "corrected_income": 24.2,
          "expectancy_65_confidence": "boven, 99% zeker",
          "expectancy_aged_65": 23,
          "expectancy_birth": 83.7,
          "expectancy_birth_confidence": "geen",
          "gemeente": "Marum",
          "gender": "female",
          "population": 4995
         },
         {
          "corrected_income": 24.8,
          "expectancy_65_confidence": "geen",
          "expectancy_aged_65": 19.8,
          "expectancy_birth": 81.8,
          "expectancy_birth_confidence": "boven, 99% zeker",
          "gemeente": "Almere",
          "gender": "total",
          "population": 196932
         },
         {
          "corrected_income": 24.8,
          "expectancy_65_confidence": "geen",
          "expectancy_aged_65": 18.5,
          "expectancy_birth": 80.3,
          "expectancy_birth_confidence": "boven, 99% zeker",
          "gemeente": "Almere",
          "gender": "male",
          "population": 97666
         },
         {
          "corrected_income": 24.8,
          "expectancy_65_confidence": "geen",
          "expectancy_aged_65": 21.1,
          "expectancy_birth": 83.3,
          "expectancy_birth_confidence": "geen",
          "gemeente": "Almere",
          "gender": "female",
          "population": 99266
         },
         {
          "corrected_income": 21.5,
          "expectancy_65_confidence": "onder, 99% zeker",
          "expectancy_aged_65": 19.1,
          "expectancy_birth": 80.4,
          "expectancy_birth_confidence": "onder, 99% zeker",
          "gemeente": "Stadskanaal",
          "gender": "total",
          "population": 32610
         },
         {
          "corrected_income": 21.5,
          "expectancy_65_confidence": "onder, 99% zeker",
          "expectancy_aged_65": 17.7,
          "expectancy_birth": 78.5,
          "expectancy_birth_confidence": "onder, 99% zeker",
          "gemeente": "Stadskanaal",
          "gender": "male",
          "population": 16182
         },
         {
          "corrected_income": 21.5,
          "expectancy_65_confidence": "onder, 99% zeker",
          "expectancy_aged_65": 20.3,
          "expectancy_birth": 82.3,
          "expectancy_birth_confidence": "onder, 99% zeker",
          "gemeente": "Stadskanaal",
          "gender": "female",
          "population": 16428
         },
         {
          "corrected_income": 25,
          "expectancy_65_confidence": "geen",
          "expectancy_aged_65": 20,
          "expectancy_birth": 81.7,
          "expectancy_birth_confidence": "geen",
          "gemeente": "Slochteren",
          "gender": "total",
          "population": 15583
         },
         {
          "corrected_income": 25,
          "expectancy_65_confidence": "boven, 95% zeker",
          "expectancy_aged_65": 19.1,
          "expectancy_birth": 80.6,
          "expectancy_birth_confidence": "geen",
          "gemeente": "Slochteren",
          "gender": "male",
          "population": 7919
         },
         {
          "corrected_income": 25,
          "expectancy_65_confidence": "geen",
          "expectancy_aged_65": 20.7,
          "expectancy_birth": 82.7,
          "expectancy_birth_confidence": "geen",
          "gemeente": "Slochteren",
          "gender": "female",
          "population": 7664
         },
         {
          "corrected_income": 22.2,
          "expectancy_65_confidence": "onder, 99% zeker",
          "expectancy_aged_65": 18.9,
          "expectancy_birth": 80.1,
          "expectancy_birth_confidence": "onder, 99% zeker",
          "gemeente": "Veendam",
          "gender": "total",
          "population": 27695
         },
         {
          "corrected_income": 22.2,
          "expectancy_65_confidence": "onder, 99% zeker",
          "expectancy_aged_65": 17.4,
          "expectancy_birth": 77.6,
          "expectancy_birth_confidence": "onder, 99% zeker",
          "gemeente": "Veendam",
          "gender": "male",
          "population": 13741
         },
         {
          "corrected_income": 22.2,
          "expectancy_65_confidence": "onder, 99% zeker",
          "expectancy_aged_65": 20.2,
          "expectancy_birth": 82.6,
          "expectancy_birth_confidence": "onder, 95% zeker",
          "gemeente": "Veendam",
          "gender": "female",
          "population": 13954
         },
         {
          "corrected_income": 22,
          "expectancy_65_confidence": "geen",
          "expectancy_aged_65": 20.2,
          "expectancy_birth": 81.1,
          "expectancy_birth_confidence": "geen",
          "gemeente": "Vlagtwedde",
          "gender": "total",
          "population": 16212
         },
         {
          "corrected_income": 22,
          "expectancy_65_confidence": "geen",
          "expectancy_aged_65": 18.3,
          "expectancy_birth": 78.2,
          "expectancy_birth_confidence": "onder, 95% zeker",
          "gemeente": "Vlagtwedde",
          "gender": "male",
          "population": 8104
         },
         {
          "corrected_income": 22,
          "expectancy_65_confidence": "boven, 95% zeker",
          "expectancy_aged_65": 21.8,
          "expectancy_birth": 84,
          "expectancy_birth_confidence": "geen",
          "gemeente": "Vlagtwedde",
          "gender": "female",
          "population": 8108
         },
         {
          "corrected_income": 25.6,
          "expectancy_65_confidence": "boven, 99% zeker",
          "expectancy_aged_65": 23,
          "expectancy_birth": 84.6,
          "expectancy_birth_confidence": "boven, 99% zeker",
          "gemeente": "Zeewolde",
          "gender": "total",
          "population": 21894
         },
         {
          "corrected_income": 25.6,
          "expectancy_65_confidence": "boven, 99% zeker",
          "expectancy_aged_65": 20.3,
          "expectancy_birth": 81.8,
          "expectancy_birth_confidence": "boven, 99% zeker",
          "gemeente": "Zeewolde",
          "gender": "male",
          "population": 11199
         },
         {
          "corrected_income": 25.6,
          "expectancy_65_confidence": "boven, 99% zeker",
          "expectancy_aged_65": 26.1,
          "expectancy_birth": 87.9,
          "expectancy_birth_confidence": "boven, 99% zeker",
          "gemeente": "Zeewolde",
          "gender": "female",
          "population": 10695
         },
         {
          "corrected_income": 24.2,
          "expectancy_65_confidence": "onder, 99% zeker",
          "expectancy_aged_65": 18.5,
          "expectancy_birth": 80,
          "expectancy_birth_confidence": "onder, 99% zeker",
          "gemeente": "Winsum",
          "gender": "total",
          "population": 13774
         },
         {
          "corrected_income": 24.2,
          "expectancy_65_confidence": "onder, 99% zeker",
          "expectancy_aged_65": 17.1,
          "expectancy_birth": 77.4,
          "expectancy_birth_confidence": "onder, 99% zeker",
          "gemeente": "Winsum",
          "gender": "male",
          "population": 6826
         },
         {
          "corrected_income": 24.2,
          "expectancy_65_confidence": "onder, 99% zeker",
          "expectancy_aged_65": 19.9,
          "expectancy_birth": 82.8,
          "expectancy_birth_confidence": "geen",
          "gemeente": "Winsum",
          "gender": "female",
          "population": 6948
         },
         {
          "corrected_income": 25.3,
          "expectancy_65_confidence": "onder, 95% zeker",
          "expectancy_aged_65": 19.6,
          "expectancy_birth": 80.6,
          "expectancy_birth_confidence": "onder, 99% zeker",
          "gemeente": "Zuidhorn",
          "gender": "total",
          "population": 18733
         },
         {
          "corrected_income": 25.3,
          "expectancy_65_confidence": "onder, 95% zeker",
          "expectancy_aged_65": 17.9,
          "expectancy_birth": 79.2,
          "expectancy_birth_confidence": "geen",
          "gemeente": "Zuidhorn",
          "gender": "male",
          "population": 9328
         },
         {
          "corrected_income": 25.3,
          "expectancy_65_confidence": "geen",
          "expectancy_aged_65": 21.1,
          "expectancy_birth": 81.9,
          "expectancy_birth_confidence": "onder, 99% zeker",
          "gemeente": "Zuidhorn",
          "gender": "female",
          "population": 9405
         },
         {
          "corrected_income": 22.1,
          "expectancy_65_confidence": "geen",
          "expectancy_aged_65": 20,
          "expectancy_birth": 81.3,
          "expectancy_birth_confidence": "geen",
          "gemeente": "Dongeradeel",
          "gender": "total",
          "population": 23983
         },
         {
          "corrected_income": 22.1,
          "expectancy_65_confidence": "geen",
          "expectancy_aged_65": 18.3,
          "expectancy_birth": 79.1,
          "expectancy_birth_confidence": "geen",
          "gemeente": "Dongeradeel",
          "gender": "male",
          "population": 12003
         },
         {
          "corrected_income": 22.1,
          "expectancy_65_confidence": "geen",
          "expectancy_aged_65": 21.6,
          "expectancy_birth": 83.5,
          "expectancy_birth_confidence": "geen",
          "gemeente": "Dongeradeel",
          "gender": "female",
          "population": 11980
         },
         {
          "corrected_income": 21.5,
          "expectancy_65_confidence": "onder, 99% zeker",
          "expectancy_aged_65": 19.4,
          "expectancy_birth": 81,
          "expectancy_birth_confidence": "onder, 95% zeker",
          "gemeente": "Achtkarspelen",
          "gender": "total",
          "population": 27983
         },
         {
          "corrected_income": 21.5,
          "expectancy_65_confidence": "onder, 99% zeker",
          "expectancy_aged_65": 17.3,
          "expectancy_birth": 78.9,
          "expectancy_birth_confidence": "onder, 99% zeker",
          "gemeente": "Achtkarspelen",
          "gender": "male",
          "population": 14218
         },
         {
          "corrected_income": 21.5,
          "expectancy_65_confidence": "geen",
          "expectancy_aged_65": 21.3,
          "expectancy_birth": 83.1,
          "expectancy_birth_confidence": "geen",
          "gemeente": "Achtkarspelen",
          "gender": "female",
          "population": 13765
         },
         {
          "corrected_income": 22.7,
          "expectancy_65_confidence": "boven, 99% zeker",
          "expectancy_aged_65": 22.1,
          "expectancy_birth": 83.3,
          "expectancy_birth_confidence": "boven, 95% zeker",
          "gemeente": "Ameland",
          "gender": "total",
          "population": 3590
         },
         {
          "corrected_income": 22.7,
          "expectancy_65_confidence": "geen",
          "expectancy_aged_65": 19.3,
          "expectancy_birth": 78.9,
          "expectancy_birth_confidence": "geen",
          "gemeente": "Ameland",
          "gender": "male",
          "population": 1764
         },
         {
          "corrected_income": 22.7,
          "expectancy_65_confidence": "boven, 99% zeker",
          "expectancy_aged_65": 24.6,
          "expectancy_birth": 88,
          "expectancy_birth_confidence": "boven, 99% zeker",
          "gemeente": "Ameland",
          "gender": "female",
          "population": 1826
         },
         {
          "corrected_income": 21.9,
          "expectancy_65_confidence": "geen",
          "expectancy_aged_65": 19.9,
          "expectancy_birth": 81.9,
          "expectancy_birth_confidence": "geen",
          "gemeente": "het Bildt",
          "gender": "total",
          "population": 10592
         },
         {
          "corrected_income": 21.9,
          "expectancy_65_confidence": "geen",
          "expectancy_aged_65": 18.6,
          "expectancy_birth": 80.7,
          "expectancy_birth_confidence": "geen",
          "gemeente": "het Bildt",
          "gender": "male",
          "population": 5412
         },
         {
          "corrected_income": 21.9,
          "expectancy_65_confidence": "geen",
          "expectancy_aged_65": 21.3,
          "expectancy_birth": 83.2,
          "expectancy_birth_confidence": "geen",
          "gemeente": "het Bildt",
          "gender": "female",
          "population": 5180
         },
         {
          "corrected_income": 22.4,
          "expectancy_65_confidence": "geen",
          "expectancy_aged_65": 20.3,
          "expectancy_birth": 81.4,
          "expectancy_birth_confidence": "geen",
          "gemeente": "Franekeradeel",
          "gender": "total",
          "population": 20328
         },
         {
          "corrected_income": 22.4,
          "expectancy_65_confidence": "geen",
          "expectancy_aged_65": 18.8,
          "expectancy_birth": 79.9,
          "expectancy_birth_confidence": "geen",
          "gemeente": "Franekeradeel",
          "gender": "male",
          "population": 10209
         },
         {
          "corrected_income": 22.4,
          "expectancy_65_confidence": "geen",
          "expectancy_aged_65": 21.6,
          "expectancy_birth": 83,
          "expectancy_birth_confidence": "geen",
          "gemeente": "Franekeradeel",
          "gender": "female",
          "population": 10119
         },
         {
          "corrected_income": 22.2,
          "expectancy_65_confidence": "onder, 99% zeker",
          "expectancy_aged_65": 18.9,
          "expectancy_birth": 79.6,
          "expectancy_birth_confidence": "onder, 99% zeker",
          "gemeente": "Harlingen",
          "gender": "total",
          "population": 15779
         },
         {
          "corrected_income": 22.2,
          "expectancy_65_confidence": "onder, 99% zeker",
          "expectancy_aged_65": 17.6,
          "expectancy_birth": 77.9,
          "expectancy_birth_confidence": "onder, 99% zeker",
          "gemeente": "Harlingen",
          "gender": "male",
          "population": 7928
         },
         {
          "corrected_income": 22.2,
          "expectancy_65_confidence": "onder, 99% zeker",
          "expectancy_aged_65": 20.3,
          "expectancy_birth": 81.4,
          "expectancy_birth_confidence": "onder, 99% zeker",
          "gemeente": "Harlingen",
          "gender": "female",
          "population": 7851
         },
         {
          "corrected_income": 24.1,
          "expectancy_65_confidence": "geen",
          "expectancy_aged_65": 19.8,
          "expectancy_birth": 81.7,
          "expectancy_birth_confidence": "geen",
          "gemeente": "Heerenveen",
          "gender": "total",
          "population": 50141
         },
         {
          "corrected_income": 24.1,
          "expectancy_65_confidence": "onder, 99% zeker",
          "expectancy_aged_65": 18.1,
          "expectancy_birth": 79.6,
          "expectancy_birth_confidence": "geen",
          "gemeente": "Heerenveen",
          "gender": "male",
          "population": 24747
         },
         {
          "corrected_income": 24.1,
          "expectancy_65_confidence": "geen",
          "expectancy_aged_65": 21.3,
          "expectancy_birth": 83.6,
          "expectancy_birth_confidence": "geen",
          "gemeente": "Heerenveen",
          "gender": "female",
          "population": 25394
         },
         {
          "corrected_income": 22.2,
          "expectancy_65_confidence": "onder, 99% zeker",
          "expectancy_aged_65": 19.3,
          "expectancy_birth": 79.6,
          "expectancy_birth_confidence": "onder, 99% zeker",
          "gemeente": "Kollumerland en Nieuwkruisland",
          "gender": "total",
          "population": 12835
         },
         {
          "corrected_income": 22.2,
          "expectancy_65_confidence": "onder, 99% zeker",
          "expectancy_aged_65": 17.3,
          "expectancy_birth": 77.3,
          "expectancy_birth_confidence": "onder, 99% zeker",
          "gemeente": "Kollumerland en Nieuwkruisland",
          "gender": "male",
          "population": 6608
         },
         {
          "corrected_income": 22.2,
          "expectancy_65_confidence": "geen",
          "expectancy_aged_65": 21.5,
          "expectancy_birth": 82.2,
          "expectancy_birth_confidence": "geen",
          "gemeente": "Kollumerland en Nieuwkruisland",
          "gender": "female",
          "population": 6227
         },
         {
          "corrected_income": 22.6,
          "expectancy_65_confidence": "geen",
          "expectancy_aged_65": 19.8,
          "expectancy_birth": 80.6,
          "expectancy_birth_confidence": "onder, 99% zeker",
          "gemeente": "Leeuwarden",
          "gender": "total",
          "population": 107691
         },
         {
          "corrected_income": 22.6,
          "expectancy_65_confidence": "onder, 99% zeker",
          "expectancy_aged_65": 18.1,
          "expectancy_birth": 78.5,
          "expectancy_birth_confidence": "onder, 99% zeker",
          "gemeente": "Leeuwarden",
          "gender": "male",
          "population": 53264
         },
         {
          "corrected_income": 22.6,
          "expectancy_65_confidence": "geen",
          "expectancy_aged_65": 21.3,
          "expectancy_birth": 82.5,
          "expectancy_birth_confidence": "onder, 99% zeker",
          "gemeente": "Leeuwarden",
          "gender": "female",
          "population": 54427
         },
         {
          "corrected_income": 24.1,
          "expectancy_65_confidence": "geen",
          "expectancy_aged_65": 20.3,
          "expectancy_birth": 82.5,
          "expectancy_birth_confidence": "boven, 95% zeker",
          "gemeente": "Leeuwarderadeel",
          "gender": "total",
          "population": 10221
         },
         {
          "corrected_income": 24.1,
          "expectancy_65_confidence": "geen",
          "expectancy_aged_65": 18.6,
          "expectancy_birth": 80,
          "expectancy_birth_confidence": "geen",
          "gemeente": "Leeuwarderadeel",
          "gender": "male",
          "population": 5097
         },
         {
          "corrected_income": 24.1,
          "expectancy_65_confidence": "boven, 95% zeker",
          "expectancy_aged_65": 22,
          "expectancy_birth": 85,
          "expectancy_birth_confidence": "boven, 99% zeker",
          "gemeente": "Leeuwarderadeel",
          "gender": "female",
          "population": 5124
         },
         {
          "corrected_income": 22.9,
          "expectancy_65_confidence": "onder, 99% zeker",
          "expectancy_aged_65": 18.9,
          "expectancy_birth": 80.4,
          "expectancy_birth_confidence": "onder, 99% zeker",
          "gemeente": "Ooststellingwerf",
          "gender": "total",
          "population": 25617
         },
         {
          "corrected_income": 22.9,
          "expectancy_65_confidence": "onder, 99% zeker",
          "expectancy_aged_65": 17,
          "expectancy_birth": 78.1,
          "expectancy_birth_confidence": "onder, 99% zeker",
          "gemeente": "Ooststellingwerf",
          "gender": "male",
          "population": 12799
         },
         {
          "corrected_income": 22.9,
          "expectancy_65_confidence": "onder, 95% zeker",
          "expectancy_aged_65": 20.8,
          "expectancy_birth": 82.8,
          "expectancy_birth_confidence": "geen",
          "gemeente": "Ooststellingwerf",
          "gender": "female",
          "population": 12818
         },
         {
          "corrected_income": 24.2,
          "expectancy_65_confidence": "boven, 99% zeker",
          "expectancy_aged_65": 20.5,
          "expectancy_birth": 81.7,
          "expectancy_birth_confidence": "geen",
          "gemeente": "Opsterland",
          "gender": "total",
          "population": 29859
         },
         {
          "corrected_income": 24.2,
          "expectancy_65_confidence": "geen",
          "expectancy_aged_65": 18.8,
          "expectancy_birth": 79.8,
          "expectancy_birth_confidence": "geen",
          "gemeente": "Opsterland",
          "gender": "male",
          "population": 14948
         },
         {
          "corrected_income": 24.2,
          "expectancy_65_confidence": "boven, 99% zeker",
          "expectancy_aged_65": 22.1,
          "expectancy_birth": 83.6,
          "expectancy_birth_confidence": "geen",
          "gemeente": "Opsterland",
          "gender": "female",
          "population": 14911
         },
         {
          "corrected_income": 23,
          "expectancy_65_confidence": "boven, 99% zeker",
          "expectancy_aged_65": 20.4,
          "expectancy_birth": 81.9,
          "expectancy_birth_confidence": "geen",
          "gemeente": "Smallingerland",
          "gender": "total",
          "population": 55635
         },
         {
          "corrected_income": 23,
          "expectancy_65_confidence": "geen",
          "expectancy_aged_65": 18.4,
          "expectancy_birth": 79.3,
          "expectancy_birth_confidence": "onder, 95% zeker",
          "gemeente": "Smallingerland",
          "gender": "male",
          "population": 27690
         },
         {
          "corrected_income": 23,
          "expectancy_65_confidence": "boven, 99% zeker",
          "expectancy_aged_65": 22.2,
          "expectancy_birth": 84.4,
          "expectancy_birth_confidence": "boven, 99% zeker",
          "gemeente": "Smallingerland",
          "gender": "female",
          "population": 27945
         },
         {
          "corrected_income": 25.9,
          "expectancy_65_confidence": "geen",
          "expectancy_aged_65": 19.8,
          "expectancy_birth": 81.2,
          "expectancy_birth_confidence": "geen",
          "gemeente": "Terschelling",
          "gender": "total",
          "population": 4827
         },
         {
          "corrected_income": 25.9,
          "expectancy_65_confidence": "geen",
          "expectancy_aged_65": 19.2,
          "expectancy_birth": 80.2,
          "expectancy_birth_confidence": "geen",
          "gemeente": "Terschelling",
          "gender": "male",
          "population": 2550
         },
         {
          "corrected_income": 25.9,
          "expectancy_65_confidence": "geen",
          "expectancy_aged_65": 20.6,
          "expectancy_birth": 82.7,
          "expectancy_birth_confidence": "geen",
          "gemeente": "Terschelling",
          "gender": "female",
          "population": 2277
         },
         {
          "corrected_income": 23,
          "expectancy_65_confidence": "onder, 99% zeker",
          "expectancy_aged_65": 19.4,
          "expectancy_birth": 80.8,
          "expectancy_birth_confidence": "onder, 99% zeker",
          "gemeente": "Weststellingwerf",
          "gender": "total",
          "population": 25525
         },
         {
          "corrected_income": 23,
          "expectancy_65_confidence": "onder, 99% zeker",
          "expectancy_aged_65": 17.7,
          "expectancy_birth": 78,
          "expectancy_birth_confidence": "onder, 99% zeker",
          "gemeente": "Weststellingwerf",
          "gender": "male",
          "population": 12768
         },
         {
          "corrected_income": 23,
          "expectancy_65_confidence": "geen",
          "expectancy_aged_65": 21.1,
          "expectancy_birth": 83.7,
          "expectancy_birth_confidence": "geen",
          "gemeente": "Weststellingwerf",
          "gender": "female",
          "population": 12757
         },
         {
          "corrected_income": 23.7,
          "expectancy_65_confidence": "boven, 99% zeker",
          "expectancy_aged_65": 20.2,
          "expectancy_birth": 81.5,
          "expectancy_birth_confidence": "geen",
          "gemeente": "Assen",
          "gender": "total",
          "population": 67165
         },
         {
          "corrected_income": 23.7,
          "expectancy_65_confidence": "boven, 99% zeker",
          "expectancy_aged_65": 18.9,
          "expectancy_birth": 80.1,
          "expectancy_birth_confidence": "geen",
          "gemeente": "Assen",
          "gender": "male",
          "population": 33015
         },
         {
          "corrected_income": 23.7,
          "expectancy_65_confidence": "geen",
          "expectancy_aged_65": 21.4,
          "expectancy_birth": 82.7,
          "expectancy_birth_confidence": "onder, 95% zeker",
          "gemeente": "Assen",
          "gender": "female",
          "population": 34150
         },
         {
          "corrected_income": 24,
          "expectancy_65_confidence": "onder, 99% zeker",
          "expectancy_aged_65": 19.2,
          "expectancy_birth": 80.8,
          "expectancy_birth_confidence": "onder, 99% zeker",
          "gemeente": "Coevorden",
          "gender": "total",
          "population": 35535
         },
         {
          "corrected_income": 24,
          "expectancy_65_confidence": "onder, 99% zeker",
          "expectancy_aged_65": 17.8,
          "expectancy_birth": 79.1,
          "expectancy_birth_confidence": "onder, 95% zeker",
          "gemeente": "Coevorden",
          "gender": "male",
          "population": 17689
         },
         {
          "corrected_income": 24,
          "expectancy_65_confidence": "onder, 99% zeker",
          "expectancy_aged_65": 20.5,
          "expectancy_birth": 82.3,
          "expectancy_birth_confidence": "onder, 99% zeker",
          "gemeente": "Coevorden",
          "gender": "female",
          "population": 17846
         },
         {
          "corrected_income": 22.3,
          "expectancy_65_confidence": "onder, 99% zeker",
          "expectancy_aged_65": 19.4,
          "expectancy_birth": 80.4,
          "expectancy_birth_confidence": "onder, 99% zeker",
          "gemeente": "Emmen",
          "gender": "total",
          "population": 107775
         },
         {
          "corrected_income": 22.3,
          "expectancy_65_confidence": "onder, 99% zeker",
          "expectancy_aged_65": 18,
          "expectancy_birth": 78.7,
          "expectancy_birth_confidence": "onder, 99% zeker",
          "gemeente": "Emmen",
          "gender": "male",
          "population": 53399
         },
         {
          "corrected_income": 22.3,
          "expectancy_65_confidence": "onder, 99% zeker",
          "expectancy_aged_65": 20.5,
          "expectancy_birth": 82,
          "expectancy_birth_confidence": "onder, 99% zeker",
          "gemeente": "Emmen",
          "gender": "female",
          "population": 54376
         },
         {
          "corrected_income": 22.5,
          "expectancy_65_confidence": "boven, 99% zeker",
          "expectancy_aged_65": 20.3,
          "expectancy_birth": 81.6,
          "expectancy_birth_confidence": "geen",
          "gemeente": "Hoogeveen",
          "gender": "total",
          "population": 54860
         },
         {
          "corrected_income": 22.5,
          "expectancy_65_confidence": "geen",
          "expectancy_aged_65": 18.6,
          "expectancy_birth": 79.5,
          "expectancy_birth_confidence": "geen",
          "gemeente": "Hoogeveen",
          "gender": "male",
          "population": 27281
         },
         {
          "corrected_income": 22.5,
          "expectancy_65_confidence": "boven, 99% zeker",
          "expectancy_aged_65": 21.7,
          "expectancy_birth": 83.5,
          "expectancy_birth_confidence": "geen",
          "gemeente": "Hoogeveen",
          "gender": "female",
          "population": 27579
         },
         {
          "corrected_income": 23.9,
          "expectancy_65_confidence": "geen",
          "expectancy_aged_65": 20,
          "expectancy_birth": 81.1,
          "expectancy_birth_confidence": "geen",
          "gemeente": "Meppel",
          "gender": "total",
          "population": 32799
         },
         {
          "corrected_income": 23.9,
          "expectancy_65_confidence": "geen",
          "expectancy_aged_65": 18.6,
          "expectancy_birth": 79.4,
          "expectancy_birth_confidence": "geen",
          "gemeente": "Meppel",
          "gender": "male",
          "population": 16046
         },
         {
          "corrected_income": 23.9,
          "expectancy_65_confidence": "geen",
          "expectancy_aged_65": 21.3,
          "expectancy_birth": 82.6,
          "expectancy_birth_confidence": "geen",
          "gemeente": "Meppel",
          "gender": "female",
          "population": 16753
         },
         {
          "corrected_income": 25.1,
          "expectancy_65_confidence": "geen",
          "expectancy_aged_65": 20.2,
          "expectancy_birth": 82.2,
          "expectancy_birth_confidence": "geen",
          "gemeente": "Littenseradiel",
          "gender": "total",
          "population": 10879
         },
         {
          "corrected_income": 25.1,
          "expectancy_65_confidence": "geen",
          "expectancy_aged_65": 18.6,
          "expectancy_birth": 79.8,
          "expectancy_birth_confidence": "geen",
          "gemeente": "Littenseradiel",
          "gender": "male",
          "population": 5542
         },
         {
          "corrected_income": 25.1,
          "expectancy_65_confidence": "geen",
          "expectancy_aged_65": 21.9,
          "expectancy_birth": 84.8,
          "expectancy_birth_confidence": "boven, 95% zeker",
          "gemeente": "Littenseradiel",
          "gender": "female",
          "population": 5337
         },
         {
          "corrected_income": 22.5,
          "expectancy_65_confidence": "onder, 99% zeker",
          "expectancy_aged_65": 19,
          "expectancy_birth": 79.7,
          "expectancy_birth_confidence": "onder, 99% zeker",
          "gemeente": "Almelo",
          "gender": "total",
          "population": 72291
         },
         {
          "corrected_income": 22.5,
          "expectancy_65_confidence": "onder, 99% zeker",
          "expectancy_aged_65": 17.2,
          "expectancy_birth": 77.7,
          "expectancy_birth_confidence": "onder, 99% zeker",
          "gemeente": "Almelo",
          "gender": "male",
          "population": 35991
         },
         {
          "corrected_income": 22.5,
          "expectancy_65_confidence": "onder, 99% zeker",
          "expectancy_aged_65": 20.5,
          "expectancy_birth": 81.6,
          "expectancy_birth_confidence": "onder, 99% zeker",
          "gemeente": "Almelo",
          "gender": "female",
          "population": 36300
         },
         {
          "corrected_income": 26,
          "expectancy_65_confidence": "geen",
          "expectancy_aged_65": 20,
          "expectancy_birth": 82.3,
          "expectancy_birth_confidence": "boven, 99% zeker",
          "gemeente": "Borne",
          "gender": "total",
          "population": 21992
         },
         {
          "corrected_income": 26,
          "expectancy_65_confidence": "boven, 99% zeker",
          "expectancy_aged_65": 19.1,
          "expectancy_birth": 81.4,
          "expectancy_birth_confidence": "boven, 99% zeker",
          "gemeente": "Borne",
          "gender": "male",
          "population": 10948
         },
         {
          "corrected_income": 26,
          "expectancy_65_confidence": "onder, 95% zeker",
          "expectancy_aged_65": 20.8,
          "expectancy_birth": 83.2,
          "expectancy_birth_confidence": "geen",
          "gemeente": "Borne",
          "gender": "female",
          "population": 11044
         },
         {
          "corrected_income": 25.5,
          "expectancy_65_confidence": "boven, 99% zeker",
          "expectancy_aged_65": 20.8,
          "expectancy_birth": 83.2,
          "expectancy_birth_confidence": "boven, 99% zeker",
          "gemeente": "Dalfsen",
          "gender": "total",
          "population": 27677
         },
         {
          "corrected_income": 25.5,
          "expectancy_65_confidence": "boven, 99% zeker",
          "expectancy_aged_65": 19,
          "expectancy_birth": 81.4,
          "expectancy_birth_confidence": "boven, 99% zeker",
          "gemeente": "Dalfsen",
          "gender": "male",
          "population": 14011
         },
         {
          "corrected_income": 25.5,
          "expectancy_65_confidence": "boven, 99% zeker",
          "expectancy_aged_65": 22.4,
          "expectancy_birth": 84.9,
          "expectancy_birth_confidence": "boven, 99% zeker",
          "gemeente": "Dalfsen",
          "gender": "female",
          "population": 13666
         },
         {
          "corrected_income": 24.1,
          "expectancy_65_confidence": "geen",
          "expectancy_aged_65": 19.9,
          "expectancy_birth": 81.4,
          "expectancy_birth_confidence": "geen",
          "gemeente": "Deventer",
          "gender": "total",
          "population": 98540
         },
         {
          "corrected_income": 24.1,
          "expectancy_65_confidence": "geen",
          "expectancy_aged_65": 18.6,
          "expectancy_birth": 79.9,
          "expectancy_birth_confidence": "geen",
          "gemeente": "Deventer",
          "gender": "male",
          "population": 48688
         },
         {
          "corrected_income": 24.1,
          "expectancy_65_confidence": "onder, 95% zeker",
          "expectancy_aged_65": 21,
          "expectancy_birth": 82.8,
          "expectancy_birth_confidence": "onder, 95% zeker",
          "gemeente": "Deventer",
          "gender": "female",
          "population": 49852
         },
         {
          "corrected_income": 22.2,
          "expectancy_65_confidence": "onder, 99% zeker",
          "expectancy_aged_65": 18.8,
          "expectancy_birth": 80,
          "expectancy_birth_confidence": "onder, 99% zeker",
          "gemeente": "Enschede",
          "gender": "total",
          "population": 158553
         },
         {
          "corrected_income": 22.2,
          "expectancy_65_confidence": "onder, 99% zeker",
          "expectancy_aged_65": 17.4,
          "expectancy_birth": 78.5,
          "expectancy_birth_confidence": "onder, 99% zeker",
          "gemeente": "Enschede",
          "gender": "male",
          "population": 80411
         },
         {
          "corrected_income": 22.2,
          "expectancy_65_confidence": "onder, 99% zeker",
          "expectancy_aged_65": 20,
          "expectancy_birth": 81.5,
          "expectancy_birth_confidence": "onder, 99% zeker",
          "gemeente": "Enschede",
          "gender": "female",
          "population": 78142
         },
         {
          "corrected_income": 24.8,
          "expectancy_65_confidence": "onder, 99% zeker",
          "expectancy_aged_65": 19.6,
          "expectancy_birth": 81,
          "expectancy_birth_confidence": "onder, 95% zeker",
          "gemeente": "Haaksbergen",
          "gender": "total",
          "population": 24307
         },
         {
          "corrected_income": 24.8,
          "expectancy_65_confidence": "onder, 99% zeker",
          "expectancy_aged_65": 17.9,
          "expectancy_birth": 78.8,
          "expectancy_birth_confidence": "onder, 99% zeker",
          "gemeente": "Haaksbergen",
          "gender": "male",
          "population": 12209
         },
         {
          "corrected_income": 24.8,
          "expectancy_65_confidence": "geen",
          "expectancy_aged_65": 21.1,
          "expectancy_birth": 83.2,
          "expectancy_birth_confidence": "geen",
          "gemeente": "Haaksbergen",
          "gender": "female",
          "population": 12098
         },
         {
          "corrected_income": 23.6,
          "expectancy_65_confidence": "onder, 95% zeker",
          "expectancy_aged_65": 19.7,
          "expectancy_birth": 81.4,
          "expectancy_birth_confidence": "geen",
          "gemeente": "Hardenberg",
          "gender": "total",
          "population": 59577
         },
         {
          "corrected_income": 23.6,
          "expectancy_65_confidence": "onder, 99% zeker",
          "expectancy_aged_65": 18,
          "expectancy_birth": 79.4,
          "expectancy_birth_confidence": "onder, 95% zeker",
          "gemeente": "Hardenberg",
          "gender": "male",
          "population": 30117
         },
         {
          "corrected_income": 23.6,
          "expectancy_65_confidence": "geen",
          "expectancy_aged_65": 21.4,
          "expectancy_birth": 83.4,
          "expectancy_birth_confidence": "geen",
          "gemeente": "Hardenberg",
          "gender": "female",
          "population": 29460
         },
         {
          "corrected_income": 24.2,
          "expectancy_65_confidence": "onder, 99% zeker",
          "expectancy_aged_65": 19.5,
          "expectancy_birth": 81,
          "expectancy_birth_confidence": "onder, 95% zeker",
          "gemeente": "Hellendoorn",
          "gender": "total",
          "population": 35622
         },
         {
          "corrected_income": 24.2,
          "expectancy_65_confidence": "onder, 99% zeker",
          "expectancy_aged_65": 17.8,
          "expectancy_birth": 79.1,
          "expectancy_birth_confidence": "geen",
          "gemeente": "Hellendoorn",
          "gender": "male",
          "population": 17789
         },
         {
          "corrected_income": 24.2,
          "expectancy_65_confidence": "geen",
          "expectancy_aged_65": 20.9,
          "expectancy_birth": 82.7,
          "expectancy_birth_confidence": "geen",
          "gemeente": "Hellendoorn",
          "gender": "female",
          "population": 17833
         },
         {
          "corrected_income": 23.7,
          "expectancy_65_confidence": "boven, 95% zeker",
          "expectancy_aged_65": 20.2,
          "expectancy_birth": 81.8,
          "expectancy_birth_confidence": "geen",
          "gemeente": "Hengelo",
          "gender": "total",
          "population": 81059
         },
         {
          "corrected_income": 23.7,
          "expectancy_65_confidence": "boven, 95% zeker",
          "expectancy_aged_65": 18.7,
          "expectancy_birth": 80,
          "expectancy_birth_confidence": "geen",
          "gemeente": "Hengelo",
          "gender": "male",
          "population": 40466
         },
         {
          "corrected_income": 23.7,
          "expectancy_65_confidence": "geen",
          "expectancy_aged_65": 21.5,
          "expectancy_birth": 83.6,
          "expectancy_birth_confidence": "geen",
          "gemeente": "Hengelo",
          "gender": "female",
          "population": 40593
         },
         {
          "corrected_income": 23.3,
          "expectancy_65_confidence": "boven, 99% zeker",
          "expectancy_aged_65": 20.4,
          "expectancy_birth": 82.2,
          "expectancy_birth_confidence": "boven, 99% zeker",
          "gemeente": "Kampen",
          "gender": "total",
          "population": 51432
         },
         {
          "corrected_income": 23.3,
          "expectancy_65_confidence": "geen",
          "expectancy_aged_65": 18.7,
          "expectancy_birth": 80.5,
          "expectancy_birth_confidence": "boven, 99% zeker",
          "gemeente": "Kampen",
          "gender": "male",
          "population": 25569
         },
         {
          "corrected_income": 23.3,
          "expectancy_65_confidence": "boven, 99% zeker",
          "expectancy_aged_65": 21.8,
          "expectancy_birth": 83.8,
          "expectancy_birth_confidence": "geen",
          "gemeente": "Kampen",
          "gender": "female",
          "population": 25863
         },
         {
          "corrected_income": 24,
          "expectancy_65_confidence": "onder, 99% zeker",
          "expectancy_aged_65": 19,
          "expectancy_birth": 80,
          "expectancy_birth_confidence": "onder, 99% zeker",
          "gemeente": "Losser",
          "gender": "total",
          "population": 22467
         },
         {
          "corrected_income": 24,
          "expectancy_65_confidence": "onder, 99% zeker",
          "expectancy_aged_65": 17.8,
          "expectancy_birth": 78.7,
          "expectancy_birth_confidence": "onder, 99% zeker",
          "gemeente": "Losser",
          "gender": "male",
          "population": 11295
         },
         {
          "corrected_income": 24,
          "expectancy_65_confidence": "onder, 99% zeker",
          "expectancy_aged_65": 20,
          "expectancy_birth": 81.3,
          "expectancy_birth_confidence": "onder, 99% zeker",
          "gemeente": "Losser",
          "gender": "female",
          "population": 11172
         },
         {
          "corrected_income": 24.2,
          "expectancy_65_confidence": "geen",
          "expectancy_aged_65": 20,
          "expectancy_birth": 82.1,
          "expectancy_birth_confidence": "boven, 99% zeker",
          "gemeente": "Noordoostpolder",
          "gender": "total",
          "population": 46479
         },
         {
          "corrected_income": 24.2,
          "expectancy_65_confidence": "geen",
          "expectancy_aged_65": 18.3,
          "expectancy_birth": 80.2,
          "expectancy_birth_confidence": "geen",
          "gemeente": "Noordoostpolder",
          "gender": "male",
          "population": 23589
         },
         {
          "corrected_income": 24.2,
          "expectancy_65_confidence": "geen",
          "expectancy_aged_65": 21.5,
          "expectancy_birth": 83.8,
          "expectancy_birth_confidence": "boven, 95% zeker",
          "gemeente": "Noordoostpolder",
          "gender": "female",
          "population": 22890
         },
         {
          "corrected_income": 24.7,
          "expectancy_65_confidence": "geen",
          "expectancy_aged_65": 19.8,
          "expectancy_birth": 81.7,
          "expectancy_birth_confidence": "geen",
          "gemeente": "Oldenzaal",
          "gender": "total",
          "population": 32120
         },
         {
          "corrected_income": 24.7,
          "expectancy_65_confidence": "geen",
          "expectancy_aged_65": 18.5,
          "expectancy_birth": 79.9,
          "expectancy_birth_confidence": "geen",
          "gemeente": "Oldenzaal",
          "gender": "male",
          "population": 15988
         },
         {
          "corrected_income": 24.7,
          "expectancy_65_confidence": "geen",
          "expectancy_aged_65": 21,
          "expectancy_birth": 83.5,
          "expectancy_birth_confidence": "geen",
          "gemeente": "Oldenzaal",
          "gender": "female",
          "population": 16132
         },
         {
          "corrected_income": 25.2,
          "expectancy_65_confidence": "boven, 99% zeker",
          "expectancy_aged_65": 20.7,
          "expectancy_birth": 82.3,
          "expectancy_birth_confidence": "boven, 95% zeker",
          "gemeente": "Ommen",
          "gender": "total",
          "population": 17341
         },
         {
          "corrected_income": 25.2,
          "expectancy_65_confidence": "boven, 99% zeker",
          "expectancy_aged_65": 19.4,
          "expectancy_birth": 81.4,
          "expectancy_birth_confidence": "boven, 99% zeker",
          "gemeente": "Ommen",
          "gender": "male",
          "population": 8748
         },
         {
          "corrected_income": 25.2,
          "expectancy_65_confidence": "boven, 95% zeker",
          "expectancy_aged_65": 21.8,
          "expectancy_birth": 83.1,
          "expectancy_birth_confidence": "geen",
          "gemeente": "Ommen",
          "gender": "female",
          "population": 8593
         },
         {
          "corrected_income": 25.1,
          "expectancy_65_confidence": "boven, 99% zeker",
          "expectancy_aged_65": 20.6,
          "expectancy_birth": 83,
          "expectancy_birth_confidence": "boven, 99% zeker",
          "gemeente": "Raalte",
          "gender": "total",
          "population": 36603
         },
         {
          "corrected_income": 25.1,
          "expectancy_65_confidence": "boven, 99% zeker",
          "expectancy_aged_65": 19.5,
          "expectancy_birth": 81.5,
          "expectancy_birth_confidence": "boven, 99% zeker",
          "gemeente": "Raalte",
          "gender": "male",
          "population": 18363
         },
         {
          "corrected_income": 25.1,
          "expectancy_65_confidence": "boven, 95% zeker",
          "expectancy_aged_65": 21.7,
          "expectancy_birth": 84.6,
          "expectancy_birth_confidence": "boven, 99% zeker",
          "gemeente": "Raalte",
          "gender": "female",
          "population": 18240
         },
         {
          "corrected_income": 24.5,
          "expectancy_65_confidence": "boven, 99% zeker",
          "expectancy_aged_65": 20.8,
          "expectancy_birth": 82.4,
          "expectancy_birth_confidence": "boven, 95% zeker",
          "gemeente": "Staphorst",
          "gender": "total",
          "population": 16421
         },
         {
          "corrected_income": 24.5,
          "expectancy_65_confidence": "geen",
          "expectancy_aged_65": 18.9,
          "expectancy_birth": 80.1,
          "expectancy_birth_confidence": "geen",
          "gemeente": "Staphorst",
          "gender": "male",
          "population": 8414
         },
         {
          "corrected_income": 24.5,
          "expectancy_65_confidence": "boven, 99% zeker",
          "expectancy_aged_65": 22.8,
          "expectancy_birth": 84.9,
          "expectancy_birth_confidence": "boven, 99% zeker",
          "gemeente": "Staphorst",
          "gender": "female",
          "population": 8007
         },
         {
          "corrected_income": 25.5,
          "expectancy_65_confidence": "onder, 99% zeker",
          "expectancy_aged_65": 19.3,
          "expectancy_birth": 81.6,
          "expectancy_birth_confidence": "geen",
          "gemeente": "Tubbergen",
          "gender": "total",
          "population": 21142
         },
         {
          "corrected_income": 25.5,
          "expectancy_65_confidence": "onder, 99% zeker",
          "expectancy_aged_65": 17,
          "expectancy_birth": 79.2,
          "expectancy_birth_confidence": "geen",
          "gemeente": "Tubbergen",
          "gender": "male",
          "population": 10783
         },
         {
          "corrected_income": 25.5,
          "expectancy_65_confidence": "geen",
          "expectancy_aged_65": 21.5,
          "expectancy_birth": 84,
          "expectancy_birth_confidence": "geen",
          "gemeente": "Tubbergen",
          "gender": "female",
          "population": 10359
         },
         {
          "corrected_income": 24,
          "expectancy_65_confidence": "onder, 99% zeker",
          "expectancy_aged_65": 18.5,
          "expectancy_birth": 80.4,
          "expectancy_birth_confidence": "onder, 99% zeker",
          "gemeente": "Urk",
          "gender": "total",
          "population": 19705
         },
         {
          "corrected_income": 24,
          "expectancy_65_confidence": "onder, 99% zeker",
          "expectancy_aged_65": 15.6,
          "expectancy_birth": 77,
          "expectancy_birth_confidence": "onder, 99% zeker",
          "gemeente": "Urk",
          "gender": "male",
          "population": 9971
         },
         {
          "corrected_income": 24,
          "expectancy_65_confidence": "geen",
          "expectancy_aged_65": 21.6,
          "expectancy_birth": 84.1,
          "expectancy_birth_confidence": "geen",
          "gemeente": "Urk",
          "gender": "female",
          "population": 9734
         },
         {
          "corrected_income": 26.4,
          "expectancy_65_confidence": "geen",
          "expectancy_aged_65": 20,
          "expectancy_birth": 82.1,
          "expectancy_birth_confidence": "boven, 95% zeker",
          "gemeente": "Wierden",
          "gender": "total",
          "population": 23874
         },
         {
          "corrected_income": 26.4,
          "expectancy_65_confidence": "geen",
          "expectancy_aged_65": 18.5,
          "expectancy_birth": 80.3,
          "expectancy_birth_confidence": "geen",
          "gemeente": "Wierden",
          "gender": "male",
          "population": 11923
         },
         {
          "corrected_income": 26.4,
          "expectancy_65_confidence": "geen",
          "expectancy_aged_65": 21.4,
          "expectancy_birth": 83.8,
          "expectancy_birth_confidence": "geen",
          "gemeente": "Wierden",
          "gender": "female",
          "population": 11951
         },
         {
          "corrected_income": 24.9,
          "expectancy_65_confidence": "onder, 99% zeker",
          "expectancy_aged_65": 19.7,
          "expectancy_birth": 81.4,
          "expectancy_birth_confidence": "geen",
          "gemeente": "Zwolle",
          "gender": "total",
          "population": 123861
         },
         {
          "corrected_income": 24.9,
          "expectancy_65_confidence": "geen",
          "expectancy_aged_65": 18.5,
          "expectancy_birth": 79.8,
          "expectancy_birth_confidence": "geen",
          "gemeente": "Zwolle",
          "gender": "male",
          "population": 60759
         },
         {
          "corrected_income": 24.9,
          "expectancy_65_confidence": "onder, 99% zeker",
          "expectancy_aged_65": 20.7,
          "expectancy_birth": 83,
          "expectancy_birth_confidence": "geen",
          "gemeente": "Zwolle",
          "gender": "female",
          "population": 63102
         },
         {
          "corrected_income": 23,
          "expectancy_65_confidence": "onder, 99% zeker",
          "expectancy_aged_65": 18.1,
          "expectancy_birth": 80.2,
          "expectancy_birth_confidence": "onder, 99% zeker",
          "gemeente": "Rijnwaarden",
          "gender": "total",
          "population": 10912
         },
         {
          "corrected_income": 23,
          "expectancy_65_confidence": "onder, 99% zeker",
          "expectancy_aged_65": 16.3,
          "expectancy_birth": 78.4,
          "expectancy_birth_confidence": "onder, 99% zeker",
          "gemeente": "Rijnwaarden",
          "gender": "male",
          "population": 5426
         },
         {
          "corrected_income": 23,
          "expectancy_65_confidence": "onder, 99% zeker",
          "expectancy_aged_65": 19.8,
          "expectancy_birth": 82,
          "expectancy_birth_confidence": "onder, 95% zeker",
          "gemeente": "Rijnwaarden",
          "gender": "female",
          "population": 5486
         },
         {
          "corrected_income": 23.8,
          "expectancy_65_confidence": "boven, 99% zeker",
          "expectancy_aged_65": 20.4,
          "expectancy_birth": 82,
          "expectancy_birth_confidence": "boven, 95% zeker",
          "gemeente": "Aalten",
          "gender": "total",
          "population": 26904
         },
         {
          "corrected_income": 23.8,
          "expectancy_65_confidence": "geen",
          "expectancy_aged_65": 18.5,
          "expectancy_birth": 79.9,
          "expectancy_birth_confidence": "geen",
          "gemeente": "Aalten",
          "gender": "male",
          "population": 13471
         },
         {
          "corrected_income": 23.8,
          "expectancy_65_confidence": "boven, 99% zeker",
          "expectancy_aged_65": 22,
          "expectancy_birth": 84.1,
          "expectancy_birth_confidence": "boven, 95% zeker",
          "gemeente": "Aalten",
          "gender": "female",
          "population": 13433
         },
         {
          "corrected_income": 25.4,
          "expectancy_65_confidence": "onder, 99% zeker",
          "expectancy_aged_65": 19.8,
          "expectancy_birth": 81.3,
          "expectancy_birth_confidence": "onder, 99% zeker",
          "gemeente": "Apeldoorn",
          "gender": "total",
          "population": 158099
         },
         {
          "corrected_income": 25.4,
          "expectancy_65_confidence": "geen",
          "expectancy_aged_65": 18.5,
          "expectancy_birth": 79.7,
          "expectancy_birth_confidence": "geen",
          "gemeente": "Apeldoorn",
          "gender": "male",
          "population": 78163
         },
         {
          "corrected_income": 25.4,
          "expectancy_65_confidence": "onder, 99% zeker",
          "expectancy_aged_65": 20.8,
          "expectancy_birth": 82.7,
          "expectancy_birth_confidence": "onder, 99% zeker",
          "gemeente": "Apeldoorn",
          "gender": "female",
          "population": 79936
         },
         {
          "corrected_income": 23.2,
          "expectancy_65_confidence": "onder, 99% zeker",
          "expectancy_aged_65": 18.9,
          "expectancy_birth": 80.1,
          "expectancy_birth_confidence": "onder, 99% zeker",
          "gemeente": "Arnhem",
          "gender": "total",
          "population": 152293
         },
         {
          "corrected_income": 23.2,
          "expectancy_65_confidence": "onder, 99% zeker",
          "expectancy_aged_65": 17.3,
          "expectancy_birth": 78.3,
          "expectancy_birth_confidence": "onder, 99% zeker",
          "gemeente": "Arnhem",
          "gender": "male",
          "population": 75872
         },
         {
          "corrected_income": 23.2,
          "expectancy_65_confidence": "onder, 99% zeker",
          "expectancy_aged_65": 20.2,
          "expectancy_birth": 81.7,
          "expectancy_birth_confidence": "onder, 99% zeker",
          "gemeente": "Arnhem",
          "gender": "female",
          "population": 76421
         },
         {
          "corrected_income": 25.8,
          "expectancy_65_confidence": "geen",
          "expectancy_aged_65": 20,
          "expectancy_birth": 82.1,
          "expectancy_birth_confidence": "boven, 99% zeker",
          "gemeente": "Barneveld",
          "gender": "total",
          "population": 54703
         },
         {
          "corrected_income": 25.8,
          "expectancy_65_confidence": "geen",
          "expectancy_aged_65": 18.6,
          "expectancy_birth": 80.3,
          "expectancy_birth_confidence": "geen",
          "gemeente": "Barneveld",
          "gender": "male",
          "population": 27170
         },
         {
          "corrected_income": 25.8,
          "expectancy_65_confidence": "geen",
          "expectancy_aged_65": 21.3,
          "expectancy_birth": 83.8,
          "expectancy_birth_confidence": "boven, 95% zeker",
          "gemeente": "Barneveld",
          "gender": "female",
          "population": 27533
         },
         {
          "corrected_income": 26.3,
          "expectancy_65_confidence": "boven, 99% zeker",
          "expectancy_aged_65": 20.8,
          "expectancy_birth": 82.3,
          "expectancy_birth_confidence": "boven, 95% zeker",
          "gemeente": "Beuningen",
          "gender": "total",
          "population": 25282
         },
         {
          "corrected_income": 26.3,
          "expectancy_65_confidence": "boven, 99% zeker",
          "expectancy_aged_65": 19.1,
          "expectancy_birth": 80.8,
          "expectancy_birth_confidence": "boven, 95% zeker",
          "gemeente": "Beuningen",
          "gender": "male",
          "population": 12651
         },
         {
          "corrected_income": 26.3,
          "expectancy_65_confidence": "boven, 99% zeker",
          "expectancy_aged_65": 22.4,
          "expectancy_birth": 83.7,
          "expectancy_birth_confidence": "geen",
          "gemeente": "Beuningen",
          "gender": "female",
          "population": 12631
         },
         {
          "corrected_income": 25.9,
          "expectancy_65_confidence": "boven, 99% zeker",
          "expectancy_aged_65": 20.4,
          "expectancy_birth": 82.7,
          "expectancy_birth_confidence": "boven, 99% zeker",
          "gemeente": "Brummen",
          "gender": "total",
          "population": 20983
         },
         {
          "corrected_income": 25.9,
          "expectancy_65_confidence": "boven, 95% zeker",
          "expectancy_aged_65": 18.9,
          "expectancy_birth": 80.9,
          "expectancy_birth_confidence": "boven, 95% zeker",
          "gemeente": "Brummen",
          "gender": "male",
          "population": 10374
         },
         {
          "corrected_income": 25.9,
          "expectancy_65_confidence": "geen",
          "expectancy_aged_65": 21.6,
          "expectancy_birth": 84.4,
          "expectancy_birth_confidence": "boven, 99% zeker",
          "gemeente": "Brummen",
          "gender": "female",
          "population": 10609
         },
         {
          "corrected_income": 27.4,
          "expectancy_65_confidence": "onder, 99% zeker",
          "expectancy_aged_65": 19.3,
          "expectancy_birth": 81.1,
          "expectancy_birth_confidence": "geen",
          "gemeente": "Buren",
          "gender": "total",
          "population": 26117
         },
         {
          "corrected_income": 27.4,
          "expectancy_65_confidence": "onder, 99% zeker",
          "expectancy_aged_65": 17.5,
          "expectancy_birth": 79.4,
          "expectancy_birth_confidence": "geen",
          "gemeente": "Buren",
          "gender": "male",
          "population": 13061
         },
         {
          "corrected_income": 27.4,
          "expectancy_65_confidence": "geen",
          "expectancy_aged_65": 21,
          "expectancy_birth": 82.9,
          "expectancy_birth_confidence": "geen",
          "gemeente": "Buren",
          "gender": "female",
          "population": 13056
         },
         {
          "corrected_income": 25.8,
          "expectancy_65_confidence": "onder, 99% zeker",
          "expectancy_aged_65": 19.5,
          "expectancy_birth": 81.4,
          "expectancy_birth_confidence": "geen",
          "gemeente": "Culemborg",
          "gender": "total",
          "population": 27560
         },
         {
          "corrected_income": 25.8,
          "expectancy_65_confidence": "geen",
          "expectancy_aged_65": 18.4,
          "expectancy_birth": 80.2,
          "expectancy_birth_confidence": "geen",
          "gemeente": "Culemborg",
          "gender": "male",
          "population": 13662
         },
         {
          "corrected_income": 25.8,
          "expectancy_65_confidence": "onder, 99% zeker",
          "expectancy_aged_65": 20.5,
          "expectancy_birth": 82.6,
          "expectancy_birth_confidence": "geen",
          "gemeente": "Culemborg",
          "gender": "female",
          "population": 13898
         },
         {
          "corrected_income": 23.3,
          "expectancy_65_confidence": "geen",
          "expectancy_aged_65": 19.8,
          "expectancy_birth": 80.8,
          "expectancy_birth_confidence": "geen",
          "gemeente": "Doesburg",
          "gender": "total",
          "population": 11355
         },
         {
          "corrected_income": 23.3,
          "expectancy_65_confidence": "geen",
          "expectancy_aged_65": 18.3,
          "expectancy_birth": 79.4,
          "expectancy_birth_confidence": "geen",
          "gemeente": "Doesburg",
          "gender": "male",
          "population": 5543
         },
         {
          "corrected_income": 23.3,
          "expectancy_65_confidence": "geen",
          "expectancy_aged_65": 21.1,
          "expectancy_birth": 82.3,
          "expectancy_birth_confidence": "geen",
          "gemeente": "Doesburg",
          "gender": "female",
          "population": 5812
         },
         {
          "corrected_income": 24.3,
          "expectancy_65_confidence": "geen",
          "expectancy_aged_65": 20,
          "expectancy_birth": 81.5,
          "expectancy_birth_confidence": "geen",
          "gemeente": "Doetinchem",
          "gender": "total",
          "population": 56484
         },
         {
          "corrected_income": 24.3,
          "expectancy_65_confidence": "geen",
          "expectancy_aged_65": 18.7,
          "expectancy_birth": 79.8,
          "expectancy_birth_confidence": "geen",
          "gemeente": "Doetinchem",
          "gender": "male",
          "population": 27910
         },
         {
          "corrected_income": 24.3,
          "expectancy_65_confidence": "geen",
          "expectancy_aged_65": 21,
          "expectancy_birth": 83.1,
          "expectancy_birth_confidence": "geen",
          "gemeente": "Doetinchem",
          "gender": "female",
          "population": 28574
         },
         {
          "corrected_income": 25.1,
          "expectancy_65_confidence": "boven, 99% zeker",
          "expectancy_aged_65": 20.6,
          "expectancy_birth": 82.5,
          "expectancy_birth_confidence": "boven, 99% zeker",
          "gemeente": "Druten",
          "gender": "total",
          "population": 18294
         },
         {
          "corrected_income": 25.1,
          "expectancy_65_confidence": "boven, 95% zeker",
          "expectancy_aged_65": 19.2,
          "expectancy_birth": 81.5,
          "expectancy_birth_confidence": "boven, 99% zeker",
          "gemeente": "Druten",
          "gender": "male",
          "population": 9099
         },
         {
          "corrected_income": 25.1,
          "expectancy_65_confidence": "geen",
          "expectancy_aged_65": 21.7,
          "expectancy_birth": 83.2,
          "expectancy_birth_confidence": "geen",
          "gemeente": "Druten",
          "gender": "female",
          "population": 9195
         },
         {
          "corrected_income": 25.5,
          "expectancy_65_confidence": "boven, 99% zeker",
          "expectancy_aged_65": 20.6,
          "expectancy_birth": 82.7,
          "expectancy_birth_confidence": "boven, 99% zeker",
          "gemeente": "Duiven",
          "gender": "total",
          "population": 25548
         },
         {
          "corrected_income": 25.5,
          "expectancy_65_confidence": "boven, 99% zeker",
          "expectancy_aged_65": 19.6,
          "expectancy_birth": 81.2,
          "expectancy_birth_confidence": "boven, 99% zeker",
          "gemeente": "Duiven",
          "gender": "male",
          "population": 12576
         },
         {
          "corrected_income": 25.5,
          "expectancy_65_confidence": "geen",
          "expectancy_aged_65": 21.4,
          "expectancy_birth": 84,
          "expectancy_birth_confidence": "boven, 95% zeker",
          "gemeente": "Duiven",
          "gender": "female",
          "population": 12972
         },
         {
          "corrected_income": 25.7,
          "expectancy_65_confidence": "boven, 99% zeker",
          "expectancy_aged_65": 20.7,
          "expectancy_birth": 82.4,
          "expectancy_birth_confidence": "boven, 99% zeker",
          "gemeente": "Ede",
          "gender": "total",
          "population": 111575
         },
         {
          "corrected_income": 25.7,
          "expectancy_65_confidence": "boven, 99% zeker",
          "expectancy_aged_65": 19.2,
          "expectancy_birth": 80.5,
          "expectancy_birth_confidence": "boven, 99% zeker",
          "gemeente": "Ede",
          "gender": "male",
          "population": 54790
         },
         {
          "corrected_income": 25.7,
          "expectancy_65_confidence": "boven, 99% zeker",
          "expectancy_aged_65": 22.1,
          "expectancy_birth": 84.2,
          "expectancy_birth_confidence": "boven, 99% zeker",
          "gemeente": "Ede",
          "gender": "female",
          "population": 56785
         },
         {
          "corrected_income": 24.4,
          "expectancy_65_confidence": "boven, 95% zeker",
          "expectancy_aged_65": 20.3,
          "expectancy_birth": 82,
          "expectancy_birth_confidence": "geen",
          "gemeente": "Elburg",
          "gender": "total",
          "population": 22843
         },
         {
          "corrected_income": 24.4,
          "expectancy_65_confidence": "geen",
          "expectancy_aged_65": 18.4,
          "expectancy_birth": 79.4,
          "expectancy_birth_confidence": "geen",
          "gemeente": "Elburg",
          "gender": "male",
          "population": 11317
         },
         {
          "corrected_income": 24.4,
          "expectancy_65_confidence": "boven, 99% zeker",
          "expectancy_aged_65": 22,
          "expectancy_birth": 84.5,
          "expectancy_birth_confidence": "boven, 99% zeker",
          "gemeente": "Elburg",
          "gender": "female",
          "population": 11526
         },
         {
          "corrected_income": 26,
          "expectancy_65_confidence": "boven, 99% zeker",
          "expectancy_aged_65": 20.8,
          "expectancy_birth": 82.5,
          "expectancy_birth_confidence": "boven, 99% zeker",
          "gemeente": "Epe",
          "gender": "total",
          "population": 32214
         },
         {
          "corrected_income": 26,
          "expectancy_65_confidence": "boven, 99% zeker",
          "expectancy_aged_65": 19.1,
          "expectancy_birth": 80.5,
          "expectancy_birth_confidence": "geen",
          "gemeente": "Epe",
          "gender": "male",
          "population": 15919
         },
         {
          "corrected_income": 26,
          "expectancy_65_confidence": "boven, 99% zeker",
          "expectancy_aged_65": 22.4,
          "expectancy_birth": 84.5,
          "expectancy_birth_confidence": "boven, 99% zeker",
          "gemeente": "Epe",
          "gender": "female",
          "population": 16295
         },
         {
          "corrected_income": 26.9,
          "expectancy_65_confidence": "geen",
          "expectancy_aged_65": 20,
          "expectancy_birth": 81.6,
          "expectancy_birth_confidence": "geen",
          "gemeente": "Ermelo",
          "gender": "total",
          "population": 26190
         },
         {
          "corrected_income": 26.9,
          "expectancy_65_confidence": "geen",
          "expectancy_aged_65": 18.7,
          "expectancy_birth": 79.5,
          "expectancy_birth_confidence": "geen",
          "gemeente": "Ermelo",
          "gender": "male",
          "population": 12948
         },
         {
          "corrected_income": 26.9,
          "expectancy_65_confidence": "geen",
          "expectancy_aged_65": 21.3,
          "expectancy_birth": 83.6,
          "expectancy_birth_confidence": "geen",
          "gemeente": "Ermelo",
          "gender": "female",
          "population": 13242
         },
         {
          "corrected_income": 27.7,
          "expectancy_65_confidence": "boven, 99% zeker",
          "expectancy_aged_65": 20.7,
          "expectancy_birth": 82.2,
          "expectancy_birth_confidence": "boven, 95% zeker",
          "gemeente": "Geldermalsen",
          "gender": "total",
          "population": 26323
         },
         {
          "corrected_income": 27.7,
          "expectancy_65_confidence": "geen",
          "expectancy_aged_65": 18.7,
          "expectancy_birth": 79.7,
          "expectancy_birth_confidence": "geen",
          "gemeente": "Geldermalsen",
          "gender": "male",
          "population": 13039
         },
         {
          "corrected_income": 27.7,
          "expectancy_65_confidence": "boven, 99% zeker",
          "expectancy_aged_65": 22.3,
          "expectancy_birth": 84.6,
          "expectancy_birth_confidence": "boven, 99% zeker",
          "gemeente": "Geldermalsen",
          "gender": "female",
          "population": 13284
         },
         {
          "corrected_income": 25.1,
          "expectancy_65_confidence": "geen",
          "expectancy_aged_65": 20,
          "expectancy_birth": 81.8,
          "expectancy_birth_confidence": "geen",
          "gemeente": "Harderwijk",
          "gender": "total",
          "population": 45776
         },
         {
          "corrected_income": 25.1,
          "expectancy_65_confidence": "geen",
          "expectancy_aged_65": 18.3,
          "expectancy_birth": 79.6,
          "expectancy_birth_confidence": "geen",
          "gemeente": "Harderwijk",
          "gender": "male",
          "population": 22555
         },
         {
          "corrected_income": 25.1,
          "expectancy_65_confidence": "geen",
          "expectancy_aged_65": 21.5,
          "expectancy_birth": 83.8,
          "expectancy_birth_confidence": "boven, 95% zeker",
          "gemeente": "Harderwijk",
          "gender": "female",
          "population": 23221
         },
         {
          "corrected_income": 26.6,
          "expectancy_65_confidence": "boven, 99% zeker",
          "expectancy_aged_65": 20.6,
          "expectancy_birth": 82.9,
          "expectancy_birth_confidence": "boven, 99% zeker",
          "gemeente": "Hattem",
          "gender": "total",
          "population": 11821
         },
         {
          "corrected_income": 26.6,
          "expectancy_65_confidence": "geen",
          "expectancy_aged_65": 18.6,
          "expectancy_birth": 80.5,
          "expectancy_birth_confidence": "geen",
          "gemeente": "Hattem",
          "gender": "male",
          "population": 5827
         },
         {
          "corrected_income": 26.6,
          "expectancy_65_confidence": "boven, 99% zeker",
          "expectancy_aged_65": 22.4,
          "expectancy_birth": 85.2,
          "expectancy_birth_confidence": "boven, 99% zeker",
          "gemeente": "Hattem",
          "gender": "female",
          "population": 5994
         },
         {
          "corrected_income": 25.7,
          "expectancy_65_confidence": "onder, 95% zeker",
          "expectancy_aged_65": 19.5,
          "expectancy_birth": 81.6,
          "expectancy_birth_confidence": "geen",
          "gemeente": "Heerde",
          "gender": "total",
          "population": 18512
         },
         {
          "corrected_income": 25.7,
          "expectancy_65_confidence": "onder, 95% zeker",
          "expectancy_aged_65": 18,
          "expectancy_birth": 80,
          "expectancy_birth_confidence": "geen",
          "gemeente": "Heerde",
          "gender": "male",
          "population": 9094
         },
         {
          "corrected_income": 25.7,
          "expectancy_65_confidence": "geen",
          "expectancy_aged_65": 20.9,
          "expectancy_birth": 83.1,
          "expectancy_birth_confidence": "geen",
          "gemeente": "Heerde",
          "gender": "female",
          "population": 9418
         },
         {
          "corrected_income": 28.6,
          "expectancy_65_confidence": "boven, 99% zeker",
          "expectancy_aged_65": 21.2,
          "expectancy_birth": 83.6,
          "expectancy_birth_confidence": "boven, 99% zeker",
          "gemeente": "Heumen",
          "gender": "total",
          "population": 16383
         },
         {
          "corrected_income": 28.6,
          "expectancy_65_confidence": "boven, 95% zeker",
          "expectancy_aged_65": 19,
          "expectancy_birth": 81.4,
          "expectancy_birth_confidence": "boven, 99% zeker",
          "gemeente": "Heumen",
          "gender": "male",
          "population": 8156
         },
         {
          "corrected_income": 28.6,
          "expectancy_65_confidence": "boven, 99% zeker",
          "expectancy_aged_65": 23.2,
          "expectancy_birth": 85.8,
          "expectancy_birth_confidence": "boven, 99% zeker",
          "gemeente": "Heumen",
          "gender": "female",
          "population": 8227
         },
         {
          "corrected_income": 27.9,
          "expectancy_65_confidence": "geen",
          "expectancy_aged_65": 20.1,
          "expectancy_birth": 82.1,
          "expectancy_birth_confidence": "boven, 95% zeker",
          "gemeente": "Lochem",
          "gender": "total",
          "population": 33244
         },
         {
          "corrected_income": 27.9,
          "expectancy_65_confidence": "geen",
          "expectancy_aged_65": 18.5,
          "expectancy_birth": 80,
          "expectancy_birth_confidence": "geen",
          "gemeente": "Lochem",
          "gender": "male",
          "population": 16330
         },
         {
          "corrected_income": 27.9,
          "expectancy_65_confidence": "boven, 95% zeker",
          "expectancy_aged_65": 21.6,
          "expectancy_birth": 84,
          "expectancy_birth_confidence": "boven, 99% zeker",
          "gemeente": "Lochem",
          "gender": "female",
          "population": 16914
         },
         {
          "corrected_income": 26.2,
          "expectancy_65_confidence": "onder, 99% zeker",
          "expectancy_aged_65": 19.3,
          "expectancy_birth": 81.7,
          "expectancy_birth_confidence": "geen",
          "gemeente": "Maasdriel",
          "gender": "total",
          "population": 24185
         },
         {
          "corrected_income": 26.2,
          "expectancy_65_confidence": "onder, 99% zeker",
          "expectancy_aged_65": 17.8,
          "expectancy_birth": 79.4,
          "expectancy_birth_confidence": "geen",
          "gemeente": "Maasdriel",
          "gender": "male",
          "population": 12221
         },
         {
          "corrected_income": 26.2,
          "expectancy_65_confidence": "onder, 99% zeker",
          "expectancy_aged_65": 20.6,
          "expectancy_birth": 84,
          "expectancy_birth_confidence": "boven, 95% zeker",
          "gemeente": "Maasdriel",
          "gender": "female",
          "population": 11964
         },
         {
          "corrected_income": 26.3,
          "expectancy_65_confidence": "boven, 99% zeker",
          "expectancy_aged_65": 20.9,
          "expectancy_birth": 82.9,
          "expectancy_birth_confidence": "boven, 99% zeker",
          "gemeente": "Nijkerk",
          "gender": "total",
          "population": 40870
         },
         {
          "corrected_income": 26.3,
          "expectancy_65_confidence": "boven, 99% zeker",
          "expectancy_aged_65": 19.2,
          "expectancy_birth": 81.2,
          "expectancy_birth_confidence": "boven, 99% zeker",
          "gemeente": "Nijkerk",
          "gender": "male",
          "population": 20365
         },
         {
          "corrected_income": 26.3,
          "expectancy_65_confidence": "boven, 99% zeker",
          "expectancy_aged_65": 22.5,
          "expectancy_birth": 84.5,
          "expectancy_birth_confidence": "boven, 99% zeker",
          "gemeente": "Nijkerk",
          "gender": "female",
          "population": 20505
         },
         {
          "corrected_income": 23.8,
          "expectancy_65_confidence": "onder, 99% zeker",
          "expectancy_aged_65": 19.4,
          "expectancy_birth": 80.8,
          "expectancy_birth_confidence": "onder, 99% zeker",
          "gemeente": "Nijmegen",
          "gender": "total",
          "population": 170681
         },
         {
          "corrected_income": 23.8,
          "expectancy_65_confidence": "onder, 99% zeker",
          "expectancy_aged_65": 17.9,
          "expectancy_birth": 79,
          "expectancy_birth_confidence": "onder, 99% zeker",
          "gemeente": "Nijmegen",
          "gender": "male",
          "population": 81934
         },
         {
          "corrected_income": 23.8,
          "expectancy_65_confidence": "onder, 99% zeker",
          "expectancy_aged_65": 20.6,
          "expectancy_birth": 82.4,
          "expectancy_birth_confidence": "onder, 99% zeker",
          "gemeente": "Nijmegen",
          "gender": "female",
          "population": 88747
         },
         {
          "corrected_income": 24.1,
          "expectancy_65_confidence": "boven, 99% zeker",
          "expectancy_aged_65": 21.3,
          "expectancy_birth": 82.2,
          "expectancy_birth_confidence": "geen",
          "gemeente": "Oldebroek",
          "gender": "total",
          "population": 23001
         },
         {
          "corrected_income": 24.1,
          "expectancy_65_confidence": "boven, 99% zeker",
          "expectancy_aged_65": 19.4,
          "expectancy_birth": 79.6,
          "expectancy_birth_confidence": "geen",
          "gemeente": "Oldebroek",
          "gender": "male",
          "population": 11585
         },
         {
          "corrected_income": 24.1,
          "expectancy_65_confidence": "boven, 99% zeker",
          "expectancy_aged_65": 23,
          "expectancy_birth": 84.8,
          "expectancy_birth_confidence": "boven, 99% zeker",
          "gemeente": "Oldebroek",
          "gender": "female",
          "population": 11416
         },
         {
          "corrected_income": 25.9,
          "expectancy_65_confidence": "boven, 99% zeker",
          "expectancy_aged_65": 20.7,
          "expectancy_birth": 82.9,
          "expectancy_birth_confidence": "boven, 99% zeker",
          "gemeente": "Putten",
          "gender": "total",
          "population": 24377
         },
         {
          "corrected_income": 25.9,
          "expectancy_65_confidence": "boven, 99% zeker",
          "expectancy_aged_65": 19.3,
          "expectancy_birth": 80.9,
          "expectancy_birth_confidence": "boven, 95% zeker",
          "gemeente": "Putten",
          "gender": "male",
          "population": 12134
         },
         {
          "corrected_income": 25.9,
          "expectancy_65_confidence": "boven, 99% zeker",
          "expectancy_aged_65": 22.1,
          "expectancy_birth": 84.9,
          "expectancy_birth_confidence": "boven, 99% zeker",
          "gemeente": "Putten",
          "gender": "female",
          "population": 12243
         },
         {
          "corrected_income": 28.4,
          "expectancy_65_confidence": "boven, 99% zeker",
          "expectancy_aged_65": 20.3,
          "expectancy_birth": 81.4,
          "expectancy_birth_confidence": "geen",
          "gemeente": "Renkum",
          "gender": "total",
          "population": 31408
         },
         {
          "corrected_income": 28.4,
          "expectancy_65_confidence": "boven, 99% zeker",
          "expectancy_aged_65": 19.4,
          "expectancy_birth": 80.1,
          "expectancy_birth_confidence": "geen",
          "gemeente": "Renkum",
          "gender": "male",
          "population": 15230
         },
         {
          "corrected_income": 28.4,
          "expectancy_65_confidence": "geen",
          "expectancy_aged_65": 21.2,
          "expectancy_birth": 82.6,
          "expectancy_birth_confidence": "geen",
          "gemeente": "Renkum",
          "gender": "female",
          "population": 16178
         },
         {
          "corrected_income": 25.2,
          "expectancy_65_confidence": "geen",
          "expectancy_aged_65": 20,
          "expectancy_birth": 81.2,
          "expectancy_birth_confidence": "geen",
          "gemeente": "Rheden",
          "gender": "total",
          "population": 43625
         },
         {
          "corrected_income": 25.2,
          "expectancy_65_confidence": "geen",
          "expectancy_aged_65": 18.7,
          "expectancy_birth": 79.2,
          "expectancy_birth_confidence": "geen",
          "gemeente": "Rheden",
          "gender": "male",
          "population": 21341
         },
         {
          "corrected_income": 25.2,
          "expectancy_65_confidence": "geen",
          "expectancy_aged_65": 21.2,
          "expectancy_birth": 83.1,
          "expectancy_birth_confidence": "geen",
          "gemeente": "Rheden",
          "gender": "female",
          "population": 22284
         },
         {
          "corrected_income": 25.6,
          "expectancy_65_confidence": "geen",
          "expectancy_aged_65": 20.4,
          "expectancy_birth": 83.5,
          "expectancy_birth_confidence": "boven, 99% zeker",
          "gemeente": "Scherpenzeel",
          "gender": "total",
          "population": 9522
         },
         {
          "corrected_income": 25.6,
          "expectancy_65_confidence": "geen",
          "expectancy_aged_65": 18,
          "expectancy_birth": 80.8,
          "expectancy_birth_confidence": "geen",
          "gemeente": "Scherpenzeel",
          "gender": "male",
          "population": 4697
         },
         {
          "corrected_income": 25.6,
          "expectancy_65_confidence": "boven, 99% zeker",
          "expectancy_aged_65": 22.4,
          "expectancy_birth": 85.9,
          "expectancy_birth_confidence": "boven, 99% zeker",
          "gemeente": "Scherpenzeel",
          "gender": "female",
          "population": 4825
         },
         {
          "corrected_income": 24.3,
          "expectancy_65_confidence": "onder, 99% zeker",
          "expectancy_aged_65": 19.2,
          "expectancy_birth": 80.8,
          "expectancy_birth_confidence": "onder, 99% zeker",
          "gemeente": "Tiel",
          "gender": "total",
          "population": 41590
         },
         {
          "corrected_income": 24.3,
          "expectancy_65_confidence": "onder, 95% zeker",
          "expectancy_aged_65": 18.1,
          "expectancy_birth": 79.1,
          "expectancy_birth_confidence": "onder, 95% zeker",
          "gemeente": "Tiel",
          "gender": "male",
          "population": 20692
         },
         {
          "corrected_income": 24.3,
          "expectancy_65_confidence": "onder, 99% zeker",
          "expectancy_aged_65": 20.1,
          "expectancy_birth": 82.4,
          "expectancy_birth_confidence": "onder, 99% zeker",
          "gemeente": "Tiel",
          "gender": "female",
          "population": 20898
         },
         {
          "corrected_income": 26.3,
          "expectancy_65_confidence": "boven, 99% zeker",
          "expectancy_aged_65": 20.7,
          "expectancy_birth": 82.2,
          "expectancy_birth_confidence": "boven, 95% zeker",
          "gemeente": "Voorst",
          "gender": "total",
          "population": 23913
         },
         {
          "corrected_income": 26.3,
          "expectancy_65_confidence": "geen",
          "expectancy_aged_65": 18.8,
          "expectancy_birth": 80.9,
          "expectancy_birth_confidence": "boven, 99% zeker",
          "gemeente": "Voorst",
          "gender": "male",
          "population": 11970
         },
         {
          "corrected_income": 26.3,
          "expectancy_65_confidence": "boven, 99% zeker",
          "expectancy_aged_65": 22.6,
          "expectancy_birth": 83.4,
          "expectancy_birth_confidence": "geen",
          "gemeente": "Voorst",
          "gender": "female",
          "population": 11943
         },
         {
          "corrected_income": 25.3,
          "expectancy_65_confidence": "onder, 99% zeker",
          "expectancy_aged_65": 18.4,
          "expectancy_birth": 79.9,
          "expectancy_birth_confidence": "onder, 99% zeker",
          "gemeente": "Wageningen",
          "gender": "total",
          "population": 37786
         },
         {
          "corrected_income": 25.3,
          "expectancy_65_confidence": "onder, 99% zeker",
          "expectancy_aged_65": 16.8,
          "expectancy_birth": 78.5,
          "expectancy_birth_confidence": "onder, 99% zeker",
          "gemeente": "Wageningen",
          "gender": "male",
          "population": 18199
         },
         {
          "corrected_income": 25.3,
          "expectancy_65_confidence": "onder, 99% zeker",
          "expectancy_aged_65": 19.7,
          "expectancy_birth": 81,
          "expectancy_birth_confidence": "onder, 99% zeker",
          "gemeente": "Wageningen",
          "gender": "female",
          "population": 19587
         },
         {
          "corrected_income": 24.3,
          "expectancy_65_confidence": "onder, 99% zeker",
          "expectancy_aged_65": 18.8,
          "expectancy_birth": 80.7,
          "expectancy_birth_confidence": "onder, 95% zeker",
          "gemeente": "Westervoort",
          "gender": "total",
          "population": 14992
         },
         {
          "corrected_income": 24.3,
          "expectancy_65_confidence": "onder, 99% zeker",
          "expectancy_aged_65": 17.6,
          "expectancy_birth": 78.8,
          "expectancy_birth_confidence": "geen",
          "gemeente": "Westervoort",
          "gender": "male",
          "population": 7338
         },
         {
          "corrected_income": 24.3,
          "expectancy_65_confidence": "onder, 99% zeker",
          "expectancy_aged_65": 20,
          "expectancy_birth": 82.6,
          "expectancy_birth_confidence": "geen",
          "gemeente": "Westervoort",
          "gender": "female",
          "population": 7654
         },
         {
          "corrected_income": 23.5,
          "expectancy_65_confidence": "geen",
          "expectancy_aged_65": 19.8,
          "expectancy_birth": 82.1,
          "expectancy_birth_confidence": "boven, 95% zeker",
          "gemeente": "Winterswijk",
          "gender": "total",
          "population": 28977
         },
         {
          "corrected_income": 23.5,
          "expectancy_65_confidence": "geen",
          "expectancy_aged_65": 18.2,
          "expectancy_birth": 79.9,
          "expectancy_birth_confidence": "geen",
          "gemeente": "Winterswijk",
          "gender": "male",
          "population": 14489
         },
         {
          "corrected_income": 23.5,
          "expectancy_65_confidence": "geen",
          "expectancy_aged_65": 21.2,
          "expectancy_birth": 84.2,
          "expectancy_birth_confidence": "boven, 99% zeker",
          "gemeente": "Winterswijk",
          "gender": "female",
          "population": 14488
         },
         {
          "corrected_income": 25.8,
          "expectancy_65_confidence": "geen",
          "expectancy_aged_65": 19.8,
          "expectancy_birth": 82.3,
          "expectancy_birth_confidence": "boven, 99% zeker",
          "gemeente": "Wijchen",
          "gender": "total",
          "population": 40886
         },
         {
          "corrected_income": 25.8,
          "expectancy_65_confidence": "boven, 99% zeker",
          "expectancy_aged_65": 18.9,
          "expectancy_birth": 80.7,
          "expectancy_birth_confidence": "boven, 99% zeker",
          "gemeente": "Wijchen",
          "gender": "male",
          "population": 20219
         },
         {
          "corrected_income": 25.8,
          "expectancy_65_confidence": "onder, 99% zeker",
          "expectancy_aged_65": 20.6,
          "expectancy_birth": 83.8,
          "expectancy_birth_confidence": "boven, 99% zeker",
          "gemeente": "Wijchen",
          "gender": "female",
          "population": 20667
         },
         {
          "corrected_income": 26.5,
          "expectancy_65_confidence": "boven, 99% zeker",
          "expectancy_aged_65": 20.5,
          "expectancy_birth": 81.4,
          "expectancy_birth_confidence": "geen",
          "gemeente": "Zaltbommel",
          "gender": "total",
          "population": 27358
         },
         {
          "corrected_income": 26.5,
          "expectancy_65_confidence": "boven, 99% zeker",
          "expectancy_aged_65": 19.2,
          "expectancy_birth": 79.4,
          "expectancy_birth_confidence": "geen",
          "gemeente": "Zaltbommel",
          "gender": "male",
          "population": 13723
         },
         {
          "corrected_income": 26.5,
          "expectancy_65_confidence": "geen",
          "expectancy_aged_65": 21.6,
          "expectancy_birth": 83.2,
          "expectancy_birth_confidence": "geen",
          "gemeente": "Zaltbommel",
          "gender": "female",
          "population": 13635
         },
         {
          "corrected_income": 24.2,
          "expectancy_65_confidence": "geen",
          "expectancy_aged_65": 20.1,
          "expectancy_birth": 81.6,
          "expectancy_birth_confidence": "geen",
          "gemeente": "Zevenaar",
          "gender": "total",
          "population": 32265
         },
         {
          "corrected_income": 24.2,
          "expectancy_65_confidence": "onder, 95% zeker",
          "expectancy_aged_65": 18.1,
          "expectancy_birth": 79.4,
          "expectancy_birth_confidence": "geen",
          "gemeente": "Zevenaar",
          "gender": "male",
          "population": 15795
         },
         {
          "corrected_income": 24.2,
          "expectancy_65_confidence": "boven, 99% zeker",
          "expectancy_aged_65": 22.1,
          "expectancy_birth": 83.7,
          "expectancy_birth_confidence": "geen",
          "gemeente": "Zevenaar",
          "gender": "female",
          "population": 16470
         },
         {
          "corrected_income": 23.6,
          "expectancy_65_confidence": "geen",
          "expectancy_aged_65": 19.9,
          "expectancy_birth": 80.8,
          "expectancy_birth_confidence": "onder, 99% zeker",
          "gemeente": "Zutphen",
          "gender": "total",
          "population": 46849
         },
         {
          "corrected_income": 23.6,
          "expectancy_65_confidence": "geen",
          "expectancy_aged_65": 18.6,
          "expectancy_birth": 79.3,
          "expectancy_birth_confidence": "geen",
          "gemeente": "Zutphen",
          "gender": "male",
          "population": 22935
         },
         {
          "corrected_income": 23.6,
          "expectancy_65_confidence": "geen",
          "expectancy_aged_65": 21,
          "expectancy_birth": 82,
          "expectancy_birth_confidence": "onder, 99% zeker",
          "gemeente": "Zutphen",
          "gender": "female",
          "population": 23914
         },
         {
          "corrected_income": 25.2,
          "expectancy_65_confidence": "boven, 95% zeker",
          "expectancy_aged_65": 20.3,
          "expectancy_birth": 82.5,
          "expectancy_birth_confidence": "boven, 99% zeker",
          "gemeente": "Nunspeet",
          "gender": "total",
          "population": 26744
         },
         {
          "corrected_income": 25.2,
          "expectancy_65_confidence": "geen",
          "expectancy_aged_65": 18.5,
          "expectancy_birth": 80.5,
          "expectancy_birth_confidence": "geen",
          "gemeente": "Nunspeet",
          "gender": "male",
          "population": 13193
         },
         {
          "corrected_income": 25.2,
          "expectancy_65_confidence": "boven, 99% zeker",
          "expectancy_aged_65": 22,
          "expectancy_birth": 84.5,
          "expectancy_birth_confidence": "boven, 99% zeker",
          "gemeente": "Nunspeet",
          "gender": "female",
          "population": 13551
         },
         {
          "corrected_income": 25.3,
          "expectancy_65_confidence": "boven, 99% zeker",
          "expectancy_aged_65": 21.8,
          "expectancy_birth": 83.7,
          "expectancy_birth_confidence": "boven, 99% zeker",
          "gemeente": "Dronten",
          "gender": "total",
          "population": 40363
         },
         {
          "corrected_income": 25.3,
          "expectancy_65_confidence": "boven, 99% zeker",
          "expectancy_aged_65": 20.3,
          "expectancy_birth": 81.7,
          "expectancy_birth_confidence": "boven, 99% zeker",
          "gemeente": "Dronten",
          "gender": "male",
          "population": 20416
         },
         {
          "corrected_income": 25.3,
          "expectancy_65_confidence": "boven, 99% zeker",
          "expectancy_aged_65": 23.3,
          "expectancy_birth": 85.8,
          "expectancy_birth_confidence": "boven, 99% zeker",
          "gemeente": "Dronten",
          "gender": "female",
          "population": 19947
         },
         {
          "corrected_income": 28,
          "expectancy_65_confidence": "geen",
          "expectancy_aged_65": 20.3,
          "expectancy_birth": 82.1,
          "expectancy_birth_confidence": "geen",
          "gemeente": "Neerijnen",
          "gender": "total",
          "population": 12038
         },
         {
          "corrected_income": 28,
          "expectancy_65_confidence": "geen",
          "expectancy_aged_65": 18.8,
          "expectancy_birth": 80.2,
          "expectancy_birth_confidence": "geen",
          "gemeente": "Neerijnen",
          "gender": "male",
          "population": 6077
         },
         {
          "corrected_income": 28,
          "expectancy_65_confidence": "geen",
          "expectancy_aged_65": 21.6,
          "expectancy_birth": 84,
          "expectancy_birth_confidence": "geen",
          "gemeente": "Neerijnen",
          "gender": "female",
          "population": 5961
         },
         {
          "corrected_income": 26.9,
          "expectancy_65_confidence": "onder, 99% zeker",
          "expectancy_aged_65": 19.6,
          "expectancy_birth": 81.6,
          "expectancy_birth_confidence": "geen",
          "gemeente": "Amersfoort",
          "gender": "total",
          "population": 152481
         },
         {
          "corrected_income": 26.9,
          "expectancy_65_confidence": "onder, 99% zeker",
          "expectancy_aged_65": 18.1,
          "expectancy_birth": 79.7,
          "expectancy_birth_confidence": "geen",
          "gemeente": "Amersfoort",
          "gender": "male",
          "population": 74967
         },
         {
          "corrected_income": 26.9,
          "expectancy_65_confidence": "onder, 99% zeker",
          "expectancy_aged_65": 20.9,
          "expectancy_birth": 83.2,
          "expectancy_birth_confidence": "geen",
          "gemeente": "Amersfoort",
          "gender": "female",
          "population": 77514
         },
         {
          "corrected_income": 29.2,
          "expectancy_65_confidence": "onder, 99% zeker",
          "expectancy_aged_65": 19.4,
          "expectancy_birth": 80.1,
          "expectancy_birth_confidence": "onder, 99% zeker",
          "gemeente": "Baarn",
          "gender": "total",
          "population": 24406
         },
         {
          "corrected_income": 29.2,
          "expectancy_65_confidence": "onder, 99% zeker",
          "expectancy_aged_65": 17.6,
          "expectancy_birth": 78.2,
          "expectancy_birth_confidence": "onder, 99% zeker",
          "gemeente": "Baarn",
          "gender": "male",
          "population": 11761
         },
         {
          "corrected_income": 29.2,
          "expectancy_65_confidence": "geen",
          "expectancy_aged_65": 20.9,
          "expectancy_birth": 81.8,
          "expectancy_birth_confidence": "onder, 99% zeker",
          "gemeente": "Baarn",
          "gender": "female",
          "population": 12645
         },
         {
          "corrected_income": 31.9,
          "expectancy_65_confidence": "geen",
          "expectancy_aged_65": 19.9,
          "expectancy_birth": 82.7,
          "expectancy_birth_confidence": "boven, 99% zeker",
          "gemeente": "De Bilt",
          "gender": "total",
          "population": 42169
         },
         {
          "corrected_income": 31.9,
          "expectancy_65_confidence": "geen",
          "expectancy_aged_65": 18.6,
          "expectancy_birth": 81.1,
          "expectancy_birth_confidence": "boven, 99% zeker",
          "gemeente": "De Bilt",
          "gender": "male",
          "population": 20102
         },
         {
          "corrected_income": 31.9,
          "expectancy_65_confidence": "geen",
          "expectancy_aged_65": 21.1,
          "expectancy_birth": 84.1,
          "expectancy_birth_confidence": "boven, 99% zeker",
          "gemeente": "De Bilt",
          "gender": "female",
          "population": 22067
         },
         {
          "corrected_income": 30.9,
          "expectancy_65_confidence": "boven, 99% zeker",
          "expectancy_aged_65": 23.5,
          "expectancy_birth": 86.3,
          "expectancy_birth_confidence": "boven, 99% zeker",
          "gemeente": "Bunnik",
          "gender": "total",
          "population": 14662
         },
         {
          "corrected_income": 30.9,
          "expectancy_65_confidence": "boven, 99% zeker",
          "expectancy_aged_65": 21.6,
          "expectancy_birth": 84.6,
          "expectancy_birth_confidence": "boven, 99% zeker",
          "gemeente": "Bunnik",
          "gender": "male",
          "population": 7244
         },
         {
          "corrected_income": 30.9,
          "expectancy_65_confidence": "boven, 99% zeker",
          "expectancy_aged_65": 25,
          "expectancy_birth": 87.7,
          "expectancy_birth_confidence": "boven, 99% zeker",
          "gemeente": "Bunnik",
          "gender": "female",
          "population": 7418
         },
         {
          "corrected_income": 26.1,
          "expectancy_65_confidence": "geen",
          "expectancy_aged_65": 19.6,
          "expectancy_birth": 81.8,
          "expectancy_birth_confidence": "geen",
          "gemeente": "Bunschoten",
          "gender": "total",
          "population": 20647
         },
         {
          "corrected_income": 26.1,
          "expectancy_65_confidence": "onder, 99% zeker",
          "expectancy_aged_65": 17.7,
          "expectancy_birth": 79.9,
          "expectancy_birth_confidence": "geen",
          "gemeente": "Bunschoten",
          "gender": "male",
          "population": 10321
         },
         {
          "corrected_income": 26.1,
          "expectancy_65_confidence": "geen",
          "expectancy_aged_65": 21.5,
          "expectancy_birth": 83.7,
          "expectancy_birth_confidence": "geen",
          "gemeente": "Bunschoten",
          "gender": "female",
          "population": 10326
         },
         {
          "corrected_income": 29,
          "expectancy_65_confidence": "boven, 99% zeker",
          "expectancy_aged_65": 23.8,
          "expectancy_birth": 85.9,
          "expectancy_birth_confidence": "boven, 99% zeker",
          "gemeente": "Eemnes",
          "gender": "total",
          "population": 8807
         },
         {
          "corrected_income": 29,
          "expectancy_65_confidence": "boven, 99% zeker",
          "expectancy_aged_65": 22,
          "expectancy_birth": 84.3,
          "expectancy_birth_confidence": "boven, 99% zeker",
          "gemeente": "Eemnes",
          "gender": "male",
          "population": 4359
         },
         {
          "corrected_income": 29,
          "expectancy_65_confidence": "boven, 99% zeker",
          "expectancy_aged_65": 25.5,
          "expectancy_birth": 87.6,
          "expectancy_birth_confidence": "boven, 99% zeker",
          "gemeente": "Eemnes",
          "gender": "female",
          "population": 4448
         },
         {
          "corrected_income": 29.7,
          "expectancy_65_confidence": "boven, 99% zeker",
          "expectancy_aged_65": 20.4,
          "expectancy_birth": 82.6,
          "expectancy_birth_confidence": "boven, 99% zeker",
          "gemeente": "Houten",
          "gender": "total",
          "population": 48637
         },
         {
          "corrected_income": 29.7,
          "expectancy_65_confidence": "boven, 99% zeker",
          "expectancy_aged_65": 19.5,
          "expectancy_birth": 81.7,
          "expectancy_birth_confidence": "boven, 99% zeker",
          "gemeente": "Houten",
          "gender": "male",
          "population": 23997
         },
         {
          "corrected_income": 29.7,
          "expectancy_65_confidence": "geen",
          "expectancy_aged_65": 21.2,
          "expectancy_birth": 83.3,
          "expectancy_birth_confidence": "geen",
          "gemeente": "Houten",
          "gender": "female",
          "population": 24640
         },
         {
          "corrected_income": 29.4,
          "expectancy_65_confidence": "boven, 99% zeker",
          "expectancy_aged_65": 21.6,
          "expectancy_birth": 83.5,
          "expectancy_birth_confidence": "boven, 99% zeker",
          "gemeente": "Leusden",
          "gender": "total",
          "population": 29062
         },
         {
          "corrected_income": 29.4,
          "expectancy_65_confidence": "boven, 99% zeker",
          "expectancy_aged_65": 20,
          "expectancy_birth": 81.5,
          "expectancy_birth_confidence": "boven, 99% zeker",
          "gemeente": "Leusden",
          "gender": "male",
          "population": 14263
         },
         {
          "corrected_income": 29.4,
          "expectancy_65_confidence": "boven, 99% zeker",
          "expectancy_aged_65": 22.8,
          "expectancy_birth": 85.2,
          "expectancy_birth_confidence": "boven, 99% zeker",
          "gemeente": "Leusden",
          "gender": "female",
          "population": 14799
         },
         {
          "corrected_income": 27.2,
          "expectancy_65_confidence": "boven, 99% zeker",
          "expectancy_aged_65": 21.7,
          "expectancy_birth": 83.9,
          "expectancy_birth_confidence": "boven, 99% zeker",
          "gemeente": "Lopik",
          "gender": "total",
          "population": 14099
         },
         {
          "corrected_income": 27.2,
          "expectancy_65_confidence": "geen",
          "expectancy_aged_65": 19,
          "expectancy_birth": 80.9,
          "expectancy_birth_confidence": "boven, 95% zeker",
          "gemeente": "Lopik",
          "gender": "male",
          "population": 7170
         },
         {
          "corrected_income": 27.2,
          "expectancy_65_confidence": "boven, 99% zeker",
          "expectancy_aged_65": 24.6,
          "expectancy_birth": 87.1,
          "expectancy_birth_confidence": "boven, 99% zeker",
          "gemeente": "Lopik",
          "gender": "female",
          "population": 6929
         },
         {
          "corrected_income": 28.7,
          "expectancy_65_confidence": "boven, 99% zeker",
          "expectancy_aged_65": 22.5,
          "expectancy_birth": 85.6,
          "expectancy_birth_confidence": "boven, 99% zeker",
          "gemeente": "Montfoort",
          "gender": "total",
          "population": 13672
         },
         {
          "corrected_income": 28.7,
          "expectancy_65_confidence": "boven, 99% zeker",
          "expectancy_aged_65": 21.3,
          "expectancy_birth": 84.1,
          "expectancy_birth_confidence": "boven, 99% zeker",
          "gemeente": "Montfoort",
          "gender": "male",
          "population": 6852
         },
         {
          "corrected_income": 28.7,
          "expectancy_65_confidence": "boven, 99% zeker",
          "expectancy_aged_65": 23.5,
          "expectancy_birth": 86.9,
          "expectancy_birth_confidence": "boven, 99% zeker",
          "gemeente": "Montfoort",
          "gender": "female",
          "population": 6820
         },
         {
          "corrected_income": 27,
          "expectancy_65_confidence": "boven, 95% zeker",
          "expectancy_aged_65": 21,
          "expectancy_birth": 83.5,
          "expectancy_birth_confidence": "boven, 99% zeker",
          "gemeente": "Renswoude",
          "gender": "total",
          "population": 4976
         },
         {
          "corrected_income": 27,
          "expectancy_65_confidence": "boven, 99% zeker",
          "expectancy_aged_65": 28,
          "expectancy_birth": 89.1,
          "expectancy_birth_confidence": "boven, 99% zeker",
          "gemeente": "Renswoude",
          "gender": "male",
          "population": 2475
         },
         {
          "corrected_income": 27,
          "expectancy_65_confidence": "geen",
          "expectancy_aged_65": 20.5,
          "expectancy_birth": 83.9,
          "expectancy_birth_confidence": "geen",
          "gemeente": "Renswoude",
          "gender": "female",
          "population": 2501
         },
         {
          "corrected_income": 26.3,
          "expectancy_65_confidence": "boven, 99% zeker",
          "expectancy_aged_65": 21.9,
          "expectancy_birth": 83.6,
          "expectancy_birth_confidence": "boven, 99% zeker",
          "gemeente": "Rhenen",
          "gender": "total",
          "population": 19308
         },
         {
          "corrected_income": 26.3,
          "expectancy_65_confidence": "boven, 99% zeker",
          "expectancy_aged_65": 20.5,
          "expectancy_birth": 81.6,
          "expectancy_birth_confidence": "boven, 99% zeker",
          "gemeente": "Rhenen",
          "gender": "male",
          "population": 9503
         },
         {
          "corrected_income": 26.3,
          "expectancy_65_confidence": "boven, 99% zeker",
          "expectancy_aged_65": 23.2,
          "expectancy_birth": 85.6,
          "expectancy_birth_confidence": "boven, 99% zeker",
          "gemeente": "Rhenen",
          "gender": "female",
          "population": 9805
         },
         {
          "corrected_income": 28.6,
          "expectancy_65_confidence": "boven, 99% zeker",
          "expectancy_aged_65": 20.5,
          "expectancy_birth": 82.4,
          "expectancy_birth_confidence": "boven, 99% zeker",
          "gemeente": "Soest",
          "gender": "total",
          "population": 45454
         },
         {
          "corrected_income": 28.6,
          "expectancy_65_confidence": "boven, 99% zeker",
          "expectancy_aged_65": 19.2,
          "expectancy_birth": 81.1,
          "expectancy_birth_confidence": "boven, 99% zeker",
          "gemeente": "Soest",
          "gender": "male",
          "population": 22190
         },
         {
          "corrected_income": 28.6,
          "expectancy_65_confidence": "boven, 95% zeker",
          "expectancy_aged_65": 21.6,
          "expectancy_birth": 83.6,
          "expectancy_birth_confidence": "geen",
          "gemeente": "Soest",
          "gender": "female",
          "population": 23264
         },
         {
          "corrected_income": 26.3,
          "expectancy_65_confidence": "onder, 99% zeker",
          "expectancy_aged_65": 19.3,
          "expectancy_birth": 80.9,
          "expectancy_birth_confidence": "onder, 99% zeker",
          "gemeente": "Utrecht",
          "gender": "total",
          "population": 334176
         },
         {
          "corrected_income": 26.3,
          "expectancy_65_confidence": "onder, 99% zeker",
          "expectancy_aged_65": 17.8,
          "expectancy_birth": 79.1,
          "expectancy_birth_confidence": "onder, 99% zeker",
          "gemeente": "Utrecht",
          "gender": "male",
          "population": 162556
         },
         {
          "corrected_income": 26.3,
          "expectancy_65_confidence": "onder, 99% zeker",
          "expectancy_aged_65": 20.5,
          "expectancy_birth": 82.4,
          "expectancy_birth_confidence": "onder, 99% zeker",
          "gemeente": "Utrecht",
          "gender": "female",
          "population": 171620
         },
         {
          "corrected_income": 24.8,
          "expectancy_65_confidence": "boven, 99% zeker",
          "expectancy_aged_65": 20.4,
          "expectancy_birth": 82.4,
          "expectancy_birth_confidence": "boven, 99% zeker",
          "gemeente": "Veenendaal",
          "gender": "total",
          "population": 63440
         },
         {
          "corrected_income": 24.8,
          "expectancy_65_confidence": "boven, 95% zeker",
          "expectancy_aged_65": 18.7,
          "expectancy_birth": 80.9,
          "expectancy_birth_confidence": "boven, 99% zeker",
          "gemeente": "Veenendaal",
          "gender": "male",
          "population": 31173
         },
         {
          "corrected_income": 24.8,
          "expectancy_65_confidence": "boven, 99% zeker",
          "expectancy_aged_65": 21.8,
          "expectancy_birth": 83.7,
          "expectancy_birth_confidence": "geen",
          "gemeente": "Veenendaal",
          "gender": "female",
          "population": 32267
         },
         {
          "corrected_income": 27.2,
          "expectancy_65_confidence": "boven, 95% zeker",
          "expectancy_aged_65": 20.6,
          "expectancy_birth": 82,
          "expectancy_birth_confidence": "geen",
          "gemeente": "Woudenberg",
          "gender": "total",
          "population": 12487
         },
         {
          "corrected_income": 27.2,
          "expectancy_65_confidence": "geen",
          "expectancy_aged_65": 18.5,
          "expectancy_birth": 79.8,
          "expectancy_birth_confidence": "geen",
          "gemeente": "Woudenberg",
          "gender": "male",
          "population": 6250
         },
         {
          "corrected_income": 27.2,
          "expectancy_65_confidence": "boven, 99% zeker",
          "expectancy_aged_65": 22.5,
          "expectancy_birth": 84.2,
          "expectancy_birth_confidence": "geen",
          "gemeente": "Woudenberg",
          "gender": "female",
          "population": 6237
         },
         {
          "corrected_income": 27.9,
          "expectancy_65_confidence": "boven, 99% zeker",
          "expectancy_aged_65": 20.5,
          "expectancy_birth": 82.3,
          "expectancy_birth_confidence": "boven, 99% zeker",
          "gemeente": "Wijk bij Duurstede",
          "gender": "total",
          "population": 23222
         },
         {
          "corrected_income": 27.9,
          "expectancy_65_confidence": "boven, 99% zeker",
          "expectancy_aged_65": 19.1,
          "expectancy_birth": 80.6,
          "expectancy_birth_confidence": "geen",
          "gemeente": "Wijk bij Duurstede",
          "gender": "male",
          "population": 11432
         },
         {
          "corrected_income": 27.9,
          "expectancy_65_confidence": "boven, 95% zeker",
          "expectancy_aged_65": 21.9,
          "expectancy_birth": 84,
          "expectancy_birth_confidence": "boven, 95% zeker",
          "gemeente": "Wijk bij Duurstede",
          "gender": "female",
          "population": 11790
         },
         {
          "corrected_income": 27.8,
          "expectancy_65_confidence": "boven, 99% zeker",
          "expectancy_aged_65": 20.7,
          "expectancy_birth": 82.8,
          "expectancy_birth_confidence": "boven, 99% zeker",
          "gemeente": "IJsselstein",
          "gender": "total",
          "population": 34061
         },
         {
          "corrected_income": 27.8,
          "expectancy_65_confidence": "boven, 99% zeker",
          "expectancy_aged_65": 19.4,
          "expectancy_birth": 81.4,
          "expectancy_birth_confidence": "boven, 99% zeker",
          "gemeente": "IJsselstein",
          "gender": "male",
          "population": 16555
         },
         {
          "corrected_income": 27.8,
          "expectancy_65_confidence": "boven, 95% zeker",
          "expectancy_aged_65": 21.7,
          "expectancy_birth": 84,
          "expectancy_birth_confidence": "boven, 95% zeker",
          "gemeente": "IJsselstein",
          "gender": "female",
          "population": 17506
         },
         {
          "corrected_income": 29.5,
          "expectancy_65_confidence": "geen",
          "expectancy_aged_65": 19.8,
          "expectancy_birth": 81.1,
          "expectancy_birth_confidence": "onder, 95% zeker",
          "gemeente": "Zeist",
          "gender": "total",
          "population": 61641
         },
         {
          "corrected_income": 29.5,
          "expectancy_65_confidence": "geen",
          "expectancy_aged_65": 18.6,
          "expectancy_birth": 79.9,
          "expectancy_birth_confidence": "geen",
          "gemeente": "Zeist",
          "gender": "male",
          "population": 29885
         },
         {
          "corrected_income": 29.5,
          "expectancy_65_confidence": "onder, 99% zeker",
          "expectancy_aged_65": 20.7,
          "expectancy_birth": 82,
          "expectancy_birth_confidence": "onder, 99% zeker",
          "gemeente": "Zeist",
          "gender": "female",
          "population": 31756
         },
         {
          "corrected_income": 25.6,
          "expectancy_65_confidence": "boven, 99% zeker",
          "expectancy_aged_65": 20.7,
          "expectancy_birth": 82.2,
          "expectancy_birth_confidence": "boven, 99% zeker",
          "gemeente": "Nieuwegein",
          "gender": "total",
          "population": 61264
         },
         {
          "corrected_income": 25.6,
          "expectancy_65_confidence": "boven, 99% zeker",
          "expectancy_aged_65": 19.3,
          "expectancy_birth": 80.5,
          "expectancy_birth_confidence": "boven, 95% zeker",
          "gemeente": "Nieuwegein",
          "gender": "male",
          "population": 30434
         },
         {
          "corrected_income": 25.6,
          "expectancy_65_confidence": "boven, 99% zeker",
          "expectancy_aged_65": 22,
          "expectancy_birth": 83.8,
          "expectancy_birth_confidence": "boven, 95% zeker",
          "gemeente": "Nieuwegein",
          "gender": "female",
          "population": 30830
         },
         {
          "corrected_income": 29,
          "expectancy_65_confidence": "boven, 99% zeker",
          "expectancy_aged_65": 20.8,
          "expectancy_birth": 83.2,
          "expectancy_birth_confidence": "boven, 99% zeker",
          "gemeente": "Aalsmeer",
          "gender": "total",
          "population": 31077
         },
         {
          "corrected_income": 29,
          "expectancy_65_confidence": "boven, 95% zeker",
          "expectancy_aged_65": 18.9,
          "expectancy_birth": 80.8,
          "expectancy_birth_confidence": "boven, 99% zeker",
          "gemeente": "Aalsmeer",
          "gender": "male",
          "population": 15374
         },
         {
          "corrected_income": 29,
          "expectancy_65_confidence": "boven, 99% zeker",
          "expectancy_aged_65": 22.6,
          "expectancy_birth": 85.7,
          "expectancy_birth_confidence": "boven, 99% zeker",
          "gemeente": "Aalsmeer",
          "gender": "female",
          "population": 15703
         },
         {
          "corrected_income": 24.8,
          "expectancy_65_confidence": "geen",
          "expectancy_aged_65": 19.9,
          "expectancy_birth": 81.7,
          "expectancy_birth_confidence": "geen",
          "gemeente": "Alkmaar",
          "gender": "total",
          "population": 107106
         },
         {
          "corrected_income": 24.8,
          "expectancy_65_confidence": "geen",
          "expectancy_aged_65": 18.5,
          "expectancy_birth": 79.7,
          "expectancy_birth_confidence": "geen",
          "gemeente": "Alkmaar",
          "gender": "male",
          "population": 52973
         },
         {
          "corrected_income": 24.8,
          "expectancy_65_confidence": "geen",
          "expectancy_aged_65": 21.2,
          "expectancy_birth": 83.6,
          "expectancy_birth_confidence": "geen",
          "gemeente": "Alkmaar",
          "gender": "female",
          "population": 54133
         },
         {
          "corrected_income": 29.7,
          "expectancy_65_confidence": "boven, 99% zeker",
          "expectancy_aged_65": 20.5,
          "expectancy_birth": 82.6,
          "expectancy_birth_confidence": "boven, 99% zeker",
          "gemeente": "Amstelveen",
          "gender": "total",
          "population": 87162
         },
         {
          "corrected_income": 29.7,
          "expectancy_65_confidence": "boven, 99% zeker",
          "expectancy_aged_65": 19.1,
          "expectancy_birth": 80.8,
          "expectancy_birth_confidence": "boven, 99% zeker",
          "gemeente": "Amstelveen",
          "gender": "male",
          "population": 41577
         },
         {
          "corrected_income": 29.7,
          "expectancy_65_confidence": "boven, 99% zeker",
          "expectancy_aged_65": 21.6,
          "expectancy_birth": 84.2,
          "expectancy_birth_confidence": "boven, 99% zeker",
          "gemeente": "Amstelveen",
          "gender": "female",
          "population": 45585
         },
         {
          "corrected_income": 25.3,
          "expectancy_65_confidence": "onder, 99% zeker",
          "expectancy_aged_65": 19.1,
          "expectancy_birth": 80.5,
          "expectancy_birth_confidence": "onder, 99% zeker",
          "gemeente": "Amsterdam",
          "gender": "total",
          "population": 821752
         },
         {
          "corrected_income": 25.3,
          "expectancy_65_confidence": "onder, 99% zeker",
          "expectancy_aged_65": 17.7,
          "expectancy_birth": 78.5,
          "expectancy_birth_confidence": "onder, 99% zeker",
          "gemeente": "Amsterdam",
          "gender": "male",
          "population": 404881
         },
         {
          "corrected_income": 25.3,
          "expectancy_65_confidence": "onder, 99% zeker",
          "expectancy_aged_65": 20.3,
          "expectancy_birth": 82.3,
          "expectancy_birth_confidence": "onder, 99% zeker",
          "gemeente": "Amsterdam",
          "gender": "female",
          "population": 416871
         },
         {
          "corrected_income": 29.4,
          "expectancy_65_confidence": "boven, 99% zeker",
          "expectancy_aged_65": 22.1,
          "expectancy_birth": 84.7,
          "expectancy_birth_confidence": "boven, 99% zeker",
          "gemeente": "Beemster",
          "gender": "total",
          "population": 8903
         },
         {
          "corrected_income": 29.4,
          "expectancy_65_confidence": "boven, 99% zeker",
          "expectancy_aged_65": 20.8,
          "expectancy_birth": 83.1,
          "expectancy_birth_confidence": "boven, 99% zeker",
          "gemeente": "Beemster",
          "gender": "male",
          "population": 4449
         },
         {
          "corrected_income": 29.4,
          "expectancy_65_confidence": "boven, 99% zeker",
          "expectancy_aged_65": 23.1,
          "expectancy_birth": 86.1,
          "expectancy_birth_confidence": "boven, 99% zeker",
          "gemeente": "Beemster",
          "gender": "female",
          "population": 4454
         },
         {
          "corrected_income": 29.9,
          "expectancy_65_confidence": "boven, 95% zeker",
          "expectancy_aged_65": 20.2,
          "expectancy_birth": 81.9,
          "expectancy_birth_confidence": "geen",
          "gemeente": "Bergen (NH.)",
          "gender": "total",
          "population": 30005
         },
         {
          "corrected_income": 29.9,
          "expectancy_65_confidence": "boven, 99% zeker",
          "expectancy_aged_65": 19.3,
          "expectancy_birth": 80.4,
          "expectancy_birth_confidence": "geen",
          "gemeente": "Bergen (NH.)",
          "gender": "male",
          "population": 14494
         },
         {
          "corrected_income": 29.9,
          "expectancy_65_confidence": "geen",
          "expectancy_aged_65": 21,
          "expectancy_birth": 83.3,
          "expectancy_birth_confidence": "geen",
          "gemeente": "Bergen (NH.)",
          "gender": "female",
          "population": 15511
         },
         {
          "corrected_income": 24.1,
          "expectancy_65_confidence": "geen",
          "expectancy_aged_65": 20,
          "expectancy_birth": 81.1,
          "expectancy_birth_confidence": "geen",
          "gemeente": "Beverwijk",
          "gender": "total",
          "population": 40182
         },
         {
          "corrected_income": 24.1,
          "expectancy_65_confidence": "geen",
          "expectancy_aged_65": 18.2,
          "expectancy_birth": 79.1,
          "expectancy_birth_confidence": "onder, 95% zeker",
          "gemeente": "Beverwijk",
          "gender": "male",
          "population": 19920
         },
         {
          "corrected_income": 24.1,
          "expectancy_65_confidence": "geen",
          "expectancy_aged_65": 21.5,
          "expectancy_birth": 83,
          "expectancy_birth_confidence": "geen",
          "gemeente": "Beverwijk",
          "gender": "female",
          "population": 20262
         },
         {
          "corrected_income": 39,
          "expectancy_65_confidence": "boven, 99% zeker",
          "expectancy_aged_65": 21.5,
          "expectancy_birth": 82.8,
          "expectancy_birth_confidence": "boven, 95% zeker",
          "gemeente": "Blaricum",
          "gender": "total",
          "population": 9312
         },
         {
          "corrected_income": 39,
          "expectancy_65_confidence": "boven, 99% zeker",
          "expectancy_aged_65": 20.1,
          "expectancy_birth": 81.1,
          "expectancy_birth_confidence": "geen",
          "gemeente": "Blaricum",
          "gender": "male",
          "population": 4489
         },
         {
          "corrected_income": 39,
          "expectancy_65_confidence": "boven, 99% zeker",
          "expectancy_aged_65": 22.9,
          "expectancy_birth": 84.5,
          "expectancy_birth_confidence": "boven, 95% zeker",
          "gemeente": "Blaricum",
          "gender": "female",
          "population": 4823
         },
         {
          "corrected_income": 41.8,
          "expectancy_65_confidence": "boven, 99% zeker",
          "expectancy_aged_65": 20.7,
          "expectancy_birth": 82.8,
          "expectancy_birth_confidence": "boven, 99% zeker",
          "gemeente": "Bloemendaal",
          "gender": "total",
          "population": 22256
         },
         {
          "corrected_income": 41.8,
          "expectancy_65_confidence": "boven, 99% zeker",
          "expectancy_aged_65": 19.5,
          "expectancy_birth": 80.4,
          "expectancy_birth_confidence": "geen",
          "gemeente": "Bloemendaal",
          "gender": "male",
          "population": 10598
         },
         {
          "corrected_income": 41.8,
          "expectancy_65_confidence": "boven, 95% zeker",
          "expectancy_aged_65": 21.7,
          "expectancy_birth": 84.9,
          "expectancy_birth_confidence": "boven, 99% zeker",
          "gemeente": "Bloemendaal",
          "gender": "female",
          "population": 11658
         },
         {
          "corrected_income": 29.5,
          "expectancy_65_confidence": "boven, 99% zeker",
          "expectancy_aged_65": 21,
          "expectancy_birth": 83.3,
          "expectancy_birth_confidence": "boven, 99% zeker",
          "gemeente": "Castricum",
          "gender": "total",
          "population": 34361
         },
         {
          "corrected_income": 29.5,
          "expectancy_65_confidence": "boven, 99% zeker",
          "expectancy_aged_65": 19.8,
          "expectancy_birth": 81.9,
          "expectancy_birth_confidence": "boven, 99% zeker",
          "gemeente": "Castricum",
          "gender": "male",
          "population": 16841
         },
         {
          "corrected_income": 29.5,
          "expectancy_65_confidence": "boven, 99% zeker",
          "expectancy_aged_65": 22.1,
          "expectancy_birth": 84.7,
          "expectancy_birth_confidence": "boven, 99% zeker",
          "gemeente": "Castricum",
          "gender": "female",
          "population": 17520
         },
         {
          "corrected_income": 26.2,
          "expectancy_65_confidence": "boven, 95% zeker",
          "expectancy_aged_65": 20.4,
          "expectancy_birth": 82.7,
          "expectancy_birth_confidence": "boven, 99% zeker",
          "gemeente": "Diemen",
          "gender": "total",
          "population": 26666
         },
         {
          "corrected_income": 26.2,
          "expectancy_65_confidence": "boven, 99% zeker",
          "expectancy_aged_65": 19.3,
          "expectancy_birth": 81.5,
          "expectancy_birth_confidence": "boven, 99% zeker",
          "gemeente": "Diemen",
          "gender": "male",
          "population": 13060
         },
         {
          "corrected_income": 26.2,
          "expectancy_65_confidence": "geen",
          "expectancy_aged_65": 21.4,
          "expectancy_birth": 83.7,
          "expectancy_birth_confidence": "geen",
          "gemeente": "Diemen",
          "gender": "female",
          "population": 13606
         },
         {
          "corrected_income": 27.6,
          "expectancy_65_confidence": "geen",
          "expectancy_aged_65": 20.1,
          "expectancy_birth": 82.3,
          "expectancy_birth_confidence": "boven, 99% zeker",
          "gemeente": "Edam-Volendam",
          "gender": "total",
          "population": 29087
         },
         {
          "corrected_income": 27.6,
          "expectancy_65_confidence": "boven, 99% zeker",
          "expectancy_aged_65": 19,
          "expectancy_birth": 80.9,
          "expectancy_birth_confidence": "boven, 99% zeker",
          "gemeente": "Edam-Volendam",
          "gender": "male",
          "population": 14535
         },
         {
          "corrected_income": 27.6,
          "expectancy_65_confidence": "geen",
          "expectancy_aged_65": 21.3,
          "expectancy_birth": 83.8,
          "expectancy_birth_confidence": "geen",
          "gemeente": "Edam-Volendam",
          "gender": "female",
          "population": 14552
         },
         {
          "corrected_income": 24.1,
          "expectancy_65_confidence": "onder, 99% zeker",
          "expectancy_aged_65": 19.3,
          "expectancy_birth": 80.5,
          "expectancy_birth_confidence": "onder, 99% zeker",
          "gemeente": "Enkhuizen",
          "gender": "total",
          "population": 18345
         },
         {
          "corrected_income": 24.1,
          "expectancy_65_confidence": "geen",
          "expectancy_aged_65": 18.1,
          "expectancy_birth": 78.7,
          "expectancy_birth_confidence": "onder, 95% zeker",
          "gemeente": "Enkhuizen",
          "gender": "male",
          "population": 9228
         },
         {
          "corrected_income": 24.1,
          "expectancy_65_confidence": "onder, 99% zeker",
          "expectancy_aged_65": 20.6,
          "expectancy_birth": 82.4,
          "expectancy_birth_confidence": "geen",
          "gemeente": "Enkhuizen",
          "gender": "female",
          "population": 9117
         },
         {
          "corrected_income": 26.1,
          "expectancy_65_confidence": "onder, 99% zeker",
          "expectancy_aged_65": 19,
          "expectancy_birth": 80.6,
          "expectancy_birth_confidence": "onder, 99% zeker",
          "gemeente": "Haarlem",
          "gender": "total",
          "population": 156645
         },
         {
          "corrected_income": 26.1,
          "expectancy_65_confidence": "onder, 99% zeker",
          "expectancy_aged_65": 17.5,
          "expectancy_birth": 78.8,
          "expectancy_birth_confidence": "onder, 99% zeker",
          "gemeente": "Haarlem",
          "gender": "male",
          "population": 76481
         },
         {
          "corrected_income": 26.1,
          "expectancy_65_confidence": "onder, 99% zeker",
          "expectancy_aged_65": 20.2,
          "expectancy_birth": 82.3,
          "expectancy_birth_confidence": "onder, 99% zeker",
          "gemeente": "Haarlem",
          "gender": "female",
          "population": 80164
         },
         {
          "corrected_income": 28.6,
          "expectancy_65_confidence": "boven, 99% zeker",
          "expectancy_aged_65": 22.7,
          "expectancy_birth": 85.5,
          "expectancy_birth_confidence": "boven, 99% zeker",
          "gemeente": "Haarlemmerliede en Spaarnwoude",
          "gender": "total",
          "population": 5574
         },
         {
          "corrected_income": 28.6,
          "expectancy_65_confidence": "boven, 95% zeker",
          "expectancy_aged_65": 19.7,
          "expectancy_birth": 82.3,
          "expectancy_birth_confidence": "boven, 99% zeker",
          "gemeente": "Haarlemmerliede en Spaarnwoude",
          "gender": "male",
          "population": 2744
         },
         {
          "corrected_income": 28.6,
          "expectancy_65_confidence": "boven, 99% zeker",
          "expectancy_aged_65": 25.8,
          "expectancy_birth": 88.9,
          "expectancy_birth_confidence": "boven, 99% zeker",
          "gemeente": "Haarlemmerliede en Spaarnwoude",
          "gender": "female",
          "population": 2830
         },
         {
          "corrected_income": 28,
          "expectancy_65_confidence": "boven, 99% zeker",
          "expectancy_aged_65": 20.4,
          "expectancy_birth": 82.7,
          "expectancy_birth_confidence": "boven, 99% zeker",
          "gemeente": "Haarlemmermeer",
          "gender": "total",
          "population": 144152
         },
         {
          "corrected_income": 28,
          "expectancy_65_confidence": "boven, 99% zeker",
          "expectancy_aged_65": 19.1,
          "expectancy_birth": 81.1,
          "expectancy_birth_confidence": "boven, 99% zeker",
          "gemeente": "Haarlemmermeer",
          "gender": "male",
          "population": 71642
         },
         {
          "corrected_income": 28,
          "expectancy_65_confidence": "boven, 99% zeker",
          "expectancy_aged_65": 21.6,
          "expectancy_birth": 84.1,
          "expectancy_birth_confidence": "boven, 99% zeker",
          "gemeente": "Haarlemmermeer",
          "gender": "female",
          "population": 72510
         },
         {
          "corrected_income": 25.8,
          "expectancy_65_confidence": "onder, 99% zeker",
          "expectancy_aged_65": 19.5,
          "expectancy_birth": 81.6,
          "expectancy_birth_confidence": "geen",
          "gemeente": "Heemskerk",
          "gender": "total",
          "population": 39138
         },
         {
          "corrected_income": 25.8,
          "expectancy_65_confidence": "onder, 95% zeker",
          "expectancy_aged_65": 18.1,
          "expectancy_birth": 79.8,
          "expectancy_birth_confidence": "geen",
          "gemeente": "Heemskerk",
          "gender": "male",
          "population": 19210
         },
         {
          "corrected_income": 25.8,
          "expectancy_65_confidence": "onder, 95% zeker",
          "expectancy_aged_65": 20.9,
          "expectancy_birth": 83.2,
          "expectancy_birth_confidence": "geen",
          "gemeente": "Heemskerk",
          "gender": "female",
          "population": 19928
         },
         {
          "corrected_income": 35.3,
          "expectancy_65_confidence": "boven, 99% zeker",
          "expectancy_aged_65": 20.9,
          "expectancy_birth": 82.5,
          "expectancy_birth_confidence": "boven, 99% zeker",
          "gemeente": "Heemstede",
          "gender": "total",
          "population": 26480
         },
         {
          "corrected_income": 35.3,
          "expectancy_65_confidence": "boven, 99% zeker",
          "expectancy_aged_65": 19.4,
          "expectancy_birth": 80.8,
          "expectancy_birth_confidence": "boven, 99% zeker",
          "gemeente": "Heemstede",
          "gender": "male",
          "population": 12383
         },
         {
          "corrected_income": 35.3,
          "expectancy_65_confidence": "boven, 99% zeker",
          "expectancy_aged_65": 22.1,
          "expectancy_birth": 83.9,
          "expectancy_birth_confidence": "geen",
          "gemeente": "Heemstede",
          "gender": "female",
          "population": 14097
         },
         {
          "corrected_income": 24.9,
          "expectancy_65_confidence": "geen",
          "expectancy_aged_65": 20,
          "expectancy_birth": 82.1,
          "expectancy_birth_confidence": "boven, 99% zeker",
          "gemeente": "Heerhugowaard",
          "gender": "total",
          "population": 53554
         },
         {
          "corrected_income": 24.9,
          "expectancy_65_confidence": "boven, 99% zeker",
          "expectancy_aged_65": 19.1,
          "expectancy_birth": 81,
          "expectancy_birth_confidence": "boven, 99% zeker",
          "gemeente": "Heerhugowaard",
          "gender": "male",
          "population": 26953
         },
         {
          "corrected_income": 24.9,
          "expectancy_65_confidence": "geen",
          "expectancy_aged_65": 21,
          "expectancy_birth": 83.1,
          "expectancy_birth_confidence": "geen",
          "gemeente": "Heerhugowaard",
          "gender": "female",
          "population": 26601
         },
         {
          "corrected_income": 29.5,
          "expectancy_65_confidence": "boven, 99% zeker",
          "expectancy_aged_65": 22.4,
          "expectancy_birth": 84.2,
          "expectancy_birth_confidence": "boven, 99% zeker",
          "gemeente": "Heiloo",
          "gender": "total",
          "population": 22553
         },
         {
          "corrected_income": 29.5,
          "expectancy_65_confidence": "boven, 99% zeker",
          "expectancy_aged_65": 20.6,
          "expectancy_birth": 82.2,
          "expectancy_birth_confidence": "boven, 99% zeker",
          "gemeente": "Heiloo",
          "gender": "male",
          "population": 11134
         },
         {
          "corrected_income": 29.5,
          "expectancy_65_confidence": "boven, 99% zeker",
          "expectancy_aged_65": 24,
          "expectancy_birth": 86.1,
          "expectancy_birth_confidence": "boven, 99% zeker",
          "gemeente": "Heiloo",
          "gender": "female",
          "population": 11419
         },
         {
          "corrected_income": 23.1,
          "expectancy_65_confidence": "geen",
          "expectancy_aged_65": 19.8,
          "expectancy_birth": 80.4,
          "expectancy_birth_confidence": "onder, 99% zeker",
          "gemeente": "Den Helder",
          "gender": "total",
          "population": 56483
         },
         {
          "corrected_income": 23.1,
          "expectancy_65_confidence": "geen",
          "expectancy_aged_65": 18.6,
          "expectancy_birth": 78.8,
          "expectancy_birth_confidence": "onder, 99% zeker",
          "gemeente": "Den Helder",
          "gender": "male",
          "population": 27983
         },
         {
          "corrected_income": 23.1,
          "expectancy_65_confidence": "onder, 95% zeker",
          "expectancy_aged_65": 20.9,
          "expectancy_birth": 81.9,
          "expectancy_birth_confidence": "onder, 99% zeker",
          "gemeente": "Den Helder",
          "gender": "female",
          "population": 28500
         },
         {
          "corrected_income": 27.4,
          "expectancy_65_confidence": "onder, 99% zeker",
          "expectancy_aged_65": 19.6,
          "expectancy_birth": 81.1,
          "expectancy_birth_confidence": "onder, 99% zeker",
          "gemeente": "Hilversum",
          "gender": "total",
          "population": 87161
         },
         {
          "corrected_income": 27.4,
          "expectancy_65_confidence": "onder, 99% zeker",
          "expectancy_aged_65": 18.1,
          "expectancy_birth": 79.3,
          "expectancy_birth_confidence": "onder, 99% zeker",
          "gemeente": "Hilversum",
          "gender": "male",
          "population": 42619
         },
         {
          "corrected_income": 27.4,
          "expectancy_65_confidence": "onder, 99% zeker",
          "expectancy_aged_65": 20.8,
          "expectancy_birth": 82.9,
          "expectancy_birth_confidence": "geen",
          "gemeente": "Hilversum",
          "gender": "female",
          "population": 44542
         },
         {
          "corrected_income": 24.8,
          "expectancy_65_confidence": "onder, 99% zeker",
          "expectancy_aged_65": 19.1,
          "expectancy_birth": 80.7,
          "expectancy_birth_confidence": "onder, 99% zeker",
          "gemeente": "Hoorn",
          "gender": "total",
          "population": 71880
         },
         {
          "corrected_income": 24.8,
          "expectancy_65_confidence": "onder, 95% zeker",
          "expectancy_aged_65": 18.1,
          "expectancy_birth": 79.3,
          "expectancy_birth_confidence": "onder, 99% zeker",
          "gemeente": "Hoorn",
          "gender": "male",
          "population": 35400
         },
         {
          "corrected_income": 24.8,
          "expectancy_65_confidence": "onder, 99% zeker",
          "expectancy_aged_65": 20,
          "expectancy_birth": 82,
          "expectancy_birth_confidence": "onder, 99% zeker",
          "gemeente": "Hoorn",
          "gender": "female",
          "population": 36480
         },
         {
          "corrected_income": 28.3,
          "expectancy_65_confidence": "geen",
          "expectancy_aged_65": 19.8,
          "expectancy_birth": 81.9,
          "expectancy_birth_confidence": "geen",
          "gemeente": "Huizen",
          "gender": "total",
          "population": 41315
         },
         {
          "corrected_income": 28.3,
          "expectancy_65_confidence": "geen",
          "expectancy_aged_65": 18.3,
          "expectancy_birth": 80.2,
          "expectancy_birth_confidence": "geen",
          "gemeente": "Huizen",
          "gender": "male",
          "population": 20048
         },
         {
          "corrected_income": 28.3,
          "expectancy_65_confidence": "geen",
          "expectancy_aged_65": 21.1,
          "expectancy_birth": 83.4,
          "expectancy_birth_confidence": "geen",
          "gemeente": "Huizen",
          "gender": "female",
          "population": 21267
         },
         {
          "corrected_income": 30.1,
          "expectancy_65_confidence": "boven, 99% zeker",
          "expectancy_aged_65": 21.9,
          "expectancy_birth": 84.8,
          "expectancy_birth_confidence": "boven, 99% zeker",
          "gemeente": "Landsmeer",
          "gender": "total",
          "population": 10823
         },
         {
          "corrected_income": 30.1,
          "expectancy_65_confidence": "boven, 99% zeker",
          "expectancy_aged_65": 20.6,
          "expectancy_birth": 83.4,
          "expectancy_birth_confidence": "boven, 99% zeker",
          "gemeente": "Landsmeer",
          "gender": "male",
          "population": 5185
         },
         {
          "corrected_income": 30.1,
          "expectancy_65_confidence": "boven, 99% zeker",
          "expectancy_aged_65": 23.1,
          "expectancy_birth": 86.1,
          "expectancy_birth_confidence": "boven, 99% zeker",
          "gemeente": "Landsmeer",
          "gender": "female",
          "population": 5638
         },
         {
          "corrected_income": 26.7,
          "expectancy_65_confidence": "boven, 99% zeker",
          "expectancy_aged_65": 21.4,
          "expectancy_birth": 83.7,
          "expectancy_birth_confidence": "boven, 99% zeker",
          "gemeente": "Langedijk",
          "gender": "total",
          "population": 27287
         },
         {
          "corrected_income": 26.7,
          "expectancy_65_confidence": "boven, 99% zeker",
          "expectancy_aged_65": 19.6,
          "expectancy_birth": 82.5,
          "expectancy_birth_confidence": "boven, 99% zeker",
          "gemeente": "Langedijk",
          "gender": "male",
          "population": 13582
         },
         {
          "corrected_income": 26.7,
          "expectancy_65_confidence": "boven, 99% zeker",
          "expectancy_aged_65": 23,
          "expectancy_birth": 84.8,
          "expectancy_birth_confidence": "boven, 99% zeker",
          "gemeente": "Langedijk",
          "gender": "female",
          "population": 13705
         },
         {
          "corrected_income": 39.6,
          "expectancy_65_confidence": "onder, 99% zeker",
          "expectancy_aged_65": 18,
          "expectancy_birth": 79.8,
          "expectancy_birth_confidence": "onder, 99% zeker",
          "gemeente": "Laren",
          "gender": "total",
          "population": 10857
         },
         {
          "corrected_income": 39.6,
          "expectancy_65_confidence": "onder, 99% zeker",
          "expectancy_aged_65": 17,
          "expectancy_birth": 78.3,
          "expectancy_birth_confidence": "geen",
          "gemeente": "Laren",
          "gender": "male",
          "population": 5114
         },
         {
          "corrected_income": 39.6,
          "expectancy_65_confidence": "onder, 99% zeker",
          "expectancy_aged_65": 18.8,
          "expectancy_birth": 81.3,
          "expectancy_birth_confidence": "onder, 99% zeker",
          "gemeente": "Laren",
          "gender": "female",
          "population": 5743
         },
         {
          "corrected_income": 25.2,
          "expectancy_65_confidence": "onder, 99% zeker",
          "expectancy_aged_65": 19.5,
          "expectancy_birth": 81.2,
          "expectancy_birth_confidence": "geen",
          "gemeente": "Medemblik",
          "gender": "total",
          "population": 43604
         },
         {
          "corrected_income": 25.2,
          "expectancy_65_confidence": "geen",
          "expectancy_aged_65": 18.3,
          "expectancy_birth": 79.5,
          "expectancy_birth_confidence": "geen",
          "gemeente": "Medemblik",
          "gender": "male",
          "population": 22217
         },
         {
          "corrected_income": 25.2,
          "expectancy_65_confidence": "onder, 99% zeker",
          "expectancy_aged_65": 20.7,
          "expectancy_birth": 82.9,
          "expectancy_birth_confidence": "geen",
          "gemeente": "Medemblik",
          "gender": "female",
          "population": 21387
         },
         {
          "corrected_income": 28.2,
          "expectancy_65_confidence": "boven, 99% zeker",
          "expectancy_aged_65": 21.8,
          "expectancy_birth": 84.6,
          "expectancy_birth_confidence": "boven, 99% zeker",
          "gemeente": "Oostzaan",
          "gender": "total",
          "population": 9187
         },
         {
          "corrected_income": 28.2,
          "expectancy_65_confidence": "boven, 99% zeker",
          "expectancy_aged_65": 20.2,
          "expectancy_birth": 83.5,
          "expectancy_birth_confidence": "boven, 99% zeker",
          "gemeente": "Oostzaan",
          "gender": "male",
          "population": 4485
         },
         {
          "corrected_income": 28.2,
          "expectancy_65_confidence": "boven, 99% zeker",
          "expectancy_aged_65": 23.2,
          "expectancy_birth": 85.4,
          "expectancy_birth_confidence": "boven, 99% zeker",
          "gemeente": "Oostzaan",
          "gender": "female",
          "population": 4702
         },
         {
          "corrected_income": 25.9,
          "expectancy_65_confidence": "geen",
          "expectancy_aged_65": 20,
          "expectancy_birth": 82.1,
          "expectancy_birth_confidence": "geen",
          "gemeente": "Opmeer",
          "gender": "total",
          "population": 11301
         },
         {
          "corrected_income": 25.9,
          "expectancy_65_confidence": "geen",
          "expectancy_aged_65": 17.9,
          "expectancy_birth": 79.6,
          "expectancy_birth_confidence": "geen",
          "gemeente": "Opmeer",
          "gender": "male",
          "population": 5700
         },
         {
          "corrected_income": 25.9,
          "expectancy_65_confidence": "boven, 95% zeker",
          "expectancy_aged_65": 22.1,
          "expectancy_birth": 84.6,
          "expectancy_birth_confidence": "boven, 99% zeker",
          "gemeente": "Opmeer",
          "gender": "female",
          "population": 5601
         },
         {
          "corrected_income": 31.5,
          "expectancy_65_confidence": "boven, 95% zeker",
          "expectancy_aged_65": 20.4,
          "expectancy_birth": 82.2,
          "expectancy_birth_confidence": "geen",
          "gemeente": "Ouder-Amstel",
          "gender": "total",
          "population": 13289
         },
         {
          "corrected_income": 31.5,
          "expectancy_65_confidence": "geen",
          "expectancy_aged_65": 18.9,
          "expectancy_birth": 79.9,
          "expectancy_birth_confidence": "geen",
          "gemeente": "Ouder-Amstel",
          "gender": "male",
          "population": 6437
         },
         {
          "corrected_income": 31.5,
          "expectancy_65_confidence": "geen",
          "expectancy_aged_65": 21.7,
          "expectancy_birth": 84.2,
          "expectancy_birth_confidence": "geen",
          "gemeente": "Ouder-Amstel",
          "gender": "female",
          "population": 6852
         },
         {
          "corrected_income": 24.8,
          "expectancy_65_confidence": "boven, 95% zeker",
          "expectancy_aged_65": 20.2,
          "expectancy_birth": 81.6,
          "expectancy_birth_confidence": "geen",
          "gemeente": "Purmerend",
          "gender": "total",
          "population": 79611
         },
         {
          "corrected_income": 24.8,
          "expectancy_65_confidence": "boven, 99% zeker",
          "expectancy_aged_65": 18.9,
          "expectancy_birth": 80.1,
          "expectancy_birth_confidence": "geen",
          "gemeente": "Purmerend",
          "gender": "male",
          "population": 38879
         },
         {
          "corrected_income": 24.8,
          "expectancy_65_confidence": "geen",
          "expectancy_aged_65": 21.2,
          "expectancy_birth": 82.8,
          "expectancy_birth_confidence": "onder, 95% zeker",
          "gemeente": "Purmerend",
          "gender": "female",
          "population": 40732
         },
         {
          "corrected_income": 25.6,
          "expectancy_65_confidence": "boven, 99% zeker",
          "expectancy_aged_65": 20.4,
          "expectancy_birth": 82.8,
          "expectancy_birth_confidence": "boven, 99% zeker",
          "gemeente": "Schagen",
          "gender": "total",
          "population": 46137
         },
         {
          "corrected_income": 25.6,
          "expectancy_65_confidence": "geen",
          "expectancy_aged_65": 18.7,
          "expectancy_birth": 80.9,
          "expectancy_birth_confidence": "boven, 99% zeker",
          "gemeente": "Schagen",
          "gender": "male",
          "population": 23154
         },
         {
          "corrected_income": 25.6,
          "expectancy_65_confidence": "boven, 99% zeker",
          "expectancy_aged_65": 22.1,
          "expectancy_birth": 84.7,
          "expectancy_birth_confidence": "boven, 99% zeker",
          "gemeente": "Schagen",
          "gender": "female",
          "population": 22983
         },
         {
          "corrected_income": 24.3,
          "expectancy_65_confidence": "onder, 95% zeker",
          "expectancy_aged_65": 19.5,
          "expectancy_birth": 80.8,
          "expectancy_birth_confidence": "geen",
          "gemeente": "Texel",
          "gender": "total",
          "population": 13581
         },
         {
          "corrected_income": 24.3,
          "expectancy_65_confidence": "geen",
          "expectancy_aged_65": 18,
          "expectancy_birth": 79.3,
          "expectancy_birth_confidence": "geen",
          "gemeente": "Texel",
          "gender": "male",
          "population": 6762
         },
         {
          "corrected_income": 24.3,
          "expectancy_65_confidence": "geen",
          "expectancy_aged_65": 20.9,
          "expectancy_birth": 82.2,
          "expectancy_birth_confidence": "geen",
          "gemeente": "Texel",
          "gender": "female",
          "population": 6819
         },
         {
          "corrected_income": 27.8,
          "expectancy_65_confidence": "boven, 99% zeker",
          "expectancy_aged_65": 21.7,
          "expectancy_birth": 83.5,
          "expectancy_birth_confidence": "boven, 99% zeker",
          "gemeente": "Uitgeest",
          "gender": "total",
          "population": 13291
         },
         {
          "corrected_income": 27.8,
          "expectancy_65_confidence": "boven, 99% zeker",
          "expectancy_aged_65": 19.9,
          "expectancy_birth": 82.5,
          "expectancy_birth_confidence": "boven, 99% zeker",
          "gemeente": "Uitgeest",
          "gender": "male",
          "population": 6661
         },
         {
          "corrected_income": 27.8,
          "expectancy_65_confidence": "boven, 99% zeker",
          "expectancy_aged_65": 23.4,
          "expectancy_birth": 84.4,
          "expectancy_birth_confidence": "geen",
          "gemeente": "Uitgeest",
          "gender": "female",
          "population": 6630
         },
         {
          "corrected_income": 27.5,
          "expectancy_65_confidence": "boven, 99% zeker",
          "expectancy_aged_65": 21.3,
          "expectancy_birth": 84,
          "expectancy_birth_confidence": "boven, 99% zeker",
          "gemeente": "Uithoorn",
          "gender": "total",
          "population": 28731
         },
         {
          "corrected_income": 27.5,
          "expectancy_65_confidence": "boven, 99% zeker",
          "expectancy_aged_65": 19.5,
          "expectancy_birth": 82,
          "expectancy_birth_confidence": "boven, 99% zeker",
          "gemeente": "Uithoorn",
          "gender": "male",
          "population": 14186
         },
         {
          "corrected_income": 27.5,
          "expectancy_65_confidence": "boven, 99% zeker",
          "expectancy_aged_65": 22.9,
          "expectancy_birth": 85.9,
          "expectancy_birth_confidence": "boven, 99% zeker",
          "gemeente": "Uithoorn",
          "gender": "female",
          "population": 14545
         },
         {
          "corrected_income": 25.8,
          "expectancy_65_confidence": "onder, 99% zeker",
          "expectancy_aged_65": 19.7,
          "expectancy_birth": 81.3,
          "expectancy_birth_confidence": "geen",
          "gemeente": "Velsen",
          "gender": "total",
          "population": 67166
         },
         {
          "corrected_income": 25.8,
          "expectancy_65_confidence": "onder, 95% zeker",
          "expectancy_aged_65": 18.2,
          "expectancy_birth": 79.6,
          "expectancy_birth_confidence": "geen",
          "gemeente": "Velsen",
          "gender": "male",
          "population": 33267
         },
         {
          "corrected_income": 25.8,
          "expectancy_65_confidence": "geen",
          "expectancy_aged_65": 21,
          "expectancy_birth": 82.9,
          "expectancy_birth_confidence": "geen",
          "gemeente": "Velsen",
          "gender": "female",
          "population": 33899
         },
         {
          "corrected_income": 26.9,
          "expectancy_65_confidence": "onder, 99% zeker",
          "expectancy_aged_65": 19.3,
          "expectancy_birth": 81.4,
          "expectancy_birth_confidence": "geen",
          "gemeente": "Weesp",
          "gender": "total",
          "population": 18348
         },
         {
          "corrected_income": 26.9,
          "expectancy_65_confidence": "onder, 95% zeker",
          "expectancy_aged_65": 17.9,
          "expectancy_birth": 80,
          "expectancy_birth_confidence": "geen",
          "gemeente": "Weesp",
          "gender": "male",
          "population": 8838
         },
         {
          "corrected_income": 26.9,
          "expectancy_65_confidence": "onder, 99% zeker",
          "expectancy_aged_65": 20.5,
          "expectancy_birth": 82.6,
          "expectancy_birth_confidence": "geen",
          "gemeente": "Weesp",
          "gender": "female",
          "population": 9510
         },
         {
          "corrected_income": 26.3,
          "expectancy_65_confidence": "onder, 99% zeker",
          "expectancy_aged_65": 19.1,
          "expectancy_birth": 79.3,
          "expectancy_birth_confidence": "onder, 99% zeker",
          "gemeente": "Zandvoort",
          "gender": "total",
          "population": 16692
         },
         {
          "corrected_income": 26.3,
          "expectancy_65_confidence": "onder, 99% zeker",
          "expectancy_aged_65": 17.6,
          "expectancy_birth": 77.5,
          "expectancy_birth_confidence": "onder, 99% zeker",
          "gemeente": "Zandvoort",
          "gender": "male",
          "population": 8051
         },
         {
          "corrected_income": 26.3,
          "expectancy_65_confidence": "onder, 99% zeker",
          "expectancy_aged_65": 20.5,
          "expectancy_birth": 80.9,
          "expectancy_birth_confidence": "onder, 99% zeker",
          "gemeente": "Zandvoort",
          "gender": "female",
          "population": 8641
         },
         {
          "corrected_income": 24.3,
          "expectancy_65_confidence": "onder, 99% zeker",
          "expectancy_aged_65": 19.3,
          "expectancy_birth": 80.7,
          "expectancy_birth_confidence": "onder, 99% zeker",
          "gemeente": "Zaanstad",
          "gender": "total",
          "population": 151418
         },
         {
          "corrected_income": 24.3,
          "expectancy_65_confidence": "onder, 99% zeker",
          "expectancy_aged_65": 17.8,
          "expectancy_birth": 78.7,
          "expectancy_birth_confidence": "onder, 99% zeker",
          "gemeente": "Zaanstad",
          "gender": "male",
          "population": 74778
         },
         {
          "corrected_income": 24.3,
          "expectancy_65_confidence": "onder, 99% zeker",
          "expectancy_aged_65": 20.6,
          "expectancy_birth": 82.8,
          "expectancy_birth_confidence": "onder, 99% zeker",
          "gemeente": "Zaanstad",
          "gender": "female",
          "population": 76640
         },
         {
          "corrected_income": 25.2,
          "expectancy_65_confidence": "boven, 99% zeker",
          "expectancy_aged_65": 20.8,
          "expectancy_birth": 82.8,
          "expectancy_birth_confidence": "boven, 99% zeker",
          "gemeente": "Alblasserdam",
          "gender": "total",
          "population": 19845
         },
         {
          "corrected_income": 25.2,
          "expectancy_65_confidence": "boven, 99% zeker",
          "expectancy_aged_65": 19.8,
          "expectancy_birth": 81.1,
          "expectancy_birth_confidence": "boven, 95% zeker",
          "gemeente": "Alblasserdam",
          "gender": "male",
          "population": 9713
         },
         {
          "corrected_income": 25.2,
          "expectancy_65_confidence": "boven, 95% zeker",
          "expectancy_aged_65": 21.9,
          "expectancy_birth": 84.6,
          "expectancy_birth_confidence": "boven, 99% zeker",
          "gemeente": "Alblasserdam",
          "gender": "female",
          "population": 10132
         },
         {
          "corrected_income": 26.7,
          "expectancy_65_confidence": "boven, 99% zeker",
          "expectancy_aged_65": 20.3,
          "expectancy_birth": 82.2,
          "expectancy_birth_confidence": "boven, 99% zeker",
          "gemeente": "Alphen aan den Rijn",
          "gender": "total",
          "population": 107396
         },
         {
          "corrected_income": 26.7,
          "expectancy_65_confidence": "boven, 99% zeker",
          "expectancy_aged_65": 19,
          "expectancy_birth": 80.8,
          "expectancy_birth_confidence": "boven, 99% zeker",
          "gemeente": "Alphen aan den Rijn",
          "gender": "male",
          "population": 53321
         },
         {
          "corrected_income": 26.7,
          "expectancy_65_confidence": "boven, 99% zeker",
          "expectancy_aged_65": 21.6,
          "expectancy_birth": 83.5,
          "expectancy_birth_confidence": "geen",
          "gemeente": "Alphen aan den Rijn",
          "gender": "female",
          "population": 54075
         },
         {
          "corrected_income": 29.4,
          "expectancy_65_confidence": "boven, 99% zeker",
          "expectancy_aged_65": 21.1,
          "expectancy_birth": 83.7,
          "expectancy_birth_confidence": "boven, 99% zeker",
          "gemeente": "Barendrecht",
          "gender": "total",
          "population": 47521
         },
         {
          "corrected_income": 29.4,
          "expectancy_65_confidence": "boven, 99% zeker",
          "expectancy_aged_65": 19.7,
          "expectancy_birth": 82.3,
          "expectancy_birth_confidence": "boven, 99% zeker",
          "gemeente": "Barendrecht",
          "gender": "male",
          "population": 23420
         },
         {
          "corrected_income": 29.4,
          "expectancy_65_confidence": "boven, 99% zeker",
          "expectancy_aged_65": 22.4,
          "expectancy_birth": 85,
          "expectancy_birth_confidence": "boven, 99% zeker",
          "gemeente": "Barendrecht",
          "gender": "female",
          "population": 24101
         },
         {
          "corrected_income": 26.4,
          "expectancy_65_confidence": "geen",
          "expectancy_aged_65": 19.9,
          "expectancy_birth": 81.7,
          "expectancy_birth_confidence": "geen",
          "gemeente": "Drechterland",
          "gender": "total",
          "population": 19294
         },
         {
          "corrected_income": 26.4,
          "expectancy_65_confidence": "boven, 95% zeker",
          "expectancy_aged_65": 19,
          "expectancy_birth": 80.4,
          "expectancy_birth_confidence": "geen",
          "gemeente": "Drechterland",
          "gender": "male",
          "population": 9759
         },
         {
          "corrected_income": 26.4,
          "expectancy_65_confidence": "onder, 95% zeker",
          "expectancy_aged_65": 20.7,
          "expectancy_birth": 83,
          "expectancy_birth_confidence": "geen",
          "gemeente": "Drechterland",
          "gender": "female",
          "population": 9535
         },
         {
          "corrected_income": 28.3,
          "expectancy_65_confidence": "onder, 95% zeker",
          "expectancy_aged_65": 19.5,
          "expectancy_birth": 80.9,
          "expectancy_birth_confidence": "geen",
          "gemeente": "Brielle",
          "gender": "total",
          "population": 16467
         },
         {
          "corrected_income": 28.3,
          "expectancy_65_confidence": "boven, 95% zeker",
          "expectancy_aged_65": 19,
          "expectancy_birth": 80.1,
          "expectancy_birth_confidence": "geen",
          "gemeente": "Brielle",
          "gender": "male",
          "population": 8060
         },
         {
          "corrected_income": 28.3,
          "expectancy_65_confidence": "onder, 99% zeker",
          "expectancy_aged_65": 20.1,
          "expectancy_birth": 81.8,
          "expectancy_birth_confidence": "onder, 99% zeker",
          "gemeente": "Brielle",
          "gender": "female",
          "population": 8407
         },
         {
          "corrected_income": 25.5,
          "expectancy_65_confidence": "geen",
          "expectancy_aged_65": 19.9,
          "expectancy_birth": 81.6,
          "expectancy_birth_confidence": "geen",
          "gemeente": "Capelle aan den IJssel",
          "gender": "total",
          "population": 66478
         },
         {
          "corrected_income": 25.5,
          "expectancy_65_confidence": "geen",
          "expectancy_aged_65": 18.4,
          "expectancy_birth": 79.8,
          "expectancy_birth_confidence": "geen",
          "gemeente": "Capelle aan den IJssel",
          "gender": "male",
          "population": 32130
         },
         {
          "corrected_income": 25.5,
          "expectancy_65_confidence": "geen",
          "expectancy_aged_65": 21.2,
          "expectancy_birth": 83.2,
          "expectancy_birth_confidence": "geen",
          "gemeente": "Capelle aan den IJssel",
          "gender": "female",
          "population": 34348
         },
         {
          "corrected_income": 24.5,
          "expectancy_65_confidence": "boven, 99% zeker",
          "expectancy_aged_65": 20.3,
          "expectancy_birth": 81.7,
          "expectancy_birth_confidence": "geen",
          "gemeente": "Delft",
          "gender": "total",
          "population": 101030
         },
         {
          "corrected_income": 24.5,
          "expectancy_65_confidence": "boven, 95% zeker",
          "expectancy_aged_65": 18.8,
          "expectancy_birth": 80.1,
          "expectancy_birth_confidence": "geen",
          "gemeente": "Delft",
          "gender": "male",
          "population": 54035
         },
         {
          "corrected_income": 24.5,
          "expectancy_65_confidence": "boven, 95% zeker",
          "expectancy_aged_65": 21.6,
          "expectancy_birth": 83.3,
          "expectancy_birth_confidence": "geen",
          "gemeente": "Delft",
          "gender": "female",
          "population": 46995
         },
         {
          "corrected_income": 24.2,
          "expectancy_65_confidence": "onder, 99% zeker",
          "expectancy_aged_65": 19.6,
          "expectancy_birth": 81.2,
          "expectancy_birth_confidence": "onder, 99% zeker",
          "gemeente": "Dordrecht",
          "gender": "total",
          "population": 118899
         },
         {
          "corrected_income": 24.2,
          "expectancy_65_confidence": "geen",
          "expectancy_aged_65": 18.4,
          "expectancy_birth": 79.6,
          "expectancy_birth_confidence": "geen",
          "gemeente": "Dordrecht",
          "gender": "male",
          "population": 58646
         },
         {
          "corrected_income": 24.2,
          "expectancy_65_confidence": "onder, 99% zeker",
          "expectancy_aged_65": 20.7,
          "expectancy_birth": 82.6,
          "expectancy_birth_confidence": "onder, 99% zeker",
          "gemeente": "Dordrecht",
          "gender": "female",
          "population": 60253
         },
         {
          "corrected_income": 25,
          "expectancy_65_confidence": "geen",
          "expectancy_aged_65": 19.8,
          "expectancy_birth": 80.9,
          "expectancy_birth_confidence": "onder, 99% zeker",
          "gemeente": "Gorinchem",
          "gender": "total",
          "population": 35338
         },
         {
          "corrected_income": 25,
          "expectancy_65_confidence": "geen",
          "expectancy_aged_65": 18.1,
          "expectancy_birth": 79.1,
          "expectancy_birth_confidence": "onder, 95% zeker",
          "gemeente": "Gorinchem",
          "gender": "male",
          "population": 17432
         },
         {
          "corrected_income": 25,
          "expectancy_65_confidence": "geen",
          "expectancy_aged_65": 21.1,
          "expectancy_birth": 82.4,
          "expectancy_birth_confidence": "onder, 95% zeker",
          "gemeente": "Gorinchem",
          "gender": "female",
          "population": 17906
         },
         {
          "corrected_income": 25.4,
          "expectancy_65_confidence": "onder, 95% zeker",
          "expectancy_aged_65": 19.7,
          "expectancy_birth": 81.6,
          "expectancy_birth_confidence": "geen",
          "gemeente": "Gouda",
          "gender": "total",
          "population": 71105
         },
         {
          "corrected_income": 25.4,
          "expectancy_65_confidence": "geen",
          "expectancy_aged_65": 18.4,
          "expectancy_birth": 79.7,
          "expectancy_birth_confidence": "geen",
          "gemeente": "Gouda",
          "gender": "male",
          "population": 34838
         },
         {
          "corrected_income": 25.4,
          "expectancy_65_confidence": "onder, 99% zeker",
          "expectancy_aged_65": 20.9,
          "expectancy_birth": 83.4,
          "expectancy_birth_confidence": "geen",
          "gemeente": "Gouda",
          "gender": "female",
          "population": 36267
         },
         {
          "corrected_income": 24.3,
          "expectancy_65_confidence": "onder, 99% zeker",
          "expectancy_aged_65": 19,
          "expectancy_birth": 80.5,
          "expectancy_birth_confidence": "onder, 99% zeker",
          "gemeente": "'s-Gravenhage",
          "gender": "total",
          "population": 514861
         },
         {
          "corrected_income": 24.3,
          "expectancy_65_confidence": "onder, 99% zeker",
          "expectancy_aged_65": 17.7,
          "expectancy_birth": 78.6,
          "expectancy_birth_confidence": "onder, 99% zeker",
          "gemeente": "'s-Gravenhage",
          "gender": "male",
          "population": 254187
         },
         {
          "corrected_income": 24.3,
          "expectancy_65_confidence": "onder, 99% zeker",
          "expectancy_aged_65": 20.2,
          "expectancy_birth": 82.3,
          "expectancy_birth_confidence": "onder, 99% zeker",
          "gemeente": "'s-Gravenhage",
          "gender": "female",
          "population": 260674
         },
         {
          "corrected_income": 25.7,
          "expectancy_65_confidence": "geen",
          "expectancy_aged_65": 19.9,
          "expectancy_birth": 82.7,
          "expectancy_birth_confidence": "boven, 99% zeker",
          "gemeente": "Hardinxveld-Giessendam",
          "gender": "total",
          "population": 17802
         },
         {
          "corrected_income": 25.7,
          "expectancy_65_confidence": "boven, 95% zeker",
          "expectancy_aged_65": 19,
          "expectancy_birth": 81.8,
          "expectancy_birth_confidence": "boven, 99% zeker",
          "gemeente": "Hardinxveld-Giessendam",
          "gender": "male",
          "population": 8893
         },
         {
          "corrected_income": 25.7,
          "expectancy_65_confidence": "onder, 95% zeker",
          "expectancy_aged_65": 20.7,
          "expectancy_birth": 83.6,
          "expectancy_birth_confidence": "geen",
          "gemeente": "Hardinxveld-Giessendam",
          "gender": "female",
          "population": 8909
         },
         {
          "corrected_income": 26.7,
          "expectancy_65_confidence": "boven, 99% zeker",
          "expectancy_aged_65": 20.4,
          "expectancy_birth": 82.4,
          "expectancy_birth_confidence": "boven, 99% zeker",
          "gemeente": "Hellevoetsluis",
          "gender": "total",
          "population": 38882
         },
         {
          "corrected_income": 26.7,
          "expectancy_65_confidence": "boven, 99% zeker",
          "expectancy_aged_65": 19,
          "expectancy_birth": 80.9,
          "expectancy_birth_confidence": "boven, 99% zeker",
          "gemeente": "Hellevoetsluis",
          "gender": "male",
          "population": 19288
         },
         {
          "corrected_income": 26.7,
          "expectancy_65_confidence": "geen",
          "expectancy_aged_65": 21.6,
          "expectancy_birth": 83.8,
          "expectancy_birth_confidence": "geen",
          "gemeente": "Hellevoetsluis",
          "gender": "female",
          "population": 19594
         },
         {
          "corrected_income": 27.5,
          "expectancy_65_confidence": "boven, 99% zeker",
          "expectancy_aged_65": 21.6,
          "expectancy_birth": 83.8,
          "expectancy_birth_confidence": "boven, 99% zeker",
          "gemeente": "Hendrik-Ido-Ambacht",
          "gender": "total",
          "population": 29156
         },
         {
          "corrected_income": 27.5,
          "expectancy_65_confidence": "boven, 99% zeker",
          "expectancy_aged_65": 20.5,
          "expectancy_birth": 82.6,
          "expectancy_birth_confidence": "boven, 99% zeker",
          "gemeente": "Hendrik-Ido-Ambacht",
          "gender": "male",
          "population": 14343
         },
         {
          "corrected_income": 27.5,
          "expectancy_65_confidence": "boven, 99% zeker",
          "expectancy_aged_65": 22.5,
          "expectancy_birth": 84.8,
          "expectancy_birth_confidence": "boven, 99% zeker",
          "gemeente": "Hendrik-Ido-Ambacht",
          "gender": "female",
          "population": 14813
         },
         {
          "corrected_income": 24.6,
          "expectancy_65_confidence": "geen",
          "expectancy_aged_65": 19.8,
          "expectancy_birth": 82.1,
          "expectancy_birth_confidence": "geen",
          "gemeente": "Stede Broec",
          "gender": "total",
          "population": 21498
         },
         {
          "corrected_income": 24.6,
          "expectancy_65_confidence": "geen",
          "expectancy_aged_65": 18.6,
          "expectancy_birth": 80.7,
          "expectancy_birth_confidence": "boven, 95% zeker",
          "gemeente": "Stede Broec",
          "gender": "male",
          "population": 10856
         },
         {
          "corrected_income": 24.6,
          "expectancy_65_confidence": "geen",
          "expectancy_aged_65": 20.9,
          "expectancy_birth": 83.4,
          "expectancy_birth_confidence": "geen",
          "gemeente": "Stede Broec",
          "gender": "female",
          "population": 10642
         },
         {
          "corrected_income": 26.2,
          "expectancy_65_confidence": "geen",
          "expectancy_aged_65": 19.9,
          "expectancy_birth": 81.2,
          "expectancy_birth_confidence": "geen",
          "gemeente": "Hillegom",
          "gender": "total",
          "population": 21101
         },
         {
          "corrected_income": 26.2,
          "expectancy_65_confidence": "geen",
          "expectancy_aged_65": 18,
          "expectancy_birth": 79.2,
          "expectancy_birth_confidence": "geen",
          "gemeente": "Hillegom",
          "gender": "male",
          "population": 10458
         },
         {
          "corrected_income": 26.2,
          "expectancy_65_confidence": "geen",
          "expectancy_aged_65": 21.6,
          "expectancy_birth": 83.2,
          "expectancy_birth_confidence": "geen",
          "gemeente": "Hillegom",
          "gender": "female",
          "population": 10643
         },
         {
          "corrected_income": 25.6,
          "expectancy_65_confidence": "onder, 99% zeker",
          "expectancy_aged_65": 19,
          "expectancy_birth": 80.7,
          "expectancy_birth_confidence": "onder, 99% zeker",
          "gemeente": "Katwijk",
          "gender": "total",
          "population": 63633
         },
         {
          "corrected_income": 25.6,
          "expectancy_65_confidence": "onder, 99% zeker",
          "expectancy_aged_65": 17.9,
          "expectancy_birth": 79.7,
          "expectancy_birth_confidence": "geen",
          "gemeente": "Katwijk",
          "gender": "male",
          "population": 31621
         },
         {
          "corrected_income": 25.6,
          "expectancy_65_confidence": "onder, 99% zeker",
          "expectancy_aged_65": 20.1,
          "expectancy_birth": 81.6,
          "expectancy_birth_confidence": "onder, 99% zeker",
          "gemeente": "Katwijk",
          "gender": "female",
          "population": 32012
         },
         {
          "corrected_income": 26.8,
          "expectancy_65_confidence": "boven, 99% zeker",
          "expectancy_aged_65": 21.1,
          "expectancy_birth": 83.2,
          "expectancy_birth_confidence": "boven, 99% zeker",
          "gemeente": "Krimpen aan den IJssel",
          "gender": "total",
          "population": 28970
         },
         {
          "corrected_income": 26.8,
          "expectancy_65_confidence": "boven, 99% zeker",
          "expectancy_aged_65": 19.1,
          "expectancy_birth": 80.9,
          "expectancy_birth_confidence": "boven, 99% zeker",
          "gemeente": "Krimpen aan den IJssel",
          "gender": "male",
          "population": 14011
         },
         {
          "corrected_income": 26.8,
          "expectancy_65_confidence": "boven, 99% zeker",
          "expectancy_aged_65": 23,
          "expectancy_birth": 85.4,
          "expectancy_birth_confidence": "boven, 99% zeker",
          "gemeente": "Krimpen aan den IJssel",
          "gender": "female",
          "population": 14959
         },
         {
          "corrected_income": 24.5,
          "expectancy_65_confidence": "onder, 99% zeker",
          "expectancy_aged_65": 18.8,
          "expectancy_birth": 80.7,
          "expectancy_birth_confidence": "onder, 99% zeker",
          "gemeente": "Leerdam",
          "gender": "total",
          "population": 20568
         },
         {
          "corrected_income": 24.5,
          "expectancy_65_confidence": "onder, 99% zeker",
          "expectancy_aged_65": 17.6,
          "expectancy_birth": 79,
          "expectancy_birth_confidence": "onder, 95% zeker",
          "gemeente": "Leerdam",
          "gender": "male",
          "population": 10093
         },
         {
          "corrected_income": 24.5,
          "expectancy_65_confidence": "onder, 99% zeker",
          "expectancy_aged_65": 19.9,
          "expectancy_birth": 82.3,
          "expectancy_birth_confidence": "onder, 95% zeker",
          "gemeente": "Leerdam",
          "gender": "female",
          "population": 10475
         },
         {
          "corrected_income": 26,
          "expectancy_65_confidence": "onder, 99% zeker",
          "expectancy_aged_65": 19.5,
          "expectancy_birth": 81.1,
          "expectancy_birth_confidence": "onder, 99% zeker",
          "gemeente": "Leiden",
          "gender": "total",
          "population": 121562
         },
         {
          "corrected_income": 26,
          "expectancy_65_confidence": "geen",
          "expectancy_aged_65": 18.3,
          "expectancy_birth": 79.7,
          "expectancy_birth_confidence": "geen",
          "gemeente": "Leiden",
          "gender": "male",
          "population": 59084
         },
         {
          "corrected_income": 26,
          "expectancy_65_confidence": "onder, 99% zeker",
          "expectancy_aged_65": 20.6,
          "expectancy_birth": 82.5,
          "expectancy_birth_confidence": "onder, 99% zeker",
          "gemeente": "Leiden",
          "gender": "female",
          "population": 62478
         },
         {
          "corrected_income": 28.3,
          "expectancy_65_confidence": "boven, 99% zeker",
          "expectancy_aged_65": 21.9,
          "expectancy_birth": 84.1,
          "expectancy_birth_confidence": "boven, 99% zeker",
          "gemeente": "Leiderdorp",
          "gender": "total",
          "population": 26853
         },
         {
          "corrected_income": 28.3,
          "expectancy_65_confidence": "boven, 99% zeker",
          "expectancy_aged_65": 19.7,
          "expectancy_birth": 82.2,
          "expectancy_birth_confidence": "boven, 99% zeker",
          "gemeente": "Leiderdorp",
          "gender": "male",
          "population": 12937
         },
         {
          "corrected_income": 28.3,
          "expectancy_65_confidence": "boven, 99% zeker",
          "expectancy_aged_65": 23.8,
          "expectancy_birth": 85.8,
          "expectancy_birth_confidence": "boven, 99% zeker",
          "gemeente": "Leiderdorp",
          "gender": "female",
          "population": 13916
         },
         {
          "corrected_income": 26.6,
          "expectancy_65_confidence": "boven, 99% zeker",
          "expectancy_aged_65": 21.1,
          "expectancy_birth": 83.1,
          "expectancy_birth_confidence": "boven, 99% zeker",
          "gemeente": "Lisse",
          "gender": "total",
          "population": 22539
         },
         {
          "corrected_income": 26.6,
          "expectancy_65_confidence": "boven, 99% zeker",
          "expectancy_aged_65": 19.6,
          "expectancy_birth": 81.4,
          "expectancy_birth_confidence": "boven, 99% zeker",
          "gemeente": "Lisse",
          "gender": "male",
          "population": 11079
         },
         {
          "corrected_income": 26.6,
          "expectancy_65_confidence": "boven, 99% zeker",
          "expectancy_aged_65": 22.4,
          "expectancy_birth": 84.7,
          "expectancy_birth_confidence": "boven, 99% zeker",
          "gemeente": "Lisse",
          "gender": "female",
          "population": 11460
         },
         {
          "corrected_income": 25.1,
          "expectancy_65_confidence": "boven, 99% zeker",
          "expectancy_aged_65": 20.3,
          "expectancy_birth": 81.7,
          "expectancy_birth_confidence": "geen",
          "gemeente": "Maassluis",
          "gender": "total",
          "population": 32201
         },
         {
          "corrected_income": 25.1,
          "expectancy_65_confidence": "boven, 99% zeker",
          "expectancy_aged_65": 19.7,
          "expectancy_birth": 80.6,
          "expectancy_birth_confidence": "boven, 95% zeker",
          "gemeente": "Maassluis",
          "gender": "male",
          "population": 15762
         },
         {
          "corrected_income": 25.1,
          "expectancy_65_confidence": "geen",
          "expectancy_aged_65": 21,
          "expectancy_birth": 82.9,
          "expectancy_birth_confidence": "geen",
          "gemeente": "Maassluis",
          "gender": "female",
          "population": 16439
         },
         {
          "corrected_income": 28.2,
          "expectancy_65_confidence": "boven, 99% zeker",
          "expectancy_aged_65": 20.7,
          "expectancy_birth": 82.2,
          "expectancy_birth_confidence": "boven, 95% zeker",
          "gemeente": "Nieuwkoop",
          "gender": "total",
          "population": 27114
         },
         {
          "corrected_income": 28.2,
          "expectancy_65_confidence": "boven, 99% zeker",
          "expectancy_aged_65": 19.3,
          "expectancy_birth": 80.6,
          "expectancy_birth_confidence": "geen",
          "gemeente": "Nieuwkoop",
          "gender": "male",
          "population": 13778
         },
         {
          "corrected_income": 28.2,
          "expectancy_65_confidence": "boven, 99% zeker",
          "expectancy_aged_65": 21.9,
          "expectancy_birth": 83.7,
          "expectancy_birth_confidence": "geen",
          "gemeente": "Nieuwkoop",
          "gender": "female",
          "population": 13336
         },
         {
          "corrected_income": 28.7,
          "expectancy_65_confidence": "geen",
          "expectancy_aged_65": 20,
          "expectancy_birth": 81.6,
          "expectancy_birth_confidence": "geen",
          "gemeente": "Noordwijk",
          "gender": "total",
          "population": 25604
         },
         {
          "corrected_income": 28.7,
          "expectancy_65_confidence": "boven, 95% zeker",
          "expectancy_aged_65": 18.9,
          "expectancy_birth": 80.5,
          "expectancy_birth_confidence": "geen",
          "gemeente": "Noordwijk",
          "gender": "male",
          "population": 12833
         },
         {
          "corrected_income": 28.7,
          "expectancy_65_confidence": "onder, 95% zeker",
          "expectancy_aged_65": 20.8,
          "expectancy_birth": 82.5,
          "expectancy_birth_confidence": "geen",
          "gemeente": "Noordwijk",
          "gender": "female",
          "population": 12771
         },
         {
          "corrected_income": 26.3,
          "expectancy_65_confidence": "boven, 99% zeker",
          "expectancy_aged_65": 21,
          "expectancy_birth": 82.3,
          "expectancy_birth_confidence": "geen",
          "gemeente": "Noordwijkerhout",
          "gender": "total",
          "population": 16063
         },
         {
          "corrected_income": 26.3,
          "expectancy_65_confidence": "boven, 95% zeker",
          "expectancy_aged_65": 19,
          "expectancy_birth": 80.6,
          "expectancy_birth_confidence": "geen",
          "gemeente": "Noordwijkerhout",
          "gender": "male",
          "population": 8053
         },
         {
          "corrected_income": 26.3,
          "expectancy_65_confidence": "boven, 99% zeker",
          "expectancy_aged_65": 23,
          "expectancy_birth": 83.9,
          "expectancy_birth_confidence": "geen",
          "gemeente": "Noordwijkerhout",
          "gender": "female",
          "population": 8010
         },
         {
          "corrected_income": 34,
          "expectancy_65_confidence": "boven, 99% zeker",
          "expectancy_aged_65": 20.7,
          "expectancy_birth": 83,
          "expectancy_birth_confidence": "boven, 99% zeker",
          "gemeente": "Oegstgeest",
          "gender": "total",
          "population": 22997
         },
         {
          "corrected_income": 34,
          "expectancy_65_confidence": "boven, 99% zeker",
          "expectancy_aged_65": 19.3,
          "expectancy_birth": 81.5,
          "expectancy_birth_confidence": "boven, 99% zeker",
          "gemeente": "Oegstgeest",
          "gender": "male",
          "population": 11045
         },
         {
          "corrected_income": 34,
          "expectancy_65_confidence": "boven, 95% zeker",
          "expectancy_aged_65": 21.8,
          "expectancy_birth": 84.2,
          "expectancy_birth_confidence": "boven, 95% zeker",
          "gemeente": "Oegstgeest",
          "gender": "female",
          "population": 11952
         },
         {
          "corrected_income": 27.3,
          "expectancy_65_confidence": "geen",
          "expectancy_aged_65": 20,
          "expectancy_birth": 82.5,
          "expectancy_birth_confidence": "boven, 99% zeker",
          "gemeente": "Oud-Beijerland",
          "gender": "total",
          "population": 23702
         },
         {
          "corrected_income": 27.3,
          "expectancy_65_confidence": "geen",
          "expectancy_aged_65": 18.6,
          "expectancy_birth": 81,
          "expectancy_birth_confidence": "boven, 99% zeker",
          "gemeente": "Oud-Beijerland",
          "gender": "male",
          "population": 11591
         },
         {
          "corrected_income": 27.3,
          "expectancy_65_confidence": "geen",
          "expectancy_aged_65": 21.2,
          "expectancy_birth": 83.8,
          "expectancy_birth_confidence": "geen",
          "gemeente": "Oud-Beijerland",
          "gender": "female",
          "population": 12111
         },
         {
          "corrected_income": 28.5,
          "expectancy_65_confidence": "boven, 99% zeker",
          "expectancy_aged_65": 20.6,
          "expectancy_birth": 83.3,
          "expectancy_birth_confidence": "boven, 99% zeker",
          "gemeente": "Binnenmaas",
          "gender": "total",
          "population": 28656
         },
         {
          "corrected_income": 28.5,
          "expectancy_65_confidence": "boven, 99% zeker",
          "expectancy_aged_65": 19.2,
          "expectancy_birth": 82,
          "expectancy_birth_confidence": "boven, 99% zeker",
          "gemeente": "Binnenmaas",
          "gender": "male",
          "population": 14180
         },
         {
          "corrected_income": 28.5,
          "expectancy_65_confidence": "boven, 99% zeker",
          "expectancy_aged_65": 22,
          "expectancy_birth": 84.4,
          "expectancy_birth_confidence": "boven, 99% zeker",
          "gemeente": "Binnenmaas",
          "gender": "female",
          "population": 14476
         },
         {
          "corrected_income": 27.4,
          "expectancy_65_confidence": "geen",
          "expectancy_aged_65": 20.2,
          "expectancy_birth": 82.1,
          "expectancy_birth_confidence": "geen",
          "gemeente": "Korendijk",
          "gender": "total",
          "population": 10778
         },
         {
          "corrected_income": 27.4,
          "expectancy_65_confidence": "boven, 95% zeker",
          "expectancy_aged_65": 19.2,
          "expectancy_birth": 80.9,
          "expectancy_birth_confidence": "boven, 95% zeker",
          "gemeente": "Korendijk",
          "gender": "male",
          "population": 5358
         },
         {
          "corrected_income": 27.4,
          "expectancy_65_confidence": "geen",
          "expectancy_aged_65": 20.9,
          "expectancy_birth": 83.2,
          "expectancy_birth_confidence": "geen",
          "gemeente": "Korendijk",
          "gender": "female",
          "population": 5420
         },
         {
          "corrected_income": 28.3,
          "expectancy_65_confidence": "geen",
          "expectancy_aged_65": 19.8,
          "expectancy_birth": 81.8,
          "expectancy_birth_confidence": "geen",
          "gemeente": "Oudewater",
          "gender": "total",
          "population": 9924
         },
         {
          "corrected_income": 28.3,
          "expectancy_65_confidence": "onder, 95% zeker",
          "expectancy_aged_65": 17.7,
          "expectancy_birth": 79.2,
          "expectancy_birth_confidence": "geen",
          "gemeente": "Oudewater",
          "gender": "male",
          "population": 4874
         },
         {
          "corrected_income": 28.3,
          "expectancy_65_confidence": "geen",
          "expectancy_aged_65": 21.6,
          "expectancy_birth": 84.3,
          "expectancy_birth_confidence": "boven, 95% zeker",
          "gemeente": "Oudewater",
          "gender": "female",
          "population": 5050
         },
         {
          "corrected_income": 26.4,
          "expectancy_65_confidence": "boven, 99% zeker",
          "expectancy_aged_65": 21.5,
          "expectancy_birth": 83.7,
          "expectancy_birth_confidence": "boven, 99% zeker",
          "gemeente": "Papendrecht",
          "gender": "total",
          "population": 32188
         },
         {
          "corrected_income": 26.4,
          "expectancy_65_confidence": "boven, 99% zeker",
          "expectancy_aged_65": 20.8,
          "expectancy_birth": 82.9,
          "expectancy_birth_confidence": "boven, 99% zeker",
          "gemeente": "Papendrecht",
          "gender": "male",
          "population": 15848
         },
         {
          "corrected_income": 26.4,
          "expectancy_65_confidence": "boven, 99% zeker",
          "expectancy_aged_65": 22.3,
          "expectancy_birth": 84.7,
          "expectancy_birth_confidence": "boven, 99% zeker",
          "gemeente": "Papendrecht",
          "gender": "female",
          "population": 16340
         },
         {
          "corrected_income": 25.3,
          "expectancy_65_confidence": "boven, 99% zeker",
          "expectancy_aged_65": 21.1,
          "expectancy_birth": 83.3,
          "expectancy_birth_confidence": "boven, 99% zeker",
          "gemeente": "Ridderkerk",
          "gender": "total",
          "population": 45149
         },
         {
          "corrected_income": 25.3,
          "expectancy_65_confidence": "boven, 99% zeker",
          "expectancy_aged_65": 19.6,
          "expectancy_birth": 81.4,
          "expectancy_birth_confidence": "boven, 99% zeker",
          "gemeente": "Ridderkerk",
          "gender": "male",
          "population": 21826
         },
         {
          "corrected_income": 25.3,
          "expectancy_65_confidence": "boven, 99% zeker",
          "expectancy_aged_65": 22.4,
          "expectancy_birth": 85,
          "expectancy_birth_confidence": "boven, 99% zeker",
          "gemeente": "Ridderkerk",
          "gender": "female",
          "population": 23323
         },
         {
          "corrected_income": 22.9,
          "expectancy_65_confidence": "onder, 99% zeker",
          "expectancy_aged_65": 18.9,
          "expectancy_birth": 80.1,
          "expectancy_birth_confidence": "onder, 99% zeker",
          "gemeente": "Rotterdam",
          "gender": "total",
          "population": 623652
         },
         {
          "corrected_income": 22.9,
          "expectancy_65_confidence": "onder, 99% zeker",
          "expectancy_aged_65": 17.4,
          "expectancy_birth": 78.1,
          "expectancy_birth_confidence": "onder, 99% zeker",
          "gemeente": "Rotterdam",
          "gender": "male",
          "population": 307001
         },
         {
          "corrected_income": 22.9,
          "expectancy_65_confidence": "onder, 99% zeker",
          "expectancy_aged_65": 20.2,
          "expectancy_birth": 82.1,
          "expectancy_birth_confidence": "onder, 99% zeker",
          "gemeente": "Rotterdam",
          "gender": "female",
          "population": 316651
         },
         {
          "corrected_income": 25.5,
          "expectancy_65_confidence": "geen",
          "expectancy_aged_65": 20,
          "expectancy_birth": 81.7,
          "expectancy_birth_confidence": "geen",
          "gemeente": "Rijswijk",
          "gender": "total",
          "population": 48216
         },
         {
          "corrected_income": 25.5,
          "expectancy_65_confidence": "geen",
          "expectancy_aged_65": 18.2,
          "expectancy_birth": 80.1,
          "expectancy_birth_confidence": "geen",
          "gemeente": "Rijswijk",
          "gender": "male",
          "population": 22812
         },
         {
          "corrected_income": 25.5,
          "expectancy_65_confidence": "geen",
          "expectancy_aged_65": 21.5,
          "expectancy_birth": 83.1,
          "expectancy_birth_confidence": "geen",
          "gemeente": "Rijswijk",
          "gender": "female",
          "population": 25404
         },
         {
          "corrected_income": 23.1,
          "expectancy_65_confidence": "onder, 99% zeker",
          "expectancy_aged_65": 18.9,
          "expectancy_birth": 80.7,
          "expectancy_birth_confidence": "onder, 99% zeker",
          "gemeente": "Schiedam",
          "gender": "total",
          "population": 76869
         },
         {
          "corrected_income": 23.1,
          "expectancy_65_confidence": "onder, 99% zeker",
          "expectancy_aged_65": 17.7,
          "expectancy_birth": 79.2,
          "expectancy_birth_confidence": "onder, 99% zeker",
          "gemeente": "Schiedam",
          "gender": "male",
          "population": 37864
         },
         {
          "corrected_income": 23.1,
          "expectancy_65_confidence": "onder, 99% zeker",
          "expectancy_aged_65": 20,
          "expectancy_birth": 82.1,
          "expectancy_birth_confidence": "onder, 99% zeker",
          "gemeente": "Schiedam",
          "gender": "female",
          "population": 39005
         },
         {
          "corrected_income": 24.6,
          "expectancy_65_confidence": "onder, 99% zeker",
          "expectancy_aged_65": 19.3,
          "expectancy_birth": 79.8,
          "expectancy_birth_confidence": "onder, 99% zeker",
          "gemeente": "Sliedrecht",
          "gender": "total",
          "population": 24758
         },
         {
          "corrected_income": 24.6,
          "expectancy_65_confidence": "geen",
          "expectancy_aged_65": 18.3,
          "expectancy_birth": 78.3,
          "expectancy_birth_confidence": "onder, 99% zeker",
          "gemeente": "Sliedrecht",
          "gender": "male",
          "population": 12187
         },
         {
          "corrected_income": 24.6,
          "expectancy_65_confidence": "onder, 99% zeker",
          "expectancy_aged_65": 20.3,
          "expectancy_birth": 81.3,
          "expectancy_birth_confidence": "onder, 99% zeker",
          "gemeente": "Sliedrecht",
          "gender": "female",
          "population": 12571
         },
         {
          "corrected_income": 28.3,
          "expectancy_65_confidence": "geen",
          "expectancy_aged_65": 20.1,
          "expectancy_birth": 82.9,
          "expectancy_birth_confidence": "boven, 99% zeker",
          "gemeente": "Cromstrijen",
          "gender": "total",
          "population": 12784
         },
         {
          "corrected_income": 28.3,
          "expectancy_65_confidence": "geen",
          "expectancy_aged_65": 18.7,
          "expectancy_birth": 81.1,
          "expectancy_birth_confidence": "geen",
          "gemeente": "Cromstrijen",
          "gender": "male",
          "population": 6374
         },
         {
          "corrected_income": 28.3,
          "expectancy_65_confidence": "geen",
          "expectancy_aged_65": 21.2,
          "expectancy_birth": 84.5,
          "expectancy_birth_confidence": "boven, 99% zeker",
          "gemeente": "Cromstrijen",
          "gender": "female",
          "population": 6410
         },
         {
          "corrected_income": 30.2,
          "expectancy_65_confidence": "boven, 99% zeker",
          "expectancy_aged_65": 20.9,
          "expectancy_birth": 82.7,
          "expectancy_birth_confidence": "boven, 99% zeker",
          "gemeente": "Albrandswaard",
          "gender": "total",
          "population": 25148
         },
         {
          "corrected_income": 30.2,
          "expectancy_65_confidence": "geen",
          "expectancy_aged_65": 18.9,
          "expectancy_birth": 80.9,
          "expectancy_birth_confidence": "boven, 99% zeker",
          "gemeente": "Albrandswaard",
          "gender": "male",
          "population": 12525
         },
         {
          "corrected_income": 30.2,
          "expectancy_65_confidence": "boven, 99% zeker",
          "expectancy_aged_65": 22.9,
          "expectancy_birth": 84.4,
          "expectancy_birth_confidence": "boven, 99% zeker",
          "gemeente": "Albrandswaard",
          "gender": "female",
          "population": 12623
         },
         {
          "corrected_income": 31.8,
          "expectancy_65_confidence": "boven, 99% zeker",
          "expectancy_aged_65": 20.6,
          "expectancy_birth": 82.4,
          "expectancy_birth_confidence": "boven, 95% zeker",
          "gemeente": "Westvoorne",
          "gender": "total",
          "population": 14083
         },
         {
          "corrected_income": 31.8,
          "expectancy_65_confidence": "geen",
          "expectancy_aged_65": 18.6,
          "expectancy_birth": 80,
          "expectancy_birth_confidence": "geen",
          "gemeente": "Westvoorne",
          "gender": "male",
          "population": 6965
         },
         {
          "corrected_income": 31.8,
          "expectancy_65_confidence": "boven, 99% zeker",
          "expectancy_aged_65": 22.5,
          "expectancy_birth": 84.9,
          "expectancy_birth_confidence": "boven, 99% zeker",
          "gemeente": "Westvoorne",
          "gender": "female",
          "population": 7118
         },
         {
          "corrected_income": 27.2,
          "expectancy_65_confidence": "geen",
          "expectancy_aged_65": 20,
          "expectancy_birth": 82.6,
          "expectancy_birth_confidence": "boven, 99% zeker",
          "gemeente": "Strijen",
          "gender": "total",
          "population": 8716
         },
         {
          "corrected_income": 27.2,
          "expectancy_65_confidence": "geen",
          "expectancy_aged_65": 18.4,
          "expectancy_birth": 80.4,
          "expectancy_birth_confidence": "geen",
          "gemeente": "Strijen",
          "gender": "male",
          "population": 4329
         },
         {
          "corrected_income": 27.2,
          "expectancy_65_confidence": "geen",
          "expectancy_aged_65": 21.4,
          "expectancy_birth": 84.7,
          "expectancy_birth_confidence": "boven, 99% zeker",
          "gemeente": "Strijen",
          "gender": "female",
          "population": 4387
         },
         {
          "corrected_income": 26.5,
          "expectancy_65_confidence": "geen",
          "expectancy_aged_65": 20.1,
          "expectancy_birth": 81.6,
          "expectancy_birth_confidence": "geen",
          "gemeente": "Vianen",
          "gender": "total",
          "population": 19632
         },
         {
          "corrected_income": 26.5,
          "expectancy_65_confidence": "boven, 99% zeker",
          "expectancy_aged_65": 19.2,
          "expectancy_birth": 80.8,
          "expectancy_birth_confidence": "geen",
          "gemeente": "Vianen",
          "gender": "male",
          "population": 9682
         },
         {
          "corrected_income": 26.5,
          "expectancy_65_confidence": "onder, 95% zeker",
          "expectancy_aged_65": 20.8,
          "expectancy_birth": 82.2,
          "expectancy_birth_confidence": "onder, 95% zeker",
          "gemeente": "Vianen",
          "gender": "female",
          "population": 9950
         },
         {
          "corrected_income": 23.6,
          "expectancy_65_confidence": "geen",
          "expectancy_aged_65": 20,
          "expectancy_birth": 81.7,
          "expectancy_birth_confidence": "geen",
          "gemeente": "Vlaardingen",
          "gender": "total",
          "population": 71645
         },
         {
          "corrected_income": 23.6,
          "expectancy_65_confidence": "onder, 95% zeker",
          "expectancy_aged_65": 18.2,
          "expectancy_birth": 79.4,
          "expectancy_birth_confidence": "geen",
          "gemeente": "Vlaardingen",
          "gender": "male",
          "population": 34859
         },
         {
          "corrected_income": 23.6,
          "expectancy_65_confidence": "boven, 99% zeker",
          "expectancy_aged_65": 21.6,
          "expectancy_birth": 83.8,
          "expectancy_birth_confidence": "boven, 99% zeker",
          "gemeente": "Vlaardingen",
          "gender": "female",
          "population": 36786
         },
         {
          "corrected_income": 30.9,
          "expectancy_65_confidence": "boven, 99% zeker",
          "expectancy_aged_65": 21.5,
          "expectancy_birth": 84,
          "expectancy_birth_confidence": "boven, 99% zeker",
          "gemeente": "Voorschoten",
          "gender": "total",
          "population": 25150
         },
         {
          "corrected_income": 30.9,
          "expectancy_65_confidence": "boven, 99% zeker",
          "expectancy_aged_65": 19.9,
          "expectancy_birth": 82.2,
          "expectancy_birth_confidence": "boven, 99% zeker",
          "gemeente": "Voorschoten",
          "gender": "male",
          "population": 12124
         },
         {
          "corrected_income": 30.9,
          "expectancy_65_confidence": "boven, 99% zeker",
          "expectancy_aged_65": 22.9,
          "expectancy_birth": 85.5,
          "expectancy_birth_confidence": "boven, 99% zeker",
          "gemeente": "Voorschoten",
          "gender": "female",
          "population": 13026
         },
         {
          "corrected_income": 26.7,
          "expectancy_65_confidence": "boven, 99% zeker",
          "expectancy_aged_65": 22,
          "expectancy_birth": 84.2,
          "expectancy_birth_confidence": "boven, 99% zeker",
          "gemeente": "Waddinxveen",
          "gender": "total",
          "population": 25657
         },
         {
          "corrected_income": 26.7,
          "expectancy_65_confidence": "boven, 99% zeker",
          "expectancy_aged_65": 19.8,
          "expectancy_birth": 81.8,
          "expectancy_birth_confidence": "boven, 99% zeker",
          "gemeente": "Waddinxveen",
          "gender": "male",
          "population": 12757
         },
         {
          "corrected_income": 26.7,
          "expectancy_65_confidence": "boven, 99% zeker",
          "expectancy_aged_65": 24.1,
          "expectancy_birth": 86.4,
          "expectancy_birth_confidence": "boven, 99% zeker",
          "gemeente": "Waddinxveen",
          "gender": "female",
          "population": 12900
         },
         {
          "corrected_income": 39.3,
          "expectancy_65_confidence": "boven, 99% zeker",
          "expectancy_aged_65": 21.2,
          "expectancy_birth": 82.7,
          "expectancy_birth_confidence": "boven, 99% zeker",
          "gemeente": "Wassenaar",
          "gender": "total",
          "population": 25731
         },
         {
          "corrected_income": 39.3,
          "expectancy_65_confidence": "boven, 99% zeker",
          "expectancy_aged_65": 19.9,
          "expectancy_birth": 81.6,
          "expectancy_birth_confidence": "boven, 99% zeker",
          "gemeente": "Wassenaar",
          "gender": "male",
          "population": 12150
         },
         {
          "corrected_income": 39.3,
          "expectancy_65_confidence": "boven, 99% zeker",
          "expectancy_aged_65": 22.2,
          "expectancy_birth": 83.7,
          "expectancy_birth_confidence": "geen",
          "gemeente": "Wassenaar",
          "gender": "female",
          "population": 13581
         },
         {
          "corrected_income": 28.4,
          "expectancy_65_confidence": "boven, 99% zeker",
          "expectancy_aged_65": 20.5,
          "expectancy_birth": 82.7,
          "expectancy_birth_confidence": "boven, 99% zeker",
          "gemeente": "Woerden",
          "gender": "total",
          "population": 50631
         },
         {
          "corrected_income": 28.4,
          "expectancy_65_confidence": "boven, 99% zeker",
          "expectancy_aged_65": 19,
          "expectancy_birth": 80.8,
          "expectancy_birth_confidence": "boven, 99% zeker",
          "gemeente": "Woerden",
          "gender": "male",
          "population": 24988
         },
         {
          "corrected_income": 28.4,
          "expectancy_65_confidence": "boven, 95% zeker",
          "expectancy_aged_65": 21.6,
          "expectancy_birth": 84.4,
          "expectancy_birth_confidence": "boven, 99% zeker",
          "gemeente": "Woerden",
          "gender": "female",
          "population": 25643
         },
         {
          "corrected_income": 26,
          "expectancy_65_confidence": "boven, 99% zeker",
          "expectancy_aged_65": 20.7,
          "expectancy_birth": 82.6,
          "expectancy_birth_confidence": "boven, 99% zeker",
          "gemeente": "Zoetermeer",
          "gender": "total",
          "population": 124025
         },
         {
          "corrected_income": 26,
          "expectancy_65_confidence": "boven, 99% zeker",
          "expectancy_aged_65": 19.1,
          "expectancy_birth": 80.8,
          "expectancy_birth_confidence": "boven, 99% zeker",
          "gemeente": "Zoetermeer",
          "gender": "male",
          "population": 60554
         },
         {
          "corrected_income": 26,
          "expectancy_65_confidence": "boven, 99% zeker",
          "expectancy_aged_65": 22.2,
          "expectancy_birth": 84.3,
          "expectancy_birth_confidence": "boven, 99% zeker",
          "gemeente": "Zoetermeer",
          "gender": "female",
          "population": 63471
         },
         {
          "corrected_income": 28.8,
          "expectancy_65_confidence": "geen",
          "expectancy_aged_65": 20.5,
          "expectancy_birth": 81.7,
          "expectancy_birth_confidence": "geen",
          "gemeente": "Zoeterwoude",
          "gender": "total",
          "population": 8114
         },
         {
          "corrected_income": 28.8,
          "expectancy_65_confidence": "geen",
          "expectancy_aged_65": 18.6,
          "expectancy_birth": 79.2,
          "expectancy_birth_confidence": "geen",
          "gemeente": "Zoeterwoude",
          "gender": "male",
          "population": 4037
         },
         {
          "corrected_income": 28.8,
          "expectancy_65_confidence": "boven, 99% zeker",
          "expectancy_aged_65": 22.4,
          "expectancy_birth": 84.3,
          "expectancy_birth_confidence": "geen",
          "gemeente": "Zoeterwoude",
          "gender": "female",
          "population": 4077
         },
         {
          "corrected_income": 25.2,
          "expectancy_65_confidence": "boven, 99% zeker",
          "expectancy_aged_65": 20.4,
          "expectancy_birth": 82,
          "expectancy_birth_confidence": "boven, 95% zeker",
          "gemeente": "Zwijndrecht",
          "gender": "total",
          "population": 44501
         },
         {
          "corrected_income": 25.2,
          "expectancy_65_confidence": "geen",
          "expectancy_aged_65": 18.6,
          "expectancy_birth": 80.3,
          "expectancy_birth_confidence": "geen",
          "gemeente": "Zwijndrecht",
          "gender": "male",
          "population": 21632
         },
         {
          "corrected_income": 25.2,
          "expectancy_65_confidence": "boven, 99% zeker",
          "expectancy_aged_65": 21.9,
          "expectancy_birth": 83.6,
          "expectancy_birth_confidence": "geen",
          "gemeente": "Zwijndrecht",
          "gender": "female",
          "population": 22869
         },
         {
          "corrected_income": 25.7,
          "expectancy_65_confidence": "boven, 99% zeker",
          "expectancy_aged_65": 21.9,
          "expectancy_birth": 83.3,
          "expectancy_birth_confidence": "boven, 99% zeker",
          "gemeente": "Borsele",
          "gender": "total",
          "population": 22568
         },
         {
          "corrected_income": 25.7,
          "expectancy_65_confidence": "boven, 99% zeker",
          "expectancy_aged_65": 20.2,
          "expectancy_birth": 80.6,
          "expectancy_birth_confidence": "geen",
          "gemeente": "Borsele",
          "gender": "male",
          "population": 11417
         },
         {
          "corrected_income": 25.7,
          "expectancy_65_confidence": "boven, 99% zeker",
          "expectancy_aged_65": 23.3,
          "expectancy_birth": 86,
          "expectancy_birth_confidence": "boven, 99% zeker",
          "gemeente": "Borsele",
          "gender": "female",
          "population": 11151
         },
         {
          "corrected_income": 25.4,
          "expectancy_65_confidence": "boven, 99% zeker",
          "expectancy_aged_65": 20.5,
          "expectancy_birth": 82.5,
          "expectancy_birth_confidence": "boven, 99% zeker",
          "gemeente": "Goes",
          "gender": "total",
          "population": 37153
         },
         {
          "corrected_income": 25.4,
          "expectancy_65_confidence": "boven, 99% zeker",
          "expectancy_aged_65": 19.2,
          "expectancy_birth": 80.9,
          "expectancy_birth_confidence": "boven, 99% zeker",
          "gemeente": "Goes",
          "gender": "male",
          "population": 18176
         },
         {
          "corrected_income": 25.4,
          "expectancy_65_confidence": "boven, 99% zeker",
          "expectancy_aged_65": 21.7,
          "expectancy_birth": 84,
          "expectancy_birth_confidence": "boven, 99% zeker",
          "gemeente": "Goes",
          "gender": "female",
          "population": 18977
         },
         {
          "corrected_income": 25.6,
          "expectancy_65_confidence": "onder, 99% zeker",
          "expectancy_aged_65": 19.4,
          "expectancy_birth": 81.7,
          "expectancy_birth_confidence": "geen",
          "gemeente": "West Maas en Waal",
          "gender": "total",
          "population": 18570
         },
         {
          "corrected_income": 25.6,
          "expectancy_65_confidence": "onder, 99% zeker",
          "expectancy_aged_65": 17.8,
          "expectancy_birth": 80,
          "expectancy_birth_confidence": "geen",
          "gemeente": "West Maas en Waal",
          "gender": "male",
          "population": 9237
         },
         {
          "corrected_income": 25.6,
          "expectancy_65_confidence": "geen",
          "expectancy_aged_65": 20.8,
          "expectancy_birth": 83.2,
          "expectancy_birth_confidence": "geen",
          "gemeente": "West Maas en Waal",
          "gender": "female",
          "population": 9333
         },
         {
          "corrected_income": 25.3,
          "expectancy_65_confidence": "boven, 99% zeker",
          "expectancy_aged_65": 20.6,
          "expectancy_birth": 81.9,
          "expectancy_birth_confidence": "geen",
          "gemeente": "Hulst",
          "gender": "total",
          "population": 27360
         },
         {
          "corrected_income": 25.3,
          "expectancy_65_confidence": "geen",
          "expectancy_aged_65": 18.8,
          "expectancy_birth": 79.8,
          "expectancy_birth_confidence": "geen",
          "gemeente": "Hulst",
          "gender": "male",
          "population": 13634
         },
         {
          "corrected_income": 25.3,
          "expectancy_65_confidence": "boven, 99% zeker",
          "expectancy_aged_65": 22.4,
          "expectancy_birth": 84,
          "expectancy_birth_confidence": "geen",
          "gemeente": "Hulst",
          "gender": "female",
          "population": 13726
         },
         {
          "corrected_income": 26.4,
          "expectancy_65_confidence": "boven, 99% zeker",
          "expectancy_aged_65": 21.4,
          "expectancy_birth": 83.8,
          "expectancy_birth_confidence": "boven, 99% zeker",
          "gemeente": "Kapelle",
          "gender": "total",
          "population": 12545
         },
         {
          "corrected_income": 26.4,
          "expectancy_65_confidence": "boven, 99% zeker",
          "expectancy_aged_65": 20,
          "expectancy_birth": 82.3,
          "expectancy_birth_confidence": "boven, 99% zeker",
          "gemeente": "Kapelle",
          "gender": "male",
          "population": 6253
         },
         {
          "corrected_income": 26.4,
          "expectancy_65_confidence": "boven, 99% zeker",
          "expectancy_aged_65": 22.6,
          "expectancy_birth": 85.2,
          "expectancy_birth_confidence": "boven, 99% zeker",
          "gemeente": "Kapelle",
          "gender": "female",
          "population": 6292
         },
         {
          "corrected_income": 24.9,
          "expectancy_65_confidence": "boven, 99% zeker",
          "expectancy_aged_65": 21.2,
          "expectancy_birth": 83,
          "expectancy_birth_confidence": "boven, 99% zeker",
          "gemeente": "Middelburg",
          "gender": "total",
          "population": 47613
         },
         {
          "corrected_income": 24.9,
          "expectancy_65_confidence": "boven, 99% zeker",
          "expectancy_aged_65": 19.4,
          "expectancy_birth": 80.7,
          "expectancy_birth_confidence": "boven, 99% zeker",
          "gemeente": "Middelburg",
          "gender": "male",
          "population": 23104
         },
         {
          "corrected_income": 24.9,
          "expectancy_65_confidence": "boven, 99% zeker",
          "expectancy_aged_65": 22.8,
          "expectancy_birth": 85.1,
          "expectancy_birth_confidence": "boven, 99% zeker",
          "gemeente": "Middelburg",
          "gender": "female",
          "population": 24509
         },
         {
          "corrected_income": 28.7,
          "expectancy_65_confidence": "boven, 99% zeker",
          "expectancy_aged_65": 21.9,
          "expectancy_birth": 83.9,
          "expectancy_birth_confidence": "boven, 99% zeker",
          "gemeente": "Giessenlanden",
          "gender": "total",
          "population": 14464
         },
         {
          "corrected_income": 28.7,
          "expectancy_65_confidence": "boven, 99% zeker",
          "expectancy_aged_65": 20.3,
          "expectancy_birth": 82.4,
          "expectancy_birth_confidence": "boven, 99% zeker",
          "gemeente": "Giessenlanden",
          "gender": "male",
          "population": 7357
         },
         {
          "corrected_income": 28.7,
          "expectancy_65_confidence": "boven, 99% zeker",
          "expectancy_aged_65": 23.6,
          "expectancy_birth": 85.6,
          "expectancy_birth_confidence": "boven, 99% zeker",
          "gemeente": "Giessenlanden",
          "gender": "female",
          "population": 7107
         },
         {
          "corrected_income": 24.5,
          "expectancy_65_confidence": "boven, 99% zeker",
          "expectancy_aged_65": 21.1,
          "expectancy_birth": 82.7,
          "expectancy_birth_confidence": "boven, 99% zeker",
          "gemeente": "Reimerswaal",
          "gender": "total",
          "population": 22058
         },
         {
          "corrected_income": 24.5,
          "expectancy_65_confidence": "boven, 99% zeker",
          "expectancy_aged_65": 19.7,
          "expectancy_birth": 81,
          "expectancy_birth_confidence": "boven, 99% zeker",
          "gemeente": "Reimerswaal",
          "gender": "male",
          "population": 11058
         },
         {
          "corrected_income": 24.5,
          "expectancy_65_confidence": "boven, 99% zeker",
          "expectancy_aged_65": 22.3,
          "expectancy_birth": 84.4,
          "expectancy_birth_confidence": "boven, 99% zeker",
          "gemeente": "Reimerswaal",
          "gender": "female",
          "population": 11000
         },
         {
          "corrected_income": 27.1,
          "expectancy_65_confidence": "onder, 99% zeker",
          "expectancy_aged_65": 19.3,
          "expectancy_birth": 82,
          "expectancy_birth_confidence": "geen",
          "gemeente": "Zederik",
          "gender": "total",
          "population": 13717
         },
         {
          "corrected_income": 27.1,
          "expectancy_65_confidence": "geen",
          "expectancy_aged_65": 18.2,
          "expectancy_birth": 81.2,
          "expectancy_birth_confidence": "boven, 99% zeker",
          "gemeente": "Zederik",
          "gender": "male",
          "population": 6875
         },
         {
          "corrected_income": 27.1,
          "expectancy_65_confidence": "onder, 99% zeker",
          "expectancy_aged_65": 20.3,
          "expectancy_birth": 82.7,
          "expectancy_birth_confidence": "geen",
          "gemeente": "Zederik",
          "gender": "female",
          "population": 6842
         },
         {
          "corrected_income": 24.5,
          "expectancy_65_confidence": "geen",
          "expectancy_aged_65": 19.9,
          "expectancy_birth": 81.5,
          "expectancy_birth_confidence": "geen",
          "gemeente": "Terneuzen",
          "gender": "total",
          "population": 54577
         },
         {
          "corrected_income": 24.5,
          "expectancy_65_confidence": "geen",
          "expectancy_aged_65": 18.2,
          "expectancy_birth": 79.3,
          "expectancy_birth_confidence": "onder, 95% zeker",
          "gemeente": "Terneuzen",
          "gender": "male",
          "population": 27082
         },
         {
          "corrected_income": 24.5,
          "expectancy_65_confidence": "geen",
          "expectancy_aged_65": 21.5,
          "expectancy_birth": 83.7,
          "expectancy_birth_confidence": "geen",
          "gemeente": "Terneuzen",
          "gender": "female",
          "population": 27495
         },
         {
          "corrected_income": 24,
          "expectancy_65_confidence": "geen",
          "expectancy_aged_65": 20,
          "expectancy_birth": 81.8,
          "expectancy_birth_confidence": "geen",
          "gemeente": "Tholen",
          "gender": "total",
          "population": 25440
         },
         {
          "corrected_income": 24,
          "expectancy_65_confidence": "onder, 99% zeker",
          "expectancy_aged_65": 17.9,
          "expectancy_birth": 79.4,
          "expectancy_birth_confidence": "geen",
          "gemeente": "Tholen",
          "gender": "male",
          "population": 12683
         },
         {
          "corrected_income": 24,
          "expectancy_65_confidence": "boven, 99% zeker",
          "expectancy_aged_65": 22.1,
          "expectancy_birth": 84.3,
          "expectancy_birth_confidence": "boven, 99% zeker",
          "gemeente": "Tholen",
          "gender": "female",
          "population": 12757
         },
         {
          "corrected_income": 26.7,
          "expectancy_65_confidence": "boven, 99% zeker",
          "expectancy_aged_65": 20.8,
          "expectancy_birth": 83.3,
          "expectancy_birth_confidence": "boven, 99% zeker",
          "gemeente": "Veere",
          "gender": "total",
          "population": 21926
         },
         {
          "corrected_income": 26.7,
          "expectancy_65_confidence": "boven, 99% zeker",
          "expectancy_aged_65": 19.3,
          "expectancy_birth": 81.8,
          "expectancy_birth_confidence": "boven, 99% zeker",
          "gemeente": "Veere",
          "gender": "male",
          "population": 10991
         },
         {
          "corrected_income": 26.7,
          "expectancy_65_confidence": "boven, 99% zeker",
          "expectancy_aged_65": 22.2,
          "expectancy_birth": 84.7,
          "expectancy_birth_confidence": "boven, 99% zeker",
          "gemeente": "Veere",
          "gender": "female",
          "population": 10935
         },
         {
          "corrected_income": 23.1,
          "expectancy_65_confidence": "onder, 99% zeker",
          "expectancy_aged_65": 19.3,
          "expectancy_birth": 80.5,
          "expectancy_birth_confidence": "onder, 99% zeker",
          "gemeente": "Vlissingen",
          "gender": "total",
          "population": 44485
         },
         {
          "corrected_income": 23.1,
          "expectancy_65_confidence": "onder, 99% zeker",
          "expectancy_aged_65": 18,
          "expectancy_birth": 78.6,
          "expectancy_birth_confidence": "onder, 99% zeker",
          "gemeente": "Vlissingen",
          "gender": "male",
          "population": 22174
         },
         {
          "corrected_income": 23.1,
          "expectancy_65_confidence": "onder, 99% zeker",
          "expectancy_aged_65": 20.5,
          "expectancy_birth": 82.4,
          "expectancy_birth_confidence": "onder, 99% zeker",
          "gemeente": "Vlissingen",
          "gender": "female",
          "population": 22311
         },
         {
          "corrected_income": 27.1,
          "expectancy_65_confidence": "boven, 99% zeker",
          "expectancy_aged_65": 21.6,
          "expectancy_birth": 83.1,
          "expectancy_birth_confidence": "boven, 99% zeker",
          "gemeente": "Lingewaal",
          "gender": "total",
          "population": 11079
         },
         {
          "corrected_income": 27.1,
          "expectancy_65_confidence": "boven, 99% zeker",
          "expectancy_aged_65": 20.2,
          "expectancy_birth": 80.9,
          "expectancy_birth_confidence": "geen",
          "gemeente": "Lingewaal",
          "gender": "male",
          "population": 5495
         },
         {
          "corrected_income": 27.1,
          "expectancy_65_confidence": "boven, 99% zeker",
          "expectancy_aged_65": 22.9,
          "expectancy_birth": 85.3,
          "expectancy_birth_confidence": "boven, 99% zeker",
          "gemeente": "Lingewaal",
          "gender": "female",
          "population": 5584
         },
         {
          "corrected_income": 30.6,
          "expectancy_65_confidence": "boven, 99% zeker",
          "expectancy_aged_65": 21,
          "expectancy_birth": 83.1,
          "expectancy_birth_confidence": "boven, 99% zeker",
          "gemeente": "De Ronde Venen",
          "gender": "total",
          "population": 42588
         },
         {
          "corrected_income": 30.6,
          "expectancy_65_confidence": "boven, 99% zeker",
          "expectancy_aged_65": 19.2,
          "expectancy_birth": 80.7,
          "expectancy_birth_confidence": "boven, 99% zeker",
          "gemeente": "De Ronde Venen",
          "gender": "male",
          "population": 21129
         },
         {
          "corrected_income": 30.6,
          "expectancy_65_confidence": "boven, 99% zeker",
          "expectancy_aged_65": 22.7,
          "expectancy_birth": 85.5,
          "expectancy_birth_confidence": "boven, 99% zeker",
          "gemeente": "De Ronde Venen",
          "gender": "female",
          "population": 21459
         },
         {
          "corrected_income": 23.9,
          "expectancy_65_confidence": "onder, 99% zeker",
          "expectancy_aged_65": 19.5,
          "expectancy_birth": 81.2,
          "expectancy_birth_confidence": "geen",
          "gemeente": "Tytsjerksteradiel",
          "gender": "total",
          "population": 31957
         },
         {
          "corrected_income": 23.9,
          "expectancy_65_confidence": "geen",
          "expectancy_aged_65": 18.6,
          "expectancy_birth": 79.3,
          "expectancy_birth_confidence": "geen",
          "gemeente": "Tytsjerksteradiel",
          "gender": "male",
          "population": 15946
         },
         {
          "corrected_income": 23.9,
          "expectancy_65_confidence": "onder, 99% zeker",
          "expectancy_aged_65": 20.4,
          "expectancy_birth": 83,
          "expectancy_birth_confidence": "geen",
          "gemeente": "Tytsjerksteradiel",
          "gender": "female",
          "population": 16011
         },
         {
          "corrected_income": 26,
          "expectancy_65_confidence": "onder, 99% zeker",
          "expectancy_aged_65": 19.2,
          "expectancy_birth": 80.9,
          "expectancy_birth_confidence": "geen",
          "gemeente": "Aalburg",
          "gender": "total",
          "population": 12922
         },
         {
          "corrected_income": 26,
          "expectancy_65_confidence": "onder, 99% zeker",
          "expectancy_aged_65": 17.6,
          "expectancy_birth": 79.8,
          "expectancy_birth_confidence": "geen",
          "gemeente": "Aalburg",
          "gender": "male",
          "population": 6540
         },
         {
          "corrected_income": 26,
          "expectancy_65_confidence": "geen",
          "expectancy_aged_65": 20.8,
          "expectancy_birth": 81.9,
          "expectancy_birth_confidence": "onder, 95% zeker",
          "gemeente": "Aalburg",
          "gender": "female",
          "population": 6382
         },
         {
          "corrected_income": 25.6,
          "expectancy_65_confidence": "geen",
          "expectancy_aged_65": 20.1,
          "expectancy_birth": 82.4,
          "expectancy_birth_confidence": "boven, 99% zeker",
          "gemeente": "Asten",
          "gender": "total",
          "population": 16559
         },
         {
          "corrected_income": 25.6,
          "expectancy_65_confidence": "geen",
          "expectancy_aged_65": 18.3,
          "expectancy_birth": 80.2,
          "expectancy_birth_confidence": "geen",
          "gemeente": "Asten",
          "gender": "male",
          "population": 8506
         },
         {
          "corrected_income": 25.6,
          "expectancy_65_confidence": "geen",
          "expectancy_aged_65": 21.7,
          "expectancy_birth": 84.6,
          "expectancy_birth_confidence": "boven, 99% zeker",
          "gemeente": "Asten",
          "gender": "female",
          "population": 8053
         },
         {
          "corrected_income": 25.1,
          "expectancy_65_confidence": "geen",
          "expectancy_aged_65": 20,
          "expectancy_birth": 81.4,
          "expectancy_birth_confidence": "geen",
          "gemeente": "Baarle-Nassau",
          "gender": "total",
          "population": 6599
         },
         {
          "corrected_income": 25.1,
          "expectancy_65_confidence": "geen",
          "expectancy_aged_65": 18.6,
          "expectancy_birth": 79.3,
          "expectancy_birth_confidence": "geen",
          "gemeente": "Baarle-Nassau",
          "gender": "male",
          "population": 3353
         },
         {
          "corrected_income": 25.1,
          "expectancy_65_confidence": "geen",
          "expectancy_aged_65": 21.5,
          "expectancy_birth": 83.6,
          "expectancy_birth_confidence": "geen",
          "gemeente": "Baarle-Nassau",
          "gender": "female",
          "population": 3246
         },
         {
          "corrected_income": 25,
          "expectancy_65_confidence": "onder, 99% zeker",
          "expectancy_aged_65": 19.6,
          "expectancy_birth": 81.1,
          "expectancy_birth_confidence": "onder, 99% zeker",
          "gemeente": "Bergen op Zoom",
          "gender": "total",
          "population": 66320
         },
         {
          "corrected_income": 25,
          "expectancy_65_confidence": "onder, 95% zeker",
          "expectancy_aged_65": 18.2,
          "expectancy_birth": 79.5,
          "expectancy_birth_confidence": "geen",
          "gemeente": "Bergen op Zoom",
          "gender": "male",
          "population": 32801
         },
         {
          "corrected_income": 25,
          "expectancy_65_confidence": "onder, 99% zeker",
          "expectancy_aged_65": 20.8,
          "expectancy_birth": 82.4,
          "expectancy_birth_confidence": "onder, 99% zeker",
          "gemeente": "Bergen op Zoom",
          "gender": "female",
          "population": 33519
         },
         {
          "corrected_income": 27.6,
          "expectancy_65_confidence": "geen",
          "expectancy_aged_65": 20.1,
          "expectancy_birth": 82.4,
          "expectancy_birth_confidence": "boven, 99% zeker",
          "gemeente": "Best",
          "gender": "total",
          "population": 28737
         },
         {
          "corrected_income": 27.6,
          "expectancy_65_confidence": "boven, 95% zeker",
          "expectancy_aged_65": 18.9,
          "expectancy_birth": 81.6,
          "expectancy_birth_confidence": "boven, 99% zeker",
          "gemeente": "Best",
          "gender": "male",
          "population": 14416
         },
         {
          "corrected_income": 27.6,
          "expectancy_65_confidence": "geen",
          "expectancy_aged_65": 21.2,
          "expectancy_birth": 83,
          "expectancy_birth_confidence": "geen",
          "gemeente": "Best",
          "gender": "female",
          "population": 14321
         },
         {
          "corrected_income": 25.4,
          "expectancy_65_confidence": "onder, 99% zeker",
          "expectancy_aged_65": 19.1,
          "expectancy_birth": 80,
          "expectancy_birth_confidence": "onder, 99% zeker",
          "gemeente": "Boekel",
          "gender": "total",
          "population": 10119
         },
         {
          "corrected_income": 25.4,
          "expectancy_65_confidence": "onder, 95% zeker",
          "expectancy_aged_65": 17.7,
          "expectancy_birth": 77.9,
          "expectancy_birth_confidence": "onder, 99% zeker",
          "gemeente": "Boekel",
          "gender": "male",
          "population": 5179
         },
         {
          "corrected_income": 25.4,
          "expectancy_65_confidence": "geen",
          "expectancy_aged_65": 20.5,
          "expectancy_birth": 82.3,
          "expectancy_birth_confidence": "geen",
          "gemeente": "Boekel",
          "gender": "female",
          "population": 4940
         },
         {
          "corrected_income": 26.2,
          "expectancy_65_confidence": "boven, 99% zeker",
          "expectancy_aged_65": 20.7,
          "expectancy_birth": 82.9,
          "expectancy_birth_confidence": "boven, 99% zeker",
          "gemeente": "Boxmeer",
          "gender": "total",
          "population": 28342
         },
         {
          "corrected_income": 26.2,
          "expectancy_65_confidence": "boven, 99% zeker",
          "expectancy_aged_65": 19.6,
          "expectancy_birth": 81.8,
          "expectancy_birth_confidence": "boven, 99% zeker",
          "gemeente": "Boxmeer",
          "gender": "male",
          "population": 14233
         },
         {
          "corrected_income": 26.2,
          "expectancy_65_confidence": "boven, 95% zeker",
          "expectancy_aged_65": 21.8,
          "expectancy_birth": 84,
          "expectancy_birth_confidence": "boven, 95% zeker",
          "gemeente": "Boxmeer",
          "gender": "female",
          "population": 14109
         },
         {
          "corrected_income": 25.6,
          "expectancy_65_confidence": "onder, 99% zeker",
          "expectancy_aged_65": 19.2,
          "expectancy_birth": 81,
          "expectancy_birth_confidence": "onder, 99% zeker",
          "gemeente": "Boxtel",
          "gender": "total",
          "population": 30337
         },
         {
          "corrected_income": 25.6,
          "expectancy_65_confidence": "onder, 99% zeker",
          "expectancy_aged_65": 17.9,
          "expectancy_birth": 79.8,
          "expectancy_birth_confidence": "geen",
          "gemeente": "Boxtel",
          "gender": "male",
          "population": 15060
         },
         {
          "corrected_income": 25.6,
          "expectancy_65_confidence": "onder, 99% zeker",
          "expectancy_aged_65": 20.4,
          "expectancy_birth": 82,
          "expectancy_birth_confidence": "onder, 99% zeker",
          "gemeente": "Boxtel",
          "gender": "female",
          "population": 15277
         },
         {
          "corrected_income": 26.4,
          "expectancy_65_confidence": "onder, 99% zeker",
          "expectancy_aged_65": 19.4,
          "expectancy_birth": 80.9,
          "expectancy_birth_confidence": "onder, 99% zeker",
          "gemeente": "Breda",
          "gender": "total",
          "population": 180937
         },
         {
          "corrected_income": 26.4,
          "expectancy_65_confidence": "onder, 99% zeker",
          "expectancy_aged_65": 18,
          "expectancy_birth": 79.1,
          "expectancy_birth_confidence": "onder, 99% zeker",
          "gemeente": "Breda",
          "gender": "male",
          "population": 88620
         },
         {
          "corrected_income": 26.4,
          "expectancy_65_confidence": "onder, 99% zeker",
          "expectancy_aged_65": 20.7,
          "expectancy_birth": 82.5,
          "expectancy_birth_confidence": "onder, 99% zeker",
          "gemeente": "Breda",
          "gender": "female",
          "population": 92317
         },
         {
          "corrected_income": 24.9,
          "expectancy_65_confidence": "geen",
          "expectancy_aged_65": 19.8,
          "expectancy_birth": 80.4,
          "expectancy_birth_confidence": "onder, 99% zeker",
          "gemeente": "Deurne",
          "gender": "total",
          "population": 31765
         },
         {
          "corrected_income": 24.9,
          "expectancy_65_confidence": "onder, 99% zeker",
          "expectancy_aged_65": 17.8,
          "expectancy_birth": 78.1,
          "expectancy_birth_confidence": "onder, 99% zeker",
          "gemeente": "Deurne",
          "gender": "male",
          "population": 15949
         },
         {
          "corrected_income": 24.9,
          "expectancy_65_confidence": "boven, 99% zeker",
          "expectancy_aged_65": 21.8,
          "expectancy_birth": 82.9,
          "expectancy_birth_confidence": "geen",
          "gemeente": "Deurne",
          "gender": "female",
          "population": 15816
         },
         {
          "corrected_income": 20.8,
          "expectancy_65_confidence": "onder, 99% zeker",
          "expectancy_aged_65": 18.3,
          "expectancy_birth": 78.7,
          "expectancy_birth_confidence": "onder, 99% zeker",
          "gemeente": "Pekela",
          "gender": "total",
          "population": 12678
         },
         {
          "corrected_income": 20.8,
          "expectancy_65_confidence": "onder, 95% zeker",
          "expectancy_aged_65": 17.8,
          "expectancy_birth": 77.7,
          "expectancy_birth_confidence": "onder, 99% zeker",
          "gemeente": "Pekela",
          "gender": "male",
          "population": 6412
         },
         {
          "corrected_income": 20.8,
          "expectancy_65_confidence": "onder, 99% zeker",
          "expectancy_aged_65": 18.6,
          "expectancy_birth": 79.6,
          "expectancy_birth_confidence": "onder, 99% zeker",
          "gemeente": "Pekela",
          "gender": "female",
          "population": 6266
         },
         {
          "corrected_income": 25.6,
          "expectancy_65_confidence": "geen",
          "expectancy_aged_65": 19.7,
          "expectancy_birth": 81.6,
          "expectancy_birth_confidence": "geen",
          "gemeente": "Dongen",
          "gender": "total",
          "population": 25395
         },
         {
          "corrected_income": 25.6,
          "expectancy_65_confidence": "onder, 95% zeker",
          "expectancy_aged_65": 18,
          "expectancy_birth": 79.7,
          "expectancy_birth_confidence": "geen",
          "gemeente": "Dongen",
          "gender": "male",
          "population": 12625
         },
         {
          "corrected_income": 25.6,
          "expectancy_65_confidence": "geen",
          "expectancy_aged_65": 21.2,
          "expectancy_birth": 83.3,
          "expectancy_birth_confidence": "geen",
          "gemeente": "Dongen",
          "gender": "female",
          "population": 12770
         },
         {
          "corrected_income": 28.2,
          "expectancy_65_confidence": "geen",
          "expectancy_aged_65": 19.8,
          "expectancy_birth": 81.1,
          "expectancy_birth_confidence": "geen",
          "gemeente": "Eersel",
          "gender": "total",
          "population": 18347
         },
         {
          "corrected_income": 28.2,
          "expectancy_65_confidence": "geen",
          "expectancy_aged_65": 18.3,
          "expectancy_birth": 79,
          "expectancy_birth_confidence": "geen",
          "gemeente": "Eersel",
          "gender": "male",
          "population": 9288
         },
         {
          "corrected_income": 28.2,
          "expectancy_65_confidence": "geen",
          "expectancy_aged_65": 21.2,
          "expectancy_birth": 83.3,
          "expectancy_birth_confidence": "geen",
          "gemeente": "Eersel",
          "gender": "female",
          "population": 9059
         },
         {
          "corrected_income": 24.6,
          "expectancy_65_confidence": "onder, 99% zeker",
          "expectancy_aged_65": 19.6,
          "expectancy_birth": 81,
          "expectancy_birth_confidence": "onder, 99% zeker",
          "gemeente": "Eindhoven",
          "gender": "total",
          "population": 223209
         },
         {
          "corrected_income": 24.6,
          "expectancy_65_confidence": "onder, 99% zeker",
          "expectancy_aged_65": 18.1,
          "expectancy_birth": 79,
          "expectancy_birth_confidence": "onder, 99% zeker",
          "gemeente": "Eindhoven",
          "gender": "male",
          "population": 114034
         },
         {
          "corrected_income": 24.6,
          "expectancy_65_confidence": "onder, 99% zeker",
          "expectancy_aged_65": 20.9,
          "expectancy_birth": 82.9,
          "expectancy_birth_confidence": "onder, 95% zeker",
          "gemeente": "Eindhoven",
          "gender": "female",
          "population": 109175
         },
         {
          "corrected_income": 25.8,
          "expectancy_65_confidence": "onder, 99% zeker",
          "expectancy_aged_65": 19.5,
          "expectancy_birth": 81.4,
          "expectancy_birth_confidence": "geen",
          "gemeente": "Etten-Leur",
          "gender": "total",
          "population": 42503
         },
         {
          "corrected_income": 25.8,
          "expectancy_65_confidence": "geen",
          "expectancy_aged_65": 18.5,
          "expectancy_birth": 80.2,
          "expectancy_birth_confidence": "geen",
          "gemeente": "Etten-Leur",
          "gender": "male",
          "population": 21032
         },
         {
          "corrected_income": 25.8,
          "expectancy_65_confidence": "onder, 99% zeker",
          "expectancy_aged_65": 20.3,
          "expectancy_birth": 82.5,
          "expectancy_birth_confidence": "onder, 99% zeker",
          "gemeente": "Etten-Leur",
          "gender": "female",
          "population": 21471
         },
         {
          "corrected_income": 25.4,
          "expectancy_65_confidence": "onder, 99% zeker",
          "expectancy_aged_65": 18.4,
          "expectancy_birth": 79.5,
          "expectancy_birth_confidence": "onder, 99% zeker",
          "gemeente": "Geertruidenberg",
          "gender": "total",
          "population": 21574
         },
         {
          "corrected_income": 25.4,
          "expectancy_65_confidence": "onder, 99% zeker",
          "expectancy_aged_65": 17,
          "expectancy_birth": 77.8,
          "expectancy_birth_confidence": "onder, 99% zeker",
          "gemeente": "Geertruidenberg",
          "gender": "male",
          "population": 10725
         },
         {
          "corrected_income": 25.4,
          "expectancy_65_confidence": "onder, 99% zeker",
          "expectancy_aged_65": 19.7,
          "expectancy_birth": 81.2,
          "expectancy_birth_confidence": "onder, 99% zeker",
          "gemeente": "Geertruidenberg",
          "gender": "female",
          "population": 10849
         },
         {
          "corrected_income": 25.4,
          "expectancy_65_confidence": "geen",
          "expectancy_aged_65": 19.8,
          "expectancy_birth": 81.6,
          "expectancy_birth_confidence": "geen",
          "gemeente": "Gilze en Rijen",
          "gender": "total",
          "population": 26065
         },
         {
          "corrected_income": 25.4,
          "expectancy_65_confidence": "geen",
          "expectancy_aged_65": 18.3,
          "expectancy_birth": 79.5,
          "expectancy_birth_confidence": "geen",
          "gemeente": "Gilze en Rijen",
          "gender": "male",
          "population": 13050
         },
         {
          "corrected_income": 25.4,
          "expectancy_65_confidence": "geen",
          "expectancy_aged_65": 21.2,
          "expectancy_birth": 83.8,
          "expectancy_birth_confidence": "geen",
          "gemeente": "Gilze en Rijen",
          "gender": "female",
          "population": 13015
         },
         {
          "corrected_income": 27,
          "expectancy_65_confidence": "geen",
          "expectancy_aged_65": 20.1,
          "expectancy_birth": 82.2,
          "expectancy_birth_confidence": "boven, 95% zeker",
          "gemeente": "Goirle",
          "gender": "total",
          "population": 23014
         },
         {
          "corrected_income": 27,
          "expectancy_65_confidence": "geen",
          "expectancy_aged_65": 18.3,
          "expectancy_birth": 80.1,
          "expectancy_birth_confidence": "geen",
          "gemeente": "Goirle",
          "gender": "male",
          "population": 11406
         },
         {
          "corrected_income": 27,
          "expectancy_65_confidence": "geen",
          "expectancy_aged_65": 21.7,
          "expectancy_birth": 84.1,
          "expectancy_birth_confidence": "boven, 95% zeker",
          "gemeente": "Goirle",
          "gender": "female",
          "population": 11608
         },
         {
          "corrected_income": 25.3,
          "expectancy_65_confidence": "onder, 99% zeker",
          "expectancy_aged_65": 19.2,
          "expectancy_birth": 80.9,
          "expectancy_birth_confidence": "onder, 95% zeker",
          "gemeente": "Grave",
          "gender": "total",
          "population": 12840
         },
         {
          "corrected_income": 25.3,
          "expectancy_65_confidence": "onder, 99% zeker",
          "expectancy_aged_65": 17.8,
          "expectancy_birth": 79.4,
          "expectancy_birth_confidence": "geen",
          "gemeente": "Grave",
          "gender": "male",
          "population": 6672
         },
         {
          "corrected_income": 25.3,
          "expectancy_65_confidence": "geen",
          "expectancy_aged_65": 20.7,
          "expectancy_birth": 82.4,
          "expectancy_birth_confidence": "geen",
          "gemeente": "Grave",
          "gender": "female",
          "population": 6168
         },
         {
          "corrected_income": 29,
          "expectancy_65_confidence": "boven, 99% zeker",
          "expectancy_aged_65": 22.2,
          "expectancy_birth": 82.6,
          "expectancy_birth_confidence": "boven, 99% zeker",
          "gemeente": "Haaren",
          "gender": "total",
          "population": 13523
         },
         {
          "corrected_income": 29,
          "expectancy_65_confidence": "boven, 99% zeker",
          "expectancy_aged_65": 19.5,
          "expectancy_birth": 79.4,
          "expectancy_birth_confidence": "geen",
          "gemeente": "Haaren",
          "gender": "male",
          "population": 6949
         },
         {
          "corrected_income": 29,
          "expectancy_65_confidence": "boven, 99% zeker",
          "expectancy_aged_65": 25.3,
          "expectancy_birth": 86.5,
          "expectancy_birth_confidence": "boven, 99% zeker",
          "gemeente": "Haaren",
          "gender": "female",
          "population": 6574
         },
         {
          "corrected_income": 23.7,
          "expectancy_65_confidence": "onder, 99% zeker",
          "expectancy_aged_65": 19.2,
          "expectancy_birth": 80.6,
          "expectancy_birth_confidence": "onder, 99% zeker",
          "gemeente": "Helmond",
          "gender": "total",
          "population": 89718
         },
         {
          "corrected_income": 23.7,
          "expectancy_65_confidence": "onder, 99% zeker",
          "expectancy_aged_65": 18.1,
          "expectancy_birth": 79,
          "expectancy_birth_confidence": "onder, 99% zeker",
          "gemeente": "Helmond",
          "gender": "male",
          "population": 45007
         },
         {
          "corrected_income": 23.7,
          "expectancy_65_confidence": "onder, 99% zeker",
          "expectancy_aged_65": 20.2,
          "expectancy_birth": 82.1,
          "expectancy_birth_confidence": "onder, 99% zeker",
          "gemeente": "Helmond",
          "gender": "female",
          "population": 44711
         },
         {
          "corrected_income": 26.2,
          "expectancy_65_confidence": "boven, 95% zeker",
          "expectancy_aged_65": 20.1,
          "expectancy_birth": 81.7,
          "expectancy_birth_confidence": "geen",
          "gemeente": "'s-Hertogenbosch",
          "gender": "total",
          "population": 150889
         },
         {
          "corrected_income": 26.2,
          "expectancy_65_confidence": "geen",
          "expectancy_aged_65": 18.5,
          "expectancy_birth": 79.9,
          "expectancy_birth_confidence": "geen",
          "gemeente": "'s-Hertogenbosch",
          "gender": "male",
          "population": 74424
         },
         {
          "corrected_income": 26.2,
          "expectancy_65_confidence": "boven, 95% zeker",
          "expectancy_aged_65": 21.5,
          "expectancy_birth": 83.3,
          "expectancy_birth_confidence": "geen",
          "gemeente": "'s-Hertogenbosch",
          "gender": "female",
          "population": 76465
         },
         {
          "corrected_income": 26.3,
          "expectancy_65_confidence": "boven, 99% zeker",
          "expectancy_aged_65": 21,
          "expectancy_birth": 83.2,
          "expectancy_birth_confidence": "boven, 99% zeker",
          "gemeente": "Heusden",
          "gender": "total",
          "population": 43132
         },
         {
          "corrected_income": 26.3,
          "expectancy_65_confidence": "boven, 99% zeker",
          "expectancy_aged_65": 19.1,
          "expectancy_birth": 81.3,
          "expectancy_birth_confidence": "boven, 99% zeker",
          "gemeente": "Heusden",
          "gender": "male",
          "population": 21585
         },
         {
          "corrected_income": 26.3,
          "expectancy_65_confidence": "boven, 99% zeker",
          "expectancy_aged_65": 22.9,
          "expectancy_birth": 85.1,
          "expectancy_birth_confidence": "boven, 99% zeker",
          "gemeente": "Heusden",
          "gender": "female",
          "population": 21547
         },
         {
          "corrected_income": 27.5,
          "expectancy_65_confidence": "boven, 99% zeker",
          "expectancy_aged_65": 21.1,
          "expectancy_birth": 82.7,
          "expectancy_birth_confidence": "boven, 99% zeker",
          "gemeente": "Hilvarenbeek",
          "gender": "total",
          "population": 15042
         },
         {
          "corrected_income": 27.5,
          "expectancy_65_confidence": "boven, 99% zeker",
          "expectancy_aged_65": 19.2,
          "expectancy_birth": 80,
          "expectancy_birth_confidence": "geen",
          "gemeente": "Hilvarenbeek",
          "gender": "male",
          "population": 7591
         },
         {
          "corrected_income": 27.5,
          "expectancy_65_confidence": "boven, 99% zeker",
          "expectancy_aged_65": 22.8,
          "expectancy_birth": 85.4,
          "expectancy_birth_confidence": "boven, 99% zeker",
          "gemeente": "Hilvarenbeek",
          "gender": "female",
          "population": 7451
         },
         {
          "corrected_income": 25.8,
          "expectancy_65_confidence": "geen",
          "expectancy_aged_65": 19.7,
          "expectancy_birth": 81.5,
          "expectancy_birth_confidence": "geen",
          "gemeente": "Loon op Zand",
          "gender": "total",
          "population": 22960
         },
         {
          "corrected_income": 25.8,
          "expectancy_65_confidence": "geen",
          "expectancy_aged_65": 18.3,
          "expectancy_birth": 79.7,
          "expectancy_birth_confidence": "geen",
          "gemeente": "Loon op Zand",
          "gender": "male",
          "population": 11378
         },
         {
          "corrected_income": 25.8,
          "expectancy_65_confidence": "geen",
          "expectancy_aged_65": 21.1,
          "expectancy_birth": 83.2,
          "expectancy_birth_confidence": "geen",
          "gemeente": "Loon op Zand",
          "gender": "female",
          "population": 11582
         },
         {
          "corrected_income": 25.3,
          "expectancy_65_confidence": "geen",
          "expectancy_aged_65": 19.5,
          "expectancy_birth": 80.5,
          "expectancy_birth_confidence": "geen",
          "gemeente": "Mill en Sint Hubert",
          "gender": "total",
          "population": 10831
         },
         {
          "corrected_income": 25.3,
          "expectancy_65_confidence": "geen",
          "expectancy_aged_65": 18,
          "expectancy_birth": 78.3,
          "expectancy_birth_confidence": "geen",
          "gemeente": "Mill en Sint Hubert",
          "gender": "male",
          "population": 5521
         },
         {
          "corrected_income": 25.3,
          "expectancy_65_confidence": "geen",
          "expectancy_aged_65": 21.3,
          "expectancy_birth": 83.2,
          "expectancy_birth_confidence": "geen",
          "gemeente": "Mill en Sint Hubert",
          "gender": "female",
          "population": 5310
         },
         {
          "corrected_income": 30,
          "expectancy_65_confidence": "boven, 99% zeker",
          "expectancy_aged_65": 21.1,
          "expectancy_birth": 83.3,
          "expectancy_birth_confidence": "boven, 99% zeker",
          "gemeente": "Nuenen, Gerwen en Nederwetten",
          "gender": "total",
          "population": 22620
         },
         {
          "corrected_income": 30,
          "expectancy_65_confidence": "boven, 99% zeker",
          "expectancy_aged_65": 20,
          "expectancy_birth": 82.1,
          "expectancy_birth_confidence": "boven, 99% zeker",
          "gemeente": "Nuenen, Gerwen en Nederwetten",
          "gender": "male",
          "population": 11240
         },
         {
          "corrected_income": 30,
          "expectancy_65_confidence": "boven, 99% zeker",
          "expectancy_aged_65": 22,
          "expectancy_birth": 84.6,
          "expectancy_birth_confidence": "boven, 99% zeker",
          "gemeente": "Nuenen, Gerwen en Nederwetten",
          "gender": "female",
          "population": 11380
         },
         {
          "corrected_income": 27.6,
          "expectancy_65_confidence": "geen",
          "expectancy_aged_65": 19.8,
          "expectancy_birth": 81.9,
          "expectancy_birth_confidence": "geen",
          "gemeente": "Oirschot",
          "gender": "total",
          "population": 18079
         },
         {
          "corrected_income": 27.6,
          "expectancy_65_confidence": "geen",
          "expectancy_aged_65": 18.7,
          "expectancy_birth": 80.8,
          "expectancy_birth_confidence": "boven, 99% zeker",
          "gemeente": "Oirschot",
          "gender": "male",
          "population": 9078
         },
         {
          "corrected_income": 27.6,
          "expectancy_65_confidence": "onder, 95% zeker",
          "expectancy_aged_65": 20.8,
          "expectancy_birth": 82.9,
          "expectancy_birth_confidence": "geen",
          "gemeente": "Oirschot",
          "gender": "female",
          "population": 9001
         },
         {
          "corrected_income": 28.4,
          "expectancy_65_confidence": "geen",
          "expectancy_aged_65": 20,
          "expectancy_birth": 82.2,
          "expectancy_birth_confidence": "boven, 95% zeker",
          "gemeente": "Oisterwijk",
          "gender": "total",
          "population": 25732
         },
         {
          "corrected_income": 28.4,
          "expectancy_65_confidence": "geen",
          "expectancy_aged_65": 18.5,
          "expectancy_birth": 80.2,
          "expectancy_birth_confidence": "geen",
          "gemeente": "Oisterwijk",
          "gender": "male",
          "population": 12687
         },
         {
          "corrected_income": 28.4,
          "expectancy_65_confidence": "geen",
          "expectancy_aged_65": 21.3,
          "expectancy_birth": 84.1,
          "expectancy_birth_confidence": "boven, 99% zeker",
          "gemeente": "Oisterwijk",
          "gender": "female",
          "population": 13045
         },
         {
          "corrected_income": 25.9,
          "expectancy_65_confidence": "geen",
          "expectancy_aged_65": 20.1,
          "expectancy_birth": 81.8,
          "expectancy_birth_confidence": "geen",
          "gemeente": "Oosterhout",
          "gender": "total",
          "population": 53793
         },
         {
          "corrected_income": 25.9,
          "expectancy_65_confidence": "boven, 99% zeker",
          "expectancy_aged_65": 18.9,
          "expectancy_birth": 80.1,
          "expectancy_birth_confidence": "geen",
          "gemeente": "Oosterhout",
          "gender": "male",
          "population": 26485
         },
         {
          "corrected_income": 25.9,
          "expectancy_65_confidence": "geen",
          "expectancy_aged_65": 21.2,
          "expectancy_birth": 83.4,
          "expectancy_birth_confidence": "geen",
          "gemeente": "Oosterhout",
          "gender": "female",
          "population": 27308
         },
         {
          "corrected_income": 25,
          "expectancy_65_confidence": "boven, 99% zeker",
          "expectancy_aged_65": 20.4,
          "expectancy_birth": 81.9,
          "expectancy_birth_confidence": "boven, 95% zeker",
          "gemeente": "Oss",
          "gender": "total",
          "population": 89799
         },
         {
          "corrected_income": 25,
          "expectancy_65_confidence": "boven, 99% zeker",
          "expectancy_aged_65": 18.9,
          "expectancy_birth": 80.1,
          "expectancy_birth_confidence": "geen",
          "gemeente": "Oss",
          "gender": "male",
          "population": 44935
         },
         {
          "corrected_income": 25,
          "expectancy_65_confidence": "boven, 99% zeker",
          "expectancy_aged_65": 21.7,
          "expectancy_birth": 83.6,
          "expectancy_birth_confidence": "geen",
          "gemeente": "Oss",
          "gender": "female",
          "population": 44864
         },
         {
          "corrected_income": 24.7,
          "expectancy_65_confidence": "onder, 99% zeker",
          "expectancy_aged_65": 17.8,
          "expectancy_birth": 79.3,
          "expectancy_birth_confidence": "onder, 99% zeker",
          "gemeente": "Rucphen",
          "gender": "total",
          "population": 22233
         },
         {
          "corrected_income": 24.7,
          "expectancy_65_confidence": "onder, 99% zeker",
          "expectancy_aged_65": 16.9,
          "expectancy_birth": 77.9,
          "expectancy_birth_confidence": "onder, 99% zeker",
          "gemeente": "Rucphen",
          "gender": "male",
          "population": 11162
         },
         {
          "corrected_income": 24.7,
          "expectancy_65_confidence": "onder, 99% zeker",
          "expectancy_aged_65": 18.5,
          "expectancy_birth": 80.8,
          "expectancy_birth_confidence": "onder, 99% zeker",
          "gemeente": "Rucphen",
          "gender": "female",
          "population": 11071
         },
         {
          "corrected_income": 28.1,
          "expectancy_65_confidence": "geen",
          "expectancy_aged_65": 20,
          "expectancy_birth": 81.5,
          "expectancy_birth_confidence": "geen",
          "gemeente": "Sint-Michielsgestel",
          "gender": "total",
          "population": 28395
         },
         {
          "corrected_income": 28.1,
          "expectancy_65_confidence": "geen",
          "expectancy_aged_65": 18.7,
          "expectancy_birth": 79.9,
          "expectancy_birth_confidence": "geen",
          "gemeente": "Sint-Michielsgestel",
          "gender": "male",
          "population": 14277
         },
         {
          "corrected_income": 28.1,
          "expectancy_65_confidence": "geen",
          "expectancy_aged_65": 21.2,
          "expectancy_birth": 83,
          "expectancy_birth_confidence": "geen",
          "gemeente": "Sint-Michielsgestel",
          "gender": "female",
          "population": 14118
         },
         {
          "corrected_income": 25.2,
          "expectancy_65_confidence": "geen",
          "expectancy_aged_65": 20.2,
          "expectancy_birth": 82,
          "expectancy_birth_confidence": "geen",
          "gemeente": "Someren",
          "gender": "total",
          "population": 18695
         },
         {
          "corrected_income": 25.2,
          "expectancy_65_confidence": "geen",
          "expectancy_aged_65": 18.6,
          "expectancy_birth": 80,
          "expectancy_birth_confidence": "geen",
          "gemeente": "Someren",
          "gender": "male",
          "population": 9521
         },
         {
          "corrected_income": 25.2,
          "expectancy_65_confidence": "geen",
          "expectancy_aged_65": 21.8,
          "expectancy_birth": 84.1,
          "expectancy_birth_confidence": "geen",
          "gemeente": "Someren",
          "gender": "female",
          "population": 9174
         },
         {
          "corrected_income": 29.7,
          "expectancy_65_confidence": "boven, 99% zeker",
          "expectancy_aged_65": 21.4,
          "expectancy_birth": 84.2,
          "expectancy_birth_confidence": "boven, 99% zeker",
          "gemeente": "Son en Breugel",
          "gender": "total",
          "population": 16344
         },
         {
          "corrected_income": 29.7,
          "expectancy_65_confidence": "boven, 99% zeker",
          "expectancy_aged_65": 20.2,
          "expectancy_birth": 83,
          "expectancy_birth_confidence": "boven, 99% zeker",
          "gemeente": "Son en Breugel",
          "gender": "male",
          "population": 8072
         },
         {
          "corrected_income": 29.7,
          "expectancy_65_confidence": "boven, 99% zeker",
          "expectancy_aged_65": 22.6,
          "expectancy_birth": 85.2,
          "expectancy_birth_confidence": "boven, 99% zeker",
          "gemeente": "Son en Breugel",
          "gender": "female",
          "population": 8272
         },
         {
          "corrected_income": 24.8,
          "expectancy_65_confidence": "onder, 99% zeker",
          "expectancy_aged_65": 19.4,
          "expectancy_birth": 81.7,
          "expectancy_birth_confidence": "geen",
          "gemeente": "Steenbergen",
          "gender": "total",
          "population": 23638
         },
         {
          "corrected_income": 24.8,
          "expectancy_65_confidence": "onder, 99% zeker",
          "expectancy_aged_65": 17.3,
          "expectancy_birth": 79.4,
          "expectancy_birth_confidence": "geen",
          "gemeente": "Steenbergen",
          "gender": "male",
          "population": 11893
         },
         {
          "corrected_income": 24.8,
          "expectancy_65_confidence": "geen",
          "expectancy_aged_65": 21.6,
          "expectancy_birth": 84.1,
          "expectancy_birth_confidence": "boven, 95% zeker",
          "gemeente": "Steenbergen",
          "gender": "female",
          "population": 11745
         },
         {
          "corrected_income": 29.6,
          "expectancy_65_confidence": "boven, 99% zeker",
          "expectancy_aged_65": 21.8,
          "expectancy_birth": 84.4,
          "expectancy_birth_confidence": "boven, 99% zeker",
          "gemeente": "Waterland",
          "gender": "total",
          "population": 17143
         },
         {
          "corrected_income": 29.6,
          "expectancy_65_confidence": "boven, 99% zeker",
          "expectancy_aged_65": 20.2,
          "expectancy_birth": 82.7,
          "expectancy_birth_confidence": "boven, 99% zeker",
          "gemeente": "Waterland",
          "gender": "male",
          "population": 8462
         },
         {
          "corrected_income": 29.6,
          "expectancy_65_confidence": "boven, 99% zeker",
          "expectancy_aged_65": 23.3,
          "expectancy_birth": 86.1,
          "expectancy_birth_confidence": "boven, 99% zeker",
          "gemeente": "Waterland",
          "gender": "female",
          "population": 8681
         },
         {
          "corrected_income": 23.4,
          "expectancy_65_confidence": "onder, 99% zeker",
          "expectancy_aged_65": 19.1,
          "expectancy_birth": 80.3,
          "expectancy_birth_confidence": "onder, 99% zeker",
          "gemeente": "Tilburg",
          "gender": "total",
          "population": 211648
         },
         {
          "corrected_income": 23.4,
          "expectancy_65_confidence": "onder, 99% zeker",
          "expectancy_aged_65": 17.6,
          "expectancy_birth": 78.6,
          "expectancy_birth_confidence": "onder, 99% zeker",
          "gemeente": "Tilburg",
          "gender": "male",
          "population": 105179
         },
         {
          "corrected_income": 23.4,
          "expectancy_65_confidence": "onder, 99% zeker",
          "expectancy_aged_65": 20.4,
          "expectancy_birth": 81.9,
          "expectancy_birth_confidence": "onder, 99% zeker",
          "gemeente": "Tilburg",
          "gender": "female",
          "population": 106469
         },
         {
          "corrected_income": 25.5,
          "expectancy_65_confidence": "geen",
          "expectancy_aged_65": 20,
          "expectancy_birth": 82,
          "expectancy_birth_confidence": "geen",
          "gemeente": "Uden",
          "gender": "total",
          "population": 41089
         },
         {
          "corrected_income": 25.5,
          "expectancy_65_confidence": "boven, 99% zeker",
          "expectancy_aged_65": 18.9,
          "expectancy_birth": 80.9,
          "expectancy_birth_confidence": "boven, 99% zeker",
          "gemeente": "Uden",
          "gender": "male",
          "population": 20346
         },
         {
          "corrected_income": 25.5,
          "expectancy_65_confidence": "geen",
          "expectancy_aged_65": 20.9,
          "expectancy_birth": 82.9,
          "expectancy_birth_confidence": "geen",
          "gemeente": "Uden",
          "gender": "female",
          "population": 20743
         },
         {
          "corrected_income": 25.3,
          "expectancy_65_confidence": "boven, 99% zeker",
          "expectancy_aged_65": 20.7,
          "expectancy_birth": 81.7,
          "expectancy_birth_confidence": "geen",
          "gemeente": "Valkenswaard",
          "gender": "total",
          "population": 30234
         },
         {
          "corrected_income": 25.3,
          "expectancy_65_confidence": "boven, 99% zeker",
          "expectancy_aged_65": 19.2,
          "expectancy_birth": 79.7,
          "expectancy_birth_confidence": "geen",
          "gemeente": "Valkenswaard",
          "gender": "male",
          "population": 14902
         },
         {
          "corrected_income": 25.3,
          "expectancy_65_confidence": "boven, 99% zeker",
          "expectancy_aged_65": 21.9,
          "expectancy_birth": 83.7,
          "expectancy_birth_confidence": "geen",
          "gemeente": "Valkenswaard",
          "gender": "female",
          "population": 15332
         },
         {
          "corrected_income": 27,
          "expectancy_65_confidence": "boven, 99% zeker",
          "expectancy_aged_65": 21.3,
          "expectancy_birth": 83.2,
          "expectancy_birth_confidence": "boven, 99% zeker",
          "gemeente": "Veldhoven",
          "gender": "total",
          "population": 44166
         },
         {
          "corrected_income": 27,
          "expectancy_65_confidence": "boven, 99% zeker",
          "expectancy_aged_65": 19.6,
          "expectancy_birth": 81.1,
          "expectancy_birth_confidence": "boven, 99% zeker",
          "gemeente": "Veldhoven",
          "gender": "male",
          "population": 22012
         },
         {
          "corrected_income": 27,
          "expectancy_65_confidence": "boven, 99% zeker",
          "expectancy_aged_65": 22.9,
          "expectancy_birth": 85.1,
          "expectancy_birth_confidence": "boven, 99% zeker",
          "gemeente": "Veldhoven",
          "gender": "female",
          "population": 22154
         },
         {
          "corrected_income": 29.9,
          "expectancy_65_confidence": "onder, 99% zeker",
          "expectancy_aged_65": 18.4,
          "expectancy_birth": 80,
          "expectancy_birth_confidence": "onder, 99% zeker",
          "gemeente": "Vught",
          "gender": "total",
          "population": 25853
         },
         {
          "corrected_income": 29.9,
          "expectancy_65_confidence": "onder, 99% zeker",
          "expectancy_aged_65": 17.3,
          "expectancy_birth": 78.8,
          "expectancy_birth_confidence": "onder, 99% zeker",
          "gemeente": "Vught",
          "gender": "male",
          "population": 12817
         },
         {
          "corrected_income": 29.9,
          "expectancy_65_confidence": "onder, 99% zeker",
          "expectancy_aged_65": 19.3,
          "expectancy_birth": 81.1,
          "expectancy_birth_confidence": "onder, 99% zeker",
          "gemeente": "Vught",
          "gender": "female",
          "population": 13036
         },
         {
          "corrected_income": 31.3,
          "expectancy_65_confidence": "boven, 99% zeker",
          "expectancy_aged_65": 21.1,
          "expectancy_birth": 83.6,
          "expectancy_birth_confidence": "boven, 99% zeker",
          "gemeente": "Waalre",
          "gender": "total",
          "population": 16874
         },
         {
          "corrected_income": 31.3,
          "expectancy_65_confidence": "boven, 99% zeker",
          "expectancy_aged_65": 19.6,
          "expectancy_birth": 81.6,
          "expectancy_birth_confidence": "boven, 99% zeker",
          "gemeente": "Waalre",
          "gender": "male",
          "population": 8326
         },
         {
          "corrected_income": 31.3,
          "expectancy_65_confidence": "boven, 99% zeker",
          "expectancy_aged_65": 22.4,
          "expectancy_birth": 85.5,
          "expectancy_birth_confidence": "boven, 99% zeker",
          "gemeente": "Waalre",
          "gender": "female",
          "population": 8548
         },
         {
          "corrected_income": 24.9,
          "expectancy_65_confidence": "geen",
          "expectancy_aged_65": 20.2,
          "expectancy_birth": 81.5,
          "expectancy_birth_confidence": "geen",
          "gemeente": "Waalwijk",
          "gender": "total",
          "population": 46713
         },
         {
          "corrected_income": 24.9,
          "expectancy_65_confidence": "geen",
          "expectancy_aged_65": 18.5,
          "expectancy_birth": 79.5,
          "expectancy_birth_confidence": "geen",
          "gemeente": "Waalwijk",
          "gender": "male",
          "population": 23276
         },
         {
          "corrected_income": 24.9,
          "expectancy_65_confidence": "boven, 95% zeker",
          "expectancy_aged_65": 21.6,
          "expectancy_birth": 83.3,
          "expectancy_birth_confidence": "geen",
          "gemeente": "Waalwijk",
          "gender": "female",
          "population": 23437
         },
         {
          "corrected_income": 26.5,
          "expectancy_65_confidence": "boven, 99% zeker",
          "expectancy_aged_65": 20.8,
          "expectancy_birth": 82.6,
          "expectancy_birth_confidence": "boven, 99% zeker",
          "gemeente": "Werkendam",
          "gender": "total",
          "population": 26452
         },
         {
          "corrected_income": 26.5,
          "expectancy_65_confidence": "boven, 99% zeker",
          "expectancy_aged_65": 19.3,
          "expectancy_birth": 80.6,
          "expectancy_birth_confidence": "geen",
          "gemeente": "Werkendam",
          "gender": "male",
          "population": 13239
         },
         {
          "corrected_income": 26.5,
          "expectancy_65_confidence": "boven, 99% zeker",
          "expectancy_aged_65": 22,
          "expectancy_birth": 84.4,
          "expectancy_birth_confidence": "boven, 99% zeker",
          "gemeente": "Werkendam",
          "gender": "female",
          "population": 13213
         },
         {
          "corrected_income": 25.5,
          "expectancy_65_confidence": "onder, 99% zeker",
          "expectancy_aged_65": 19.5,
          "expectancy_birth": 82.1,
          "expectancy_birth_confidence": "boven, 95% zeker",
          "gemeente": "Woensdrecht",
          "gender": "total",
          "population": 21644
         },
         {
          "corrected_income": 25.5,
          "expectancy_65_confidence": "onder, 99% zeker",
          "expectancy_aged_65": 17.9,
          "expectancy_birth": 79.9,
          "expectancy_birth_confidence": "geen",
          "gemeente": "Woensdrecht",
          "gender": "male",
          "population": 10836
         },
         {
          "corrected_income": 25.5,
          "expectancy_65_confidence": "geen",
          "expectancy_aged_65": 21.1,
          "expectancy_birth": 84.3,
          "expectancy_birth_confidence": "boven, 99% zeker",
          "gemeente": "Woensdrecht",
          "gender": "female",
          "population": 10808
         },
         {
          "corrected_income": 26.8,
          "expectancy_65_confidence": "geen",
          "expectancy_aged_65": 19.6,
          "expectancy_birth": 81.8,
          "expectancy_birth_confidence": "geen",
          "gemeente": "Woudrichem",
          "gender": "total",
          "population": 14388
         },
         {
          "corrected_income": 26.8,
          "expectancy_65_confidence": "geen",
          "expectancy_aged_65": 18.5,
          "expectancy_birth": 80.5,
          "expectancy_birth_confidence": "geen",
          "gemeente": "Woudrichem",
          "gender": "male",
          "population": 7202
         },
         {
          "corrected_income": 26.8,
          "expectancy_65_confidence": "onder, 95% zeker",
          "expectancy_aged_65": 20.5,
          "expectancy_birth": 83.1,
          "expectancy_birth_confidence": "geen",
          "gemeente": "Woudrichem",
          "gender": "female",
          "population": 7186
         },
         {
          "corrected_income": 25.6,
          "expectancy_65_confidence": "geen",
          "expectancy_aged_65": 20.2,
          "expectancy_birth": 81.9,
          "expectancy_birth_confidence": "geen",
          "gemeente": "Zundert",
          "gender": "total",
          "population": 21363
         },
         {
          "corrected_income": 25.6,
          "expectancy_65_confidence": "geen",
          "expectancy_aged_65": 18.7,
          "expectancy_birth": 79.7,
          "expectancy_birth_confidence": "geen",
          "gemeente": "Zundert",
          "gender": "male",
          "population": 10963
         },
         {
          "corrected_income": 25.6,
          "expectancy_65_confidence": "geen",
          "expectancy_aged_65": 21.7,
          "expectancy_birth": 84.3,
          "expectancy_birth_confidence": "boven, 95% zeker",
          "gemeente": "Zundert",
          "gender": "female",
          "population": 10400
         },
         {
          "corrected_income": 26.7,
          "expectancy_65_confidence": "boven, 99% zeker",
          "expectancy_aged_65": 21,
          "expectancy_birth": 83.4,
          "expectancy_birth_confidence": "boven, 99% zeker",
          "gemeente": "Wormerland",
          "gender": "total",
          "population": 15740
         },
         {
          "corrected_income": 26.7,
          "expectancy_65_confidence": "boven, 99% zeker",
          "expectancy_aged_65": 19.5,
          "expectancy_birth": 81.5,
          "expectancy_birth_confidence": "boven, 99% zeker",
          "gemeente": "Wormerland",
          "gender": "male",
          "population": 7840
         },
         {
          "corrected_income": 26.7,
          "expectancy_65_confidence": "boven, 99% zeker",
          "expectancy_aged_65": 22.5,
          "expectancy_birth": 85.2,
          "expectancy_birth_confidence": "boven, 99% zeker",
          "gemeente": "Wormerland",
          "gender": "female",
          "population": 7900
         },
         {
          "corrected_income": 23.8,
          "expectancy_65_confidence": "geen",
          "expectancy_aged_65": 20.3,
          "expectancy_birth": 82.3,
          "expectancy_birth_confidence": "geen",
          "gemeente": "Onderbanken",
          "gender": "total",
          "population": 7866
         },
         {
          "corrected_income": 23.8,
          "expectancy_65_confidence": "geen",
          "expectancy_aged_65": 17.9,
          "expectancy_birth": 79.7,
          "expectancy_birth_confidence": "geen",
          "gemeente": "Onderbanken",
          "gender": "male",
          "population": 3938
         },
         {
          "corrected_income": 23.8,
          "expectancy_65_confidence": "boven, 99% zeker",
          "expectancy_aged_65": 22.6,
          "expectancy_birth": 84.9,
          "expectancy_birth_confidence": "boven, 99% zeker",
          "gemeente": "Onderbanken",
          "gender": "female",
          "population": 3928
         },
         {
          "corrected_income": 23.3,
          "expectancy_65_confidence": "boven, 99% zeker",
          "expectancy_aged_65": 20.3,
          "expectancy_birth": 81.6,
          "expectancy_birth_confidence": "geen",
          "gemeente": "Landgraaf",
          "gender": "total",
          "population": 37456
         },
         {
          "corrected_income": 23.3,
          "expectancy_65_confidence": "geen",
          "expectancy_aged_65": 18.6,
          "expectancy_birth": 80,
          "expectancy_birth_confidence": "geen",
          "gemeente": "Landgraaf",
          "gender": "male",
          "population": 18449
         },
         {
          "corrected_income": 23.3,
          "expectancy_65_confidence": "boven, 99% zeker",
          "expectancy_aged_65": 21.8,
          "expectancy_birth": 83,
          "expectancy_birth_confidence": "geen",
          "gemeente": "Landgraaf",
          "gender": "female",
          "population": 19007
         },
         {
          "corrected_income": 25.5,
          "expectancy_65_confidence": "boven, 99% zeker",
          "expectancy_aged_65": 21.1,
          "expectancy_birth": 83.5,
          "expectancy_birth_confidence": "boven, 99% zeker",
          "gemeente": "Beek",
          "gender": "total",
          "population": 16214
         },
         {
          "corrected_income": 25.5,
          "expectancy_65_confidence": "boven, 99% zeker",
          "expectancy_aged_65": 19.3,
          "expectancy_birth": 81.6,
          "expectancy_birth_confidence": "boven, 99% zeker",
          "gemeente": "Beek",
          "gender": "male",
          "population": 7879
         },
         {
          "corrected_income": 25.5,
          "expectancy_65_confidence": "boven, 99% zeker",
          "expectancy_aged_65": 22.6,
          "expectancy_birth": 85.2,
          "expectancy_birth_confidence": "boven, 99% zeker",
          "gemeente": "Beek",
          "gender": "female",
          "population": 8335
         },
         {
          "corrected_income": 24,
          "expectancy_65_confidence": "boven, 99% zeker",
          "expectancy_aged_65": 21,
          "expectancy_birth": 82.6,
          "expectancy_birth_confidence": "boven, 99% zeker",
          "gemeente": "Beesel",
          "gender": "total",
          "population": 13511
         },
         {
          "corrected_income": 24,
          "expectancy_65_confidence": "boven, 99% zeker",
          "expectancy_aged_65": 19.5,
          "expectancy_birth": 81.2,
          "expectancy_birth_confidence": "boven, 99% zeker",
          "gemeente": "Beesel",
          "gender": "male",
          "population": 6809
         },
         {
          "corrected_income": 24,
          "expectancy_65_confidence": "boven, 99% zeker",
          "expectancy_aged_65": 22.2,
          "expectancy_birth": 83.9,
          "expectancy_birth_confidence": "geen",
          "gemeente": "Beesel",
          "gender": "female",
          "population": 6702
         },
         {
          "corrected_income": 24.1,
          "expectancy_65_confidence": "onder, 95% zeker",
          "expectancy_aged_65": 19.5,
          "expectancy_birth": 81.3,
          "expectancy_birth_confidence": "geen",
          "gemeente": "Bergen (L.)",
          "gender": "total",
          "population": 13152
         },
         {
          "corrected_income": 24.1,
          "expectancy_65_confidence": "onder, 95% zeker",
          "expectancy_aged_65": 18,
          "expectancy_birth": 80,
          "expectancy_birth_confidence": "geen",
          "gemeente": "Bergen (L.)",
          "gender": "male",
          "population": 6581
         },
         {
          "corrected_income": 24.1,
          "expectancy_65_confidence": "geen",
          "expectancy_aged_65": 20.9,
          "expectancy_birth": 82.5,
          "expectancy_birth_confidence": "geen",
          "gemeente": "Bergen (L.)",
          "gender": "female",
          "population": 6571
         },
         {
          "corrected_income": 22.1,
          "expectancy_65_confidence": "onder, 99% zeker",
          "expectancy_aged_65": 18.3,
          "expectancy_birth": 79.2,
          "expectancy_birth_confidence": "onder, 99% zeker",
          "gemeente": "Brunssum",
          "gender": "total",
          "population": 28656
         },
         {
          "corrected_income": 22.1,
          "expectancy_65_confidence": "onder, 99% zeker",
          "expectancy_aged_65": 16.6,
          "expectancy_birth": 77.5,
          "expectancy_birth_confidence": "onder, 99% zeker",
          "gemeente": "Brunssum",
          "gender": "male",
          "population": 13988
         },
         {
          "corrected_income": 22.1,
          "expectancy_65_confidence": "onder, 99% zeker",
          "expectancy_aged_65": 19.7,
          "expectancy_birth": 80.6,
          "expectancy_birth_confidence": "onder, 99% zeker",
          "gemeente": "Brunssum",
          "gender": "female",
          "population": 14668
         },
         {
          "corrected_income": 24.6,
          "expectancy_65_confidence": "onder, 95% zeker",
          "expectancy_aged_65": 19.6,
          "expectancy_birth": 79.8,
          "expectancy_birth_confidence": "onder, 99% zeker",
          "gemeente": "Gennep",
          "gender": "total",
          "population": 17280
         },
         {
          "corrected_income": 24.6,
          "expectancy_65_confidence": "onder, 95% zeker",
          "expectancy_aged_65": 17.9,
          "expectancy_birth": 78.2,
          "expectancy_birth_confidence": "onder, 99% zeker",
          "gemeente": "Gennep",
          "gender": "male",
          "population": 8812
         },
         {
          "corrected_income": 24.6,
          "expectancy_65_confidence": "geen",
          "expectancy_aged_65": 21.3,
          "expectancy_birth": 81.5,
          "expectancy_birth_confidence": "onder, 99% zeker",
          "gemeente": "Gennep",
          "gender": "female",
          "population": 8468
         },
         {
          "corrected_income": 21.8,
          "expectancy_65_confidence": "onder, 99% zeker",
          "expectancy_aged_65": 19.2,
          "expectancy_birth": 79.5,
          "expectancy_birth_confidence": "onder, 99% zeker",
          "gemeente": "Heerlen",
          "gender": "total",
          "population": 87500
         },
         {
          "corrected_income": 21.8,
          "expectancy_65_confidence": "onder, 99% zeker",
          "expectancy_aged_65": 17.6,
          "expectancy_birth": 77.6,
          "expectancy_birth_confidence": "onder, 99% zeker",
          "gemeente": "Heerlen",
          "gender": "male",
          "population": 43349
         },
         {
          "corrected_income": 21.8,
          "expectancy_65_confidence": "onder, 99% zeker",
          "expectancy_aged_65": 20.6,
          "expectancy_birth": 81.3,
          "expectancy_birth_confidence": "onder, 99% zeker",
          "gemeente": "Heerlen",
          "gender": "female",
          "population": 44151
         },
         {
          "corrected_income": 21.4,
          "expectancy_65_confidence": "onder, 99% zeker",
          "expectancy_aged_65": 18.1,
          "expectancy_birth": 78.5,
          "expectancy_birth_confidence": "onder, 99% zeker",
          "gemeente": "Kerkrade",
          "gender": "total",
          "population": 46524
         },
         {
          "corrected_income": 21.4,
          "expectancy_65_confidence": "onder, 99% zeker",
          "expectancy_aged_65": 16.5,
          "expectancy_birth": 76.3,
          "expectancy_birth_confidence": "onder, 99% zeker",
          "gemeente": "Kerkrade",
          "gender": "male",
          "population": 23199
         },
         {
          "corrected_income": 21.4,
          "expectancy_65_confidence": "onder, 99% zeker",
          "expectancy_aged_65": 19.6,
          "expectancy_birth": 80.7,
          "expectancy_birth_confidence": "onder, 99% zeker",
          "gemeente": "Kerkrade",
          "gender": "female",
          "population": 23325
         },
         {
          "corrected_income": 23.5,
          "expectancy_65_confidence": "onder, 99% zeker",
          "expectancy_aged_65": 19.4,
          "expectancy_birth": 80.9,
          "expectancy_birth_confidence": "onder, 99% zeker",
          "gemeente": "Maastricht",
          "gender": "total",
          "population": 122397
         },
         {
          "corrected_income": 23.5,
          "expectancy_65_confidence": "onder, 99% zeker",
          "expectancy_aged_65": 18.1,
          "expectancy_birth": 79,
          "expectancy_birth_confidence": "onder, 99% zeker",
          "gemeente": "Maastricht",
          "gender": "male",
          "population": 58799
         },
         {
          "corrected_income": 23.5,
          "expectancy_65_confidence": "onder, 99% zeker",
          "expectancy_aged_65": 20.5,
          "expectancy_birth": 82.7,
          "expectancy_birth_confidence": "onder, 99% zeker",
          "gemeente": "Maastricht",
          "gender": "female",
          "population": 63598
         },
         {
          "corrected_income": 27.1,
          "expectancy_65_confidence": "boven, 99% zeker",
          "expectancy_aged_65": 21.1,
          "expectancy_birth": 82.6,
          "expectancy_birth_confidence": "boven, 95% zeker",
          "gemeente": "Meerssen",
          "gender": "total",
          "population": 19063
         },
         {
          "corrected_income": 27.1,
          "expectancy_65_confidence": "boven, 95% zeker",
          "expectancy_aged_65": 19,
          "expectancy_birth": 79.8,
          "expectancy_birth_confidence": "geen",
          "gemeente": "Meerssen",
          "gender": "male",
          "population": 9427
         },
         {
          "corrected_income": 27.1,
          "expectancy_65_confidence": "boven, 99% zeker",
          "expectancy_aged_65": 23.1,
          "expectancy_birth": 85.4,
          "expectancy_birth_confidence": "boven, 99% zeker",
          "gemeente": "Meerssen",
          "gender": "female",
          "population": 9636
         },
         {
          "corrected_income": 29.5,
          "expectancy_65_confidence": "boven, 99% zeker",
          "expectancy_aged_65": 23.5,
          "expectancy_birth": 86.4,
          "expectancy_birth_confidence": "boven, 99% zeker",
          "gemeente": "Mook en Middelaar",
          "gender": "total",
          "population": 7762
         },
         {
          "corrected_income": 29.5,
          "expectancy_65_confidence": "boven, 99% zeker",
          "expectancy_aged_65": 20.3,
          "expectancy_birth": 82.2,
          "expectancy_birth_confidence": "boven, 99% zeker",
          "gemeente": "Mook en Middelaar",
          "gender": "male",
          "population": 3839
         },
         {
          "corrected_income": 29.5,
          "expectancy_65_confidence": "boven, 99% zeker",
          "expectancy_aged_65": 27.3,
          "expectancy_birth": 91.4,
          "expectancy_birth_confidence": "boven, 99% zeker",
          "gemeente": "Mook en Middelaar",
          "gender": "female",
          "population": 3923
         },
         {
          "corrected_income": 25.1,
          "expectancy_65_confidence": "boven, 99% zeker",
          "expectancy_aged_65": 21,
          "expectancy_birth": 82.8,
          "expectancy_birth_confidence": "boven, 99% zeker",
          "gemeente": "Nederweert",
          "gender": "total",
          "population": 16776
         },
         {
          "corrected_income": 25.1,
          "expectancy_65_confidence": "geen",
          "expectancy_aged_65": 18.6,
          "expectancy_birth": 80,
          "expectancy_birth_confidence": "geen",
          "gemeente": "Nederweert",
          "gender": "male",
          "population": 8468
         },
         {
          "corrected_income": 25.1,
          "expectancy_65_confidence": "boven, 99% zeker",
          "expectancy_aged_65": 23.4,
          "expectancy_birth": 85.9,
          "expectancy_birth_confidence": "boven, 99% zeker",
          "gemeente": "Nederweert",
          "gender": "female",
          "population": 8308
         },
         {
          "corrected_income": 25.9,
          "expectancy_65_confidence": "boven, 99% zeker",
          "expectancy_aged_65": 20.9,
          "expectancy_birth": 83.3,
          "expectancy_birth_confidence": "boven, 99% zeker",
          "gemeente": "Nuth",
          "gender": "total",
          "population": 15495
         },
         {
          "corrected_income": 25.9,
          "expectancy_65_confidence": "boven, 99% zeker",
          "expectancy_aged_65": 19.4,
          "expectancy_birth": 82,
          "expectancy_birth_confidence": "boven, 99% zeker",
          "gemeente": "Nuth",
          "gender": "male",
          "population": 7659
         },
         {
          "corrected_income": 25.9,
          "expectancy_65_confidence": "boven, 99% zeker",
          "expectancy_aged_65": 22.2,
          "expectancy_birth": 84.4,
          "expectancy_birth_confidence": "boven, 95% zeker",
          "gemeente": "Nuth",
          "gender": "female",
          "population": 7836
         },
         {
          "corrected_income": 23.6,
          "expectancy_65_confidence": "onder, 99% zeker",
          "expectancy_aged_65": 19,
          "expectancy_birth": 80.4,
          "expectancy_birth_confidence": "onder, 99% zeker",
          "gemeente": "Roermond",
          "gender": "total",
          "population": 57005
         },
         {
          "corrected_income": 23.6,
          "expectancy_65_confidence": "onder, 99% zeker",
          "expectancy_aged_65": 17.2,
          "expectancy_birth": 78.3,
          "expectancy_birth_confidence": "onder, 99% zeker",
          "gemeente": "Roermond",
          "gender": "male",
          "population": 28160
         },
         {
          "corrected_income": 23.6,
          "expectancy_65_confidence": "onder, 99% zeker",
          "expectancy_aged_65": 20.6,
          "expectancy_birth": 82.3,
          "expectancy_birth_confidence": "onder, 99% zeker",
          "gemeente": "Roermond",
          "gender": "female",
          "population": 28845
         },
         {
          "corrected_income": 26,
          "expectancy_65_confidence": "geen",
          "expectancy_aged_65": 20.2,
          "expectancy_birth": 82.4,
          "expectancy_birth_confidence": "boven, 95% zeker",
          "gemeente": "Schinnen",
          "gender": "total",
          "population": 12992
         },
         {
          "corrected_income": 26,
          "expectancy_65_confidence": "geen",
          "expectancy_aged_65": 18.3,
          "expectancy_birth": 79.5,
          "expectancy_birth_confidence": "geen",
          "gemeente": "Schinnen",
          "gender": "male",
          "population": 6495
         },
         {
          "corrected_income": 26,
          "expectancy_65_confidence": "boven, 99% zeker",
          "expectancy_aged_65": 22.1,
          "expectancy_birth": 85.4,
          "expectancy_birth_confidence": "boven, 99% zeker",
          "gemeente": "Schinnen",
          "gender": "female",
          "population": 6497
         },
         {
          "corrected_income": 24.1,
          "expectancy_65_confidence": "onder, 95% zeker",
          "expectancy_aged_65": 19.4,
          "expectancy_birth": 81.8,
          "expectancy_birth_confidence": "geen",
          "gemeente": "Simpelveld",
          "gender": "total",
          "population": 10844
         },
         {
          "corrected_income": 24.1,
          "expectancy_65_confidence": "geen",
          "expectancy_aged_65": 18.2,
          "expectancy_birth": 80.1,
          "expectancy_birth_confidence": "geen",
          "gemeente": "Simpelveld",
          "gender": "male",
          "population": 5357
         },
         {
          "corrected_income": 24.1,
          "expectancy_65_confidence": "onder, 95% zeker",
          "expectancy_aged_65": 20.6,
          "expectancy_birth": 83.5,
          "expectancy_birth_confidence": "geen",
          "gemeente": "Simpelveld",
          "gender": "female",
          "population": 5487
         },
         {
          "corrected_income": 24.7,
          "expectancy_65_confidence": "boven, 99% zeker",
          "expectancy_aged_65": 20.4,
          "expectancy_birth": 82.7,
          "expectancy_birth_confidence": "boven, 99% zeker",
          "gemeente": "Stein",
          "gender": "total",
          "population": 25134
         },
         {
          "corrected_income": 24.7,
          "expectancy_65_confidence": "boven, 99% zeker",
          "expectancy_aged_65": 19.1,
          "expectancy_birth": 81.5,
          "expectancy_birth_confidence": "boven, 99% zeker",
          "gemeente": "Stein",
          "gender": "male",
          "population": 12509
         },
         {
          "corrected_income": 24.7,
          "expectancy_65_confidence": "geen",
          "expectancy_aged_65": 21.5,
          "expectancy_birth": 83.8,
          "expectancy_birth_confidence": "geen",
          "gemeente": "Stein",
          "gender": "female",
          "population": 12625
         },
         {
          "corrected_income": 22.2,
          "expectancy_65_confidence": "onder, 99% zeker",
          "expectancy_aged_65": 18.9,
          "expectancy_birth": 79.2,
          "expectancy_birth_confidence": "onder, 99% zeker",
          "gemeente": "Vaals",
          "gender": "total",
          "population": 9694
         },
         {
          "corrected_income": 22.2,
          "expectancy_65_confidence": "onder, 95% zeker",
          "expectancy_aged_65": 17.8,
          "expectancy_birth": 78.3,
          "expectancy_birth_confidence": "geen",
          "gemeente": "Vaals",
          "gender": "male",
          "population": 4782
         },
         {
          "corrected_income": 22.2,
          "expectancy_65_confidence": "onder, 99% zeker",
          "expectancy_aged_65": 19.9,
          "expectancy_birth": 80.1,
          "expectancy_birth_confidence": "onder, 99% zeker",
          "gemeente": "Vaals",
          "gender": "female",
          "population": 4912
         },
         {
          "corrected_income": 23.3,
          "expectancy_65_confidence": "boven, 99% zeker",
          "expectancy_aged_65": 20.2,
          "expectancy_birth": 81.7,
          "expectancy_birth_confidence": "geen",
          "gemeente": "Venlo",
          "gender": "total",
          "population": 100536
         },
         {
          "corrected_income": 23.3,
          "expectancy_65_confidence": "boven, 99% zeker",
          "expectancy_aged_65": 18.9,
          "expectancy_birth": 79.9,
          "expectancy_birth_confidence": "geen",
          "gemeente": "Venlo",
          "gender": "male",
          "population": 49978
         },
         {
          "corrected_income": 23.3,
          "expectancy_65_confidence": "geen",
          "expectancy_aged_65": 21.3,
          "expectancy_birth": 83.3,
          "expectancy_birth_confidence": "geen",
          "gemeente": "Venlo",
          "gender": "female",
          "population": 50558
         },
         {
          "corrected_income": 24.7,
          "expectancy_65_confidence": "boven, 99% zeker",
          "expectancy_aged_65": 20.7,
          "expectancy_birth": 82.2,
          "expectancy_birth_confidence": "boven, 99% zeker",
          "gemeente": "Venray",
          "gender": "total",
          "population": 43202
         },
         {
          "corrected_income": 24.7,
          "expectancy_65_confidence": "boven, 99% zeker",
          "expectancy_aged_65": 19.2,
          "expectancy_birth": 80.5,
          "expectancy_birth_confidence": "boven, 95% zeker",
          "gemeente": "Venray",
          "gender": "male",
          "population": 21847
         },
         {
          "corrected_income": 24.7,
          "expectancy_65_confidence": "boven, 99% zeker",
          "expectancy_aged_65": 22,
          "expectancy_birth": 83.7,
          "expectancy_birth_confidence": "geen",
          "gemeente": "Venray",
          "gender": "female",
          "population": 21355
         },
         {
          "corrected_income": 26.8,
          "expectancy_65_confidence": "boven, 99% zeker",
          "expectancy_aged_65": 21.7,
          "expectancy_birth": 83.4,
          "expectancy_birth_confidence": "boven, 99% zeker",
          "gemeente": "Voerendaal",
          "gender": "total",
          "population": 12397
         },
         {
          "corrected_income": 26.8,
          "expectancy_65_confidence": "boven, 99% zeker",
          "expectancy_aged_65": 19.3,
          "expectancy_birth": 80.2,
          "expectancy_birth_confidence": "geen",
          "gemeente": "Voerendaal",
          "gender": "male",
          "population": 6143
         },
         {
          "corrected_income": 26.8,
          "expectancy_65_confidence": "boven, 99% zeker",
          "expectancy_aged_65": 24.2,
          "expectancy_birth": 86.7,
          "expectancy_birth_confidence": "boven, 99% zeker",
          "gemeente": "Voerendaal",
          "gender": "female",
          "population": 6254
         },
         {
          "corrected_income": 24.8,
          "expectancy_65_confidence": "geen",
          "expectancy_aged_65": 20.1,
          "expectancy_birth": 82,
          "expectancy_birth_confidence": "boven, 95% zeker",
          "gemeente": "Weert",
          "gender": "total",
          "population": 48914
         },
         {
          "corrected_income": 24.8,
          "expectancy_65_confidence": "geen",
          "expectancy_aged_65": 18.7,
          "expectancy_birth": 80.3,
          "expectancy_birth_confidence": "geen",
          "gemeente": "Weert",
          "gender": "male",
          "population": 24437
         },
         {
          "corrected_income": 24.8,
          "expectancy_65_confidence": "geen",
          "expectancy_aged_65": 21.4,
          "expectancy_birth": 83.7,
          "expectancy_birth_confidence": "geen",
          "gemeente": "Weert",
          "gender": "female",
          "population": 24477
         },
         {
          "corrected_income": 25.3,
          "expectancy_65_confidence": "onder, 99% zeker",
          "expectancy_aged_65": 19.3,
          "expectancy_birth": 80.7,
          "expectancy_birth_confidence": "onder, 95% zeker",
          "gemeente": "Valkenburg aan de Geul",
          "gender": "total",
          "population": 16618
         },
         {
          "corrected_income": 25.3,
          "expectancy_65_confidence": "onder, 99% zeker",
          "expectancy_aged_65": 17.7,
          "expectancy_birth": 79,
          "expectancy_birth_confidence": "onder, 95% zeker",
          "gemeente": "Valkenburg aan de Geul",
          "gender": "male",
          "population": 8212
         },
         {
          "corrected_income": 25.3,
          "expectancy_65_confidence": "onder, 95% zeker",
          "expectancy_aged_65": 20.7,
          "expectancy_birth": 82.4,
          "expectancy_birth_confidence": "geen",
          "gemeente": "Valkenburg aan de Geul",
          "gender": "female",
          "population": 8406
         },
         {
          "corrected_income": 23.5,
          "expectancy_65_confidence": "onder, 99% zeker",
          "expectancy_aged_65": 18.7,
          "expectancy_birth": 80.1,
          "expectancy_birth_confidence": "onder, 99% zeker",
          "gemeente": "Lelystad",
          "gender": "total",
          "population": 76418
         },
         {
          "corrected_income": 23.5,
          "expectancy_65_confidence": "onder, 99% zeker",
          "expectancy_aged_65": 17.9,
          "expectancy_birth": 79,
          "expectancy_birth_confidence": "onder, 99% zeker",
          "gemeente": "Lelystad",
          "gender": "male",
          "population": 38108
         },
         {
          "corrected_income": 23.5,
          "expectancy_65_confidence": "onder, 99% zeker",
          "expectancy_aged_65": 19.4,
          "expectancy_birth": 81.3,
          "expectancy_birth_confidence": "onder, 99% zeker",
          "gemeente": "Lelystad",
          "gender": "female",
          "population": 38310
         },
         {
          "corrected_income": 25.7,
          "expectancy_65_confidence": "boven, 99% zeker",
          "expectancy_aged_65": 20.3,
          "expectancy_birth": 82.1,
          "expectancy_birth_confidence": "boven, 99% zeker",
          "gemeente": "Horst aan de Maas",
          "gender": "total",
          "population": 41661
         },
         {
          "corrected_income": 25.7,
          "expectancy_65_confidence": "boven, 95% zeker",
          "expectancy_aged_65": 18.8,
          "expectancy_birth": 80.1,
          "expectancy_birth_confidence": "geen",
          "gemeente": "Horst aan de Maas",
          "gender": "male",
          "population": 20984
         },
         {
          "corrected_income": 25.7,
          "expectancy_65_confidence": "boven, 95% zeker",
          "expectancy_aged_65": 21.6,
          "expectancy_birth": 84.2,
          "expectancy_birth_confidence": "boven, 99% zeker",
          "gemeente": "Horst aan de Maas",
          "gender": "female",
          "population": 20677
         },
         {
          "corrected_income": 23.5,
          "expectancy_65_confidence": "onder, 99% zeker",
          "expectancy_aged_65": 19.1,
          "expectancy_birth": 80.7,
          "expectancy_birth_confidence": "onder, 99% zeker",
          "gemeente": "Oude IJsselstreek",
          "gender": "total",
          "population": 39558
         },
         {
          "corrected_income": 23.5,
          "expectancy_65_confidence": "onder, 99% zeker",
          "expectancy_aged_65": 17.5,
          "expectancy_birth": 78.7,
          "expectancy_birth_confidence": "onder, 99% zeker",
          "gemeente": "Oude IJsselstreek",
          "gender": "male",
          "population": 19852
         },
         {
          "corrected_income": 23.5,
          "expectancy_65_confidence": "onder, 99% zeker",
          "expectancy_aged_65": 20.4,
          "expectancy_birth": 82.6,
          "expectancy_birth_confidence": "onder, 99% zeker",
          "gemeente": "Oude IJsselstreek",
          "gender": "female",
          "population": 19706
         },
         {
          "corrected_income": 29.8,
          "expectancy_65_confidence": "geen",
          "expectancy_aged_65": 19.9,
          "expectancy_birth": 82,
          "expectancy_birth_confidence": "geen",
          "gemeente": "Teylingen",
          "gender": "total",
          "population": 35646
         },
         {
          "corrected_income": 29.8,
          "expectancy_65_confidence": "boven, 95% zeker",
          "expectancy_aged_65": 18.9,
          "expectancy_birth": 80.6,
          "expectancy_birth_confidence": "boven, 95% zeker",
          "gemeente": "Teylingen",
          "gender": "male",
          "population": 17797
         },
         {
          "corrected_income": 29.8,
          "expectancy_65_confidence": "onder, 95% zeker",
          "expectancy_aged_65": 20.9,
          "expectancy_birth": 83.3,
          "expectancy_birth_confidence": "geen",
          "gemeente": "Teylingen",
          "gender": "female",
          "population": 17849
         },
         {
          "corrected_income": 30.2,
          "expectancy_65_confidence": "geen",
          "expectancy_aged_65": 20.1,
          "expectancy_birth": 81.9,
          "expectancy_birth_confidence": "geen",
          "gemeente": "Utrechtse Heuvelrug",
          "gender": "total",
          "population": 48183
         },
         {
          "corrected_income": 30.2,
          "expectancy_65_confidence": "boven, 99% zeker",
          "expectancy_aged_65": 18.9,
          "expectancy_birth": 80.3,
          "expectancy_birth_confidence": "geen",
          "gemeente": "Utrechtse Heuvelrug",
          "gender": "male",
          "population": 23439
         },
         {
          "corrected_income": 30.2,
          "expectancy_65_confidence": "geen",
          "expectancy_aged_65": 21.1,
          "expectancy_birth": 83.2,
          "expectancy_birth_confidence": "geen",
          "gemeente": "Utrechtse Heuvelrug",
          "gender": "female",
          "population": 24744
         },
         {
          "corrected_income": 25,
          "expectancy_65_confidence": "onder, 99% zeker",
          "expectancy_aged_65": 19,
          "expectancy_birth": 80.8,
          "expectancy_birth_confidence": "onder, 99% zeker",
          "gemeente": "Oost Gelre",
          "gender": "total",
          "population": 29533
         },
         {
          "corrected_income": 25,
          "expectancy_65_confidence": "onder, 99% zeker",
          "expectancy_aged_65": 16.8,
          "expectancy_birth": 78.5,
          "expectancy_birth_confidence": "onder, 99% zeker",
          "gemeente": "Oost Gelre",
          "gender": "male",
          "population": 14966
         },
         {
          "corrected_income": 25,
          "expectancy_65_confidence": "geen",
          "expectancy_aged_65": 21.2,
          "expectancy_birth": 83,
          "expectancy_birth_confidence": "geen",
          "gemeente": "Oost Gelre",
          "gender": "female",
          "population": 14567
         },
         {
          "corrected_income": 26.3,
          "expectancy_65_confidence": "geen",
          "expectancy_aged_65": 19.8,
          "expectancy_birth": 81.7,
          "expectancy_birth_confidence": "geen",
          "gemeente": "Koggenland",
          "gender": "total",
          "population": 22426
         },
         {
          "corrected_income": 26.3,
          "expectancy_65_confidence": "boven, 95% zeker",
          "expectancy_aged_65": 19,
          "expectancy_birth": 80.2,
          "expectancy_birth_confidence": "geen",
          "gemeente": "Koggenland",
          "gender": "male",
          "population": 11266
         },
         {
          "corrected_income": 26.3,
          "expectancy_65_confidence": "onder, 99% zeker",
          "expectancy_aged_65": 20.5,
          "expectancy_birth": 83.2,
          "expectancy_birth_confidence": "geen",
          "gemeente": "Koggenland",
          "gender": "female",
          "population": 11160
         },
         {
          "corrected_income": 30.4,
          "expectancy_65_confidence": "boven, 99% zeker",
          "expectancy_aged_65": 21.1,
          "expectancy_birth": 83.6,
          "expectancy_birth_confidence": "boven, 99% zeker",
          "gemeente": "Lansingerland",
          "gender": "total",
          "population": 58133
         },
         {
          "corrected_income": 30.4,
          "expectancy_65_confidence": "boven, 99% zeker",
          "expectancy_aged_65": 19.9,
          "expectancy_birth": 81.9,
          "expectancy_birth_confidence": "boven, 99% zeker",
          "gemeente": "Lansingerland",
          "gender": "male",
          "population": 28901
         },
         {
          "corrected_income": 30.4,
          "expectancy_65_confidence": "boven, 99% zeker",
          "expectancy_aged_65": 22.4,
          "expectancy_birth": 85.2,
          "expectancy_birth_confidence": "boven, 99% zeker",
          "gemeente": "Lansingerland",
          "gender": "female",
          "population": 29232
         },
         {
          "corrected_income": 25.9,
          "expectancy_65_confidence": "geen",
          "expectancy_aged_65": 19.8,
          "expectancy_birth": 81.5,
          "expectancy_birth_confidence": "geen",
          "gemeente": "Leudal",
          "gender": "total",
          "population": 36244
         },
         {
          "corrected_income": 25.9,
          "expectancy_65_confidence": "onder, 99% zeker",
          "expectancy_aged_65": 18,
          "expectancy_birth": 79.3,
          "expectancy_birth_confidence": "geen",
          "gemeente": "Leudal",
          "gender": "male",
          "population": 18349
         },
         {
          "corrected_income": 25.9,
          "expectancy_65_confidence": "geen",
          "expectancy_aged_65": 21.5,
          "expectancy_birth": 83.8,
          "expectancy_birth_confidence": "boven, 95% zeker",
          "gemeente": "Leudal",
          "gender": "female",
          "population": 17895
         },
         {
          "corrected_income": 25.9,
          "expectancy_65_confidence": "boven, 99% zeker",
          "expectancy_aged_65": 20.4,
          "expectancy_birth": 81.9,
          "expectancy_birth_confidence": "geen",
          "gemeente": "Maasgouw",
          "gender": "total",
          "population": 23766
         },
         {
          "corrected_income": 25.9,
          "expectancy_65_confidence": "geen",
          "expectancy_aged_65": 18.4,
          "expectancy_birth": 79.7,
          "expectancy_birth_confidence": "geen",
          "gemeente": "Maasgouw",
          "gender": "male",
          "population": 11895
         },
         {
          "corrected_income": 25.9,
          "expectancy_65_confidence": "boven, 99% zeker",
          "expectancy_aged_65": 22.3,
          "expectancy_birth": 84.3,
          "expectancy_birth_confidence": "boven, 99% zeker",
          "gemeente": "Maasgouw",
          "gender": "female",
          "population": 11871
         },
         {
          "corrected_income": 22.1,
          "expectancy_65_confidence": "boven, 99% zeker",
          "expectancy_aged_65": 20.9,
          "expectancy_birth": 81.3,
          "expectancy_birth_confidence": "geen",
          "gemeente": "Eemsmond",
          "gender": "total",
          "population": 15770
         },
         {
          "corrected_income": 22.1,
          "expectancy_65_confidence": "boven, 99% zeker",
          "expectancy_aged_65": 19.5,
          "expectancy_birth": 79.6,
          "expectancy_birth_confidence": "geen",
          "gemeente": "Eemsmond",
          "gender": "male",
          "population": 8027
         },
         {
          "corrected_income": 22.1,
          "expectancy_65_confidence": "boven, 99% zeker",
          "expectancy_aged_65": 22.3,
          "expectancy_birth": 82.9,
          "expectancy_birth_confidence": "geen",
          "gemeente": "Eemsmond",
          "gender": "female",
          "population": 7743
         },
         {
          "corrected_income": 24.9,
          "expectancy_65_confidence": "geen",
          "expectancy_aged_65": 19.8,
          "expectancy_birth": 81.3,
          "expectancy_birth_confidence": "geen",
          "gemeente": "Gemert-Bakel",
          "gender": "total",
          "population": 29513
         },
         {
          "corrected_income": 24.9,
          "expectancy_65_confidence": "onder, 95% zeker",
          "expectancy_aged_65": 18,
          "expectancy_birth": 79.4,
          "expectancy_birth_confidence": "geen",
          "gemeente": "Gemert-Bakel",
          "gender": "male",
          "population": 14921
         },
         {
          "corrected_income": 24.9,
          "expectancy_65_confidence": "geen",
          "expectancy_aged_65": 21.4,
          "expectancy_birth": 83.2,
          "expectancy_birth_confidence": "geen",
          "gemeente": "Gemert-Bakel",
          "gender": "female",
          "population": 14592
         },
         {
          "corrected_income": 25.7,
          "expectancy_65_confidence": "geen",
          "expectancy_aged_65": 20.2,
          "expectancy_birth": 82.1,
          "expectancy_birth_confidence": "boven, 95% zeker",
          "gemeente": "Halderberge",
          "gender": "total",
          "population": 29484
         },
         {
          "corrected_income": 25.7,
          "expectancy_65_confidence": "boven, 99% zeker",
          "expectancy_aged_65": 19,
          "expectancy_birth": 80.6,
          "expectancy_birth_confidence": "geen",
          "gemeente": "Halderberge",
          "gender": "male",
          "population": 14616
         },
         {
          "corrected_income": 25.7,
          "expectancy_65_confidence": "geen",
          "expectancy_aged_65": 21.2,
          "expectancy_birth": 83.5,
          "expectancy_birth_confidence": "geen",
          "gemeente": "Halderberge",
          "gender": "female",
          "population": 14868
         },
         {
          "corrected_income": 29.2,
          "expectancy_65_confidence": "geen",
          "expectancy_aged_65": 20.1,
          "expectancy_birth": 81.6,
          "expectancy_birth_confidence": "geen",
          "gemeente": "Heeze-Leende",
          "gender": "total",
          "population": 15477
         },
         {
          "corrected_income": 29.2,
          "expectancy_65_confidence": "geen",
          "expectancy_aged_65": 18.8,
          "expectancy_birth": 80.6,
          "expectancy_birth_confidence": "geen",
          "gemeente": "Heeze-Leende",
          "gender": "male",
          "population": 7850
         },
         {
          "corrected_income": 29.2,
          "expectancy_65_confidence": "geen",
          "expectancy_aged_65": 21.3,
          "expectancy_birth": 82.5,
          "expectancy_birth_confidence": "geen",
          "gemeente": "Heeze-Leende",
          "gender": "female",
          "population": 7627
         },
         {
          "corrected_income": 25.6,
          "expectancy_65_confidence": "geen",
          "expectancy_aged_65": 19.6,
          "expectancy_birth": 81.7,
          "expectancy_birth_confidence": "geen",
          "gemeente": "Laarbeek",
          "gender": "total",
          "population": 21913
         },
         {
          "corrected_income": 25.6,
          "expectancy_65_confidence": "geen",
          "expectancy_aged_65": 18.5,
          "expectancy_birth": 80.1,
          "expectancy_birth_confidence": "geen",
          "gemeente": "Laarbeek",
          "gender": "male",
          "population": 11082
         },
         {
          "corrected_income": 25.6,
          "expectancy_65_confidence": "onder, 99% zeker",
          "expectancy_aged_65": 20.7,
          "expectancy_birth": 83.3,
          "expectancy_birth_confidence": "geen",
          "gemeente": "Laarbeek",
          "gender": "female",
          "population": 10831
         },
         {
          "corrected_income": 22.6,
          "expectancy_65_confidence": "geen",
          "expectancy_aged_65": 20.1,
          "expectancy_birth": 81.2,
          "expectancy_birth_confidence": "geen",
          "gemeente": "De Marne",
          "gender": "total",
          "population": 10157
         },
         {
          "corrected_income": 22.6,
          "expectancy_65_confidence": "geen",
          "expectancy_aged_65": 18.7,
          "expectancy_birth": 79.3,
          "expectancy_birth_confidence": "geen",
          "gemeente": "De Marne",
          "gender": "male",
          "population": 5148
         },
         {
          "corrected_income": 22.6,
          "expectancy_65_confidence": "geen",
          "expectancy_aged_65": 21.6,
          "expectancy_birth": 83.4,
          "expectancy_birth_confidence": "geen",
          "gemeente": "De Marne",
          "gender": "female",
          "population": 5009
         },
         {
          "corrected_income": 25.9,
          "expectancy_65_confidence": "boven, 99% zeker",
          "expectancy_aged_65": 20.9,
          "expectancy_birth": 82.9,
          "expectancy_birth_confidence": "boven, 99% zeker",
          "gemeente": "Reusel-De Mierden",
          "gender": "total",
          "population": 12774
         },
         {
          "corrected_income": 25.9,
          "expectancy_65_confidence": "boven, 95% zeker",
          "expectancy_aged_65": 19.2,
          "expectancy_birth": 81.2,
          "expectancy_birth_confidence": "boven, 95% zeker",
          "gemeente": "Reusel-De Mierden",
          "gender": "male",
          "population": 6539
         },
         {
          "corrected_income": 25.9,
          "expectancy_65_confidence": "boven, 99% zeker",
          "expectancy_aged_65": 22.6,
          "expectancy_birth": 84.6,
          "expectancy_birth_confidence": "boven, 95% zeker",
          "gemeente": "Reusel-De Mierden",
          "gender": "female",
          "population": 6235
         },
         {
          "corrected_income": 25.2,
          "expectancy_65_confidence": "geen",
          "expectancy_aged_65": 20.1,
          "expectancy_birth": 82.1,
          "expectancy_birth_confidence": "boven, 95% zeker",
          "gemeente": "Roerdalen",
          "gender": "total",
          "population": 20699
         },
         {
          "corrected_income": 25.2,
          "expectancy_65_confidence": "geen",
          "expectancy_aged_65": 18.2,
          "expectancy_birth": 80.3,
          "expectancy_birth_confidence": "geen",
          "gemeente": "Roerdalen",
          "gender": "male",
          "population": 10340
         },
         {
          "corrected_income": 25.2,
          "expectancy_65_confidence": "boven, 95% zeker",
          "expectancy_aged_65": 21.9,
          "expectancy_birth": 83.8,
          "expectancy_birth_confidence": "geen",
          "gemeente": "Roerdalen",
          "gender": "female",
          "population": 10359
         },
         {
          "corrected_income": 24.7,
          "expectancy_65_confidence": "onder, 99% zeker",
          "expectancy_aged_65": 19.4,
          "expectancy_birth": 81,
          "expectancy_birth_confidence": "onder, 99% zeker",
          "gemeente": "Roosendaal",
          "gender": "total",
          "population": 76874
         },
         {
          "corrected_income": 24.7,
          "expectancy_65_confidence": "onder, 99% zeker",
          "expectancy_aged_65": 18,
          "expectancy_birth": 79.4,
          "expectancy_birth_confidence": "onder, 95% zeker",
          "gemeente": "Roosendaal",
          "gender": "male",
          "population": 37965
         },
         {
          "corrected_income": 24.7,
          "expectancy_65_confidence": "onder, 99% zeker",
          "expectancy_aged_65": 20.6,
          "expectancy_birth": 82.5,
          "expectancy_birth_confidence": "onder, 99% zeker",
          "gemeente": "Roosendaal",
          "gender": "female",
          "population": 38909
         },
         {
          "corrected_income": 26.2,
          "expectancy_65_confidence": "boven, 99% zeker",
          "expectancy_aged_65": 21.1,
          "expectancy_birth": 82.3,
          "expectancy_birth_confidence": "boven, 99% zeker",
          "gemeente": "Schouwen-Duiveland",
          "gender": "total",
          "population": 33821
         },
         {
          "corrected_income": 26.2,
          "expectancy_65_confidence": "boven, 99% zeker",
          "expectancy_aged_65": 19.3,
          "expectancy_birth": 79.6,
          "expectancy_birth_confidence": "geen",
          "gemeente": "Schouwen-Duiveland",
          "gender": "male",
          "population": 16723
         },
         {
          "corrected_income": 26.2,
          "expectancy_65_confidence": "boven, 99% zeker",
          "expectancy_aged_65": 22.8,
          "expectancy_birth": 85.1,
          "expectancy_birth_confidence": "boven, 99% zeker",
          "gemeente": "Schouwen-Duiveland",
          "gender": "female",
          "population": 17098
         },
         {
          "corrected_income": 26.2,
          "expectancy_65_confidence": "boven, 99% zeker",
          "expectancy_aged_65": 20.5,
          "expectancy_birth": 82.5,
          "expectancy_birth_confidence": "boven, 99% zeker",
          "gemeente": "Aa en Hunze",
          "gender": "total",
          "population": 25203
         },
         {
          "corrected_income": 26.2,
          "expectancy_65_confidence": "boven, 95% zeker",
          "expectancy_aged_65": 18.9,
          "expectancy_birth": 80,
          "expectancy_birth_confidence": "geen",
          "gemeente": "Aa en Hunze",
          "gender": "male",
          "population": 12545
         },
         {
          "corrected_income": 26.2,
          "expectancy_65_confidence": "boven, 99% zeker",
          "expectancy_aged_65": 22,
          "expectancy_birth": 85,
          "expectancy_birth_confidence": "boven, 99% zeker",
          "gemeente": "Aa en Hunze",
          "gender": "female",
          "population": 12658
         },
         {
          "corrected_income": 23.9,
          "expectancy_65_confidence": "geen",
          "expectancy_aged_65": 19.9,
          "expectancy_birth": 81.5,
          "expectancy_birth_confidence": "geen",
          "gemeente": "Borger-Odoorn",
          "gender": "total",
          "population": 25502
         },
         {
          "corrected_income": 23.9,
          "expectancy_65_confidence": "geen",
          "expectancy_aged_65": 18.7,
          "expectancy_birth": 80,
          "expectancy_birth_confidence": "geen",
          "gemeente": "Borger-Odoorn",
          "gender": "male",
          "population": 12736
         },
         {
          "corrected_income": 23.9,
          "expectancy_65_confidence": "geen",
          "expectancy_aged_65": 21,
          "expectancy_birth": 82.9,
          "expectancy_birth_confidence": "geen",
          "gemeente": "Borger-Odoorn",
          "gender": "female",
          "population": 12766
         },
         {
          "corrected_income": 24.5,
          "expectancy_65_confidence": "geen",
          "expectancy_aged_65": 19.7,
          "expectancy_birth": 80.9,
          "expectancy_birth_confidence": "onder, 95% zeker",
          "gemeente": "Cuijk",
          "gender": "total",
          "population": 24649
         },
         {
          "corrected_income": 24.5,
          "expectancy_65_confidence": "onder, 99% zeker",
          "expectancy_aged_65": 17.7,
          "expectancy_birth": 78.2,
          "expectancy_birth_confidence": "onder, 99% zeker",
          "gemeente": "Cuijk",
          "gender": "male",
          "population": 12318
         },
         {
          "corrected_income": 24.5,
          "expectancy_65_confidence": "geen",
          "expectancy_aged_65": 21.6,
          "expectancy_birth": 83.6,
          "expectancy_birth_confidence": "geen",
          "gemeente": "Cuijk",
          "gender": "female",
          "population": 12331
         },
         {
          "corrected_income": 25.8,
          "expectancy_65_confidence": "onder, 99% zeker",
          "expectancy_aged_65": 19.4,
          "expectancy_birth": 81.5,
          "expectancy_birth_confidence": "geen",
          "gemeente": "Landerd",
          "gender": "total",
          "population": 15290
         },
         {
          "corrected_income": 25.8,
          "expectancy_65_confidence": "geen",
          "expectancy_aged_65": 18.4,
          "expectancy_birth": 80.3,
          "expectancy_birth_confidence": "geen",
          "gemeente": "Landerd",
          "gender": "male",
          "population": 7793
         },
         {
          "corrected_income": 25.8,
          "expectancy_65_confidence": "onder, 99% zeker",
          "expectancy_aged_65": 20.3,
          "expectancy_birth": 82.8,
          "expectancy_birth_confidence": "geen",
          "gemeente": "Landerd",
          "gender": "female",
          "population": 7497
         },
         {
          "corrected_income": 25.6,
          "expectancy_65_confidence": "boven, 95% zeker",
          "expectancy_aged_65": 20.4,
          "expectancy_birth": 81.8,
          "expectancy_birth_confidence": "geen",
          "gemeente": "De Wolden",
          "gender": "total",
          "population": 23661
         },
         {
          "corrected_income": 25.6,
          "expectancy_65_confidence": "geen",
          "expectancy_aged_65": 18.5,
          "expectancy_birth": 80.1,
          "expectancy_birth_confidence": "geen",
          "gemeente": "De Wolden",
          "gender": "male",
          "population": 11865
         },
         {
          "corrected_income": 25.6,
          "expectancy_65_confidence": "boven, 99% zeker",
          "expectancy_aged_65": 22.2,
          "expectancy_birth": 83.6,
          "expectancy_birth_confidence": "geen",
          "gemeente": "De Wolden",
          "gender": "female",
          "population": 11796
         },
         {
          "corrected_income": 24.6,
          "expectancy_65_confidence": "onder, 99% zeker",
          "expectancy_aged_65": 19.2,
          "expectancy_birth": 80.7,
          "expectancy_birth_confidence": "geen",
          "gemeente": "Noord-Beveland",
          "gender": "total",
          "population": 7433
         },
         {
          "corrected_income": 24.6,
          "expectancy_65_confidence": "geen",
          "expectancy_aged_65": 18.1,
          "expectancy_birth": 78.6,
          "expectancy_birth_confidence": "geen",
          "gemeente": "Noord-Beveland",
          "gender": "male",
          "population": 3724
         },
         {
          "corrected_income": 24.6,
          "expectancy_65_confidence": "geen",
          "expectancy_aged_65": 20.6,
          "expectancy_birth": 83.3,
          "expectancy_birth_confidence": "geen",
          "gemeente": "Noord-Beveland",
          "gender": "female",
          "population": 3709
         },
         {
          "corrected_income": 30.1,
          "expectancy_65_confidence": "geen",
          "expectancy_aged_65": 20.1,
          "expectancy_birth": 82.3,
          "expectancy_birth_confidence": "boven, 99% zeker",
          "gemeente": "Wijdemeren",
          "gender": "total",
          "population": 23176
         },
         {
          "corrected_income": 30.1,
          "expectancy_65_confidence": "boven, 95% zeker",
          "expectancy_aged_65": 18.9,
          "expectancy_birth": 80.4,
          "expectancy_birth_confidence": "geen",
          "gemeente": "Wijdemeren",
          "gender": "male",
          "population": 11311
         },
         {
          "corrected_income": 30.1,
          "expectancy_65_confidence": "geen",
          "expectancy_aged_65": 21.3,
          "expectancy_birth": 84.1,
          "expectancy_birth_confidence": "boven, 99% zeker",
          "gemeente": "Wijdemeren",
          "gender": "female",
          "population": 11865
         },
         {
          "corrected_income": 25.5,
          "expectancy_65_confidence": "boven, 99% zeker",
          "expectancy_aged_65": 21.5,
          "expectancy_birth": 83.2,
          "expectancy_birth_confidence": "boven, 99% zeker",
          "gemeente": "Noordenveld",
          "gender": "total",
          "population": 31137
         },
         {
          "corrected_income": 25.5,
          "expectancy_65_confidence": "boven, 99% zeker",
          "expectancy_aged_65": 20.2,
          "expectancy_birth": 81.3,
          "expectancy_birth_confidence": "boven, 99% zeker",
          "gemeente": "Noordenveld",
          "gender": "male",
          "population": 15498
         },
         {
          "corrected_income": 25.5,
          "expectancy_65_confidence": "boven, 99% zeker",
          "expectancy_aged_65": 22.7,
          "expectancy_birth": 85.2,
          "expectancy_birth_confidence": "boven, 99% zeker",
          "gemeente": "Noordenveld",
          "gender": "female",
          "population": 15639
         },
         {
          "corrected_income": 22.9,
          "expectancy_65_confidence": "onder, 99% zeker",
          "expectancy_aged_65": 18.4,
          "expectancy_birth": 80.5,
          "expectancy_birth_confidence": "onder, 99% zeker",
          "gemeente": "Twenterand",
          "gender": "total",
          "population": 33874
         },
         {
          "corrected_income": 22.9,
          "expectancy_65_confidence": "onder, 99% zeker",
          "expectancy_aged_65": 17.2,
          "expectancy_birth": 79.1,
          "expectancy_birth_confidence": "onder, 95% zeker",
          "gemeente": "Twenterand",
          "gender": "male",
          "population": 17131
         },
         {
          "corrected_income": 22.9,
          "expectancy_65_confidence": "onder, 99% zeker",
          "expectancy_aged_65": 19.3,
          "expectancy_birth": 81.8,
          "expectancy_birth_confidence": "onder, 99% zeker",
          "gemeente": "Twenterand",
          "gender": "female",
          "population": 16743
         },
         {
          "corrected_income": 25.6,
          "expectancy_65_confidence": "geen",
          "expectancy_aged_65": 20.2,
          "expectancy_birth": 81.4,
          "expectancy_birth_confidence": "geen",
          "gemeente": "Westerveld",
          "gender": "total",
          "population": 19085
         },
         {
          "corrected_income": 25.6,
          "expectancy_65_confidence": "boven, 99% zeker",
          "expectancy_aged_65": 19.3,
          "expectancy_birth": 80,
          "expectancy_birth_confidence": "geen",
          "gemeente": "Westerveld",
          "gender": "male",
          "population": 9542
         },
         {
          "corrected_income": 25.6,
          "expectancy_65_confidence": "geen",
          "expectancy_aged_65": 21.2,
          "expectancy_birth": 82.9,
          "expectancy_birth_confidence": "geen",
          "gemeente": "Westerveld",
          "gender": "female",
          "population": 9543
         },
         {
          "corrected_income": 26.3,
          "expectancy_65_confidence": "boven, 99% zeker",
          "expectancy_aged_65": 22.1,
          "expectancy_birth": 85.1,
          "expectancy_birth_confidence": "boven, 99% zeker",
          "gemeente": "Sint Anthonis",
          "gender": "total",
          "population": 11612
         },
         {
          "corrected_income": 26.3,
          "expectancy_65_confidence": "boven, 99% zeker",
          "expectancy_aged_65": 21,
          "expectancy_birth": 84,
          "expectancy_birth_confidence": "boven, 99% zeker",
          "gemeente": "Sint Anthonis",
          "gender": "male",
          "population": 5995
         },
         {
          "corrected_income": 26.3,
          "expectancy_65_confidence": "boven, 99% zeker",
          "expectancy_aged_65": 23,
          "expectancy_birth": 86.1,
          "expectancy_birth_confidence": "boven, 99% zeker",
          "gemeente": "Sint Anthonis",
          "gender": "female",
          "population": 5617
         },
         {
          "corrected_income": 25.6,
          "expectancy_65_confidence": "boven, 99% zeker",
          "expectancy_aged_65": 20.3,
          "expectancy_birth": 82.6,
          "expectancy_birth_confidence": "boven, 99% zeker",
          "gemeente": "Lingewaard",
          "gender": "total",
          "population": 45788
         },
         {
          "corrected_income": 25.6,
          "expectancy_65_confidence": "geen",
          "expectancy_aged_65": 18.4,
          "expectancy_birth": 80.7,
          "expectancy_birth_confidence": "boven, 99% zeker",
          "gemeente": "Lingewaard",
          "gender": "male",
          "population": 22733
         },
         {
          "corrected_income": 25.6,
          "expectancy_65_confidence": "boven, 99% zeker",
          "expectancy_aged_65": 22.1,
          "expectancy_birth": 84.4,
          "expectancy_birth_confidence": "boven, 99% zeker",
          "gemeente": "Lingewaard",
          "gender": "female",
          "population": 23055
         },
         {
          "corrected_income": 25.8,
          "expectancy_65_confidence": "geen",
          "expectancy_aged_65": 20.1,
          "expectancy_birth": 81.6,
          "expectancy_birth_confidence": "geen",
          "gemeente": "Cranendonck",
          "gender": "total",
          "population": 20542
         },
         {
          "corrected_income": 25.8,
          "expectancy_65_confidence": "geen",
          "expectancy_aged_65": 18.1,
          "expectancy_birth": 79.6,
          "expectancy_birth_confidence": "geen",
          "gemeente": "Cranendonck",
          "gender": "male",
          "population": 10337
         },
         {
          "corrected_income": 25.8,
          "expectancy_65_confidence": "boven, 99% zeker",
          "expectancy_aged_65": 22.1,
          "expectancy_birth": 83.5,
          "expectancy_birth_confidence": "geen",
          "gemeente": "Cranendonck",
          "gender": "female",
          "population": 10205
         },
         {
          "corrected_income": 23.6,
          "expectancy_65_confidence": "geen",
          "expectancy_aged_65": 20.1,
          "expectancy_birth": 81.7,
          "expectancy_birth_confidence": "geen",
          "gemeente": "Steenwijkerland",
          "gender": "total",
          "population": 43219
         },
         {
          "corrected_income": 23.6,
          "expectancy_65_confidence": "boven, 99% zeker",
          "expectancy_aged_65": 18.9,
          "expectancy_birth": 80.4,
          "expectancy_birth_confidence": "geen",
          "gemeente": "Steenwijkerland",
          "gender": "male",
          "population": 21567
         },
         {
          "corrected_income": 23.6,
          "expectancy_65_confidence": "geen",
          "expectancy_aged_65": 21.2,
          "expectancy_birth": 82.9,
          "expectancy_birth_confidence": "geen",
          "gemeente": "Steenwijkerland",
          "gender": "female",
          "population": 21652
         },
         {
          "corrected_income": 26.1,
          "expectancy_65_confidence": "geen",
          "expectancy_aged_65": 20.1,
          "expectancy_birth": 81.9,
          "expectancy_birth_confidence": "geen",
          "gemeente": "Moerdijk",
          "gender": "total",
          "population": 36816
         },
         {
          "corrected_income": 26.1,
          "expectancy_65_confidence": "geen",
          "expectancy_aged_65": 18.7,
          "expectancy_birth": 80.8,
          "expectancy_birth_confidence": "boven, 99% zeker",
          "gemeente": "Moerdijk",
          "gender": "male",
          "population": 18419
         },
         {
          "corrected_income": 26.1,
          "expectancy_65_confidence": "geen",
          "expectancy_aged_65": 21.3,
          "expectancy_birth": 82.8,
          "expectancy_birth_confidence": "geen",
          "gemeente": "Moerdijk",
          "gender": "female",
          "population": 18397
         },
         {
          "corrected_income": 24.9,
          "expectancy_65_confidence": "onder, 99% zeker",
          "expectancy_aged_65": 19.3,
          "expectancy_birth": 80.3,
          "expectancy_birth_confidence": "onder, 99% zeker",
          "gemeente": "Echt-Susteren",
          "gender": "total",
          "population": 31947
         },
         {
          "corrected_income": 24.9,
          "expectancy_65_confidence": "onder, 99% zeker",
          "expectancy_aged_65": 17.8,
          "expectancy_birth": 78.3,
          "expectancy_birth_confidence": "onder, 99% zeker",
          "gemeente": "Echt-Susteren",
          "gender": "male",
          "population": 16016
         },
         {
          "corrected_income": 24.9,
          "expectancy_65_confidence": "onder, 99% zeker",
          "expectancy_aged_65": 20.4,
          "expectancy_birth": 82.3,
          "expectancy_birth_confidence": "onder, 99% zeker",
          "gemeente": "Echt-Susteren",
          "gender": "female",
          "population": 15931
         },
         {
          "corrected_income": 24.9,
          "expectancy_65_confidence": "boven, 99% zeker",
          "expectancy_aged_65": 20.4,
          "expectancy_birth": 81.7,
          "expectancy_birth_confidence": "geen",
          "gemeente": "Sluis",
          "gender": "total",
          "population": 23747
         },
         {
          "corrected_income": 24.9,
          "expectancy_65_confidence": "geen",
          "expectancy_aged_65": 18.7,
          "expectancy_birth": 79.8,
          "expectancy_birth_confidence": "geen",
          "gemeente": "Sluis",
          "gender": "male",
          "population": 11699
         },
         {
          "corrected_income": 24.9,
          "expectancy_65_confidence": "boven, 99% zeker",
          "expectancy_aged_65": 22,
          "expectancy_birth": 83.6,
          "expectancy_birth_confidence": "geen",
          "gemeente": "Sluis",
          "gender": "female",
          "population": 12048
         },
         {
          "corrected_income": 26.8,
          "expectancy_65_confidence": "onder, 95% zeker",
          "expectancy_aged_65": 19.6,
          "expectancy_birth": 81.3,
          "expectancy_birth_confidence": "geen",
          "gemeente": "Drimmelen",
          "gender": "total",
          "population": 26703
         },
         {
          "corrected_income": 26.8,
          "expectancy_65_confidence": "geen",
          "expectancy_aged_65": 18.3,
          "expectancy_birth": 80.1,
          "expectancy_birth_confidence": "geen",
          "gemeente": "Drimmelen",
          "gender": "male",
          "population": 13355
         },
         {
          "corrected_income": 26.8,
          "expectancy_65_confidence": "geen",
          "expectancy_aged_65": 20.9,
          "expectancy_birth": 82.5,
          "expectancy_birth_confidence": "onder, 95% zeker",
          "gemeente": "Drimmelen",
          "gender": "female",
          "population": 13348
         },
         {
          "corrected_income": 26.7,
          "expectancy_65_confidence": "geen",
          "expectancy_aged_65": 19.7,
          "expectancy_birth": 81.6,
          "expectancy_birth_confidence": "geen",
          "gemeente": "Bernheze",
          "gender": "total",
          "population": 29729
         },
         {
          "corrected_income": 26.7,
          "expectancy_65_confidence": "geen",
          "expectancy_aged_65": 18.2,
          "expectancy_birth": 79.8,
          "expectancy_birth_confidence": "geen",
          "gemeente": "Bernheze",
          "gender": "male",
          "population": 15011
         },
         {
          "corrected_income": 26.7,
          "expectancy_65_confidence": "geen",
          "expectancy_aged_65": 21.2,
          "expectancy_birth": 83.3,
          "expectancy_birth_confidence": "geen",
          "gemeente": "Bernheze",
          "gender": "female",
          "population": 14718
         },
         {
          "corrected_income": 22.8,
          "expectancy_65_confidence": "geen",
          "expectancy_aged_65": 20.2,
          "expectancy_birth": 81.9,
          "expectancy_birth_confidence": "geen",
          "gemeente": "Ferwerderadiel",
          "gender": "total",
          "population": 8738
         },
         {
          "corrected_income": 22.8,
          "expectancy_65_confidence": "geen",
          "expectancy_aged_65": 18.2,
          "expectancy_birth": 80.5,
          "expectancy_birth_confidence": "geen",
          "gemeente": "Ferwerderadiel",
          "gender": "male",
          "population": 4471
         },
         {
          "corrected_income": 22.8,
          "expectancy_65_confidence": "boven, 95% zeker",
          "expectancy_aged_65": 22.1,
          "expectancy_birth": 83.2,
          "expectancy_birth_confidence": "geen",
          "gemeente": "Ferwerderadiel",
          "gender": "female",
          "population": 4267
         },
         {
          "corrected_income": 27.8,
          "expectancy_65_confidence": "boven, 99% zeker",
          "expectancy_aged_65": 22.7,
          "expectancy_birth": 84,
          "expectancy_birth_confidence": "boven, 99% zeker",
          "gemeente": "Alphen-Chaam",
          "gender": "total",
          "population": 9753
         },
         {
          "corrected_income": 27.8,
          "expectancy_65_confidence": "boven, 99% zeker",
          "expectancy_aged_65": 20.7,
          "expectancy_birth": 82.7,
          "expectancy_birth_confidence": "boven, 99% zeker",
          "gemeente": "Alphen-Chaam",
          "gender": "male",
          "population": 4951
         },
         {
          "corrected_income": 27.8,
          "expectancy_65_confidence": "boven, 99% zeker",
          "expectancy_aged_65": 24.4,
          "expectancy_birth": 85.1,
          "expectancy_birth_confidence": "boven, 95% zeker",
          "gemeente": "Alphen-Chaam",
          "gender": "female",
          "population": 4802
         },
         {
          "corrected_income": 26.6,
          "expectancy_65_confidence": "boven, 99% zeker",
          "expectancy_aged_65": 20.5,
          "expectancy_birth": 82.8,
          "expectancy_birth_confidence": "boven, 99% zeker",
          "gemeente": "Bergeijk",
          "gender": "total",
          "population": 18209
         },
         {
          "corrected_income": 26.6,
          "expectancy_65_confidence": "boven, 99% zeker",
          "expectancy_aged_65": 19.6,
          "expectancy_birth": 81.3,
          "expectancy_birth_confidence": "boven, 99% zeker",
          "gemeente": "Bergeijk",
          "gender": "male",
          "population": 9245
         },
         {
          "corrected_income": 26.6,
          "expectancy_65_confidence": "geen",
          "expectancy_aged_65": 21.4,
          "expectancy_birth": 84.4,
          "expectancy_birth_confidence": "boven, 99% zeker",
          "gemeente": "Bergeijk",
          "gender": "female",
          "population": 8964
         },
         {
          "corrected_income": 26,
          "expectancy_65_confidence": "onder, 99% zeker",
          "expectancy_aged_65": 19.2,
          "expectancy_birth": 81.8,
          "expectancy_birth_confidence": "geen",
          "gemeente": "Bladel",
          "gender": "total",
          "population": 19869
         },
         {
          "corrected_income": 26,
          "expectancy_65_confidence": "geen",
          "expectancy_aged_65": 18.3,
          "expectancy_birth": 80,
          "expectancy_birth_confidence": "geen",
          "gemeente": "Bladel",
          "gender": "male",
          "population": 10083
         },
         {
          "corrected_income": 26,
          "expectancy_65_confidence": "onder, 99% zeker",
          "expectancy_aged_65": 20.2,
          "expectancy_birth": 83.6,
          "expectancy_birth_confidence": "geen",
          "gemeente": "Bladel",
          "gender": "female",
          "population": 9786
         },
         {
          "corrected_income": 25.6,
          "expectancy_65_confidence": "geen",
          "expectancy_aged_65": 20.1,
          "expectancy_birth": 81.6,
          "expectancy_birth_confidence": "geen",
          "gemeente": "Gulpen-Wittem",
          "gender": "total",
          "population": 14497
         },
         {
          "corrected_income": 25.6,
          "expectancy_65_confidence": "boven, 99% zeker",
          "expectancy_aged_65": 19.1,
          "expectancy_birth": 79.9,
          "expectancy_birth_confidence": "geen",
          "gemeente": "Gulpen-Wittem",
          "gender": "male",
          "population": 7292
         },
         {
          "corrected_income": 25.6,
          "expectancy_65_confidence": "geen",
          "expectancy_aged_65": 21.1,
          "expectancy_birth": 83.3,
          "expectancy_birth_confidence": "geen",
          "gemeente": "Gulpen-Wittem",
          "gender": "female",
          "population": 7205
         },
         {
          "corrected_income": 27.7,
          "expectancy_65_confidence": "boven, 99% zeker",
          "expectancy_aged_65": 20.6,
          "expectancy_birth": 81.8,
          "expectancy_birth_confidence": "geen",
          "gemeente": "Tynaarlo",
          "gender": "total",
          "population": 32570
         },
         {
          "corrected_income": 27.7,
          "expectancy_65_confidence": "boven, 99% zeker",
          "expectancy_aged_65": 19.4,
          "expectancy_birth": 80.2,
          "expectancy_birth_confidence": "geen",
          "gemeente": "Tynaarlo",
          "gender": "male",
          "population": 16036
         },
         {
          "corrected_income": 27.7,
          "expectancy_65_confidence": "boven, 95% zeker",
          "expectancy_aged_65": 21.7,
          "expectancy_birth": 83.2,
          "expectancy_birth_confidence": "geen",
          "gemeente": "Tynaarlo",
          "gender": "female",
          "population": 16534
         },
         {
          "corrected_income": 24.7,
          "expectancy_65_confidence": "geen",
          "expectancy_aged_65": 19.8,
          "expectancy_birth": 80.7,
          "expectancy_birth_confidence": "onder, 99% zeker",
          "gemeente": "Midden-Drenthe",
          "gender": "total",
          "population": 33284
         },
         {
          "corrected_income": 24.7,
          "expectancy_65_confidence": "geen",
          "expectancy_aged_65": 18.3,
          "expectancy_birth": 78.5,
          "expectancy_birth_confidence": "onder, 99% zeker",
          "gemeente": "Midden-Drenthe",
          "gender": "male",
          "population": 16610
         },
         {
          "corrected_income": 24.7,
          "expectancy_65_confidence": "geen",
          "expectancy_aged_65": 21.1,
          "expectancy_birth": 83,
          "expectancy_birth_confidence": "geen",
          "gemeente": "Midden-Drenthe",
          "gender": "female",
          "population": 16674
         },
         {
          "corrected_income": 26.1,
          "expectancy_65_confidence": "boven, 99% zeker",
          "expectancy_aged_65": 20.5,
          "expectancy_birth": 82.4,
          "expectancy_birth_confidence": "boven, 99% zeker",
          "gemeente": "Overbetuwe",
          "gender": "total",
          "population": 46833
         },
         {
          "corrected_income": 26.1,
          "expectancy_65_confidence": "boven, 99% zeker",
          "expectancy_aged_65": 19.5,
          "expectancy_birth": 81.4,
          "expectancy_birth_confidence": "boven, 99% zeker",
          "gemeente": "Overbetuwe",
          "gender": "male",
          "population": 23302
         },
         {
          "corrected_income": 26.1,
          "expectancy_65_confidence": "geen",
          "expectancy_aged_65": 21.5,
          "expectancy_birth": 83.4,
          "expectancy_birth_confidence": "geen",
          "gemeente": "Overbetuwe",
          "gender": "female",
          "population": 23531
         },
         {
          "corrected_income": 26,
          "expectancy_65_confidence": "onder, 99% zeker",
          "expectancy_aged_65": 19.6,
          "expectancy_birth": 81.4,
          "expectancy_birth_confidence": "geen",
          "gemeente": "Hof van Twente",
          "gender": "total",
          "population": 34917
         },
         {
          "corrected_income": 26,
          "expectancy_65_confidence": "geen",
          "expectancy_aged_65": 18.3,
          "expectancy_birth": 79.6,
          "expectancy_birth_confidence": "geen",
          "gemeente": "Hof van Twente",
          "gender": "male",
          "population": 17383
         },
         {
          "corrected_income": 26,
          "expectancy_65_confidence": "onder, 99% zeker",
          "expectancy_aged_65": 20.6,
          "expectancy_birth": 83,
          "expectancy_birth_confidence": "geen",
          "gemeente": "Hof van Twente",
          "gender": "female",
          "population": 17534
         },
         {
          "corrected_income": 24.6,
          "expectancy_65_confidence": "onder, 95% zeker",
          "expectancy_aged_65": 19.6,
          "expectancy_birth": 81.5,
          "expectancy_birth_confidence": "geen",
          "gemeente": "Neder-Betuwe",
          "gender": "total",
          "population": 22728
         },
         {
          "corrected_income": 24.6,
          "expectancy_65_confidence": "geen",
          "expectancy_aged_65": 18.5,
          "expectancy_birth": 79.9,
          "expectancy_birth_confidence": "geen",
          "gemeente": "Neder-Betuwe",
          "gender": "male",
          "population": 11360
         },
         {
          "corrected_income": 24.6,
          "expectancy_65_confidence": "onder, 99% zeker",
          "expectancy_aged_65": 20.5,
          "expectancy_birth": 83,
          "expectancy_birth_confidence": "geen",
          "gemeente": "Neder-Betuwe",
          "gender": "female",
          "population": 11368
         },
         {
          "corrected_income": 24.7,
          "expectancy_65_confidence": "boven, 99% zeker",
          "expectancy_aged_65": 20.8,
          "expectancy_birth": 82.7,
          "expectancy_birth_confidence": "boven, 99% zeker",
          "gemeente": "Rijssen-Holten",
          "gender": "total",
          "population": 37830
         },
         {
          "corrected_income": 24.7,
          "expectancy_65_confidence": "boven, 99% zeker",
          "expectancy_aged_65": 19,
          "expectancy_birth": 80.7,
          "expectancy_birth_confidence": "boven, 99% zeker",
          "gemeente": "Rijssen-Holten",
          "gender": "male",
          "population": 18859
         },
         {
          "corrected_income": 24.7,
          "expectancy_65_confidence": "boven, 99% zeker",
          "expectancy_aged_65": 22.2,
          "expectancy_birth": 84.4,
          "expectancy_birth_confidence": "boven, 99% zeker",
          "gemeente": "Rijssen-Holten",
          "gender": "female",
          "population": 18971
         },
         {
          "corrected_income": 25.9,
          "expectancy_65_confidence": "geen",
          "expectancy_aged_65": 20,
          "expectancy_birth": 81.6,
          "expectancy_birth_confidence": "geen",
          "gemeente": "Geldrop-Mierlo",
          "gender": "total",
          "population": 38879
         },
         {
          "corrected_income": 25.9,
          "expectancy_65_confidence": "geen",
          "expectancy_aged_65": 18.7,
          "expectancy_birth": 80.3,
          "expectancy_birth_confidence": "geen",
          "gemeente": "Geldrop-Mierlo",
          "gender": "male",
          "population": 19300
         },
         {
          "corrected_income": 25.9,
          "expectancy_65_confidence": "geen",
          "expectancy_aged_65": 21.2,
          "expectancy_birth": 82.9,
          "expectancy_birth_confidence": "geen",
          "gemeente": "Geldrop-Mierlo",
          "gender": "female",
          "population": 19579
         },
         {
          "corrected_income": 25.3,
          "expectancy_65_confidence": "geen",
          "expectancy_aged_65": 19.6,
          "expectancy_birth": 81.7,
          "expectancy_birth_confidence": "geen",
          "gemeente": "Olst-Wijhe",
          "gender": "total",
          "population": 17839
         },
         {
          "corrected_income": 25.3,
          "expectancy_65_confidence": "geen",
          "expectancy_aged_65": 18.3,
          "expectancy_birth": 80.2,
          "expectancy_birth_confidence": "geen",
          "gemeente": "Olst-Wijhe",
          "gender": "male",
          "population": 8998
         },
         {
          "corrected_income": 25.3,
          "expectancy_65_confidence": "geen",
          "expectancy_aged_65": 20.9,
          "expectancy_birth": 83.2,
          "expectancy_birth_confidence": "geen",
          "gemeente": "Olst-Wijhe",
          "gender": "female",
          "population": 8841
         },
         {
          "corrected_income": 26,
          "expectancy_65_confidence": "geen",
          "expectancy_aged_65": 20.2,
          "expectancy_birth": 82.3,
          "expectancy_birth_confidence": "boven, 99% zeker",
          "gemeente": "Dinkelland",
          "gender": "total",
          "population": 25928
         },
         {
          "corrected_income": 26,
          "expectancy_65_confidence": "geen",
          "expectancy_aged_65": 18.4,
          "expectancy_birth": 80.1,
          "expectancy_birth_confidence": "geen",
          "gemeente": "Dinkelland",
          "gender": "male",
          "population": 13203
         },
         {
          "corrected_income": 26,
          "expectancy_65_confidence": "geen",
          "expectancy_aged_65": 21.7,
          "expectancy_birth": 84.3,
          "expectancy_birth_confidence": "boven, 99% zeker",
          "gemeente": "Dinkelland",
          "gender": "female",
          "population": 12725
         },
         {
          "corrected_income": 26.3,
          "expectancy_65_confidence": "boven, 99% zeker",
          "expectancy_aged_65": 21,
          "expectancy_birth": 82.9,
          "expectancy_birth_confidence": "boven, 99% zeker",
          "gemeente": "Westland",
          "gender": "total",
          "population": 104302
         },
         {
          "corrected_income": 26.3,
          "expectancy_65_confidence": "boven, 99% zeker",
          "expectancy_aged_65": 19.3,
          "expectancy_birth": 81,
          "expectancy_birth_confidence": "boven, 99% zeker",
          "gemeente": "Westland",
          "gender": "male",
          "population": 51937
         },
         {
          "corrected_income": 26.3,
          "expectancy_65_confidence": "boven, 99% zeker",
          "expectancy_aged_65": 22.5,
          "expectancy_birth": 84.7,
          "expectancy_birth_confidence": "boven, 99% zeker",
          "gemeente": "Westland",
          "gender": "female",
          "population": 52365
         },
         {
          "corrected_income": 30.4,
          "expectancy_65_confidence": "boven, 99% zeker",
          "expectancy_aged_65": 22,
          "expectancy_birth": 84.2,
          "expectancy_birth_confidence": "boven, 99% zeker",
          "gemeente": "Midden-Delfland",
          "gender": "total",
          "population": 18709
         },
         {
          "corrected_income": 30.4,
          "expectancy_65_confidence": "boven, 99% zeker",
          "expectancy_aged_65": 20.5,
          "expectancy_birth": 82.5,
          "expectancy_birth_confidence": "boven, 99% zeker",
          "gemeente": "Midden-Delfland",
          "gender": "male",
          "population": 9461
         },
         {
          "corrected_income": 30.4,
          "expectancy_65_confidence": "boven, 99% zeker",
          "expectancy_aged_65": 23.3,
          "expectancy_birth": 85.8,
          "expectancy_birth_confidence": "boven, 99% zeker",
          "gemeente": "Midden-Delfland",
          "gender": "female",
          "population": 9248
         },
         {
          "corrected_income": 24.4,
          "expectancy_65_confidence": "boven, 99% zeker",
          "expectancy_aged_65": 20.9,
          "expectancy_birth": 82.7,
          "expectancy_birth_confidence": "boven, 99% zeker",
          "gemeente": "Berkelland",
          "gender": "total",
          "population": 44364
         },
         {
          "corrected_income": 24.4,
          "expectancy_65_confidence": "geen",
          "expectancy_aged_65": 18.8,
          "expectancy_birth": 80.4,
          "expectancy_birth_confidence": "geen",
          "gemeente": "Berkelland",
          "gender": "male",
          "population": 22302
         },
         {
          "corrected_income": 24.4,
          "expectancy_65_confidence": "boven, 99% zeker",
          "expectancy_aged_65": 23,
          "expectancy_birth": 85,
          "expectancy_birth_confidence": "boven, 99% zeker",
          "gemeente": "Berkelland",
          "gender": "female",
          "population": 22062
         },
         {
          "corrected_income": 25.9,
          "expectancy_65_confidence": "boven, 99% zeker",
          "expectancy_aged_65": 21,
          "expectancy_birth": 82.9,
          "expectancy_birth_confidence": "boven, 99% zeker",
          "gemeente": "Bronckhorst",
          "gender": "total",
          "population": 36726
         },
         {
          "corrected_income": 25.9,
          "expectancy_65_confidence": "boven, 99% zeker",
          "expectancy_aged_65": 19.1,
          "expectancy_birth": 81,
          "expectancy_birth_confidence": "boven, 99% zeker",
          "gemeente": "Bronckhorst",
          "gender": "male",
          "population": 18273
         },
         {
          "corrected_income": 25.9,
          "expectancy_65_confidence": "boven, 99% zeker",
          "expectancy_aged_65": 22.8,
          "expectancy_birth": 84.7,
          "expectancy_birth_confidence": "boven, 99% zeker",
          "gemeente": "Bronckhorst",
          "gender": "female",
          "population": 18453
         },
         {
          "corrected_income": 23.8,
          "expectancy_65_confidence": "onder, 99% zeker",
          "expectancy_aged_65": 19.4,
          "expectancy_birth": 80.5,
          "expectancy_birth_confidence": "onder, 99% zeker",
          "gemeente": "Sittard-Geleen",
          "gender": "total",
          "population": 93724
         },
         {
          "corrected_income": 23.8,
          "expectancy_65_confidence": "onder, 99% zeker",
          "expectancy_aged_65": 17.8,
          "expectancy_birth": 78.5,
          "expectancy_birth_confidence": "onder, 99% zeker",
          "gemeente": "Sittard-Geleen",
          "gender": "male",
          "population": 46142
         },
         {
          "corrected_income": 23.8,
          "expectancy_65_confidence": "onder, 99% zeker",
          "expectancy_aged_65": 20.8,
          "expectancy_birth": 82.5,
          "expectancy_birth_confidence": "onder, 99% zeker",
          "gemeente": "Sittard-Geleen",
          "gender": "female",
          "population": 47582
         },
         {
          "corrected_income": 28,
          "expectancy_65_confidence": "boven, 99% zeker",
          "expectancy_aged_65": 20.4,
          "expectancy_birth": 82.5,
          "expectancy_birth_confidence": "boven, 99% zeker",
          "gemeente": "Kaag en Braassem",
          "gender": "total",
          "population": 25844
         },
         {
          "corrected_income": 28,
          "expectancy_65_confidence": "boven, 99% zeker",
          "expectancy_aged_65": 19.3,
          "expectancy_birth": 81.6,
          "expectancy_birth_confidence": "boven, 99% zeker",
          "gemeente": "Kaag en Braassem",
          "gender": "male",
          "population": 13105
         },
         {
          "corrected_income": 28,
          "expectancy_65_confidence": "geen",
          "expectancy_aged_65": 21.6,
          "expectancy_birth": 83.3,
          "expectancy_birth_confidence": "geen",
          "gemeente": "Kaag en Braassem",
          "gender": "female",
          "population": 12739
         },
         {
          "corrected_income": 21.9,
          "expectancy_65_confidence": "onder, 99% zeker",
          "expectancy_aged_65": 19.1,
          "expectancy_birth": 81.3,
          "expectancy_birth_confidence": "geen",
          "gemeente": "Dantumadiel",
          "gender": "total",
          "population": 19059
         },
         {
          "corrected_income": 21.9,
          "expectancy_65_confidence": "onder, 99% zeker",
          "expectancy_aged_65": 17.8,
          "expectancy_birth": 79.9,
          "expectancy_birth_confidence": "geen",
          "gemeente": "Dantumadiel",
          "gender": "male",
          "population": 9555
         },
         {
          "corrected_income": 21.9,
          "expectancy_65_confidence": "onder, 99% zeker",
          "expectancy_aged_65": 20.2,
          "expectancy_birth": 82.5,
          "expectancy_birth_confidence": "geen",
          "gemeente": "Dantumadiel",
          "gender": "female",
          "population": 9504
         },
         {
          "corrected_income": 28.5,
          "expectancy_65_confidence": "boven, 99% zeker",
          "expectancy_aged_65": 20.9,
          "expectancy_birth": 83.2,
          "expectancy_birth_confidence": "boven, 99% zeker",
          "gemeente": "Zuidplas",
          "gender": "total",
          "population": 40771
         },
         {
          "corrected_income": 28.5,
          "expectancy_65_confidence": "boven, 99% zeker",
          "expectancy_aged_65": 19.4,
          "expectancy_birth": 81.6,
          "expectancy_birth_confidence": "boven, 99% zeker",
          "gemeente": "Zuidplas",
          "gender": "male",
          "population": 20208
         },
         {
          "corrected_income": 28.5,
          "expectancy_65_confidence": "boven, 99% zeker",
          "expectancy_aged_65": 22.3,
          "expectancy_birth": 84.7,
          "expectancy_birth_confidence": "boven, 99% zeker",
          "gemeente": "Zuidplas",
          "gender": "female",
          "population": 20563
         },
         {
          "corrected_income": 24.9,
          "expectancy_65_confidence": "boven, 99% zeker",
          "expectancy_aged_65": 20.3,
          "expectancy_birth": 82.4,
          "expectancy_birth_confidence": "boven, 99% zeker",
          "gemeente": "Peel en Maas",
          "gender": "total",
          "population": 43448
         },
         {
          "corrected_income": 24.9,
          "expectancy_65_confidence": "boven, 99% zeker",
          "expectancy_aged_65": 19,
          "expectancy_birth": 80.9,
          "expectancy_birth_confidence": "boven, 99% zeker",
          "gemeente": "Peel en Maas",
          "gender": "male",
          "population": 22070
         },
         {
          "corrected_income": 24.9,
          "expectancy_65_confidence": "geen",
          "expectancy_aged_65": 21.5,
          "expectancy_birth": 83.9,
          "expectancy_birth_confidence": "boven, 95% zeker",
          "gemeente": "Peel en Maas",
          "gender": "female",
          "population": 21378
         },
         {
          "corrected_income": 21.6,
          "expectancy_65_confidence": "onder, 99% zeker",
          "expectancy_aged_65": 19,
          "expectancy_birth": 79.3,
          "expectancy_birth_confidence": "onder, 99% zeker",
          "gemeente": "Oldambt",
          "gender": "total",
          "population": 38420
         },
         {
          "corrected_income": 21.6,
          "expectancy_65_confidence": "onder, 99% zeker",
          "expectancy_aged_65": 18,
          "expectancy_birth": 77.8,
          "expectancy_birth_confidence": "onder, 99% zeker",
          "gemeente": "Oldambt",
          "gender": "male",
          "population": 19049
         },
         {
          "corrected_income": 21.6,
          "expectancy_65_confidence": "onder, 99% zeker",
          "expectancy_aged_65": 19.9,
          "expectancy_birth": 80.6,
          "expectancy_birth_confidence": "onder, 99% zeker",
          "gemeente": "Oldambt",
          "gender": "female",
          "population": 19371
         },
         {
          "corrected_income": 24.9,
          "expectancy_65_confidence": "geen",
          "expectancy_aged_65": 20.2,
          "expectancy_birth": 82.4,
          "expectancy_birth_confidence": "boven, 99% zeker",
          "gemeente": "Zwartewaterland",
          "gender": "total",
          "population": 22166
         },
         {
          "corrected_income": 24.9,
          "expectancy_65_confidence": "boven, 95% zeker",
          "expectancy_aged_65": 19.1,
          "expectancy_birth": 81.1,
          "expectancy_birth_confidence": "boven, 99% zeker",
          "gemeente": "Zwartewaterland",
          "gender": "male",
          "population": 11281
         },
         {
          "corrected_income": 24.9,
          "expectancy_65_confidence": "geen",
          "expectancy_aged_65": 21.1,
          "expectancy_birth": 83.5,
          "expectancy_birth_confidence": "geen",
          "gemeente": "Zwartewaterland",
          "gender": "female",
          "population": 10885
         },
         {
          "corrected_income": 23.7,
          "expectancy_65_confidence": "onder, 99% zeker",
          "expectancy_aged_65": 19.7,
          "expectancy_birth": 81.2,
          "expectancy_birth_confidence": "onder, 95% zeker",
          "gemeente": "SÃºdwest FryslÃ¢n",
          "gender": "total",
          "population": 84164
         },
         {
          "corrected_income": 23.7,
          "expectancy_65_confidence": "geen",
          "expectancy_aged_65": 18.3,
          "expectancy_birth": 79.2,
          "expectancy_birth_confidence": "onder, 99% zeker",
          "gemeente": "SÃºdwest FryslÃ¢n",
          "gender": "male",
          "population": 42086
         },
         {
          "corrected_income": 23.7,
          "expectancy_65_confidence": "onder, 95% zeker",
          "expectancy_aged_65": 21,
          "expectancy_birth": 83.2,
          "expectancy_birth_confidence": "geen",
          "gemeente": "SÃºdwest FryslÃ¢n",
          "gender": "female",
          "population": 42078
         },
         {
          "corrected_income": 29.4,
          "expectancy_65_confidence": "boven, 99% zeker",
          "expectancy_aged_65": 21.4,
          "expectancy_birth": 83.5,
          "expectancy_birth_confidence": "boven, 99% zeker",
          "gemeente": "Bodegraven-Reeuwijk",
          "gender": "total",
          "population": 33208
         },
         {
          "corrected_income": 29.4,
          "expectancy_65_confidence": "boven, 99% zeker",
          "expectancy_aged_65": 19.6,
          "expectancy_birth": 81.5,
          "expectancy_birth_confidence": "boven, 99% zeker",
          "gemeente": "Bodegraven-Reeuwijk",
          "gender": "male",
          "population": 16564
         },
         {
          "corrected_income": 29.4,
          "expectancy_65_confidence": "boven, 99% zeker",
          "expectancy_aged_65": 23,
          "expectancy_birth": 85.4,
          "expectancy_birth_confidence": "boven, 99% zeker",
          "gemeente": "Bodegraven-Reeuwijk",
          "gender": "female",
          "population": 16644
         },
         {
          "corrected_income": 27.3,
          "expectancy_65_confidence": "boven, 99% zeker",
          "expectancy_aged_65": 20.5,
          "expectancy_birth": 82.3,
          "expectancy_birth_confidence": "boven, 99% zeker",
          "gemeente": "Eijsden-Margraten",
          "gender": "total",
          "population": 24967
         },
         {
          "corrected_income": 27.3,
          "expectancy_65_confidence": "boven, 99% zeker",
          "expectancy_aged_65": 19.6,
          "expectancy_birth": 81.1,
          "expectancy_birth_confidence": "boven, 99% zeker",
          "gemeente": "Eijsden-Margraten",
          "gender": "male",
          "population": 12446
         },
         {
          "corrected_income": 27.3,
          "expectancy_65_confidence": "geen",
          "expectancy_aged_65": 21.3,
          "expectancy_birth": 83.5,
          "expectancy_birth_confidence": "geen",
          "gemeente": "Eijsden-Margraten",
          "gender": "female",
          "population": 12521
         },
         {
          "corrected_income": 29.4,
          "expectancy_65_confidence": "geen",
          "expectancy_aged_65": 20.1,
          "expectancy_birth": 82.2,
          "expectancy_birth_confidence": "boven, 99% zeker",
          "gemeente": "Stichtse Vecht",
          "gender": "total",
          "population": 63943
         },
         {
          "corrected_income": 29.4,
          "expectancy_65_confidence": "boven, 95% zeker",
          "expectancy_aged_65": 18.7,
          "expectancy_birth": 80.6,
          "expectancy_birth_confidence": "boven, 99% zeker",
          "gemeente": "Stichtse Vecht",
          "gender": "male",
          "population": 31287
         },
         {
          "corrected_income": 29.4,
          "expectancy_65_confidence": "geen",
          "expectancy_aged_65": 21.4,
          "expectancy_birth": 83.8,
          "expectancy_birth_confidence": "boven, 95% zeker",
          "gemeente": "Stichtse Vecht",
          "gender": "female",
          "population": 32656
         },
         {
          "corrected_income": 24,
          "expectancy_65_confidence": "geen",
          "expectancy_aged_65": 20.3,
          "expectancy_birth": 82.3,
          "expectancy_birth_confidence": "geen",
          "gemeente": "Menameradiel",
          "gender": "total",
          "population": 13612
         },
         {
          "corrected_income": 24,
          "expectancy_65_confidence": "geen",
          "expectancy_aged_65": 18.8,
          "expectancy_birth": 80,
          "expectancy_birth_confidence": "geen",
          "gemeente": "Menameradiel",
          "gender": "male",
          "population": 6960
         },
         {
          "corrected_income": 24,
          "expectancy_65_confidence": "boven, 95% zeker",
          "expectancy_aged_65": 21.9,
          "expectancy_birth": 84.7,
          "expectancy_birth_confidence": "boven, 99% zeker",
          "gemeente": "Menameradiel",
          "gender": "female",
          "population": 6652
         },
         {
          "corrected_income": 25,
          "expectancy_65_confidence": "boven, 99% zeker",
          "expectancy_aged_65": 20.8,
          "expectancy_birth": 82.8,
          "expectancy_birth_confidence": "boven, 99% zeker",
          "gemeente": "Hollands Kroon",
          "gender": "total",
          "population": 47546
         },
         {
          "corrected_income": 25,
          "expectancy_65_confidence": "boven, 99% zeker",
          "expectancy_aged_65": 19.7,
          "expectancy_birth": 81.5,
          "expectancy_birth_confidence": "boven, 99% zeker",
          "gemeente": "Hollands Kroon",
          "gender": "male",
          "population": 24038
         },
         {
          "corrected_income": 25,
          "expectancy_65_confidence": "boven, 99% zeker",
          "expectancy_aged_65": 21.9,
          "expectancy_birth": 84.2,
          "expectancy_birth_confidence": "boven, 99% zeker",
          "gemeente": "Hollands Kroon",
          "gender": "female",
          "population": 23508
         },
         {
          "corrected_income": 28.3,
          "expectancy_65_confidence": "boven, 99% zeker",
          "expectancy_aged_65": 21.7,
          "expectancy_birth": 83.8,
          "expectancy_birth_confidence": "boven, 99% zeker",
          "gemeente": "Leidschendam-Voorburg",
          "gender": "total",
          "population": 73979
         },
         {
          "corrected_income": 28.3,
          "expectancy_65_confidence": "boven, 99% zeker",
          "expectancy_aged_65": 19.6,
          "expectancy_birth": 81.6,
          "expectancy_birth_confidence": "boven, 99% zeker",
          "gemeente": "Leidschendam-Voorburg",
          "gender": "male",
          "population": 35452
         },
         {
          "corrected_income": 28.3,
          "expectancy_65_confidence": "boven, 99% zeker",
          "expectancy_aged_65": 23.4,
          "expectancy_birth": 85.7,
          "expectancy_birth_confidence": "boven, 99% zeker",
          "gemeente": "Leidschendam-Voorburg",
          "gender": "female",
          "population": 38527
         },
         {
          "corrected_income": 26.2,
          "expectancy_65_confidence": "boven, 99% zeker",
          "expectancy_aged_65": 20.4,
          "expectancy_birth": 82.3,
          "expectancy_birth_confidence": "boven, 99% zeker",
          "gemeente": "Goeree-Overflakkee",
          "gender": "total",
          "population": 48206
         },
         {
          "corrected_income": 26.2,
          "expectancy_65_confidence": "boven, 95% zeker",
          "expectancy_aged_65": 18.8,
          "expectancy_birth": 80.4,
          "expectancy_birth_confidence": "boven, 95% zeker",
          "gemeente": "Goeree-Overflakkee",
          "gender": "male",
          "population": 23857
         },
         {
          "corrected_income": 26.2,
          "expectancy_65_confidence": "boven, 99% zeker",
          "expectancy_aged_65": 22,
          "expectancy_birth": 84.2,
          "expectancy_birth_confidence": "boven, 99% zeker",
          "gemeente": "Goeree-Overflakkee",
          "gender": "female",
          "population": 24349
         },
         {
          "corrected_income": 29.3,
          "expectancy_65_confidence": "boven, 99% zeker",
          "expectancy_aged_65": 21,
          "expectancy_birth": 83.1,
          "expectancy_birth_confidence": "boven, 99% zeker",
          "gemeente": "Pijnacker-Nootdorp",
          "gender": "total",
          "population": 51203
         },
         {
          "corrected_income": 29.3,
          "expectancy_65_confidence": "boven, 99% zeker",
          "expectancy_aged_65": 19.9,
          "expectancy_birth": 81.6,
          "expectancy_birth_confidence": "boven, 99% zeker",
          "gemeente": "Pijnacker-Nootdorp",
          "gender": "male",
          "population": 25484
         },
         {
          "corrected_income": 29.3,
          "expectancy_65_confidence": "boven, 99% zeker",
          "expectancy_aged_65": 21.9,
          "expectancy_birth": 84.5,
          "expectancy_birth_confidence": "boven, 99% zeker",
          "gemeente": "Pijnacker-Nootdorp",
          "gender": "female",
          "population": 25719
         },
         {
          "corrected_income": 27.2,
          "expectancy_65_confidence": "geen",
          "expectancy_aged_65": 20.3,
          "expectancy_birth": 82.6,
          "expectancy_birth_confidence": "boven, 99% zeker",
          "gemeente": "Molenwaard",
          "gender": "total",
          "population": 28993
         },
         {
          "corrected_income": 27.2,
          "expectancy_65_confidence": "boven, 99% zeker",
          "expectancy_aged_65": 19.2,
          "expectancy_birth": 81.2,
          "expectancy_birth_confidence": "boven, 99% zeker",
          "gemeente": "Molenwaard",
          "gender": "male",
          "population": 14716
         },
         {
          "corrected_income": 27.2,
          "expectancy_65_confidence": "geen",
          "expectancy_aged_65": 21.3,
          "expectancy_birth": 84.1,
          "expectancy_birth_confidence": "boven, 95% zeker",
          "gemeente": "Molenwaard",
          "gender": "female",
          "population": 14277
         },
         {
          "corrected_income": 25.2,
          "expectancy_65_confidence": "boven, 99% zeker",
          "expectancy_aged_65": 21,
          "expectancy_birth": 82.6,
          "expectancy_birth_confidence": "boven, 99% zeker",
          "gemeente": "Nissewaard",
          "gender": "total",
          "population": 85121
         },
         {
          "corrected_income": 25.2,
          "expectancy_65_confidence": "boven, 99% zeker",
          "expectancy_aged_65": 19.6,
          "expectancy_birth": 80.7,
          "expectancy_birth_confidence": "boven, 99% zeker",
          "gemeente": "Nissewaard",
          "gender": "male",
          "population": 41808
         },
         {
          "corrected_income": 25.2,
          "expectancy_65_confidence": "boven, 99% zeker",
          "expectancy_aged_65": 22.2,
          "expectancy_birth": 84.3,
          "expectancy_birth_confidence": "boven, 99% zeker",
          "gemeente": "Nissewaard",
          "gender": "female",
          "population": 43313
         },
         {
          "corrected_income": 27.1,
          "expectancy_65_confidence": "boven, 99% zeker",
          "expectancy_aged_65": 20.5,
          "expectancy_birth": 82.6,
          "expectancy_birth_confidence": "boven, 99% zeker",
          "gemeente": "Krimpenerwaard",
          "gender": "total",
          "population": 54208
         },
         {
          "corrected_income": 27.1,
          "expectancy_65_confidence": "boven, 95% zeker",
          "expectancy_aged_65": 18.8,
          "expectancy_birth": 80.8,
          "expectancy_birth_confidence": "boven, 99% zeker",
          "gemeente": "Krimpenerwaard",
          "gender": "male",
          "population": 26857
         },
         {
          "corrected_income": 27.1,
          "expectancy_65_confidence": "boven, 99% zeker",
          "expectancy_aged_65": 22.1,
          "expectancy_birth": 84.5,
          "expectancy_birth_confidence": "boven, 99% zeker",
          "gemeente": "Krimpenerwaard",
          "gender": "female",
          "population": 27351
         },
         {
          "corrected_income": 24,
          "expectancy_65_confidence": "geen",
          "expectancy_aged_65": 20,
          "expectancy_birth": 81.6,
          "expectancy_birth_confidence": "geen",
          "gemeente": "Montferland",
          "gender": "total",
          "population": 35150
         },
         {
          "corrected_income": 24,
          "expectancy_65_confidence": "geen",
          "expectancy_aged_65": 18.1,
          "expectancy_birth": 79.7,
          "expectancy_birth_confidence": "geen",
          "gemeente": "Montferland",
          "gender": "male",
          "population": 17587
         },
         {
          "corrected_income": 24,
          "expectancy_65_confidence": "boven, 99% zeker",
          "expectancy_aged_65": 21.8,
          "expectancy_birth": 83.5,
          "expectancy_birth_confidence": "geen",
          "gemeente": "Montferland",
          "gender": "female",
          "population": 17563
         },
         {
          "corrected_income": 22.8,
          "expectancy_65_confidence": "onder, 99% zeker",
          "expectancy_aged_65": 18.6,
          "expectancy_birth": 79.5,
          "expectancy_birth_confidence": "onder, 99% zeker",
          "gemeente": "Menterwolde",
          "gender": "total",
          "population": 12197
         },
         {
          "corrected_income": 22.8,
          "expectancy_65_confidence": "onder, 99% zeker",
          "expectancy_aged_65": 17.4,
          "expectancy_birth": 78.6,
          "expectancy_birth_confidence": "onder, 99% zeker",
          "gemeente": "Menterwolde",
          "gender": "male",
          "population": 6176
         },
         {
          "corrected_income": 22.8,
          "expectancy_65_confidence": "onder, 99% zeker",
          "expectancy_aged_65": 19.8,
          "expectancy_birth": 80.3,
          "expectancy_birth_confidence": "onder, 99% zeker",
          "gemeente": "Menterwolde",
          "gender": "female",
          "population": 6021
         }
        ]
       },
       "encoding": {
        "color": {
         "field": "gender",
         "type": "nominal"
        },
        "size": {
         "field": "population",
         "scale": {
          "zero": false
         },
         "type": "quantitative"
        },
        "tooltip": {
         "field": "gemeente",
         "type": "nominal"
        },
        "x": {
         "field": "population",
         "scale": {
          "zero": false
         },
         "type": "quantitative"
        },
        "y": {
         "field": "expectancy_birth",
         "scale": {
          "zero": false
         },
         "type": "quantitative"
        }
       },
       "mark": "point",
       "selection": {
        "selector001": {
         "bind": "scales",
         "encodings": [
          "x",
          "y"
         ],
         "mark": {
          "fill": "#333",
          "fillOpacity": 0.125,
          "stroke": "white"
         },
         "on": "[mousedown, window:mouseup] > window:mousemove!",
         "resolve": "global",
         "translate": "[mousedown, window:mouseup] > window:mousemove!",
         "type": "interval",
         "zoom": "wheel!"
        }
       }
      },
      "image/png": "[encoded data removed]",
      "text/plain": [
       "<VegaLite 2 object>\n",
       "\n",
       "If you see this message, it means the renderer has not been properly enabled\n",
       "for the frontend that you are using. For more information, see\n",
       "https://altair-viz.github.io/user_guide/troubleshooting.html\n"
      ]
     },
     "execution_count": 9,
     "metadata": {},
     "output_type": "execute_result"
    }
   ],
   "source": [
    "# Not that interesting as a visualization\n",
    "import altair as alt\n",
    "\n",
    "alt.Chart(expectancy_income_population).mark_point().encode(\n",
    "    alt.X('population:Q', scale=alt.Scale(zero=False)),\n",
    "    alt.Y('expectancy_birth:Q', scale=alt.Scale(zero=False)),\n",
    "    color='gender:N',\n",
    "    size=alt.Size('population:Q', scale=alt.Scale(zero=False)),\n",
    "    tooltip='gemeente',\n",
    ").interactive()"
   ]
  },
  {
   "cell_type": "code",
   "execution_count": null,
   "metadata": {},
   "outputs": [],
   "source": []
  }
 ],
 "metadata": {
  "kernelspec": {
   "display_name": "Python 3",
   "language": "python",
   "name": "python3"
  },
  "language_info": {
   "codemirror_mode": {
    "name": "ipython",
    "version": 3
   },
   "file_extension": ".py",
   "mimetype": "text/x-python",
   "name": "python",
   "nbconvert_exporter": "python",
   "pygments_lexer": "ipython3",
   "version": "3.6.3"
  }
 },
 "nbformat": 4,
 "nbformat_minor": 2
}
