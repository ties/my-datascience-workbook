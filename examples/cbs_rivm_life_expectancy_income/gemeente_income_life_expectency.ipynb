{
 "cells": [
  {
   "cell_type": "code",
   "execution_count": 207,
   "metadata": {},
   "outputs": [],
   "source": [
    "import requests\n",
    "import pandas"
   ]
  },
  {
   "cell_type": "code",
   "execution_count": 208,
   "metadata": {},
   "outputs": [],
   "source": [
    "BASE_URL = \"https://opendata.cbs.nl/ODataApi/OData/70072NED\"\n",
    "\n",
    "def df_request(url: str) -> pandas.DataFrame:\n",
    "    \"\"\" JSON url -> DataFrame \"\"\"\n",
    "    resp = requests.get(url)\n",
    "    assert(resp.status_code == 200)\n",
    "    data = resp.json()['value']\n",
    "    return pandas.DataFrame.from_records(data)"
   ]
  },
  {
   "cell_type": "code",
   "execution_count": 209,
   "metadata": {},
   "outputs": [],
   "source": [
    "perioden = df_request(f\"{BASE_URL}/Perioden\")"
   ]
  },
  {
   "cell_type": "markdown",
   "metadata": {},
   "source": [
    "Load data from *Regionale kerncijfers Nederland* statline table by CBS.\n",
    "\n",
    "Note that income data is only available up to 2015.\n",
    "\n",
    "This table can also be used to link between differing CBS region codes if needed since they are all included. Alternatively, use the CBS zip code table if you need these as well."
   ]
  },
  {
   "cell_type": "code",
   "execution_count": 210,
   "metadata": {},
   "outputs": [],
   "source": [
    "def data_for_year(year: str, columns=['Vrouwen_3', 'Mannen_2', 'RegioS', 'TotaalParticuliereHuishoudens_148']) -> pandas.DataFrame:\n",
    "    \"\"\"\n",
    "    Select data from the correct CBS table and filter the columns.\n",
    "    \n",
    "    Keep columns on:\n",
    "      * corrected income (for household size) = TotaalParticuliereHuishoudens_148\n",
    "      * Number of inhabitants by gender\n",
    "        * Female = Vrouwen_3\n",
    "        * Male = Mannen_2\n",
    "      * region code (\"CBS gemeente code\") = RegioS\n",
    "    \"\"\"\n",
    "    # Select the correct Period code:\n",
    "    pfy = perioden[perioden['Title'] == str(year)]\n",
    "    assert(pfy.shape[0] == 1)\n",
    "    period_code = pfy.iloc[0]['Key']\n",
    "    select_str = ','.join(columns)\n",
    "    data = df_request(f\"{BASE_URL}/TypedDataSet?$filter=Perioden eq '{period_code}'&$select={select_str}\")\n",
    "    # Filter gemeente codes\n",
    "    data = data[data['RegioS'].str.startswith('GM')]\n",
    "    # Strip 'GM' prefix, parse as integer\n",
    "    data['RegioS'] = data['RegioS'].str.replace('GM', '').astype(int)\n",
    "    data = data.rename(index=str, columns={\n",
    "        'TotaalParticuliereHuishoudens_148': 'corrected_income',\n",
    "        'Mannen_2': 'male',\n",
    "        'Vrouwen_3': 'female'\n",
    "    })\n",
    "    return data.set_index('RegioS')"
   ]
  },
  {
   "cell_type": "markdown",
   "metadata": {},
   "source": [
    "Load RIVM (Rijksinstituut voor Volksgezondheid en Milieu) [levensverwachting bij geboorte per gemeente](https://www.volksgezondheidenzorg.info/onderwerp/levensverwachting/regionaal-internationaal/bij-geboorte#node-levensverwachting-bij-geboorte-gemeente) data.\n",
    "\n",
    "This CSV sheet is in the regular Excel/Windows format and uses gemeenten from 2017. This means that some gemeenten in the dataset will not yet exist in the income data. This will drop 12 rows (4 gemeenten).\n",
    "\n",
    "When interpreting this data, beware of the bias \"insensitivity to sample size\". Small samples have an inherently larger variance, large outliers may be caused by this effect."
   ]
  },
  {
   "cell_type": "code",
   "execution_count": 211,
   "metadata": {},
   "outputs": [],
   "source": [
    "def life_expectancy_data() -> pandas.DataFrame:\n",
    "    \"\"\"Read RIVM life expectancy data, set CBS gemeente (2017!) code as column\"\"\"\n",
    "    with open('data/do1316lvgem_3.csv', 'r', encoding='Windows-1252') as csvfile:\n",
    "        life_expect_data = pandas.read_csv(csvfile, sep=';',  quotechar=\"\\\"\", decimal=\",\")\n",
    "        life_expect_data = life_expect_data.rename(index=str, columns={\n",
    "            'Geslacht': 'gender',\n",
    "            'Bij geboorte': 'expectancy_birth',\n",
    "            'Bij 65 jaar': 'expectancy_aged_65',\n",
    "            'Gemeente': 'gemeente',\n",
    "            'Bij geboorte (afwijking tov NL)': 'expectancy_birth_confidence',\n",
    "            'Bij 65 jaar (afwijking tov NL)': 'expectancy_65_confidence',            \n",
    "        })\n",
    "        # Map values from dutch to english\n",
    "        life_expect_data['gender'] = life_expect_data['gender'].map({\n",
    "            'Mannen': 'male',\n",
    "            'Vrouwen': 'female',\n",
    "            'Totaal': 'total',\n",
    "        })\n",
    "        return life_expect_data.set_index('id')"
   ]
  },
  {
   "cell_type": "code",
   "execution_count": 212,
   "metadata": {},
   "outputs": [],
   "source": [
    "# Join the two tables and drop Not a Number values (drops 4 gemeenten)\n",
    "expectancy_income_population = life_expectancy_data().join(data_for_year(2015)).dropna()\n",
    "def inhabitants_by_geslacht(row) -> int:\n",
    "    if row['gender'] == 'total':\n",
    "        return row['male'] + row['female']\n",
    "    elif row['gender'] == 'male':\n",
    "        return row['male']\n",
    "    elif row['gender'] == 'female':\n",
    "        return row['female']\n",
    "    assert(False)\n",
    "# Now create 'number of inhabitants' column based on Geslacht column\n",
    "expectancy_income_population['population'] = expectancy_income_population.apply(inhabitants_by_geslacht, axis=1)\n",
    "expectancy_income_population = expectancy_income_population.filter(items=[\n",
    "    'gender', 'expectancy_birth', 'expectancy_aged_65',\n",
    "    'population', 'corrected_income', 'gemeente', 'expectancy_65_confidence', 'expectancy_birth_confidence'])"
   ]
  },
  {
   "cell_type": "code",
   "execution_count": 213,
   "metadata": {},
   "outputs": [],
   "source": [
    "expectancy_income_population.to_json('out/life_expectancy_income_population.json', orient='records')"
   ]
  },
  {
   "cell_type": "code",
   "execution_count": 214,
   "metadata": {},
   "outputs": [
    {
     "data": {
      "text/plain": [
       "\"\\n# Not that interesting as a visualization\\nimport altair as alt\\n\\nalt.Chart(expectancy_income_population).mark_point().encode(\\n    alt.X('population:Q', scale=alt.Scale(zero=False)),\\n    alt.Y('expectancy_birth:Q', scale=alt.Scale(zero=False)),\\n    color='gender:N',\\n    size=alt.Size('population:Q', scale=alt.Scale(zero=False)),\\n    tooltip='gemeente',\\n).interactive()\\n\""
      ]
     },
     "execution_count": 214,
     "metadata": {},
     "output_type": "execute_result"
    }
   ],
   "source": [
    "\"\"\"\n",
    "# Not that interesting as a visualization\n",
    "import altair as alt\n",
    "\n",
    "alt.Chart(expectancy_income_population).mark_point().encode(\n",
    "    alt.X('population:Q', scale=alt.Scale(zero=False)),\n",
    "    alt.Y('expectancy_birth:Q', scale=alt.Scale(zero=False)),\n",
    "    color='gender:N',\n",
    "    size=alt.Size('population:Q', scale=alt.Scale(zero=False)),\n",
    "    tooltip='gemeente',\n",
    ").interactive()\n",
    "\"\"\""
   ]
  }
 ],
 "metadata": {
  "kernelspec": {
   "display_name": "Python 3",
   "language": "python",
   "name": "python3"
  },
  "language_info": {
   "codemirror_mode": {
    "name": "ipython",
    "version": 3
   },
   "file_extension": ".py",
   "mimetype": "text/x-python",
   "name": "python",
   "nbconvert_exporter": "python",
   "pygments_lexer": "ipython3",
   "version": "3.6.3"
  }
 },
 "nbformat": 4,
 "nbformat_minor": 2
}
